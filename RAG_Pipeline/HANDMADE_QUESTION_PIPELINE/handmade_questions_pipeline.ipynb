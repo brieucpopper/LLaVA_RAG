{
 "cells": [
  {
   "cell_type": "markdown",
   "metadata": {},
   "source": [
    "### Notebook to run the complete eval of our method for Handmade questions\n",
    "\n",
    "https://docs.google.com/spreadsheets/d/1xgkQt_1NiwXEZhZUvTypgecG5wMCl8_brc6w1bhaOtE/edit?gid=0#gid=0\n",
    "\n"
   ]
  },
  {
   "cell_type": "markdown",
   "metadata": {
    "vscode": {
     "languageId": "plaintext"
    }
   },
   "source": [
    "## Step 0 : download videos"
   ]
  },
  {
   "cell_type": "code",
   "execution_count": 20,
   "metadata": {},
   "outputs": [],
   "source": [
    "import pandas as pd\n",
    "\n",
    "df_questions = pd.read_csv('Handmade_questions - Feuille 1.csv')\\\n",
    "\n",
    "df_questions = df_questions.dropna(subset=['Question']) #drop any rows that aren't filled yet"
   ]
  },
  {
   "cell_type": "code",
   "execution_count": 2,
   "metadata": {},
   "outputs": [
    {
     "data": {
      "text/html": [
       "<div>\n",
       "<style scoped>\n",
       "    .dataframe tbody tr th:only-of-type {\n",
       "        vertical-align: middle;\n",
       "    }\n",
       "\n",
       "    .dataframe tbody tr th {\n",
       "        vertical-align: top;\n",
       "    }\n",
       "\n",
       "    .dataframe thead th {\n",
       "        text-align: right;\n",
       "    }\n",
       "</style>\n",
       "<table border=\"1\" class=\"dataframe\">\n",
       "  <thead>\n",
       "    <tr style=\"text-align: right;\">\n",
       "      <th></th>\n",
       "      <th>VideoID</th>\n",
       "      <th>Question</th>\n",
       "      <th>Answer1 (corr)</th>\n",
       "      <th>Answer2</th>\n",
       "      <th>Answer3</th>\n",
       "      <th>Answer4</th>\n",
       "      <th>youtubeURL</th>\n",
       "      <th>Unnamed: 7</th>\n",
       "      <th>Unnamed: 8</th>\n",
       "      <th>https://www.youtube.com/watch?v=</th>\n",
       "      <th>Unnamed: 10</th>\n",
       "    </tr>\n",
       "  </thead>\n",
       "  <tbody>\n",
       "    <tr>\n",
       "      <th>0</th>\n",
       "      <td>zwbCD3CUFIs</td>\n",
       "      <td>What color is the spatula on the cutting board?</td>\n",
       "      <td>Green</td>\n",
       "      <td>Red</td>\n",
       "      <td>Blue</td>\n",
       "      <td>Black</td>\n",
       "      <td>https://www.youtube.com/watch?v=zwbCD3CUFIs</td>\n",
       "      <td>NaN</td>\n",
       "      <td>NaN</td>\n",
       "      <td>NaN</td>\n",
       "      <td>NaN</td>\n",
       "    </tr>\n",
       "    <tr>\n",
       "      <th>1</th>\n",
       "      <td>zwbCD3CUFIs</td>\n",
       "      <td>What green ingredient is added to the pan ?</td>\n",
       "      <td>Spring onions</td>\n",
       "      <td>Green pepper</td>\n",
       "      <td>Green beans</td>\n",
       "      <td>Cucumber</td>\n",
       "      <td>https://www.youtube.com/watch?v=zwbCD3CUFIs</td>\n",
       "      <td>NaN</td>\n",
       "      <td>NaN</td>\n",
       "      <td>NaN</td>\n",
       "      <td>NaN</td>\n",
       "    </tr>\n",
       "    <tr>\n",
       "      <th>2</th>\n",
       "      <td>zwbCD3CUFIs</td>\n",
       "      <td>What is the purpose of the large blue object o...</td>\n",
       "      <td>To provide heat to cook</td>\n",
       "      <td>It is a trash can</td>\n",
       "      <td>It is a pan</td>\n",
       "      <td>It's a decoration</td>\n",
       "      <td>https://www.youtube.com/watch?v=zwbCD3CUFIs</td>\n",
       "      <td>NaN</td>\n",
       "      <td>NaN</td>\n",
       "      <td>NaN</td>\n",
       "      <td>NaN</td>\n",
       "    </tr>\n",
       "    <tr>\n",
       "      <th>3</th>\n",
       "      <td>zwbCD3CUFIs</td>\n",
       "      <td>How many prawns are cooking in the pan?</td>\n",
       "      <td>approximately 25</td>\n",
       "      <td>About 4 big prawns</td>\n",
       "      <td>approximately 80 prawns</td>\n",
       "      <td>there are no prawns</td>\n",
       "      <td>https://www.youtube.com/watch?v=zwbCD3CUFIs</td>\n",
       "      <td>NaN</td>\n",
       "      <td>NaN</td>\n",
       "      <td>NaN</td>\n",
       "      <td>NaN</td>\n",
       "    </tr>\n",
       "    <tr>\n",
       "      <th>5</th>\n",
       "      <td>XzgR14o6b80</td>\n",
       "      <td>What is the color if the liquid the two steaks...</td>\n",
       "      <td>Yellow-brown</td>\n",
       "      <td>Red</td>\n",
       "      <td>Green</td>\n",
       "      <td>Transparent</td>\n",
       "      <td>https://www.youtube.com/watch?v=XzgR14o6b80</td>\n",
       "      <td>NaN</td>\n",
       "      <td>NaN</td>\n",
       "      <td>NaN</td>\n",
       "      <td>NaN</td>\n",
       "    </tr>\n",
       "    <tr>\n",
       "      <th>6</th>\n",
       "      <td>XzgR14o6b80</td>\n",
       "      <td>What color is the hair of the man cooking?</td>\n",
       "      <td>Blond</td>\n",
       "      <td>Black</td>\n",
       "      <td>Medium Brown</td>\n",
       "      <td>White</td>\n",
       "      <td>https://www.youtube.com/watch?v=XzgR14o6b80</td>\n",
       "      <td>NaN</td>\n",
       "      <td>NaN</td>\n",
       "      <td>NaN</td>\n",
       "      <td>NaN</td>\n",
       "    </tr>\n",
       "    <tr>\n",
       "      <th>7</th>\n",
       "      <td>XzgR14o6b80</td>\n",
       "      <td>Which country are the cabbages from?</td>\n",
       "      <td>They are chinese</td>\n",
       "      <td>They are french</td>\n",
       "      <td>They are british</td>\n",
       "      <td>They are mexican</td>\n",
       "      <td>https://www.youtube.com/watch?v=XzgR14o6b80</td>\n",
       "      <td>NaN</td>\n",
       "      <td>NaN</td>\n",
       "      <td>NaN</td>\n",
       "      <td>(transcript says chinese cabbage)</td>\n",
       "    </tr>\n",
       "    <tr>\n",
       "      <th>8</th>\n",
       "      <td>XzgR14o6b80</td>\n",
       "      <td>How much wasabi is on the spoon ?</td>\n",
       "      <td>About a thumbnail size</td>\n",
       "      <td>NaN</td>\n",
       "      <td>A full spoon</td>\n",
       "      <td>A single drop</td>\n",
       "      <td>https://www.youtube.com/watch?v=XzgR14o6b80</td>\n",
       "      <td>NaN</td>\n",
       "      <td>NaN</td>\n",
       "      <td>NaN</td>\n",
       "      <td>NaN</td>\n",
       "    </tr>\n",
       "    <tr>\n",
       "      <th>10</th>\n",
       "      <td>vow-kxTPatc</td>\n",
       "      <td>How many cups of flour are required ?</td>\n",
       "      <td>2 cups</td>\n",
       "      <td>1 cup</td>\n",
       "      <td>5 cups</td>\n",
       "      <td>NaN</td>\n",
       "      <td>https://www.youtube.com/watch?v=vow-kxTPatc</td>\n",
       "      <td>NaN</td>\n",
       "      <td>NaN</td>\n",
       "      <td>NaN</td>\n",
       "      <td>1:02 in the vid</td>\n",
       "    </tr>\n",
       "    <tr>\n",
       "      <th>11</th>\n",
       "      <td>vow-kxTPatc</td>\n",
       "      <td>What color is the top of the woman ?</td>\n",
       "      <td>Red - brown</td>\n",
       "      <td>Yellow</td>\n",
       "      <td>White</td>\n",
       "      <td>Black</td>\n",
       "      <td>https://www.youtube.com/watch?v=vow-kxTPatc</td>\n",
       "      <td>NaN</td>\n",
       "      <td>NaN</td>\n",
       "      <td>NaN</td>\n",
       "      <td>NaN</td>\n",
       "    </tr>\n",
       "    <tr>\n",
       "      <th>12</th>\n",
       "      <td>vow-kxTPatc</td>\n",
       "      <td>When the plate is above the oven, how many coo...</td>\n",
       "      <td>6</td>\n",
       "      <td>2</td>\n",
       "      <td>1</td>\n",
       "      <td>4</td>\n",
       "      <td>https://www.youtube.com/watch?v=vow-kxTPatc</td>\n",
       "      <td>NaN</td>\n",
       "      <td>NaN</td>\n",
       "      <td>NaN</td>\n",
       "      <td>NaN</td>\n",
       "    </tr>\n",
       "    <tr>\n",
       "      <th>13</th>\n",
       "      <td>vow-kxTPatc</td>\n",
       "      <td>What is in the jar with the red lid?</td>\n",
       "      <td>Yeast</td>\n",
       "      <td>Nutella</td>\n",
       "      <td>Pepper</td>\n",
       "      <td>Jam</td>\n",
       "      <td>https://www.youtube.com/watch?v=vow-kxTPatc</td>\n",
       "      <td>NaN</td>\n",
       "      <td>NaN</td>\n",
       "      <td>NaN</td>\n",
       "      <td>NaN</td>\n",
       "    </tr>\n",
       "    <tr>\n",
       "      <th>15</th>\n",
       "      <td>UUlfKJ9M_pQ</td>\n",
       "      <td>What food is displayed behind the two bowls of...</td>\n",
       "      <td>A piece of bread</td>\n",
       "      <td>A banana</td>\n",
       "      <td>A bowl of rice</td>\n",
       "      <td>A bowl of apples</td>\n",
       "      <td>https://www.youtube.com/watch?v=UUlfKJ9M_pQ</td>\n",
       "      <td>NaN</td>\n",
       "      <td>NaN</td>\n",
       "      <td>NaN</td>\n",
       "      <td>NaN</td>\n",
       "    </tr>\n",
       "    <tr>\n",
       "      <th>16</th>\n",
       "      <td>UUlfKJ9M_pQ</td>\n",
       "      <td>What is the red food cooking in the black pot?</td>\n",
       "      <td>Bacon</td>\n",
       "      <td>Tomatoes</td>\n",
       "      <td>Pepper</td>\n",
       "      <td>Strawberries</td>\n",
       "      <td>https://www.youtube.com/watch?v=UUlfKJ9M_pQ</td>\n",
       "      <td>NaN</td>\n",
       "      <td>NaN</td>\n",
       "      <td>NaN</td>\n",
       "      <td>NaN</td>\n",
       "    </tr>\n",
       "    <tr>\n",
       "      <th>17</th>\n",
       "      <td>UUlfKJ9M_pQ</td>\n",
       "      <td>When adding the bacon in the mixture, why does...</td>\n",
       "      <td>Keep some for the topping</td>\n",
       "      <td>Because of a religious tradition</td>\n",
       "      <td>Because she accidentally made too much</td>\n",
       "      <td>Because she is preparing another dish that req...</td>\n",
       "      <td>https://www.youtube.com/watch?v=UUlfKJ9M_pQ</td>\n",
       "      <td>NaN</td>\n",
       "      <td>NaN</td>\n",
       "      <td>NaN</td>\n",
       "      <td>NaN</td>\n",
       "    </tr>\n",
       "    <tr>\n",
       "      <th>18</th>\n",
       "      <td>UUlfKJ9M_pQ</td>\n",
       "      <td>What best describes the woman's face?</td>\n",
       "      <td>Some makeup and glasses</td>\n",
       "      <td>No glasses and no makeup</td>\n",
       "      <td>No glasses and blonde hair</td>\n",
       "      <td>Some makeup and red hair</td>\n",
       "      <td>https://www.youtube.com/watch?v=UUlfKJ9M_pQ</td>\n",
       "      <td>NaN</td>\n",
       "      <td>NaN</td>\n",
       "      <td>NaN</td>\n",
       "      <td>NaN</td>\n",
       "    </tr>\n",
       "  </tbody>\n",
       "</table>\n",
       "</div>"
      ],
      "text/plain": [
       "        VideoID                                           Question  \\\n",
       "0   zwbCD3CUFIs    What color is the spatula on the cutting board?   \n",
       "1   zwbCD3CUFIs        What green ingredient is added to the pan ?   \n",
       "2   zwbCD3CUFIs  What is the purpose of the large blue object o...   \n",
       "3   zwbCD3CUFIs            How many prawns are cooking in the pan?   \n",
       "5   XzgR14o6b80  What is the color if the liquid the two steaks...   \n",
       "6   XzgR14o6b80         What color is the hair of the man cooking?   \n",
       "7   XzgR14o6b80               Which country are the cabbages from?   \n",
       "8   XzgR14o6b80                  How much wasabi is on the spoon ?   \n",
       "10  vow-kxTPatc              How many cups of flour are required ?   \n",
       "11  vow-kxTPatc               What color is the top of the woman ?   \n",
       "12  vow-kxTPatc  When the plate is above the oven, how many coo...   \n",
       "13  vow-kxTPatc               What is in the jar with the red lid?   \n",
       "15  UUlfKJ9M_pQ  What food is displayed behind the two bowls of...   \n",
       "16  UUlfKJ9M_pQ     What is the red food cooking in the black pot?   \n",
       "17  UUlfKJ9M_pQ  When adding the bacon in the mixture, why does...   \n",
       "18  UUlfKJ9M_pQ              What best describes the woman's face?   \n",
       "\n",
       "               Answer1 (corr)                           Answer2  \\\n",
       "0                       Green                               Red   \n",
       "1               Spring onions                      Green pepper   \n",
       "2     To provide heat to cook                 It is a trash can   \n",
       "3            approximately 25                About 4 big prawns   \n",
       "5                Yellow-brown                               Red   \n",
       "6                       Blond                             Black   \n",
       "7            They are chinese                   They are french   \n",
       "8      About a thumbnail size                               NaN   \n",
       "10                     2 cups                             1 cup   \n",
       "11                Red - brown                            Yellow   \n",
       "12                          6                                 2   \n",
       "13                      Yeast                           Nutella   \n",
       "15           A piece of bread                          A banana   \n",
       "16                      Bacon                          Tomatoes   \n",
       "17  Keep some for the topping  Because of a religious tradition   \n",
       "18    Some makeup and glasses          No glasses and no makeup   \n",
       "\n",
       "                                   Answer3  \\\n",
       "0                                     Blue   \n",
       "1                              Green beans   \n",
       "2                              It is a pan   \n",
       "3                  approximately 80 prawns   \n",
       "5                                    Green   \n",
       "6                             Medium Brown   \n",
       "7                         They are british   \n",
       "8                             A full spoon   \n",
       "10                                  5 cups   \n",
       "11                                   White   \n",
       "12                                       1   \n",
       "13                                  Pepper   \n",
       "15                          A bowl of rice   \n",
       "16                                  Pepper   \n",
       "17  Because she accidentally made too much   \n",
       "18              No glasses and blonde hair   \n",
       "\n",
       "                                              Answer4  \\\n",
       "0                                               Black   \n",
       "1                                            Cucumber   \n",
       "2                                   It's a decoration   \n",
       "3                                 there are no prawns   \n",
       "5                                         Transparent   \n",
       "6                                               White   \n",
       "7                                    They are mexican   \n",
       "8                                       A single drop   \n",
       "10                                                NaN   \n",
       "11                                              Black   \n",
       "12                                                  4   \n",
       "13                                                Jam   \n",
       "15                                   A bowl of apples   \n",
       "16                                       Strawberries   \n",
       "17  Because she is preparing another dish that req...   \n",
       "18                           Some makeup and red hair   \n",
       "\n",
       "                                     youtubeURL  Unnamed: 7  Unnamed: 8  \\\n",
       "0   https://www.youtube.com/watch?v=zwbCD3CUFIs         NaN         NaN   \n",
       "1   https://www.youtube.com/watch?v=zwbCD3CUFIs         NaN         NaN   \n",
       "2   https://www.youtube.com/watch?v=zwbCD3CUFIs         NaN         NaN   \n",
       "3   https://www.youtube.com/watch?v=zwbCD3CUFIs         NaN         NaN   \n",
       "5   https://www.youtube.com/watch?v=XzgR14o6b80         NaN         NaN   \n",
       "6   https://www.youtube.com/watch?v=XzgR14o6b80         NaN         NaN   \n",
       "7   https://www.youtube.com/watch?v=XzgR14o6b80         NaN         NaN   \n",
       "8   https://www.youtube.com/watch?v=XzgR14o6b80         NaN         NaN   \n",
       "10  https://www.youtube.com/watch?v=vow-kxTPatc         NaN         NaN   \n",
       "11  https://www.youtube.com/watch?v=vow-kxTPatc         NaN         NaN   \n",
       "12  https://www.youtube.com/watch?v=vow-kxTPatc         NaN         NaN   \n",
       "13  https://www.youtube.com/watch?v=vow-kxTPatc         NaN         NaN   \n",
       "15  https://www.youtube.com/watch?v=UUlfKJ9M_pQ         NaN         NaN   \n",
       "16  https://www.youtube.com/watch?v=UUlfKJ9M_pQ         NaN         NaN   \n",
       "17  https://www.youtube.com/watch?v=UUlfKJ9M_pQ         NaN         NaN   \n",
       "18  https://www.youtube.com/watch?v=UUlfKJ9M_pQ         NaN         NaN   \n",
       "\n",
       "    https://www.youtube.com/watch?v=                        Unnamed: 10  \n",
       "0                                NaN                                NaN  \n",
       "1                                NaN                                NaN  \n",
       "2                                NaN                                NaN  \n",
       "3                                NaN                                NaN  \n",
       "5                                NaN                                NaN  \n",
       "6                                NaN                                NaN  \n",
       "7                                NaN  (transcript says chinese cabbage)  \n",
       "8                                NaN                                NaN  \n",
       "10                               NaN                    1:02 in the vid  \n",
       "11                               NaN                                NaN  \n",
       "12                               NaN                                NaN  \n",
       "13                               NaN                                NaN  \n",
       "15                               NaN                                NaN  \n",
       "16                               NaN                                NaN  \n",
       "17                               NaN                                NaN  \n",
       "18                               NaN                                NaN  "
      ]
     },
     "execution_count": 2,
     "metadata": {},
     "output_type": "execute_result"
    }
   ],
   "source": [
    "df_questions"
   ]
  },
  {
   "cell_type": "code",
   "execution_count": null,
   "metadata": {},
   "outputs": [],
   "source": []
  },
  {
   "cell_type": "code",
   "execution_count": 3,
   "metadata": {},
   "outputs": [],
   "source": [
    "ALL_URLS = df_questions['VideoID'].unique().tolist()"
   ]
  },
  {
   "cell_type": "code",
   "execution_count": 11,
   "metadata": {},
   "outputs": [
    {
     "name": "stdout",
     "output_type": "stream",
     "text": [
      "Singapore-Style Curry Fried Rice Noodles | Asian Bites\n",
      " ↳ |████████████████████████████████████████████| 100.0%\r"
     ]
    },
    {
     "name": "stderr",
     "output_type": "stream",
     "text": [
      "/scratch/1029067/ipykernel_559228/2911685545.py:17: DeprecationWarning: Call to deprecated function get_by_language_code (This object can be treated as a dictionary, i.e. captions['en']).\n",
      "  caption = yt.captions.get_by_language_code('a.en')\n"
     ]
    },
    {
     "name": "stdout",
     "output_type": "stream",
     "text": [
      "Experience Culinary Bliss with Gordon Ramsay Beef Tacos with Wasabi Mayo\n",
      "Naan Bread Recipe | How To Make Naan Bread at Home by Manjula"
     ]
    },
    {
     "name": "stderr",
     "output_type": "stream",
     "text": [
      "/scratch/1029067/ipykernel_559228/2911685545.py:17: DeprecationWarning: Call to deprecated function get_by_language_code (This object can be treated as a dictionary, i.e. captions['en']).\n",
      "  caption = yt.captions.get_by_language_code('a.en')\n"
     ]
    },
    {
     "name": "stdout",
     "output_type": "stream",
     "text": [
      "\n",
      " ↳ |████████████████████████████████████████████| 100.0%\r"
     ]
    },
    {
     "name": "stderr",
     "output_type": "stream",
     "text": [
      "/scratch/1029067/ipykernel_559228/2911685545.py:17: DeprecationWarning: Call to deprecated function get_by_language_code (This object can be treated as a dictionary, i.e. captions['en']).\n",
      "  caption = yt.captions.get_by_language_code('a.en')\n"
     ]
    },
    {
     "name": "stdout",
     "output_type": "stream",
     "text": [
      "Easy New England Clam Chowder Recipe | The Frugal Chef\n",
      " ↳ |████████████████████████████████████████████| 100.0%\r"
     ]
    },
    {
     "name": "stderr",
     "output_type": "stream",
     "text": [
      "/scratch/1029067/ipykernel_559228/2911685545.py:17: DeprecationWarning: Call to deprecated function get_by_language_code (This object can be treated as a dictionary, i.e. captions['en']).\n",
      "  caption = yt.captions.get_by_language_code('a.en')\n"
     ]
    }
   ],
   "source": [
    "from pytubefix import YouTube\n",
    "from pytubefix.cli import on_progress\n",
    "import os\n",
    "\n",
    "base_path = '/home/hice1/bpopper3/scratch/LLaVA_RAG/RAG_Pipeline/HANDMADE_QUESTIONS_PIPELINE/storage'\n",
    "\n",
    "for URL in ALL_URLS:\n",
    "\n",
    "    os.makedirs(f\"{base_path}/{URL}\", exist_ok=True)\n",
    "    url = f\"https://www.youtube.com/watch?v={URL}\"\n",
    "    \n",
    "    yt = YouTube(url, on_progress_callback = on_progress)\n",
    "    print(yt.title)\n",
    "    ys = yt.streams.get_highest_resolution()\n",
    "    ys.download(f\"{base_path}/{URL}\", filename='video')\n",
    "\n",
    "    caption = yt.captions.get_by_language_code('a.en')\n",
    "\n",
    "    #save captions to ./\n",
    "    caption.save_captions(f\"{base_path}/{URL}/caption.srt\")"
   ]
  },
  {
   "cell_type": "markdown",
   "metadata": {},
   "source": [
    "## Step 1 : Generate the CSV from input videos"
   ]
  },
  {
   "cell_type": "code",
   "execution_count": 12,
   "metadata": {},
   "outputs": [],
   "source": [
    "# args are\n",
    "# ('--v', type=str, help='path to the video file (mp4)')\n",
    "# ('--o', type=str, help='path to output folder')\n",
    "# ('--s', type=str, help='path to SRT files (transcript)')\n",
    "# ('--i', type=int, help='frame interval')\n",
    "\n",
    "\n",
    "for URL in ALL_URLS:\n",
    "    video_path = f\"{base_path}/{URL}/video.mp4\"\n",
    "    srt_path = f\"{base_path}/{URL}/caption.srt\"\n",
    "\n",
    "    #launch script /home/hice1/bpopper3/scratch/LLaVA_RAG/RAG_Pipeline/step1_video_to_frames_csv.py with python\n",
    "\n",
    "    os.system(f\"python /home/hice1/bpopper3/scratch/LLaVA_RAG/RAG_Pipeline/step1_video_to_frames_csv.py --v {video_path} --o {base_path}/{URL} --s {srt_path} --i 60 > /dev/null\")"
   ]
  },
  {
   "cell_type": "markdown",
   "metadata": {},
   "source": [
    "## Step 2 : Generate FAISS embeddings from the CSVs"
   ]
  },
  {
   "cell_type": "code",
   "execution_count": 4,
   "metadata": {},
   "outputs": [
    {
     "name": "stderr",
     "output_type": "stream",
     "text": [
      "/home/hice1/bpopper3/.conda/envs/vlm/lib/python3.11/site-packages/tqdm/auto.py:21: TqdmWarning: IProgress not found. Please update jupyter and ipywidgets. See https://ipywidgets.readthedocs.io/en/stable/user_install.html\n",
      "  from .autonotebook import tqdm as notebook_tqdm\n",
      "/home/hice1/bpopper3/.conda/envs/vlm/lib/python3.11/site-packages/transformers/tokenization_utils_base.py:1617: FutureWarning: `clean_up_tokenization_spaces` was not set. It will be set to `True` by default. This behavior will be deprecated in transformers v4.45, and will be then set to `False` by default. For more details check this issue: https://github.com/huggingface/transformers/issues/31884\n",
      "  warnings.warn(\n",
      "Some weights of BridgeTowerForContrastiveLearning were not initialized from the model checkpoint at BridgeTower/bridgetower-large-itm-mlm-itc and are newly initialized: ['logit_scale']\n",
      "You should probably TRAIN this model on a down-stream task to be able to use it for predictions and inference.\n",
      "0it [00:00, ?it/s]"
     ]
    },
    {
     "name": "stdout",
     "output_type": "stream",
     "text": [
      "/home/hice1/bpopper3/scratch/LLaVA_RAG/RAG_Pipeline/HANDMADE_QUESTIONS_PIPELINE/storage/zwbCD3CUFIs/frames/frame_0000.jpg\n",
      "hey guys I'm Amy and I'm Julie we are the Duncan sisters welcome to the scoffs kitchen today in our Asian bite series we are doing a Singapore fried rice noodle with curry is you can see it's \n"
     ]
    },
    {
     "name": "stderr",
     "output_type": "stream",
     "text": [
      "\r",
      "1it [00:07,  7.09s/it]"
     ]
    },
    {
     "name": "stdout",
     "output_type": "stream",
     "text": [
      "(512,)\n",
      "/home/hice1/bpopper3/scratch/LLaVA_RAG/RAG_Pipeline/HANDMADE_QUESTIONS_PIPELINE/storage/zwbCD3CUFIs/frames/frame_0060.jpg\n",
      "hey guys I'm Amy and I'm Julie we are the Duncan sisters welcome to the scoffs kitchen today in our Asian bite series we are doing a Singapore fried rice noodle with curry is you can see it's this bright yellow sort of concoction and it's super yummy so let's get \n"
     ]
    },
    {
     "name": "stderr",
     "output_type": "stream",
     "text": [
      "\r",
      "2it [00:09,  4.28s/it]"
     ]
    },
    {
     "name": "stdout",
     "output_type": "stream",
     "text": [
      "(512,)\n",
      "/home/hice1/bpopper3/scratch/LLaVA_RAG/RAG_Pipeline/HANDMADE_QUESTIONS_PIPELINE/storage/zwbCD3CUFIs/frames/frame_0120.jpg\n",
      "hey guys I'm Amy and I'm Julie we are the Duncan sisters welcome to the scoffs kitchen today in our Asian bite series we are doing a Singapore fried rice noodle with curry is you can see it's this bright yellow sort of concoction and it's super yummy so let's get started so the notice that we're going \n"
     ]
    },
    {
     "name": "stderr",
     "output_type": "stream",
     "text": [
      "\r",
      "3it [00:11,  3.41s/it]"
     ]
    },
    {
     "name": "stdout",
     "output_type": "stream",
     "text": [
      "(512,)\n",
      "/home/hice1/bpopper3/scratch/LLaVA_RAG/RAG_Pipeline/HANDMADE_QUESTIONS_PIPELINE/storage/zwbCD3CUFIs/frames/frame_0180.jpg\n",
      "hey guys I'm Amy and I'm Julie we are the Duncan sisters welcome to the scoffs kitchen today in our Asian bite series we are doing a Singapore fried rice noodle with curry is you can see it's this bright yellow sort of concoction and it's super yummy so let's get started so the notice that we're going \n"
     ]
    },
    {
     "name": "stderr",
     "output_type": "stream",
     "text": [
      "\r",
      "4it [00:14,  3.00s/it]"
     ]
    },
    {
     "name": "stdout",
     "output_type": "stream",
     "text": [
      "(512,)\n",
      "/home/hice1/bpopper3/scratch/LLaVA_RAG/RAG_Pipeline/HANDMADE_QUESTIONS_PIPELINE/storage/zwbCD3CUFIs/frames/frame_0240.jpg\n",
      "hey guys I'm Amy and I'm Julie we are the Duncan sisters welcome to the scoffs kitchen today in our Asian bite series we are doing a Singapore fried rice noodle with curry is you can see it's this bright yellow sort of concoction and it's super yummy so let's get started so the notice that we're going \n"
     ]
    },
    {
     "name": "stderr",
     "output_type": "stream",
     "text": [
      "\r",
      "5it [00:16,  2.77s/it]"
     ]
    },
    {
     "name": "stdout",
     "output_type": "stream",
     "text": [
      "(512,)\n",
      "/home/hice1/bpopper3/scratch/LLaVA_RAG/RAG_Pipeline/HANDMADE_QUESTIONS_PIPELINE/storage/zwbCD3CUFIs/frames/frame_0300.jpg\n",
      "the Duncan sisters welcome to the scoffs kitchen today in our Asian bite series we are doing a Singapore fried rice noodle with curry is you can see it's this bright yellow sort of concoction and it's super yummy so let's get started so the notice that we're going \n"
     ]
    },
    {
     "name": "stderr",
     "output_type": "stream",
     "text": [
      "\r",
      "6it [00:18,  2.61s/it]"
     ]
    },
    {
     "name": "stdout",
     "output_type": "stream",
     "text": [
      "(512,)\n",
      "/home/hice1/bpopper3/scratch/LLaVA_RAG/RAG_Pipeline/HANDMADE_QUESTIONS_PIPELINE/storage/zwbCD3CUFIs/frames/frame_0360.jpg\n",
      "we are doing a Singapore fried rice noodle with curry is you can see it's this bright yellow sort of concoction and it's super yummy so let's get started so the notice that we're going to be using today are rice noodles which \n"
     ]
    },
    {
     "name": "stderr",
     "output_type": "stream",
     "text": [
      "\r",
      "7it [00:21,  2.51s/it]"
     ]
    },
    {
     "name": "stdout",
     "output_type": "stream",
     "text": [
      "(512,)\n",
      "/home/hice1/bpopper3/scratch/LLaVA_RAG/RAG_Pipeline/HANDMADE_QUESTIONS_PIPELINE/storage/zwbCD3CUFIs/frames/frame_0420.jpg\n",
      "noodle with curry is you can see it's this bright yellow sort of concoction and it's super yummy so let's get started so the notice that we're going to be using today are rice noodles which are ones like this all we've done here \n"
     ]
    },
    {
     "name": "stderr",
     "output_type": "stream",
     "text": [
      "\r",
      "8it [00:23,  2.44s/it]"
     ]
    },
    {
     "name": "stdout",
     "output_type": "stream",
     "text": [
      "(512,)\n",
      "/home/hice1/bpopper3/scratch/LLaVA_RAG/RAG_Pipeline/HANDMADE_QUESTIONS_PIPELINE/storage/zwbCD3CUFIs/frames/frame_0480.jpg\n",
      "this bright yellow sort of concoction and it's super yummy so let's get started so the notice that we're going to be using today are rice noodles which are ones like this all we've done here is just soak them in cold water for about half an hour we're going to leave \n"
     ]
    },
    {
     "name": "stderr",
     "output_type": "stream",
     "text": [
      "\r",
      "9it [00:25,  2.41s/it]"
     ]
    },
    {
     "name": "stdout",
     "output_type": "stream",
     "text": [
      "(512,)\n",
      "/home/hice1/bpopper3/scratch/LLaVA_RAG/RAG_Pipeline/HANDMADE_QUESTIONS_PIPELINE/storage/zwbCD3CUFIs/frames/frame_0540.jpg\n",
      "and it's super yummy so let's get started so the notice that we're going to be using today are rice noodles which are ones like this all we've done here is just soak them in cold water for about half an hour we're going to leave them in there until they're ready to cook so next up we're going to do our \n"
     ]
    },
    {
     "name": "stderr",
     "output_type": "stream",
     "text": [
      "\r",
      "10it [00:28,  2.40s/it]"
     ]
    },
    {
     "name": "stdout",
     "output_type": "stream",
     "text": [
      "(512,)\n",
      "/home/hice1/bpopper3/scratch/LLaVA_RAG/RAG_Pipeline/HANDMADE_QUESTIONS_PIPELINE/storage/zwbCD3CUFIs/frames/frame_0600.jpg\n",
      "started so the notice that we're going to be using today are rice noodles which are ones like this all we've done here is just soak them in cold water for about half an hour we're going to leave them in there until they're ready to cook so next up we're going to do our prawns which is the meat in this dish \n"
     ]
    },
    {
     "name": "stderr",
     "output_type": "stream",
     "text": [
      "\r",
      "11it [00:30,  2.39s/it]"
     ]
    },
    {
     "name": "stdout",
     "output_type": "stream",
     "text": [
      "(512,)\n",
      "/home/hice1/bpopper3/scratch/LLaVA_RAG/RAG_Pipeline/HANDMADE_QUESTIONS_PIPELINE/storage/zwbCD3CUFIs/frames/frame_0660.jpg\n",
      "to be using today are rice noodles which are ones like this all we've done here is just soak them in cold water for about half an hour we're going to leave them in there until they're ready to cook so next up we're going to do our prawns which is the meat in this dish all we want to do is pop in a wee bit of \n"
     ]
    },
    {
     "name": "stderr",
     "output_type": "stream",
     "text": [
      "\r",
      "12it [00:32,  2.39s/it]"
     ]
    },
    {
     "name": "stdout",
     "output_type": "stream",
     "text": [
      "(512,)\n",
      "/home/hice1/bpopper3/scratch/LLaVA_RAG/RAG_Pipeline/HANDMADE_QUESTIONS_PIPELINE/storage/zwbCD3CUFIs/frames/frame_0720.jpg\n",
      "to be using today are rice noodles which are ones like this all we've done here is just soak them in cold water for about half an hour we're going to leave them in there until they're ready to cook so next up we're going to do our prawns which is the meat in this dish all we want to do is pop in a wee bit of corn flour about a teaspoon for 150 \n"
     ]
    },
    {
     "name": "stderr",
     "output_type": "stream",
     "text": [
      "\r",
      "13it [00:35,  2.39s/it]"
     ]
    },
    {
     "name": "stdout",
     "output_type": "stream",
     "text": [
      "(512,)\n",
      "/home/hice1/bpopper3/scratch/LLaVA_RAG/RAG_Pipeline/HANDMADE_QUESTIONS_PIPELINE/storage/zwbCD3CUFIs/frames/frame_0780.jpg\n",
      "to be using today are rice noodles which are ones like this all we've done here is just soak them in cold water for about half an hour we're going to leave them in there until they're ready to cook so next up we're going to do our prawns which is the meat in this dish all we want to do is pop in a wee bit of corn flour about a teaspoon for 150 grams as good this coats all the prawns \n"
     ]
    },
    {
     "name": "stderr",
     "output_type": "stream",
     "text": [
      "\r",
      "14it [00:37,  2.41s/it]"
     ]
    },
    {
     "name": "stdout",
     "output_type": "stream",
     "text": [
      "(512,)\n",
      "/home/hice1/bpopper3/scratch/LLaVA_RAG/RAG_Pipeline/HANDMADE_QUESTIONS_PIPELINE/storage/zwbCD3CUFIs/frames/frame_0840.jpg\n",
      "are ones like this all we've done here is just soak them in cold water for about half an hour we're going to leave them in there until they're ready to cook so next up we're going to do our prawns which is the meat in this dish all we want to do is pop in a wee bit of corn flour about a teaspoon for 150 grams as good this coats all the prawns and gives it like a really kind of well \n"
     ]
    },
    {
     "name": "stderr",
     "output_type": "stream",
     "text": [
      "\r",
      "15it [00:40,  2.42s/it]"
     ]
    },
    {
     "name": "stdout",
     "output_type": "stream",
     "text": [
      "(512,)\n",
      "/home/hice1/bpopper3/scratch/LLaVA_RAG/RAG_Pipeline/HANDMADE_QUESTIONS_PIPELINE/storage/zwbCD3CUFIs/frames/frame_0900.jpg\n",
      "is just soak them in cold water for about half an hour we're going to leave them in there until they're ready to cook so next up we're going to do our prawns which is the meat in this dish all we want to do is pop in a wee bit of corn flour about a teaspoon for 150 grams as good this coats all the prawns and gives it like a really kind of well alloxan or the moisture of the poison \n"
     ]
    },
    {
     "name": "stderr",
     "output_type": "stream",
     "text": [
      "\r",
      "16it [00:42,  2.43s/it]"
     ]
    },
    {
     "name": "stdout",
     "output_type": "stream",
     "text": [
      "(512,)\n",
      "/home/hice1/bpopper3/scratch/LLaVA_RAG/RAG_Pipeline/HANDMADE_QUESTIONS_PIPELINE/storage/zwbCD3CUFIs/frames/frame_0960.jpg\n",
      "about half an hour we're going to leave them in there until they're ready to cook so next up we're going to do our prawns which is the meat in this dish all we want to do is pop in a wee bit of corn flour about a teaspoon for 150 grams as good this coats all the prawns and gives it like a really kind of well alloxan or the moisture of the poison also gives it a really kind of like a silky coating around the no one likes a \n"
     ]
    },
    {
     "name": "stderr",
     "output_type": "stream",
     "text": [
      "\r",
      "17it [00:45,  2.45s/it]"
     ]
    },
    {
     "name": "stdout",
     "output_type": "stream",
     "text": [
      "(512,)\n",
      "/home/hice1/bpopper3/scratch/LLaVA_RAG/RAG_Pipeline/HANDMADE_QUESTIONS_PIPELINE/storage/zwbCD3CUFIs/frames/frame_1020.jpg\n",
      "cook so next up we're going to do our prawns which is the meat in this dish all we want to do is pop in a wee bit of corn flour about a teaspoon for 150 grams as good this coats all the prawns and gives it like a really kind of well alloxan or the moisture of the poison also gives it a really kind of like a silky coating around the no one likes a \n"
     ]
    },
    {
     "name": "stderr",
     "output_type": "stream",
     "text": [
      "\r",
      "18it [00:47,  2.43s/it]"
     ]
    },
    {
     "name": "stdout",
     "output_type": "stream",
     "text": [
      "(512,)\n",
      "/home/hice1/bpopper3/scratch/LLaVA_RAG/RAG_Pipeline/HANDMADE_QUESTIONS_PIPELINE/storage/zwbCD3CUFIs/frames/frame_1080.jpg\n",
      "all we want to do is pop in a wee bit of corn flour about a teaspoon for 150 grams as good this coats all the prawns and gives it like a really kind of well alloxan or the moisture of the poison also gives it a really kind of like a silky coating around the no one likes a rubbery fraud so we just put about a \n"
     ]
    },
    {
     "name": "stderr",
     "output_type": "stream",
     "text": [
      "\r",
      "19it [00:49,  2.41s/it]"
     ]
    },
    {
     "name": "stdout",
     "output_type": "stream",
     "text": [
      "(512,)\n",
      "/home/hice1/bpopper3/scratch/LLaVA_RAG/RAG_Pipeline/HANDMADE_QUESTIONS_PIPELINE/storage/zwbCD3CUFIs/frames/frame_1140.jpg\n",
      "corn flour about a teaspoon for 150 grams as good this coats all the prawns and gives it like a really kind of well alloxan or the moisture of the poison also gives it a really kind of like a silky coating around the no one likes a rubbery fraud so we just put about a tablespoon of oil in the wok now you \n"
     ]
    },
    {
     "name": "stderr",
     "output_type": "stream",
     "text": [
      "\r",
      "20it [00:52,  2.39s/it]"
     ]
    },
    {
     "name": "stdout",
     "output_type": "stream",
     "text": [
      "(512,)\n",
      "/home/hice1/bpopper3/scratch/LLaVA_RAG/RAG_Pipeline/HANDMADE_QUESTIONS_PIPELINE/storage/zwbCD3CUFIs/frames/frame_1200.jpg\n",
      "grams as good this coats all the prawns and gives it like a really kind of well alloxan or the moisture of the poison also gives it a really kind of like a silky coating around the no one likes a rubbery fraud so we just put about a tablespoon of oil in the wok now you want this quite hot don't you do them you do you have to basically see those \n"
     ]
    },
    {
     "name": "stderr",
     "output_type": "stream",
     "text": [
      "\r",
      "21it [00:54,  2.40s/it]"
     ]
    },
    {
     "name": "stdout",
     "output_type": "stream",
     "text": [
      "(512,)\n",
      "/home/hice1/bpopper3/scratch/LLaVA_RAG/RAG_Pipeline/HANDMADE_QUESTIONS_PIPELINE/storage/zwbCD3CUFIs/frames/frame_1260.jpg\n",
      "and gives it like a really kind of well alloxan or the moisture of the poison also gives it a really kind of like a silky coating around the no one likes a rubbery fraud so we just put about a tablespoon of oil in the wok now you want this quite hot don't you do them you do you have to basically see those prawns immediately so in it goes so \n"
     ]
    },
    {
     "name": "stderr",
     "output_type": "stream",
     "text": [
      "\r",
      "22it [00:57,  2.40s/it]"
     ]
    },
    {
     "name": "stdout",
     "output_type": "stream",
     "text": [
      "(512,)\n",
      "/home/hice1/bpopper3/scratch/LLaVA_RAG/RAG_Pipeline/HANDMADE_QUESTIONS_PIPELINE/storage/zwbCD3CUFIs/frames/frame_1320.jpg\n",
      "and gives it like a really kind of well alloxan or the moisture of the poison also gives it a really kind of like a silky coating around the no one likes a rubbery fraud so we just put about a tablespoon of oil in the wok now you want this quite hot don't you do them you do you have to basically see those prawns immediately so in it goes so \n"
     ]
    },
    {
     "name": "stderr",
     "output_type": "stream",
     "text": [
      "\r",
      "23it [00:59,  2.40s/it]"
     ]
    },
    {
     "name": "stdout",
     "output_type": "stream",
     "text": [
      "(512,)\n",
      "/home/hice1/bpopper3/scratch/LLaVA_RAG/RAG_Pipeline/HANDMADE_QUESTIONS_PIPELINE/storage/zwbCD3CUFIs/frames/frame_1380.jpg\n",
      "also gives it a really kind of like a silky coating around the no one likes a rubbery fraud so we just put about a tablespoon of oil in the wok now you want this quite hot don't you do them you do you have to basically see those prawns immediately so in it goes so \n"
     ]
    },
    {
     "name": "stderr",
     "output_type": "stream",
     "text": [
      "\r",
      "24it [01:01,  2.38s/it]"
     ]
    },
    {
     "name": "stdout",
     "output_type": "stream",
     "text": [
      "(512,)\n",
      "/home/hice1/bpopper3/scratch/LLaVA_RAG/RAG_Pipeline/HANDMADE_QUESTIONS_PIPELINE/storage/zwbCD3CUFIs/frames/frame_1440.jpg\n",
      "silky coating around the no one likes a rubbery fraud so we just put about a tablespoon of oil in the wok now you want this quite hot don't you do them you do you have to basically see those prawns immediately so in it goes so we're just going to stir fry these for about two to three minutes until they're \n"
     ]
    },
    {
     "name": "stderr",
     "output_type": "stream",
     "text": [
      "\r",
      "25it [01:04,  2.37s/it]"
     ]
    },
    {
     "name": "stdout",
     "output_type": "stream",
     "text": [
      "(512,)\n",
      "/home/hice1/bpopper3/scratch/LLaVA_RAG/RAG_Pipeline/HANDMADE_QUESTIONS_PIPELINE/storage/zwbCD3CUFIs/frames/frame_1500.jpg\n",
      "rubbery fraud so we just put about a tablespoon of oil in the wok now you want this quite hot don't you do them you do you have to basically see those prawns immediately so in it goes so we're just going to stir fry these for about two to three minutes until they're flesh of the prawns is pink and firm so \n"
     ]
    },
    {
     "name": "stderr",
     "output_type": "stream",
     "text": [
      "\r",
      "26it [01:06,  2.37s/it]"
     ]
    },
    {
     "name": "stdout",
     "output_type": "stream",
     "text": [
      "(512,)\n",
      "/home/hice1/bpopper3/scratch/LLaVA_RAG/RAG_Pipeline/HANDMADE_QUESTIONS_PIPELINE/storage/zwbCD3CUFIs/frames/frame_1560.jpg\n",
      "rubbery fraud so we just put about a tablespoon of oil in the wok now you want this quite hot don't you do them you do you have to basically see those prawns immediately so in it goes so we're just going to stir fry these for about two to three minutes until they're flesh of the prawns is pink and firm so \n"
     ]
    },
    {
     "name": "stderr",
     "output_type": "stream",
     "text": [
      "\r",
      "27it [01:08,  2.37s/it]"
     ]
    },
    {
     "name": "stdout",
     "output_type": "stream",
     "text": [
      "(512,)\n",
      "/home/hice1/bpopper3/scratch/LLaVA_RAG/RAG_Pipeline/HANDMADE_QUESTIONS_PIPELINE/storage/zwbCD3CUFIs/frames/frame_1620.jpg\n",
      "want this quite hot don't you do them you do you have to basically see those prawns immediately so in it goes so we're just going to stir fry these for about two to three minutes until they're flesh of the prawns is pink and firm so as you can see the paws are now a lovely \n"
     ]
    },
    {
     "name": "stderr",
     "output_type": "stream",
     "text": [
      "\r",
      "28it [01:11,  2.36s/it]"
     ]
    },
    {
     "name": "stdout",
     "output_type": "stream",
     "text": [
      "(512,)\n",
      "/home/hice1/bpopper3/scratch/LLaVA_RAG/RAG_Pipeline/HANDMADE_QUESTIONS_PIPELINE/storage/zwbCD3CUFIs/frames/frame_1680.jpg\n",
      "you do you have to basically see those prawns immediately so in it goes so we're just going to stir fry these for about two to three minutes until they're flesh of the prawns is pink and firm so as you can see the paws are now a lovely opaque kind of peach color and I've got \n"
     ]
    },
    {
     "name": "stderr",
     "output_type": "stream",
     "text": [
      "\r",
      "29it [01:13,  2.35s/it]"
     ]
    },
    {
     "name": "stdout",
     "output_type": "stream",
     "text": [
      "(512,)\n",
      "/home/hice1/bpopper3/scratch/LLaVA_RAG/RAG_Pipeline/HANDMADE_QUESTIONS_PIPELINE/storage/zwbCD3CUFIs/frames/frame_1740.jpg\n",
      "prawns immediately so in it goes so we're just going to stir fry these for about two to three minutes until they're flesh of the prawns is pink and firm so as you can see the paws are now a lovely opaque kind of peach color and I've got a lovely little crust on them as well so \n"
     ]
    },
    {
     "name": "stderr",
     "output_type": "stream",
     "text": [
      "\r",
      "30it [01:15,  2.34s/it]"
     ]
    },
    {
     "name": "stdout",
     "output_type": "stream",
     "text": [
      "(512,)\n",
      "/home/hice1/bpopper3/scratch/LLaVA_RAG/RAG_Pipeline/HANDMADE_QUESTIONS_PIPELINE/storage/zwbCD3CUFIs/frames/frame_1800.jpg\n",
      "we're just going to stir fry these for about two to three minutes until they're flesh of the prawns is pink and firm so as you can see the paws are now a lovely opaque kind of peach color and I've got a lovely little crust on them as well so they're ready to come out lovely person \n"
     ]
    },
    {
     "name": "stderr",
     "output_type": "stream",
     "text": [
      "\r",
      "31it [01:18,  2.33s/it]"
     ]
    },
    {
     "name": "stdout",
     "output_type": "stream",
     "text": [
      "(512,)\n",
      "/home/hice1/bpopper3/scratch/LLaVA_RAG/RAG_Pipeline/HANDMADE_QUESTIONS_PIPELINE/storage/zwbCD3CUFIs/frames/frame_1860.jpg\n",
      "we're just going to stir fry these for about two to three minutes until they're flesh of the prawns is pink and firm so as you can see the paws are now a lovely opaque kind of peach color and I've got a lovely little crust on them as well so they're ready to come out lovely person \n"
     ]
    },
    {
     "name": "stderr",
     "output_type": "stream",
     "text": [
      "\r",
      "32it [01:20,  2.34s/it]"
     ]
    },
    {
     "name": "stdout",
     "output_type": "stream",
     "text": [
      "(512,)\n",
      "/home/hice1/bpopper3/scratch/LLaVA_RAG/RAG_Pipeline/HANDMADE_QUESTIONS_PIPELINE/storage/zwbCD3CUFIs/frames/frame_1920.jpg\n",
      "about two to three minutes until they're flesh of the prawns is pink and firm so as you can see the paws are now a lovely opaque kind of peach color and I've got a lovely little crust on them as well so they're ready to come out lovely person \n"
     ]
    },
    {
     "name": "stderr",
     "output_type": "stream",
     "text": [
      "\r",
      "33it [01:22,  2.33s/it]"
     ]
    },
    {
     "name": "stdout",
     "output_type": "stream",
     "text": [
      "(512,)\n",
      "/home/hice1/bpopper3/scratch/LLaVA_RAG/RAG_Pipeline/HANDMADE_QUESTIONS_PIPELINE/storage/zwbCD3CUFIs/frames/frame_1980.jpg\n",
      "as you can see the paws are now a lovely opaque kind of peach color and I've got a lovely little crust on them as well so they're ready to come out lovely person job last week obviously brilliant so for \n"
     ]
    },
    {
     "name": "stderr",
     "output_type": "stream",
     "text": [
      "\r",
      "34it [01:25,  2.30s/it]"
     ]
    },
    {
     "name": "stdout",
     "output_type": "stream",
     "text": [
      "(512,)\n",
      "/home/hice1/bpopper3/scratch/LLaVA_RAG/RAG_Pipeline/HANDMADE_QUESTIONS_PIPELINE/storage/zwbCD3CUFIs/frames/frame_2040.jpg\n",
      "as you can see the paws are now a lovely opaque kind of peach color and I've got a lovely little crust on them as well so they're ready to come out lovely person job last week obviously brilliant so for \n"
     ]
    },
    {
     "name": "stderr",
     "output_type": "stream",
     "text": [
      "\r",
      "35it [01:27,  2.29s/it]"
     ]
    },
    {
     "name": "stdout",
     "output_type": "stream",
     "text": [
      "(512,)\n",
      "/home/hice1/bpopper3/scratch/LLaVA_RAG/RAG_Pipeline/HANDMADE_QUESTIONS_PIPELINE/storage/zwbCD3CUFIs/frames/frame_2100.jpg\n",
      "opaque kind of peach color and I've got a lovely little crust on them as well so they're ready to come out lovely person job last week obviously brilliant so for the omelette I have a couple of beaten eggs with some salt and pepper and some \n"
     ]
    },
    {
     "name": "stderr",
     "output_type": "stream",
     "text": [
      "\r",
      "36it [01:29,  2.29s/it]"
     ]
    },
    {
     "name": "stdout",
     "output_type": "stream",
     "text": [
      "(512,)\n",
      "/home/hice1/bpopper3/scratch/LLaVA_RAG/RAG_Pipeline/HANDMADE_QUESTIONS_PIPELINE/storage/zwbCD3CUFIs/frames/frame_2160.jpg\n",
      "a lovely little crust on them as well so they're ready to come out lovely person job last week obviously brilliant so for the omelette I have a couple of beaten eggs with some salt and pepper and some oil and we just want to put that right \n"
     ]
    },
    {
     "name": "stderr",
     "output_type": "stream",
     "text": [
      "\r",
      "37it [01:31,  2.29s/it]"
     ]
    },
    {
     "name": "stdout",
     "output_type": "stream",
     "text": [
      "(512,)\n",
      "/home/hice1/bpopper3/scratch/LLaVA_RAG/RAG_Pipeline/HANDMADE_QUESTIONS_PIPELINE/storage/zwbCD3CUFIs/frames/frame_2220.jpg\n",
      "they're ready to come out lovely person job last week obviously brilliant so for the omelette I have a couple of beaten eggs with some salt and pepper and some oil and we just want to put that right into a hot frying pan now you could just \n"
     ]
    },
    {
     "name": "stderr",
     "output_type": "stream",
     "text": [
      "\r",
      "38it [01:34,  2.29s/it]"
     ]
    },
    {
     "name": "stdout",
     "output_type": "stream",
     "text": [
      "(512,)\n",
      "/home/hice1/bpopper3/scratch/LLaVA_RAG/RAG_Pipeline/HANDMADE_QUESTIONS_PIPELINE/storage/zwbCD3CUFIs/frames/frame_2280.jpg\n",
      "job last week obviously brilliant so for the omelette I have a couple of beaten eggs with some salt and pepper and some oil and we just want to put that right into a hot frying pan now you could just do the eggs as a scramble in the wok as \n"
     ]
    },
    {
     "name": "stderr",
     "output_type": "stream",
     "text": [
      "\r",
      "39it [01:36,  2.28s/it]"
     ]
    },
    {
     "name": "stdout",
     "output_type": "stream",
     "text": [
      "(512,)\n",
      "/home/hice1/bpopper3/scratch/LLaVA_RAG/RAG_Pipeline/HANDMADE_QUESTIONS_PIPELINE/storage/zwbCD3CUFIs/frames/frame_2340.jpg\n",
      "job last week obviously brilliant so for the omelette I have a couple of beaten eggs with some salt and pepper and some oil and we just want to put that right into a hot frying pan now you could just do the eggs as a scramble in the wok as well but I think there's something really like is quite joyful about \n"
     ]
    },
    {
     "name": "stderr",
     "output_type": "stream",
     "text": [
      "\r",
      "40it [01:38,  2.30s/it]"
     ]
    },
    {
     "name": "stdout",
     "output_type": "stream",
     "text": [
      "(512,)\n",
      "/home/hice1/bpopper3/scratch/LLaVA_RAG/RAG_Pipeline/HANDMADE_QUESTIONS_PIPELINE/storage/zwbCD3CUFIs/frames/frame_2400.jpg\n",
      "job last week obviously brilliant so for the omelette I have a couple of beaten eggs with some salt and pepper and some oil and we just want to put that right into a hot frying pan now you could just do the eggs as a scramble in the wok as well but I think there's something really like is quite joyful about picking up ribbons of eggs we're going \n"
     ]
    },
    {
     "name": "stderr",
     "output_type": "stream",
     "text": [
      "\r",
      "41it [01:41,  2.32s/it]"
     ]
    },
    {
     "name": "stdout",
     "output_type": "stream",
     "text": [
      "(512,)\n",
      "/home/hice1/bpopper3/scratch/LLaVA_RAG/RAG_Pipeline/HANDMADE_QUESTIONS_PIPELINE/storage/zwbCD3CUFIs/frames/frame_2460.jpg\n",
      "job last week obviously brilliant so for the omelette I have a couple of beaten eggs with some salt and pepper and some oil and we just want to put that right into a hot frying pan now you could just do the eggs as a scramble in the wok as well but I think there's something really like is quite joyful about picking up ribbons of eggs we're going to cut that on into ribbons so picking \n"
     ]
    },
    {
     "name": "stderr",
     "output_type": "stream",
     "text": [
      "\r",
      "42it [01:43,  2.35s/it]"
     ]
    },
    {
     "name": "stdout",
     "output_type": "stream",
     "text": [
      "(512,)\n",
      "/home/hice1/bpopper3/scratch/LLaVA_RAG/RAG_Pipeline/HANDMADE_QUESTIONS_PIPELINE/storage/zwbCD3CUFIs/frames/frame_2520.jpg\n",
      "the omelette I have a couple of beaten eggs with some salt and pepper and some oil and we just want to put that right into a hot frying pan now you could just do the eggs as a scramble in the wok as well but I think there's something really like is quite joyful about picking up ribbons of eggs we're going to cut that on into ribbons so picking them up with your chopsticks along with the with the rice noodles so the egg is \n"
     ]
    },
    {
     "name": "stderr",
     "output_type": "stream",
     "text": [
      "\r",
      "43it [01:46,  2.39s/it]"
     ]
    },
    {
     "name": "stdout",
     "output_type": "stream",
     "text": [
      "(512,)\n",
      "/home/hice1/bpopper3/scratch/LLaVA_RAG/RAG_Pipeline/HANDMADE_QUESTIONS_PIPELINE/storage/zwbCD3CUFIs/frames/frame_2580.jpg\n",
      "eggs with some salt and pepper and some oil and we just want to put that right into a hot frying pan now you could just do the eggs as a scramble in the wok as well but I think there's something really like is quite joyful about picking up ribbons of eggs we're going to cut that on into ribbons so picking them up with your chopsticks along with the with the rice noodles so the egg is just cooking now we haven't moved it at \n"
     ]
    },
    {
     "name": "stderr",
     "output_type": "stream",
     "text": [
      "\r",
      "44it [01:48,  2.41s/it]"
     ]
    },
    {
     "name": "stdout",
     "output_type": "stream",
     "text": [
      "(512,)\n",
      "/home/hice1/bpopper3/scratch/LLaVA_RAG/RAG_Pipeline/HANDMADE_QUESTIONS_PIPELINE/storage/zwbCD3CUFIs/frames/frame_2640.jpg\n",
      "into a hot frying pan now you could just do the eggs as a scramble in the wok as well but I think there's something really like is quite joyful about picking up ribbons of eggs we're going to cut that on into ribbons so picking them up with your chopsticks along with the with the rice noodles so the egg is just cooking now we haven't moved it at all and we're just going to keep it on here until it's almost although pay \n"
     ]
    },
    {
     "name": "stderr",
     "output_type": "stream",
     "text": [
      "\r",
      "45it [01:50,  2.43s/it]"
     ]
    },
    {
     "name": "stdout",
     "output_type": "stream",
     "text": [
      "(512,)\n",
      "/home/hice1/bpopper3/scratch/LLaVA_RAG/RAG_Pipeline/HANDMADE_QUESTIONS_PIPELINE/storage/zwbCD3CUFIs/frames/frame_2700.jpg\n",
      "do the eggs as a scramble in the wok as well but I think there's something really like is quite joyful about picking up ribbons of eggs we're going to cut that on into ribbons so picking them up with your chopsticks along with the with the rice noodles so the egg is just cooking now we haven't moved it at all and we're just going to keep it on here until it's almost although pay before you transfer it to the chopping \n"
     ]
    },
    {
     "name": "stderr",
     "output_type": "stream",
     "text": [
      "\r",
      "46it [01:53,  2.43s/it]"
     ]
    },
    {
     "name": "stdout",
     "output_type": "stream",
     "text": [
      "(512,)\n",
      "/home/hice1/bpopper3/scratch/LLaVA_RAG/RAG_Pipeline/HANDMADE_QUESTIONS_PIPELINE/storage/zwbCD3CUFIs/frames/frame_2760.jpg\n",
      "well but I think there's something really like is quite joyful about picking up ribbons of eggs we're going to cut that on into ribbons so picking them up with your chopsticks along with the with the rice noodles so the egg is just cooking now we haven't moved it at all and we're just going to keep it on here until it's almost although pay before you transfer it to the chopping ball cause it's going to keep on cooking from the residual heat so almost there \n"
     ]
    },
    {
     "name": "stderr",
     "output_type": "stream",
     "text": [
      "\r",
      "47it [01:55,  2.44s/it]"
     ]
    },
    {
     "name": "stdout",
     "output_type": "stream",
     "text": [
      "(512,)\n",
      "/home/hice1/bpopper3/scratch/LLaVA_RAG/RAG_Pipeline/HANDMADE_QUESTIONS_PIPELINE/storage/zwbCD3CUFIs/frames/frame_2820.jpg\n",
      "picking up ribbons of eggs we're going to cut that on into ribbons so picking them up with your chopsticks along with the with the rice noodles so the egg is just cooking now we haven't moved it at all and we're just going to keep it on here until it's almost although pay before you transfer it to the chopping ball cause it's going to keep on cooking from the residual heat so almost there so the omelet is ready to come out of \n"
     ]
    },
    {
     "name": "stderr",
     "output_type": "stream",
     "text": [
      "\r",
      "48it [01:58,  2.45s/it]"
     ]
    },
    {
     "name": "stdout",
     "output_type": "stream",
     "text": [
      "(512,)\n",
      "/home/hice1/bpopper3/scratch/LLaVA_RAG/RAG_Pipeline/HANDMADE_QUESTIONS_PIPELINE/storage/zwbCD3CUFIs/frames/frame_2880.jpg\n",
      "to cut that on into ribbons so picking them up with your chopsticks along with the with the rice noodles so the egg is just cooking now we haven't moved it at all and we're just going to keep it on here until it's almost although pay before you transfer it to the chopping ball cause it's going to keep on cooking from the residual heat so almost there so the omelet is ready to come out of the pan so just slide it straight onto \n"
     ]
    },
    {
     "name": "stderr",
     "output_type": "stream",
     "text": [
      "\r",
      "49it [02:00,  2.44s/it]"
     ]
    },
    {
     "name": "stdout",
     "output_type": "stream",
     "text": [
      "(512,)\n",
      "/home/hice1/bpopper3/scratch/LLaVA_RAG/RAG_Pipeline/HANDMADE_QUESTIONS_PIPELINE/storage/zwbCD3CUFIs/frames/frame_2940.jpg\n",
      "them up with your chopsticks along with the with the rice noodles so the egg is just cooking now we haven't moved it at all and we're just going to keep it on here until it's almost although pay before you transfer it to the chopping ball cause it's going to keep on cooking from the residual heat so almost there so the omelet is ready to come out of the pan so just slide it straight onto your chopping board \n"
     ]
    },
    {
     "name": "stderr",
     "output_type": "stream",
     "text": [
      "\r",
      "50it [02:03,  2.43s/it]"
     ]
    },
    {
     "name": "stdout",
     "output_type": "stream",
     "text": [
      "(512,)\n",
      "/home/hice1/bpopper3/scratch/LLaVA_RAG/RAG_Pipeline/HANDMADE_QUESTIONS_PIPELINE/storage/zwbCD3CUFIs/frames/frame_3000.jpg\n",
      "just cooking now we haven't moved it at all and we're just going to keep it on here until it's almost although pay before you transfer it to the chopping ball cause it's going to keep on cooking from the residual heat so almost there so the omelet is ready to come out of the pan so just slide it straight onto your chopping board and then we're gonna roll this baby up a \n"
     ]
    },
    {
     "name": "stderr",
     "output_type": "stream",
     "text": [
      "\r",
      "51it [02:05,  2.42s/it]"
     ]
    },
    {
     "name": "stdout",
     "output_type": "stream",
     "text": [
      "(512,)\n",
      "/home/hice1/bpopper3/scratch/LLaVA_RAG/RAG_Pipeline/HANDMADE_QUESTIONS_PIPELINE/storage/zwbCD3CUFIs/frames/frame_3060.jpg\n",
      "all and we're just going to keep it on here until it's almost although pay before you transfer it to the chopping ball cause it's going to keep on cooking from the residual heat so almost there so the omelet is ready to come out of the pan so just slide it straight onto your chopping board and then we're gonna roll this baby up a bit hot it is and you can see how the \n"
     ]
    },
    {
     "name": "stderr",
     "output_type": "stream",
     "text": [
      "\r",
      "52it [02:07,  2.42s/it]"
     ]
    },
    {
     "name": "stdout",
     "output_type": "stream",
     "text": [
      "(512,)\n",
      "/home/hice1/bpopper3/scratch/LLaVA_RAG/RAG_Pipeline/HANDMADE_QUESTIONS_PIPELINE/storage/zwbCD3CUFIs/frames/frame_3120.jpg\n",
      "here until it's almost although pay before you transfer it to the chopping ball cause it's going to keep on cooking from the residual heat so almost there so the omelet is ready to come out of the pan so just slide it straight onto your chopping board and then we're gonna roll this baby up a bit hot it is and you can see how the undersides lovely and golden like those \n"
     ]
    },
    {
     "name": "stderr",
     "output_type": "stream",
     "text": [
      "\r",
      "53it [02:10,  2.41s/it]"
     ]
    },
    {
     "name": "stdout",
     "output_type": "stream",
     "text": [
      "(512,)\n",
      "/home/hice1/bpopper3/scratch/LLaVA_RAG/RAG_Pipeline/HANDMADE_QUESTIONS_PIPELINE/storage/zwbCD3CUFIs/frames/frame_3180.jpg\n",
      "ball cause it's going to keep on cooking from the residual heat so almost there so the omelet is ready to come out of the pan so just slide it straight onto your chopping board and then we're gonna roll this baby up a bit hot it is and you can see how the undersides lovely and golden like those blistered bits yeah it looks like Tiger \n"
     ]
    },
    {
     "name": "stderr",
     "output_type": "stream",
     "text": [
      "\r",
      "54it [02:12,  2.39s/it]"
     ]
    },
    {
     "name": "stdout",
     "output_type": "stream",
     "text": [
      "(512,)\n",
      "/home/hice1/bpopper3/scratch/LLaVA_RAG/RAG_Pipeline/HANDMADE_QUESTIONS_PIPELINE/storage/zwbCD3CUFIs/frames/frame_3240.jpg\n",
      "from the residual heat so almost there so the omelet is ready to come out of the pan so just slide it straight onto your chopping board and then we're gonna roll this baby up a bit hot it is and you can see how the undersides lovely and golden like those blistered bits yeah it looks like Tiger KK she doesn't it does look like Tiger Kate which is one of the recipes that we \n"
     ]
    },
    {
     "name": "stderr",
     "output_type": "stream",
     "text": [
      "\r",
      "55it [02:15,  2.40s/it]"
     ]
    },
    {
     "name": "stdout",
     "output_type": "stream",
     "text": [
      "(512,)\n",
      "/home/hice1/bpopper3/scratch/LLaVA_RAG/RAG_Pipeline/HANDMADE_QUESTIONS_PIPELINE/storage/zwbCD3CUFIs/frames/frame_3300.jpg\n",
      "so the omelet is ready to come out of the pan so just slide it straight onto your chopping board and then we're gonna roll this baby up a bit hot it is and you can see how the undersides lovely and golden like those blistered bits yeah it looks like Tiger KK she doesn't it does look like Tiger Kate which is one of the recipes that we have in our upcoming cookbook so plug a \n"
     ]
    },
    {
     "name": "stderr",
     "output_type": "stream",
     "text": [
      "\r",
      "56it [02:17,  2.40s/it]"
     ]
    },
    {
     "name": "stdout",
     "output_type": "stream",
     "text": [
      "(512,)\n",
      "/home/hice1/bpopper3/scratch/LLaVA_RAG/RAG_Pipeline/HANDMADE_QUESTIONS_PIPELINE/storage/zwbCD3CUFIs/frames/frame_3360.jpg\n",
      "your chopping board and then we're gonna roll this baby up a bit hot it is and you can see how the undersides lovely and golden like those blistered bits yeah it looks like Tiger KK she doesn't it does look like Tiger Kate which is one of the recipes that we have in our upcoming cookbook so plug a \n"
     ]
    },
    {
     "name": "stderr",
     "output_type": "stream",
     "text": [
      "\r",
      "57it [02:19,  2.38s/it]"
     ]
    },
    {
     "name": "stdout",
     "output_type": "stream",
     "text": [
      "(512,)\n",
      "/home/hice1/bpopper3/scratch/LLaVA_RAG/RAG_Pipeline/HANDMADE_QUESTIONS_PIPELINE/storage/zwbCD3CUFIs/frames/frame_3420.jpg\n",
      "and then we're gonna roll this baby up a bit hot it is and you can see how the undersides lovely and golden like those blistered bits yeah it looks like Tiger KK she doesn't it does look like Tiger Kate which is one of the recipes that we have in our upcoming cookbook so plug a little pride yeah I'll let me just like flip that over like so just cut this \n"
     ]
    },
    {
     "name": "stderr",
     "output_type": "stream",
     "text": [
      "\r",
      "58it [02:22,  2.38s/it]"
     ]
    },
    {
     "name": "stdout",
     "output_type": "stream",
     "text": [
      "(512,)\n",
      "/home/hice1/bpopper3/scratch/LLaVA_RAG/RAG_Pipeline/HANDMADE_QUESTIONS_PIPELINE/storage/zwbCD3CUFIs/frames/frame_3480.jpg\n",
      "bit hot it is and you can see how the undersides lovely and golden like those blistered bits yeah it looks like Tiger KK she doesn't it does look like Tiger Kate which is one of the recipes that we have in our upcoming cookbook so plug a little pride yeah I'll let me just like flip that over like so just cut this into strips you can see that these \n"
     ]
    },
    {
     "name": "stderr",
     "output_type": "stream",
     "text": [
      "\r",
      "59it [02:24,  2.38s/it]"
     ]
    },
    {
     "name": "stdout",
     "output_type": "stream",
     "text": [
      "(512,)\n",
      "/home/hice1/bpopper3/scratch/LLaVA_RAG/RAG_Pipeline/HANDMADE_QUESTIONS_PIPELINE/storage/zwbCD3CUFIs/frames/frame_3540.jpg\n",
      "undersides lovely and golden like those blistered bits yeah it looks like Tiger KK she doesn't it does look like Tiger Kate which is one of the recipes that we have in our upcoming cookbook so plug a little pride yeah I'll let me just like flip that over like so just cut this into strips you can see that these ribbons are going to be almost like it's \n"
     ]
    },
    {
     "name": "stderr",
     "output_type": "stream",
     "text": [
      "\r",
      "60it [02:27,  2.38s/it]"
     ]
    },
    {
     "name": "stdout",
     "output_type": "stream",
     "text": [
      "(512,)\n",
      "/home/hice1/bpopper3/scratch/LLaVA_RAG/RAG_Pipeline/HANDMADE_QUESTIONS_PIPELINE/storage/zwbCD3CUFIs/frames/frame_3600.jpg\n",
      "blistered bits yeah it looks like Tiger KK she doesn't it does look like Tiger Kate which is one of the recipes that we have in our upcoming cookbook so plug a little pride yeah I'll let me just like flip that over like so just cut this into strips you can see that these ribbons are going to be almost like it's all it's like egg noodles yeah yeah \n"
     ]
    },
    {
     "name": "stderr",
     "output_type": "stream",
     "text": [
      "\r",
      "61it [02:29,  2.38s/it]"
     ]
    },
    {
     "name": "stdout",
     "output_type": "stream",
     "text": [
      "(512,)\n",
      "/home/hice1/bpopper3/scratch/LLaVA_RAG/RAG_Pipeline/HANDMADE_QUESTIONS_PIPELINE/storage/zwbCD3CUFIs/frames/frame_3660.jpg\n",
      "KK she doesn't it does look like Tiger Kate which is one of the recipes that we have in our upcoming cookbook so plug a little pride yeah I'll let me just like flip that over like so just cut this into strips you can see that these ribbons are going to be almost like it's all it's like egg noodles yeah yeah lovely all right so we'll fire up the wok get \n"
     ]
    },
    {
     "name": "stderr",
     "output_type": "stream",
     "text": [
      "\r",
      "62it [02:31,  2.38s/it]"
     ]
    },
    {
     "name": "stdout",
     "output_type": "stream",
     "text": [
      "(512,)\n",
      "/home/hice1/bpopper3/scratch/LLaVA_RAG/RAG_Pipeline/HANDMADE_QUESTIONS_PIPELINE/storage/zwbCD3CUFIs/frames/frame_3720.jpg\n",
      "Kate which is one of the recipes that we have in our upcoming cookbook so plug a little pride yeah I'll let me just like flip that over like so just cut this into strips you can see that these ribbons are going to be almost like it's all it's like egg noodles yeah yeah lovely all right so we'll fire up the wok get \n"
     ]
    },
    {
     "name": "stderr",
     "output_type": "stream",
     "text": [
      "\r",
      "63it [02:34,  2.37s/it]"
     ]
    },
    {
     "name": "stdout",
     "output_type": "stream",
     "text": [
      "(512,)\n",
      "/home/hice1/bpopper3/scratch/LLaVA_RAG/RAG_Pipeline/HANDMADE_QUESTIONS_PIPELINE/storage/zwbCD3CUFIs/frames/frame_3780.jpg\n",
      "little pride yeah I'll let me just like flip that over like so just cut this into strips you can see that these ribbons are going to be almost like it's all it's like egg noodles yeah yeah lovely all right so we'll fire up the wok get it on a kind of medium heat and then we'll pop some oil in so and with the \n"
     ]
    },
    {
     "name": "stderr",
     "output_type": "stream",
     "text": [
      "\r",
      "64it [02:36,  2.37s/it]"
     ]
    },
    {
     "name": "stdout",
     "output_type": "stream",
     "text": [
      "(512,)\n",
      "/home/hice1/bpopper3/scratch/LLaVA_RAG/RAG_Pipeline/HANDMADE_QUESTIONS_PIPELINE/storage/zwbCD3CUFIs/frames/frame_3840.jpg\n",
      "little pride yeah I'll let me just like flip that over like so just cut this into strips you can see that these ribbons are going to be almost like it's all it's like egg noodles yeah yeah lovely all right so we'll fire up the wok get it on a kind of medium heat and then we'll pop some oil in so and with the \n"
     ]
    },
    {
     "name": "stderr",
     "output_type": "stream",
     "text": [
      "\r",
      "65it [02:38,  2.36s/it]"
     ]
    },
    {
     "name": "stdout",
     "output_type": "stream",
     "text": [
      "(512,)\n",
      "/home/hice1/bpopper3/scratch/LLaVA_RAG/RAG_Pipeline/HANDMADE_QUESTIONS_PIPELINE/storage/zwbCD3CUFIs/frames/frame_3900.jpg\n",
      "flip that over like so just cut this into strips you can see that these ribbons are going to be almost like it's all it's like egg noodles yeah yeah lovely all right so we'll fire up the wok get it on a kind of medium heat and then we'll pop some oil in so and with the garlic look this sizzle a wee bit thanks Amy \n"
     ]
    },
    {
     "name": "stderr",
     "output_type": "stream",
     "text": [
      "\r",
      "66it [02:41,  2.36s/it]"
     ]
    },
    {
     "name": "stdout",
     "output_type": "stream",
     "text": [
      "(512,)\n",
      "/home/hice1/bpopper3/scratch/LLaVA_RAG/RAG_Pipeline/HANDMADE_QUESTIONS_PIPELINE/storage/zwbCD3CUFIs/frames/frame_3960.jpg\n",
      "into strips you can see that these ribbons are going to be almost like it's all it's like egg noodles yeah yeah lovely all right so we'll fire up the wok get it on a kind of medium heat and then we'll pop some oil in so and with the garlic look this sizzle a wee bit thanks Amy Oh lovely so we'll just let that kind of \n"
     ]
    },
    {
     "name": "stderr",
     "output_type": "stream",
     "text": [
      "\r",
      "67it [02:43,  2.37s/it]"
     ]
    },
    {
     "name": "stdout",
     "output_type": "stream",
     "text": [
      "(512,)\n",
      "/home/hice1/bpopper3/scratch/LLaVA_RAG/RAG_Pipeline/HANDMADE_QUESTIONS_PIPELINE/storage/zwbCD3CUFIs/frames/frame_4020.jpg\n",
      "ribbons are going to be almost like it's all it's like egg noodles yeah yeah lovely all right so we'll fire up the wok get it on a kind of medium heat and then we'll pop some oil in so and with the garlic look this sizzle a wee bit thanks Amy Oh lovely so we'll just let that kind of \n"
     ]
    },
    {
     "name": "stderr",
     "output_type": "stream",
     "text": [
      "\r",
      "68it [02:45,  2.36s/it]"
     ]
    },
    {
     "name": "stdout",
     "output_type": "stream",
     "text": [
      "(512,)\n",
      "/home/hice1/bpopper3/scratch/LLaVA_RAG/RAG_Pipeline/HANDMADE_QUESTIONS_PIPELINE/storage/zwbCD3CUFIs/frames/frame_4080.jpg\n",
      "lovely all right so we'll fire up the wok get it on a kind of medium heat and then we'll pop some oil in so and with the garlic look this sizzle a wee bit thanks Amy Oh lovely so we'll just let that kind of do its thing releasing its flavours for \n"
     ]
    },
    {
     "name": "stderr",
     "output_type": "stream",
     "text": [
      "\r",
      "69it [02:48,  2.34s/it]"
     ]
    },
    {
     "name": "stdout",
     "output_type": "stream",
     "text": [
      "(512,)\n",
      "/home/hice1/bpopper3/scratch/LLaVA_RAG/RAG_Pipeline/HANDMADE_QUESTIONS_PIPELINE/storage/zwbCD3CUFIs/frames/frame_4140.jpg\n",
      "all right so we'll fire up the wok get it on a kind of medium heat and then we'll pop some oil in so and with the garlic look this sizzle a wee bit thanks Amy Oh lovely so we'll just let that kind of do its thing releasing its flavours for a bit and we like to do the onions and \n"
     ]
    },
    {
     "name": "stderr",
     "output_type": "stream",
     "text": [
      "\r",
      "70it [02:50,  2.34s/it]"
     ]
    },
    {
     "name": "stdout",
     "output_type": "stream",
     "text": [
      "(512,)\n",
      "/home/hice1/bpopper3/scratch/LLaVA_RAG/RAG_Pipeline/HANDMADE_QUESTIONS_PIPELINE/storage/zwbCD3CUFIs/frames/frame_4200.jpg\n",
      "it on a kind of medium heat and then we'll pop some oil in so and with the garlic look this sizzle a wee bit thanks Amy Oh lovely so we'll just let that kind of do its thing releasing its flavours for a bit and we like to do the onions and \n"
     ]
    },
    {
     "name": "stderr",
     "output_type": "stream",
     "text": [
      "\r",
      "71it [02:52,  2.33s/it]"
     ]
    },
    {
     "name": "stdout",
     "output_type": "stream",
     "text": [
      "(512,)\n",
      "/home/hice1/bpopper3/scratch/LLaVA_RAG/RAG_Pipeline/HANDMADE_QUESTIONS_PIPELINE/storage/zwbCD3CUFIs/frames/frame_4260.jpg\n",
      "we'll pop some oil in so and with the garlic look this sizzle a wee bit thanks Amy Oh lovely so we'll just let that kind of do its thing releasing its flavours for a bit and we like to do the onions and the garlic first because they flavor the oil which is going to be really \n"
     ]
    },
    {
     "name": "stderr",
     "output_type": "stream",
     "text": [
      "\r",
      "72it [02:55,  2.32s/it]"
     ]
    },
    {
     "name": "stdout",
     "output_type": "stream",
     "text": [
      "(512,)\n",
      "/home/hice1/bpopper3/scratch/LLaVA_RAG/RAG_Pipeline/HANDMADE_QUESTIONS_PIPELINE/storage/zwbCD3CUFIs/frames/frame_4320.jpg\n",
      "garlic look this sizzle a wee bit thanks Amy Oh lovely so we'll just let that kind of do its thing releasing its flavours for a bit and we like to do the onions and the garlic first because they flavor the oil which is going to be really delicious for the real movies as well so \n"
     ]
    },
    {
     "name": "stderr",
     "output_type": "stream",
     "text": [
      "\r",
      "73it [02:57,  2.32s/it]"
     ]
    },
    {
     "name": "stdout",
     "output_type": "stream",
     "text": [
      "(512,)\n",
      "/home/hice1/bpopper3/scratch/LLaVA_RAG/RAG_Pipeline/HANDMADE_QUESTIONS_PIPELINE/storage/zwbCD3CUFIs/frames/frame_4380.jpg\n",
      "Oh lovely so we'll just let that kind of do its thing releasing its flavours for a bit and we like to do the onions and the garlic first because they flavor the oil which is going to be really delicious for the real movies as well so we're really now to put an our red \n"
     ]
    },
    {
     "name": "stderr",
     "output_type": "stream",
     "text": [
      "\r",
      "74it [02:59,  2.32s/it]"
     ]
    },
    {
     "name": "stdout",
     "output_type": "stream",
     "text": [
      "(512,)\n",
      "/home/hice1/bpopper3/scratch/LLaVA_RAG/RAG_Pipeline/HANDMADE_QUESTIONS_PIPELINE/storage/zwbCD3CUFIs/frames/frame_4440.jpg\n",
      "Oh lovely so we'll just let that kind of do its thing releasing its flavours for a bit and we like to do the onions and the garlic first because they flavor the oil which is going to be really delicious for the real movies as well so we're really now to put an our red pepper now this stays you don't really \n"
     ]
    },
    {
     "name": "stderr",
     "output_type": "stream",
     "text": [
      "\r",
      "75it [03:02,  2.32s/it]"
     ]
    },
    {
     "name": "stdout",
     "output_type": "stream",
     "text": [
      "(512,)\n",
      "/home/hice1/bpopper3/scratch/LLaVA_RAG/RAG_Pipeline/HANDMADE_QUESTIONS_PIPELINE/storage/zwbCD3CUFIs/frames/frame_4500.jpg\n",
      "do its thing releasing its flavours for a bit and we like to do the onions and the garlic first because they flavor the oil which is going to be really delicious for the real movies as well so we're really now to put an our red pepper now this stays you don't really need to cook up for too long we're just \n"
     ]
    },
    {
     "name": "stderr",
     "output_type": "stream",
     "text": [
      "\r",
      "76it [03:04,  2.33s/it]"
     ]
    },
    {
     "name": "stdout",
     "output_type": "stream",
     "text": [
      "(512,)\n",
      "/home/hice1/bpopper3/scratch/LLaVA_RAG/RAG_Pipeline/HANDMADE_QUESTIONS_PIPELINE/storage/zwbCD3CUFIs/frames/frame_4560.jpg\n",
      "do its thing releasing its flavours for a bit and we like to do the onions and the garlic first because they flavor the oil which is going to be really delicious for the real movies as well so we're really now to put an our red pepper now this stays you don't really need to cook up for too long we're just going to stir fry this for about a \n"
     ]
    },
    {
     "name": "stderr",
     "output_type": "stream",
     "text": [
      "\r",
      "77it [03:06,  2.34s/it]"
     ]
    },
    {
     "name": "stdout",
     "output_type": "stream",
     "text": [
      "(512,)\n",
      "/home/hice1/bpopper3/scratch/LLaVA_RAG/RAG_Pipeline/HANDMADE_QUESTIONS_PIPELINE/storage/zwbCD3CUFIs/frames/frame_4620.jpg\n",
      "a bit and we like to do the onions and the garlic first because they flavor the oil which is going to be really delicious for the real movies as well so we're really now to put an our red pepper now this stays you don't really need to cook up for too long we're just going to stir fry this for about a minute because it's all gonna go back and to the noodles later \n"
     ]
    },
    {
     "name": "stderr",
     "output_type": "stream",
     "text": [
      "\r",
      "78it [03:09,  2.36s/it]"
     ]
    },
    {
     "name": "stdout",
     "output_type": "stream",
     "text": [
      "(512,)\n",
      "/home/hice1/bpopper3/scratch/LLaVA_RAG/RAG_Pipeline/HANDMADE_QUESTIONS_PIPELINE/storage/zwbCD3CUFIs/frames/frame_4680.jpg\n",
      "the garlic first because they flavor the oil which is going to be really delicious for the real movies as well so we're really now to put an our red pepper now this stays you don't really need to cook up for too long we're just going to stir fry this for about a minute because it's all gonna go back and to the noodles later so here and about the stage when you can \n"
     ]
    },
    {
     "name": "stderr",
     "output_type": "stream",
     "text": [
      "\r",
      "79it [03:11,  2.37s/it]"
     ]
    },
    {
     "name": "stdout",
     "output_type": "stream",
     "text": [
      "(512,)\n",
      "/home/hice1/bpopper3/scratch/LLaVA_RAG/RAG_Pipeline/HANDMADE_QUESTIONS_PIPELINE/storage/zwbCD3CUFIs/frames/frame_4740.jpg\n",
      "oil which is going to be really delicious for the real movies as well so we're really now to put an our red pepper now this stays you don't really need to cook up for too long we're just going to stir fry this for about a minute because it's all gonna go back and to the noodles later so here and about the stage when you can see that the onion kind of has a little blisters on it yeah everything is pretty \n"
     ]
    },
    {
     "name": "stderr",
     "output_type": "stream",
     "text": [
      "\r",
      "80it [03:14,  2.38s/it]"
     ]
    },
    {
     "name": "stdout",
     "output_type": "stream",
     "text": [
      "(512,)\n",
      "/home/hice1/bpopper3/scratch/LLaVA_RAG/RAG_Pipeline/HANDMADE_QUESTIONS_PIPELINE/storage/zwbCD3CUFIs/frames/frame_4800.jpg\n",
      "we're really now to put an our red pepper now this stays you don't really need to cook up for too long we're just going to stir fry this for about a minute because it's all gonna go back and to the noodles later so here and about the stage when you can see that the onion kind of has a little blisters on it yeah everything is pretty much ready to come out \n"
     ]
    },
    {
     "name": "stderr",
     "output_type": "stream",
     "text": [
      "\r",
      "81it [03:16,  2.38s/it]"
     ]
    },
    {
     "name": "stdout",
     "output_type": "stream",
     "text": [
      "(512,)\n",
      "/home/hice1/bpopper3/scratch/LLaVA_RAG/RAG_Pipeline/HANDMADE_QUESTIONS_PIPELINE/storage/zwbCD3CUFIs/frames/frame_4860.jpg\n",
      "pepper now this stays you don't really need to cook up for too long we're just going to stir fry this for about a minute because it's all gonna go back and to the noodles later so here and about the stage when you can see that the onion kind of has a little blisters on it yeah everything is pretty much ready to come out sorry just pop it straight back into \n"
     ]
    },
    {
     "name": "stderr",
     "output_type": "stream",
     "text": [
      "\r",
      "82it [03:18,  2.38s/it]"
     ]
    },
    {
     "name": "stdout",
     "output_type": "stream",
     "text": [
      "(512,)\n",
      "/home/hice1/bpopper3/scratch/LLaVA_RAG/RAG_Pipeline/HANDMADE_QUESTIONS_PIPELINE/storage/zwbCD3CUFIs/frames/frame_4920.jpg\n",
      "need to cook up for too long we're just going to stir fry this for about a minute because it's all gonna go back and to the noodles later so here and about the stage when you can see that the onion kind of has a little blisters on it yeah everything is pretty much ready to come out sorry just pop it straight back into your vessel you guys so that is it for \n"
     ]
    },
    {
     "name": "stderr",
     "output_type": "stream",
     "text": [
      "\r",
      "83it [03:21,  2.37s/it]"
     ]
    },
    {
     "name": "stdout",
     "output_type": "stream",
     "text": [
      "(512,)\n",
      "/home/hice1/bpopper3/scratch/LLaVA_RAG/RAG_Pipeline/HANDMADE_QUESTIONS_PIPELINE/storage/zwbCD3CUFIs/frames/frame_4980.jpg\n",
      "need to cook up for too long we're just going to stir fry this for about a minute because it's all gonna go back and to the noodles later so here and about the stage when you can see that the onion kind of has a little blisters on it yeah everything is pretty much ready to come out sorry just pop it straight back into your vessel you guys so that is it for \n"
     ]
    },
    {
     "name": "stderr",
     "output_type": "stream",
     "text": [
      "\r",
      "84it [03:23,  2.37s/it]"
     ]
    },
    {
     "name": "stdout",
     "output_type": "stream",
     "text": [
      "(512,)\n",
      "/home/hice1/bpopper3/scratch/LLaVA_RAG/RAG_Pipeline/HANDMADE_QUESTIONS_PIPELINE/storage/zwbCD3CUFIs/frames/frame_5040.jpg\n",
      "minute because it's all gonna go back and to the noodles later so here and about the stage when you can see that the onion kind of has a little blisters on it yeah everything is pretty much ready to come out sorry just pop it straight back into your vessel you guys so that is it for the beach we're ready to get onto the \n"
     ]
    },
    {
     "name": "stderr",
     "output_type": "stream",
     "text": [
      "\r",
      "85it [03:25,  2.36s/it]"
     ]
    },
    {
     "name": "stdout",
     "output_type": "stream",
     "text": [
      "(512,)\n",
      "/home/hice1/bpopper3/scratch/LLaVA_RAG/RAG_Pipeline/HANDMADE_QUESTIONS_PIPELINE/storage/zwbCD3CUFIs/frames/frame_5100.jpg\n",
      "so here and about the stage when you can see that the onion kind of has a little blisters on it yeah everything is pretty much ready to come out sorry just pop it straight back into your vessel you guys so that is it for the beach we're ready to get onto the noodles so for this we only want the wok \n"
     ]
    },
    {
     "name": "stderr",
     "output_type": "stream",
     "text": [
      "\r",
      "86it [03:28,  2.35s/it]"
     ]
    },
    {
     "name": "stdout",
     "output_type": "stream",
     "text": [
      "(512,)\n",
      "/home/hice1/bpopper3/scratch/LLaVA_RAG/RAG_Pipeline/HANDMADE_QUESTIONS_PIPELINE/storage/zwbCD3CUFIs/frames/frame_5160.jpg\n",
      "see that the onion kind of has a little blisters on it yeah everything is pretty much ready to come out sorry just pop it straight back into your vessel you guys so that is it for the beach we're ready to get onto the noodles so for this we only want the wok on kind of like a low to medium heat and \n"
     ]
    },
    {
     "name": "stderr",
     "output_type": "stream",
     "text": [
      "\r",
      "87it [03:30,  2.35s/it]"
     ]
    },
    {
     "name": "stdout",
     "output_type": "stream",
     "text": [
      "(512,)\n",
      "/home/hice1/bpopper3/scratch/LLaVA_RAG/RAG_Pipeline/HANDMADE_QUESTIONS_PIPELINE/storage/zwbCD3CUFIs/frames/frame_5220.jpg\n",
      "blisters on it yeah everything is pretty much ready to come out sorry just pop it straight back into your vessel you guys so that is it for the beach we're ready to get onto the noodles so for this we only want the wok on kind of like a low to medium heat and and we'll pop some oil in there about a \n"
     ]
    },
    {
     "name": "stderr",
     "output_type": "stream",
     "text": [
      "\r",
      "88it [03:32,  2.35s/it]"
     ]
    },
    {
     "name": "stdout",
     "output_type": "stream",
     "text": [
      "(512,)\n",
      "/home/hice1/bpopper3/scratch/LLaVA_RAG/RAG_Pipeline/HANDMADE_QUESTIONS_PIPELINE/storage/zwbCD3CUFIs/frames/frame_5280.jpg\n",
      "much ready to come out sorry just pop it straight back into your vessel you guys so that is it for the beach we're ready to get onto the noodles so for this we only want the wok on kind of like a low to medium heat and and we'll pop some oil in there about a tablespoon and this is the part we will \n"
     ]
    },
    {
     "name": "stderr",
     "output_type": "stream",
     "text": [
      "\r",
      "89it [03:35,  2.34s/it]"
     ]
    },
    {
     "name": "stdout",
     "output_type": "stream",
     "text": [
      "(512,)\n",
      "/home/hice1/bpopper3/scratch/LLaVA_RAG/RAG_Pipeline/HANDMADE_QUESTIONS_PIPELINE/storage/zwbCD3CUFIs/frames/frame_5340.jpg\n",
      "your vessel you guys so that is it for the beach we're ready to get onto the noodles so for this we only want the wok on kind of like a low to medium heat and and we'll pop some oil in there about a tablespoon and this is the part we will just fish these noodles straight out of here so they stay moist because I though \n"
     ]
    },
    {
     "name": "stderr",
     "output_type": "stream",
     "text": [
      "\r",
      "90it [03:37,  2.35s/it]"
     ]
    },
    {
     "name": "stdout",
     "output_type": "stream",
     "text": [
      "(512,)\n",
      "/home/hice1/bpopper3/scratch/LLaVA_RAG/RAG_Pipeline/HANDMADE_QUESTIONS_PIPELINE/storage/zwbCD3CUFIs/frames/frame_5400.jpg\n",
      "the beach we're ready to get onto the noodles so for this we only want the wok on kind of like a low to medium heat and and we'll pop some oil in there about a tablespoon and this is the part we will just fish these noodles straight out of here so they stay moist because I though the rice flour which is what these are \n"
     ]
    },
    {
     "name": "stderr",
     "output_type": "stream",
     "text": [
      "\r",
      "91it [03:39,  2.35s/it]"
     ]
    },
    {
     "name": "stdout",
     "output_type": "stream",
     "text": [
      "(512,)\n",
      "/home/hice1/bpopper3/scratch/LLaVA_RAG/RAG_Pipeline/HANDMADE_QUESTIONS_PIPELINE/storage/zwbCD3CUFIs/frames/frame_5460.jpg\n",
      "the beach we're ready to get onto the noodles so for this we only want the wok on kind of like a low to medium heat and and we'll pop some oil in there about a tablespoon and this is the part we will just fish these noodles straight out of here so they stay moist because I though the rice flour which is what these are made of and alum sucks up moisture a lot \n"
     ]
    },
    {
     "name": "stderr",
     "output_type": "stream",
     "text": [
      "\r",
      "92it [03:42,  2.36s/it]"
     ]
    },
    {
     "name": "stdout",
     "output_type": "stream",
     "text": [
      "(512,)\n",
      "/home/hice1/bpopper3/scratch/LLaVA_RAG/RAG_Pipeline/HANDMADE_QUESTIONS_PIPELINE/storage/zwbCD3CUFIs/frames/frame_5520.jpg\n",
      "the beach we're ready to get onto the noodles so for this we only want the wok on kind of like a low to medium heat and and we'll pop some oil in there about a tablespoon and this is the part we will just fish these noodles straight out of here so they stay moist because I though the rice flour which is what these are made of and alum sucks up moisture a lot so just give it like a little shake and \n"
     ]
    },
    {
     "name": "stderr",
     "output_type": "stream",
     "text": [
      "\r",
      "93it [03:44,  2.39s/it]"
     ]
    },
    {
     "name": "stdout",
     "output_type": "stream",
     "text": [
      "(512,)\n",
      "/home/hice1/bpopper3/scratch/LLaVA_RAG/RAG_Pipeline/HANDMADE_QUESTIONS_PIPELINE/storage/zwbCD3CUFIs/frames/frame_5580.jpg\n",
      "on kind of like a low to medium heat and and we'll pop some oil in there about a tablespoon and this is the part we will just fish these noodles straight out of here so they stay moist because I though the rice flour which is what these are made of and alum sucks up moisture a lot so just give it like a little shake and then straighten and so that we are going \n"
     ]
    },
    {
     "name": "stderr",
     "output_type": "stream",
     "text": [
      "\r",
      "94it [03:47,  2.39s/it]"
     ]
    },
    {
     "name": "stdout",
     "output_type": "stream",
     "text": [
      "(512,)\n",
      "/home/hice1/bpopper3/scratch/LLaVA_RAG/RAG_Pipeline/HANDMADE_QUESTIONS_PIPELINE/storage/zwbCD3CUFIs/frames/frame_5640.jpg\n",
      "and we'll pop some oil in there about a tablespoon and this is the part we will just fish these noodles straight out of here so they stay moist because I though the rice flour which is what these are made of and alum sucks up moisture a lot so just give it like a little shake and then straighten and so that we are going \n"
     ]
    },
    {
     "name": "stderr",
     "output_type": "stream",
     "text": [
      "\r",
      "95it [03:49,  2.38s/it]"
     ]
    },
    {
     "name": "stdout",
     "output_type": "stream",
     "text": [
      "(512,)\n",
      "/home/hice1/bpopper3/scratch/LLaVA_RAG/RAG_Pipeline/HANDMADE_QUESTIONS_PIPELINE/storage/zwbCD3CUFIs/frames/frame_5700.jpg\n",
      "tablespoon and this is the part we will just fish these noodles straight out of here so they stay moist because I though the rice flour which is what these are made of and alum sucks up moisture a lot so just give it like a little shake and then straighten and so that we are going to add some curry powder which has been \n"
     ]
    },
    {
     "name": "stderr",
     "output_type": "stream",
     "text": [
      "\r",
      "96it [03:51,  2.37s/it]"
     ]
    },
    {
     "name": "stdout",
     "output_type": "stream",
     "text": [
      "(512,)\n",
      "/home/hice1/bpopper3/scratch/LLaVA_RAG/RAG_Pipeline/HANDMADE_QUESTIONS_PIPELINE/storage/zwbCD3CUFIs/frames/frame_5760.jpg\n",
      "just fish these noodles straight out of here so they stay moist because I though the rice flour which is what these are made of and alum sucks up moisture a lot so just give it like a little shake and then straighten and so that we are going to add some curry powder which has been mixed up with a wee bit of water so when \n"
     ]
    },
    {
     "name": "stderr",
     "output_type": "stream",
     "text": [
      "\r",
      "97it [03:54,  2.36s/it]"
     ]
    },
    {
     "name": "stdout",
     "output_type": "stream",
     "text": [
      "(512,)\n",
      "/home/hice1/bpopper3/scratch/LLaVA_RAG/RAG_Pipeline/HANDMADE_QUESTIONS_PIPELINE/storage/zwbCD3CUFIs/frames/frame_5820.jpg\n",
      "here so they stay moist because I though the rice flour which is what these are made of and alum sucks up moisture a lot so just give it like a little shake and then straighten and so that we are going to add some curry powder which has been mixed up with a wee bit of water so when you do the sudden pace it just makes a \n"
     ]
    },
    {
     "name": "stderr",
     "output_type": "stream",
     "text": [
      "\r",
      "98it [03:56,  2.36s/it]"
     ]
    },
    {
     "name": "stdout",
     "output_type": "stream",
     "text": [
      "(512,)\n",
      "/home/hice1/bpopper3/scratch/LLaVA_RAG/RAG_Pipeline/HANDMADE_QUESTIONS_PIPELINE/storage/zwbCD3CUFIs/frames/frame_5880.jpg\n",
      "the rice flour which is what these are made of and alum sucks up moisture a lot so just give it like a little shake and then straighten and so that we are going to add some curry powder which has been mixed up with a wee bit of water so when you do the sudden pace it just makes a bit easier to incorporate into the noodles yeah I always get clumps of \n"
     ]
    },
    {
     "name": "stderr",
     "output_type": "stream",
     "text": [
      "\r",
      "99it [03:59,  2.40s/it]"
     ]
    },
    {
     "name": "stdout",
     "output_type": "stream",
     "text": [
      "(512,)\n",
      "/home/hice1/bpopper3/scratch/LLaVA_RAG/RAG_Pipeline/HANDMADE_QUESTIONS_PIPELINE/storage/zwbCD3CUFIs/frames/frame_5940.jpg\n",
      "so just give it like a little shake and then straighten and so that we are going to add some curry powder which has been mixed up with a wee bit of water so when you do the sudden pace it just makes a bit easier to incorporate into the noodles yeah I always get clumps of curry and it's like it's not fair \n"
     ]
    },
    {
     "name": "stderr",
     "output_type": "stream",
     "text": [
      "\r",
      "100it [04:01,  2.39s/it]"
     ]
    },
    {
     "name": "stdout",
     "output_type": "stream",
     "text": [
      "(512,)\n",
      "/home/hice1/bpopper3/scratch/LLaVA_RAG/RAG_Pipeline/HANDMADE_QUESTIONS_PIPELINE/storage/zwbCD3CUFIs/frames/frame_6000.jpg\n",
      "then straighten and so that we are going to add some curry powder which has been mixed up with a wee bit of water so when you do the sudden pace it just makes a bit easier to incorporate into the noodles yeah I always get clumps of curry and it's like it's not fair someone gets more care how you feel about that I knew that okay \n"
     ]
    },
    {
     "name": "stderr",
     "output_type": "stream",
     "text": [
      "\r",
      "101it [04:03,  2.38s/it]"
     ]
    },
    {
     "name": "stdout",
     "output_type": "stream",
     "text": [
      "(512,)\n",
      "/home/hice1/bpopper3/scratch/LLaVA_RAG/RAG_Pipeline/HANDMADE_QUESTIONS_PIPELINE/storage/zwbCD3CUFIs/frames/frame_6060.jpg\n",
      "then straighten and so that we are going to add some curry powder which has been mixed up with a wee bit of water so when you do the sudden pace it just makes a bit easier to incorporate into the noodles yeah I always get clumps of curry and it's like it's not fair someone gets more care how you feel about that I knew that okay \n"
     ]
    },
    {
     "name": "stderr",
     "output_type": "stream",
     "text": [
      "\r",
      "102it [04:06,  2.37s/it]"
     ]
    },
    {
     "name": "stdout",
     "output_type": "stream",
     "text": [
      "(512,)\n",
      "/home/hice1/bpopper3/scratch/LLaVA_RAG/RAG_Pipeline/HANDMADE_QUESTIONS_PIPELINE/storage/zwbCD3CUFIs/frames/frame_6120.jpg\n",
      "to add some curry powder which has been mixed up with a wee bit of water so when you do the sudden pace it just makes a bit easier to incorporate into the noodles yeah I always get clumps of curry and it's like it's not fair someone gets more care how you feel about that I knew that okay right so did we get two spatulas and \n"
     ]
    },
    {
     "name": "stderr",
     "output_type": "stream",
     "text": [
      "\r",
      "103it [04:08,  2.36s/it]"
     ]
    },
    {
     "name": "stdout",
     "output_type": "stream",
     "text": [
      "(512,)\n",
      "/home/hice1/bpopper3/scratch/LLaVA_RAG/RAG_Pipeline/HANDMADE_QUESTIONS_PIPELINE/storage/zwbCD3CUFIs/frames/frame_6180.jpg\n",
      "to add some curry powder which has been mixed up with a wee bit of water so when you do the sudden pace it just makes a bit easier to incorporate into the noodles yeah I always get clumps of curry and it's like it's not fair someone gets more care how you feel about that I knew that okay right so did we get two spatulas and \n"
     ]
    },
    {
     "name": "stderr",
     "output_type": "stream",
     "text": [
      "\r",
      "104it [04:10,  2.36s/it]"
     ]
    },
    {
     "name": "stdout",
     "output_type": "stream",
     "text": [
      "(512,)\n",
      "/home/hice1/bpopper3/scratch/LLaVA_RAG/RAG_Pipeline/HANDMADE_QUESTIONS_PIPELINE/storage/zwbCD3CUFIs/frames/frame_6240.jpg\n",
      "mixed up with a wee bit of water so when you do the sudden pace it just makes a bit easier to incorporate into the noodles yeah I always get clumps of curry and it's like it's not fair someone gets more care how you feel about that I knew that okay right so did we get two spatulas and we'll just incorporate that courier all \n"
     ]
    },
    {
     "name": "stderr",
     "output_type": "stream",
     "text": [
      "\r",
      "105it [04:13,  2.38s/it]"
     ]
    },
    {
     "name": "stdout",
     "output_type": "stream",
     "text": [
      "(512,)\n",
      "/home/hice1/bpopper3/scratch/LLaVA_RAG/RAG_Pipeline/HANDMADE_QUESTIONS_PIPELINE/storage/zwbCD3CUFIs/frames/frame_6300.jpg\n",
      "bit easier to incorporate into the noodles yeah I always get clumps of curry and it's like it's not fair someone gets more care how you feel about that I knew that okay right so did we get two spatulas and we'll just incorporate that courier all the way it's gonna take a little bit of tossing action you can just leave the \n"
     ]
    },
    {
     "name": "stderr",
     "output_type": "stream",
     "text": [
      "\r",
      "106it [04:15,  2.36s/it]"
     ]
    },
    {
     "name": "stdout",
     "output_type": "stream",
     "text": [
      "(512,)\n",
      "/home/hice1/bpopper3/scratch/LLaVA_RAG/RAG_Pipeline/HANDMADE_QUESTIONS_PIPELINE/storage/zwbCD3CUFIs/frames/frame_6360.jpg\n",
      "noodles yeah I always get clumps of curry and it's like it's not fair someone gets more care how you feel about that I knew that okay right so did we get two spatulas and we'll just incorporate that courier all the way it's gonna take a little bit of tossing action you can just leave the water here just get your hands in the \n"
     ]
    },
    {
     "name": "stderr",
     "output_type": "stream",
     "text": [
      "\r",
      "107it [04:17,  2.36s/it]"
     ]
    },
    {
     "name": "stdout",
     "output_type": "stream",
     "text": [
      "(512,)\n",
      "/home/hice1/bpopper3/scratch/LLaVA_RAG/RAG_Pipeline/HANDMADE_QUESTIONS_PIPELINE/storage/zwbCD3CUFIs/frames/frame_6420.jpg\n",
      "someone gets more care how you feel about that I knew that okay right so did we get two spatulas and we'll just incorporate that courier all the way it's gonna take a little bit of tossing action you can just leave the water here just get your hands in the sprinkle it in the way that mom used to \n"
     ]
    },
    {
     "name": "stderr",
     "output_type": "stream",
     "text": [
      "\r",
      "108it [04:20,  2.35s/it]"
     ]
    },
    {
     "name": "stdout",
     "output_type": "stream",
     "text": [
      "(512,)\n",
      "/home/hice1/bpopper3/scratch/LLaVA_RAG/RAG_Pipeline/HANDMADE_QUESTIONS_PIPELINE/storage/zwbCD3CUFIs/frames/frame_6480.jpg\n",
      "how you feel about that I knew that okay right so did we get two spatulas and we'll just incorporate that courier all the way it's gonna take a little bit of tossing action you can just leave the water here just get your hands in the sprinkle it in the way that mom used to do it right you can bring that heat up a \n"
     ]
    },
    {
     "name": "stderr",
     "output_type": "stream",
     "text": [
      "\r",
      "109it [04:22,  2.35s/it]"
     ]
    },
    {
     "name": "stdout",
     "output_type": "stream",
     "text": [
      "(512,)\n",
      "/home/hice1/bpopper3/scratch/LLaVA_RAG/RAG_Pipeline/HANDMADE_QUESTIONS_PIPELINE/storage/zwbCD3CUFIs/frames/frame_6540.jpg\n",
      "right so did we get two spatulas and we'll just incorporate that courier all the way it's gonna take a little bit of tossing action you can just leave the water here just get your hands in the sprinkle it in the way that mom used to do it right you can bring that heat up a \n"
     ]
    },
    {
     "name": "stderr",
     "output_type": "stream",
     "text": [
      "\r",
      "110it [04:24,  2.33s/it]"
     ]
    },
    {
     "name": "stdout",
     "output_type": "stream",
     "text": [
      "(512,)\n",
      "/home/hice1/bpopper3/scratch/LLaVA_RAG/RAG_Pipeline/HANDMADE_QUESTIONS_PIPELINE/storage/zwbCD3CUFIs/frames/frame_6600.jpg\n",
      "we'll just incorporate that courier all the way it's gonna take a little bit of tossing action you can just leave the water here just get your hands in the sprinkle it in the way that mom used to do it right you can bring that heat up a little bit so we're using the heat now \n"
     ]
    },
    {
     "name": "stderr",
     "output_type": "stream",
     "text": [
      "\r",
      "111it [04:27,  2.34s/it]"
     ]
    },
    {
     "name": "stdout",
     "output_type": "stream",
     "text": [
      "(512,)\n",
      "/home/hice1/bpopper3/scratch/LLaVA_RAG/RAG_Pipeline/HANDMADE_QUESTIONS_PIPELINE/storage/zwbCD3CUFIs/frames/frame_6660.jpg\n",
      "we'll just incorporate that courier all the way it's gonna take a little bit of tossing action you can just leave the water here just get your hands in the sprinkle it in the way that mom used to do it right you can bring that heat up a little bit so we're using the heat now \n"
     ]
    },
    {
     "name": "stderr",
     "output_type": "stream",
     "text": [
      "\r",
      "112it [04:29,  2.34s/it]"
     ]
    },
    {
     "name": "stdout",
     "output_type": "stream",
     "text": [
      "(512,)\n",
      "/home/hice1/bpopper3/scratch/LLaVA_RAG/RAG_Pipeline/HANDMADE_QUESTIONS_PIPELINE/storage/zwbCD3CUFIs/frames/frame_6720.jpg\n",
      "the way it's gonna take a little bit of tossing action you can just leave the water here just get your hands in the sprinkle it in the way that mom used to do it right you can bring that heat up a little bit so we're using the heat now \n"
     ]
    },
    {
     "name": "stderr",
     "output_type": "stream",
     "text": [
      "\r",
      "113it [04:31,  2.32s/it]"
     ]
    },
    {
     "name": "stdout",
     "output_type": "stream",
     "text": [
      "(512,)\n",
      "/home/hice1/bpopper3/scratch/LLaVA_RAG/RAG_Pipeline/HANDMADE_QUESTIONS_PIPELINE/storage/zwbCD3CUFIs/frames/frame_6780.jpg\n",
      "tossing action you can just leave the water here just get your hands in the sprinkle it in the way that mom used to do it right you can bring that heat up a little bit so we're using the heat now \n"
     ]
    },
    {
     "name": "stderr",
     "output_type": "stream",
     "text": [
      "\r",
      "114it [04:34,  2.30s/it]"
     ]
    },
    {
     "name": "stdout",
     "output_type": "stream",
     "text": [
      "(512,)\n",
      "/home/hice1/bpopper3/scratch/LLaVA_RAG/RAG_Pipeline/HANDMADE_QUESTIONS_PIPELINE/storage/zwbCD3CUFIs/frames/frame_6840.jpg\n",
      "water here just get your hands in the sprinkle it in the way that mom used to do it right you can bring that heat up a little bit so we're using the heat now to really soften them and use the \n"
     ]
    },
    {
     "name": "stderr",
     "output_type": "stream",
     "text": [
      "\r",
      "115it [04:36,  2.29s/it]"
     ]
    },
    {
     "name": "stdout",
     "output_type": "stream",
     "text": [
      "(512,)\n",
      "/home/hice1/bpopper3/scratch/LLaVA_RAG/RAG_Pipeline/HANDMADE_QUESTIONS_PIPELINE/storage/zwbCD3CUFIs/frames/frame_6900.jpg\n",
      "sprinkle it in the way that mom used to do it right you can bring that heat up a little bit so we're using the heat now to really soften them and use the residual photos like moisture that was still hanging on to each noodle and kind \n"
     ]
    },
    {
     "name": "stderr",
     "output_type": "stream",
     "text": [
      "\r",
      "116it [04:38,  2.29s/it]"
     ]
    },
    {
     "name": "stdout",
     "output_type": "stream",
     "text": [
      "(512,)\n",
      "/home/hice1/bpopper3/scratch/LLaVA_RAG/RAG_Pipeline/HANDMADE_QUESTIONS_PIPELINE/storage/zwbCD3CUFIs/frames/frame_6960.jpg\n",
      "do it right you can bring that heat up a little bit so we're using the heat now to really soften them and use the residual photos like moisture that was still hanging on to each noodle and kind of cook through okay now we're going to \n"
     ]
    },
    {
     "name": "stderr",
     "output_type": "stream",
     "text": [
      "\r",
      "117it [04:40,  2.29s/it]"
     ]
    },
    {
     "name": "stdout",
     "output_type": "stream",
     "text": [
      "(512,)\n",
      "/home/hice1/bpopper3/scratch/LLaVA_RAG/RAG_Pipeline/HANDMADE_QUESTIONS_PIPELINE/storage/zwbCD3CUFIs/frames/frame_7020.jpg\n",
      "little bit so we're using the heat now to really soften them and use the residual photos like moisture that was still hanging on to each noodle and kind of cook through okay now we're going to put on some bean sprouts so I mean if \n"
     ]
    },
    {
     "name": "stderr",
     "output_type": "stream",
     "text": [
      "\r",
      "118it [04:43,  2.28s/it]"
     ]
    },
    {
     "name": "stdout",
     "output_type": "stream",
     "text": [
      "(512,)\n",
      "/home/hice1/bpopper3/scratch/LLaVA_RAG/RAG_Pipeline/HANDMADE_QUESTIONS_PIPELINE/storage/zwbCD3CUFIs/frames/frame_7080.jpg\n",
      "to really soften them and use the residual photos like moisture that was still hanging on to each noodle and kind of cook through okay now we're going to put on some bean sprouts so I mean if you want to take over the section and now see all the other foots we couldn't \n"
     ]
    },
    {
     "name": "stderr",
     "output_type": "stream",
     "text": [
      "\r",
      "119it [04:45,  2.28s/it]"
     ]
    },
    {
     "name": "stdout",
     "output_type": "stream",
     "text": [
      "(512,)\n",
      "/home/hice1/bpopper3/scratch/LLaVA_RAG/RAG_Pipeline/HANDMADE_QUESTIONS_PIPELINE/storage/zwbCD3CUFIs/frames/frame_7140.jpg\n",
      "to really soften them and use the residual photos like moisture that was still hanging on to each noodle and kind of cook through okay now we're going to put on some bean sprouts so I mean if you want to take over the section and now see all the other foots we couldn't fill it all back in and then if you \n"
     ]
    },
    {
     "name": "stderr",
     "output_type": "stream",
     "text": [
      "\r",
      "120it [04:47,  2.31s/it]"
     ]
    },
    {
     "name": "stdout",
     "output_type": "stream",
     "text": [
      "(512,)\n",
      "/home/hice1/bpopper3/scratch/LLaVA_RAG/RAG_Pipeline/HANDMADE_QUESTIONS_PIPELINE/storage/zwbCD3CUFIs/frames/frame_7200.jpg\n",
      "to really soften them and use the residual photos like moisture that was still hanging on to each noodle and kind of cook through okay now we're going to put on some bean sprouts so I mean if you want to take over the section and now see all the other foots we couldn't fill it all back in and then if you follow the noodles are trained to clump \n"
     ]
    },
    {
     "name": "stderr",
     "output_type": "stream",
     "text": [
      "\r",
      "121it [04:50,  2.33s/it]"
     ]
    },
    {
     "name": "stdout",
     "output_type": "stream",
     "text": [
      "(512,)\n",
      "/home/hice1/bpopper3/scratch/LLaVA_RAG/RAG_Pipeline/HANDMADE_QUESTIONS_PIPELINE/storage/zwbCD3CUFIs/frames/frame_7260.jpg\n",
      "to really soften them and use the residual photos like moisture that was still hanging on to each noodle and kind of cook through okay now we're going to put on some bean sprouts so I mean if you want to take over the section and now see all the other foots we couldn't fill it all back in and then if you follow the noodles are trained to clump together away but just a wee bit more water \n"
     ]
    },
    {
     "name": "stderr",
     "output_type": "stream",
     "text": [
      "\r",
      "122it [04:52,  2.35s/it]"
     ]
    },
    {
     "name": "stdout",
     "output_type": "stream",
     "text": [
      "(512,)\n",
      "/home/hice1/bpopper3/scratch/LLaVA_RAG/RAG_Pipeline/HANDMADE_QUESTIONS_PIPELINE/storage/zwbCD3CUFIs/frames/frame_7320.jpg\n",
      "residual photos like moisture that was still hanging on to each noodle and kind of cook through okay now we're going to put on some bean sprouts so I mean if you want to take over the section and now see all the other foots we couldn't fill it all back in and then if you follow the noodles are trained to clump together away but just a wee bit more water let's just gently doesn't really because \n"
     ]
    },
    {
     "name": "stderr",
     "output_type": "stream",
     "text": [
      "\r",
      "123it [04:55,  2.38s/it]"
     ]
    },
    {
     "name": "stdout",
     "output_type": "stream",
     "text": [
      "(512,)\n",
      "/home/hice1/bpopper3/scratch/LLaVA_RAG/RAG_Pipeline/HANDMADE_QUESTIONS_PIPELINE/storage/zwbCD3CUFIs/frames/frame_7380.jpg\n",
      "still hanging on to each noodle and kind of cook through okay now we're going to put on some bean sprouts so I mean if you want to take over the section and now see all the other foots we couldn't fill it all back in and then if you follow the noodles are trained to clump together away but just a wee bit more water let's just gently doesn't really because if you put it all in one so you've worn \n"
     ]
    },
    {
     "name": "stderr",
     "output_type": "stream",
     "text": [
      "\r",
      "124it [04:57,  2.39s/it]"
     ]
    },
    {
     "name": "stdout",
     "output_type": "stream",
     "text": [
      "(512,)\n",
      "/home/hice1/bpopper3/scratch/LLaVA_RAG/RAG_Pipeline/HANDMADE_QUESTIONS_PIPELINE/storage/zwbCD3CUFIs/frames/frame_7440.jpg\n",
      "of cook through okay now we're going to put on some bean sprouts so I mean if you want to take over the section and now see all the other foots we couldn't fill it all back in and then if you follow the noodles are trained to clump together away but just a wee bit more water let's just gently doesn't really because if you put it all in one so you've worn it with Drew cilia we're gonna go back \n"
     ]
    },
    {
     "name": "stderr",
     "output_type": "stream",
     "text": [
      "\r",
      "125it [04:59,  2.41s/it]"
     ]
    },
    {
     "name": "stdout",
     "output_type": "stream",
     "text": [
      "(512,)\n",
      "/home/hice1/bpopper3/scratch/LLaVA_RAG/RAG_Pipeline/HANDMADE_QUESTIONS_PIPELINE/storage/zwbCD3CUFIs/frames/frame_7500.jpg\n",
      "you want to take over the section and now see all the other foots we couldn't fill it all back in and then if you follow the noodles are trained to clump together away but just a wee bit more water let's just gently doesn't really because if you put it all in one so you've worn it with Drew cilia we're gonna go back in with the broad and then your \n"
     ]
    },
    {
     "name": "stderr",
     "output_type": "stream",
     "text": [
      "\r",
      "126it [05:02,  2.41s/it]"
     ]
    },
    {
     "name": "stdout",
     "output_type": "stream",
     "text": [
      "(512,)\n",
      "/home/hice1/bpopper3/scratch/LLaVA_RAG/RAG_Pipeline/HANDMADE_QUESTIONS_PIPELINE/storage/zwbCD3CUFIs/frames/frame_7560.jpg\n",
      "now see all the other foots we couldn't fill it all back in and then if you follow the noodles are trained to clump together away but just a wee bit more water let's just gently doesn't really because if you put it all in one so you've worn it with Drew cilia we're gonna go back in with the broad and then your \n"
     ]
    },
    {
     "name": "stderr",
     "output_type": "stream",
     "text": [
      "\r",
      "127it [05:04,  2.39s/it]"
     ]
    },
    {
     "name": "stdout",
     "output_type": "stream",
     "text": [
      "(512,)\n",
      "/home/hice1/bpopper3/scratch/LLaVA_RAG/RAG_Pipeline/HANDMADE_QUESTIONS_PIPELINE/storage/zwbCD3CUFIs/frames/frame_7620.jpg\n",
      "follow the noodles are trained to clump together away but just a wee bit more water let's just gently doesn't really because if you put it all in one so you've worn it with Drew cilia we're gonna go back in with the broad and then your gonna eat ribbons about a tablespoon of \n"
     ]
    },
    {
     "name": "stderr",
     "output_type": "stream",
     "text": [
      "\r",
      "128it [05:06,  2.36s/it]"
     ]
    },
    {
     "name": "stdout",
     "output_type": "stream",
     "text": [
      "(512,)\n",
      "/home/hice1/bpopper3/scratch/LLaVA_RAG/RAG_Pipeline/HANDMADE_QUESTIONS_PIPELINE/storage/zwbCD3CUFIs/frames/frame_7680.jpg\n",
      "together away but just a wee bit more water let's just gently doesn't really because if you put it all in one so you've worn it with Drew cilia we're gonna go back in with the broad and then your gonna eat ribbons about a tablespoon of \n"
     ]
    },
    {
     "name": "stderr",
     "output_type": "stream",
     "text": [
      "\r",
      "129it [05:09,  2.34s/it]"
     ]
    },
    {
     "name": "stdout",
     "output_type": "stream",
     "text": [
      "(512,)\n",
      "/home/hice1/bpopper3/scratch/LLaVA_RAG/RAG_Pipeline/HANDMADE_QUESTIONS_PIPELINE/storage/zwbCD3CUFIs/frames/frame_7740.jpg\n",
      "water let's just gently doesn't really because if you put it all in one so you've worn it with Drew cilia we're gonna go back in with the broad and then your gonna eat ribbons about a tablespoon of soy sauce for seasoning so you just need \n"
     ]
    },
    {
     "name": "stderr",
     "output_type": "stream",
     "text": [
      "\r",
      "130it [05:11,  2.33s/it]"
     ]
    },
    {
     "name": "stdout",
     "output_type": "stream",
     "text": [
      "(512,)\n",
      "/home/hice1/bpopper3/scratch/LLaVA_RAG/RAG_Pipeline/HANDMADE_QUESTIONS_PIPELINE/storage/zwbCD3CUFIs/frames/frame_7800.jpg\n",
      "let's just gently doesn't really because if you put it all in one so you've worn it with Drew cilia we're gonna go back in with the broad and then your gonna eat ribbons about a tablespoon of soy sauce for seasoning so you just need to finish up some spring onions that's \n"
     ]
    },
    {
     "name": "stderr",
     "output_type": "stream",
     "text": [
      "\r",
      "131it [05:13,  2.32s/it]"
     ]
    },
    {
     "name": "stdout",
     "output_type": "stream",
     "text": [
      "(512,)\n",
      "/home/hice1/bpopper3/scratch/LLaVA_RAG/RAG_Pipeline/HANDMADE_QUESTIONS_PIPELINE/storage/zwbCD3CUFIs/frames/frame_7860.jpg\n",
      "if you put it all in one so you've worn it with Drew cilia we're gonna go back in with the broad and then your gonna eat ribbons about a tablespoon of soy sauce for seasoning so you just need to finish up some spring onions that's right for a bit of freshness and vitality oh and a wee bit of salt so \n"
     ]
    },
    {
     "name": "stderr",
     "output_type": "stream",
     "text": [
      "\r",
      "132it [05:16,  2.33s/it]"
     ]
    },
    {
     "name": "stdout",
     "output_type": "stream",
     "text": [
      "(512,)\n",
      "/home/hice1/bpopper3/scratch/LLaVA_RAG/RAG_Pipeline/HANDMADE_QUESTIONS_PIPELINE/storage/zwbCD3CUFIs/frames/frame_7920.jpg\n",
      "it with Drew cilia we're gonna go back in with the broad and then your gonna eat ribbons about a tablespoon of soy sauce for seasoning so you just need to finish up some spring onions that's right for a bit of freshness and vitality oh and a wee bit of salt so \n"
     ]
    },
    {
     "name": "stderr",
     "output_type": "stream",
     "text": [
      "\r",
      "133it [05:18,  2.32s/it]"
     ]
    },
    {
     "name": "stdout",
     "output_type": "stream",
     "text": [
      "(512,)\n",
      "/home/hice1/bpopper3/scratch/LLaVA_RAG/RAG_Pipeline/HANDMADE_QUESTIONS_PIPELINE/storage/zwbCD3CUFIs/frames/frame_7980.jpg\n",
      "in with the broad and then your gonna eat ribbons about a tablespoon of soy sauce for seasoning so you just need to finish up some spring onions that's right for a bit of freshness and vitality oh and a wee bit of salt so \n"
     ]
    },
    {
     "name": "stderr",
     "output_type": "stream",
     "text": [
      "\r",
      "134it [05:20,  2.31s/it]"
     ]
    },
    {
     "name": "stdout",
     "output_type": "stream",
     "text": [
      "(512,)\n",
      "/home/hice1/bpopper3/scratch/LLaVA_RAG/RAG_Pipeline/HANDMADE_QUESTIONS_PIPELINE/storage/zwbCD3CUFIs/frames/frame_8040.jpg\n",
      "gonna eat ribbons about a tablespoon of soy sauce for seasoning so you just need to finish up some spring onions that's right for a bit of freshness and vitality oh and a wee bit of salt so popping a wee bit of salt there and \n"
     ]
    },
    {
     "name": "stderr",
     "output_type": "stream",
     "text": [
      "\r",
      "135it [05:23,  2.30s/it]"
     ]
    },
    {
     "name": "stdout",
     "output_type": "stream",
     "text": [
      "(512,)\n",
      "/home/hice1/bpopper3/scratch/LLaVA_RAG/RAG_Pipeline/HANDMADE_QUESTIONS_PIPELINE/storage/zwbCD3CUFIs/frames/frame_8100.jpg\n",
      "soy sauce for seasoning so you just need to finish up some spring onions that's right for a bit of freshness and vitality oh and a wee bit of salt so popping a wee bit of salt there and \n"
     ]
    },
    {
     "name": "stderr",
     "output_type": "stream",
     "text": [
      "\r",
      "136it [05:25,  2.28s/it]"
     ]
    },
    {
     "name": "stdout",
     "output_type": "stream",
     "text": [
      "(512,)\n",
      "/home/hice1/bpopper3/scratch/LLaVA_RAG/RAG_Pipeline/HANDMADE_QUESTIONS_PIPELINE/storage/zwbCD3CUFIs/frames/frame_8160.jpg\n",
      "soy sauce for seasoning so you just need to finish up some spring onions that's right for a bit of freshness and vitality oh and a wee bit of salt so popping a wee bit of salt there and spring onions \n"
     ]
    },
    {
     "name": "stderr",
     "output_type": "stream",
     "text": [
      "\r",
      "137it [05:27,  2.28s/it]"
     ]
    },
    {
     "name": "stdout",
     "output_type": "stream",
     "text": [
      "(512,)\n",
      "/home/hice1/bpopper3/scratch/LLaVA_RAG/RAG_Pipeline/HANDMADE_QUESTIONS_PIPELINE/storage/zwbCD3CUFIs/frames/frame_8220.jpg\n",
      "to finish up some spring onions that's right for a bit of freshness and vitality oh and a wee bit of salt so popping a wee bit of salt there and spring onions okay final toss and then we're ready to \n"
     ]
    },
    {
     "name": "stderr",
     "output_type": "stream",
     "text": [
      "\r",
      "138it [05:29,  2.28s/it]"
     ]
    },
    {
     "name": "stdout",
     "output_type": "stream",
     "text": [
      "(512,)\n",
      "/home/hice1/bpopper3/scratch/LLaVA_RAG/RAG_Pipeline/HANDMADE_QUESTIONS_PIPELINE/storage/zwbCD3CUFIs/frames/frame_8280.jpg\n",
      "to finish up some spring onions that's right for a bit of freshness and vitality oh and a wee bit of salt so popping a wee bit of salt there and spring onions okay final toss and then we're ready to plate up so how good is this looking \n"
     ]
    },
    {
     "name": "stderr",
     "output_type": "stream",
     "text": [
      "\r",
      "139it [05:32,  2.29s/it]"
     ]
    },
    {
     "name": "stdout",
     "output_type": "stream",
     "text": [
      "(512,)\n",
      "/home/hice1/bpopper3/scratch/LLaVA_RAG/RAG_Pipeline/HANDMADE_QUESTIONS_PIPELINE/storage/zwbCD3CUFIs/frames/frame_8340.jpg\n",
      "vitality oh and a wee bit of salt so popping a wee bit of salt there and spring onions okay final toss and then we're ready to plate up so how good is this looking \n"
     ]
    },
    {
     "name": "stderr",
     "output_type": "stream",
     "text": [
      "\r",
      "140it [05:34,  2.27s/it]"
     ]
    },
    {
     "name": "stdout",
     "output_type": "stream",
     "text": [
      "(512,)\n",
      "/home/hice1/bpopper3/scratch/LLaVA_RAG/RAG_Pipeline/HANDMADE_QUESTIONS_PIPELINE/storage/zwbCD3CUFIs/frames/frame_8400.jpg\n",
      "popping a wee bit of salt there and spring onions okay final toss and then we're ready to plate up so how good is this looking bright yellow I can smell that curry I \n"
     ]
    },
    {
     "name": "stderr",
     "output_type": "stream",
     "text": [
      "\r",
      "141it [05:36,  2.25s/it]"
     ]
    },
    {
     "name": "stdout",
     "output_type": "stream",
     "text": [
      "(512,)\n",
      "/home/hice1/bpopper3/scratch/LLaVA_RAG/RAG_Pipeline/HANDMADE_QUESTIONS_PIPELINE/storage/zwbCD3CUFIs/frames/frame_8460.jpg\n",
      "popping a wee bit of salt there and spring onions okay final toss and then we're ready to plate up so how good is this looking bright yellow I can smell that curry I can't wait to eat this I'm gonna play \n"
     ]
    },
    {
     "name": "stderr",
     "output_type": "stream",
     "text": [
      "\r",
      "142it [05:38,  2.25s/it]"
     ]
    },
    {
     "name": "stdout",
     "output_type": "stream",
     "text": [
      "(512,)\n",
      "/home/hice1/bpopper3/scratch/LLaVA_RAG/RAG_Pipeline/HANDMADE_QUESTIONS_PIPELINE/storage/zwbCD3CUFIs/frames/frame_8520.jpg\n",
      "spring onions okay final toss and then we're ready to plate up so how good is this looking bright yellow I can smell that curry I can't wait to eat this I'm gonna play guys if you do try this recipe you would love to see your photos just get in \n"
     ]
    },
    {
     "name": "stderr",
     "output_type": "stream",
     "text": [
      "\r",
      "143it [05:41,  2.27s/it]"
     ]
    },
    {
     "name": "stdout",
     "output_type": "stream",
     "text": [
      "(512,)\n",
      "/home/hice1/bpopper3/scratch/LLaVA_RAG/RAG_Pipeline/HANDMADE_QUESTIONS_PIPELINE/storage/zwbCD3CUFIs/frames/frame_8580.jpg\n",
      "spring onions okay final toss and then we're ready to plate up so how good is this looking bright yellow I can smell that curry I can't wait to eat this I'm gonna play guys if you do try this recipe you would love to see your photos just get in touch with us on Twitter or Instagram \n"
     ]
    },
    {
     "name": "stderr",
     "output_type": "stream",
     "text": [
      "\r",
      "144it [05:43,  2.29s/it]"
     ]
    },
    {
     "name": "stdout",
     "output_type": "stream",
     "text": [
      "(512,)\n",
      "/home/hice1/bpopper3/scratch/LLaVA_RAG/RAG_Pipeline/HANDMADE_QUESTIONS_PIPELINE/storage/zwbCD3CUFIs/frames/frame_8640.jpg\n",
      "okay final toss and then we're ready to plate up so how good is this looking bright yellow I can smell that curry I can't wait to eat this I'm gonna play guys if you do try this recipe you would love to see your photos just get in touch with us on Twitter or Instagram using each dumpling sisters or it's goth \n"
     ]
    },
    {
     "name": "stderr",
     "output_type": "stream",
     "text": [
      "\r",
      "145it [05:45,  2.34s/it]"
     ]
    },
    {
     "name": "stdout",
     "output_type": "stream",
     "text": [
      "(512,)\n",
      "/home/hice1/bpopper3/scratch/LLaVA_RAG/RAG_Pipeline/HANDMADE_QUESTIONS_PIPELINE/storage/zwbCD3CUFIs/frames/frame_8700.jpg\n",
      "plate up so how good is this looking bright yellow I can smell that curry I can't wait to eat this I'm gonna play guys if you do try this recipe you would love to see your photos just get in touch with us on Twitter or Instagram using each dumpling sisters or it's goth food we'd love to see your photos so for \n"
     ]
    },
    {
     "name": "stderr",
     "output_type": "stream",
     "text": [
      "\r",
      "146it [05:48,  2.34s/it]"
     ]
    },
    {
     "name": "stdout",
     "output_type": "stream",
     "text": [
      "(512,)\n",
      "/home/hice1/bpopper3/scratch/LLaVA_RAG/RAG_Pipeline/HANDMADE_QUESTIONS_PIPELINE/storage/zwbCD3CUFIs/frames/frame_8760.jpg\n",
      "plate up so how good is this looking bright yellow I can smell that curry I can't wait to eat this I'm gonna play guys if you do try this recipe you would love to see your photos just get in touch with us on Twitter or Instagram using each dumpling sisters or it's goth food we'd love to see your photos so for \n"
     ]
    },
    {
     "name": "stderr",
     "output_type": "stream",
     "text": [
      "\r",
      "147it [05:50,  2.35s/it]"
     ]
    },
    {
     "name": "stdout",
     "output_type": "stream",
     "text": [
      "(512,)\n",
      "/home/hice1/bpopper3/scratch/LLaVA_RAG/RAG_Pipeline/HANDMADE_QUESTIONS_PIPELINE/storage/zwbCD3CUFIs/frames/frame_8820.jpg\n",
      "bright yellow I can smell that curry I can't wait to eat this I'm gonna play guys if you do try this recipe you would love to see your photos just get in touch with us on Twitter or Instagram using each dumpling sisters or it's goth food we'd love to see your photos so for more cool recipes just like this one make sure you subscribe you can \n"
     ]
    },
    {
     "name": "stderr",
     "output_type": "stream",
     "text": [
      "\r",
      "148it [05:53,  2.36s/it]"
     ]
    },
    {
     "name": "stdout",
     "output_type": "stream",
     "text": [
      "(512,)\n",
      "/home/hice1/bpopper3/scratch/LLaVA_RAG/RAG_Pipeline/HANDMADE_QUESTIONS_PIPELINE/storage/zwbCD3CUFIs/frames/frame_8880.jpg\n",
      "can't wait to eat this I'm gonna play guys if you do try this recipe you would love to see your photos just get in touch with us on Twitter or Instagram using each dumpling sisters or it's goth food we'd love to see your photos so for more cool recipes just like this one make sure you subscribe you can subscribe to scoff or to doublethink \n"
     ]
    },
    {
     "name": "stderr",
     "output_type": "stream",
     "text": [
      "\r",
      "149it [05:55,  2.36s/it]"
     ]
    },
    {
     "name": "stdout",
     "output_type": "stream",
     "text": [
      "(512,)\n",
      "/home/hice1/bpopper3/scratch/LLaVA_RAG/RAG_Pipeline/HANDMADE_QUESTIONS_PIPELINE/storage/zwbCD3CUFIs/frames/frame_8940.jpg\n",
      "guys if you do try this recipe you would love to see your photos just get in touch with us on Twitter or Instagram using each dumpling sisters or it's goth food we'd love to see your photos so for more cool recipes just like this one make sure you subscribe you can subscribe to scoff or to doublethink sisters get a bit of egg ribbon in there \n"
     ]
    },
    {
     "name": "stderr",
     "output_type": "stream",
     "text": [
      "\r",
      "150it [05:57,  2.37s/it]"
     ]
    },
    {
     "name": "stdout",
     "output_type": "stream",
     "text": [
      "(512,)\n",
      "/home/hice1/bpopper3/scratch/LLaVA_RAG/RAG_Pipeline/HANDMADE_QUESTIONS_PIPELINE/storage/zwbCD3CUFIs/frames/frame_9000.jpg\n",
      "love to see your photos just get in touch with us on Twitter or Instagram using each dumpling sisters or it's goth food we'd love to see your photos so for more cool recipes just like this one make sure you subscribe you can subscribe to scoff or to doublethink sisters get a bit of egg ribbon in there \n"
     ]
    },
    {
     "name": "stderr",
     "output_type": "stream",
     "text": [
      "\r",
      "151it [06:00,  2.35s/it]"
     ]
    },
    {
     "name": "stdout",
     "output_type": "stream",
     "text": [
      "(512,)\n",
      "/home/hice1/bpopper3/scratch/LLaVA_RAG/RAG_Pipeline/HANDMADE_QUESTIONS_PIPELINE/storage/zwbCD3CUFIs/frames/frame_9060.jpg\n",
      "touch with us on Twitter or Instagram using each dumpling sisters or it's goth food we'd love to see your photos so for more cool recipes just like this one make sure you subscribe you can subscribe to scoff or to doublethink sisters get a bit of egg ribbon in there \n"
     ]
    },
    {
     "name": "stderr",
     "output_type": "stream",
     "text": [
      "\r",
      "152it [06:02,  2.34s/it]"
     ]
    },
    {
     "name": "stdout",
     "output_type": "stream",
     "text": [
      "(512,)\n",
      "/home/hice1/bpopper3/scratch/LLaVA_RAG/RAG_Pipeline/HANDMADE_QUESTIONS_PIPELINE/storage/zwbCD3CUFIs/frames/frame_9120.jpg\n",
      "food we'd love to see your photos so for more cool recipes just like this one make sure you subscribe you can subscribe to scoff or to doublethink sisters get a bit of egg ribbon in there mmm mmm delightful so that's it guys \n"
     ]
    },
    {
     "name": "stderr",
     "output_type": "stream",
     "text": [
      "\r",
      "153it [06:04,  2.33s/it]"
     ]
    },
    {
     "name": "stdout",
     "output_type": "stream",
     "text": [
      "(512,)\n",
      "/home/hice1/bpopper3/scratch/LLaVA_RAG/RAG_Pipeline/HANDMADE_QUESTIONS_PIPELINE/storage/zwbCD3CUFIs/frames/frame_9180.jpg\n",
      "more cool recipes just like this one make sure you subscribe you can subscribe to scoff or to doublethink sisters get a bit of egg ribbon in there mmm mmm delightful so that's it guys \n"
     ]
    },
    {
     "name": "stderr",
     "output_type": "stream",
     "text": [
      "\r",
      "154it [06:06,  2.30s/it]"
     ]
    },
    {
     "name": "stdout",
     "output_type": "stream",
     "text": [
      "(512,)\n",
      "/home/hice1/bpopper3/scratch/LLaVA_RAG/RAG_Pipeline/HANDMADE_QUESTIONS_PIPELINE/storage/zwbCD3CUFIs/frames/frame_9240.jpg\n",
      "more cool recipes just like this one make sure you subscribe you can subscribe to scoff or to doublethink sisters get a bit of egg ribbon in there mmm mmm delightful so that's it guys this is the dumpling sisters Singapore \n"
     ]
    },
    {
     "name": "stderr",
     "output_type": "stream",
     "text": [
      "\r",
      "155it [06:09,  2.29s/it]"
     ]
    },
    {
     "name": "stdout",
     "output_type": "stream",
     "text": [
      "(512,)\n",
      "/home/hice1/bpopper3/scratch/LLaVA_RAG/RAG_Pipeline/HANDMADE_QUESTIONS_PIPELINE/storage/zwbCD3CUFIs/frames/frame_9300.jpg\n",
      "make sure you subscribe you can subscribe to scoff or to doublethink sisters get a bit of egg ribbon in there mmm mmm delightful so that's it guys this is the dumpling sisters Singapore fried rice noodles with curry yeah I \n"
     ]
    },
    {
     "name": "stderr",
     "output_type": "stream",
     "text": [
      "\r",
      "156it [06:11,  2.28s/it]"
     ]
    },
    {
     "name": "stdout",
     "output_type": "stream",
     "text": [
      "(512,)\n",
      "/home/hice1/bpopper3/scratch/LLaVA_RAG/RAG_Pipeline/HANDMADE_QUESTIONS_PIPELINE/storage/zwbCD3CUFIs/frames/frame_9360.jpg\n",
      "sisters get a bit of egg ribbon in there mmm mmm delightful so that's it guys this is the dumpling sisters Singapore fried rice noodles with curry yeah I know it was bit long wasn't it so thank \n"
     ]
    },
    {
     "name": "stderr",
     "output_type": "stream",
     "text": [
      "\r",
      "157it [06:13,  2.28s/it]"
     ]
    },
    {
     "name": "stdout",
     "output_type": "stream",
     "text": [
      "(512,)\n",
      "/home/hice1/bpopper3/scratch/LLaVA_RAG/RAG_Pipeline/HANDMADE_QUESTIONS_PIPELINE/storage/zwbCD3CUFIs/frames/frame_9420.jpg\n",
      "mmm mmm delightful so that's it guys this is the dumpling sisters Singapore fried rice noodles with curry yeah I know it was bit long wasn't it so thank you so much for watching \n"
     ]
    },
    {
     "name": "stderr",
     "output_type": "stream",
     "text": [
      "\r",
      "158it [06:16,  2.26s/it]"
     ]
    },
    {
     "name": "stdout",
     "output_type": "stream",
     "text": [
      "(512,)\n",
      "/home/hice1/bpopper3/scratch/LLaVA_RAG/RAG_Pipeline/HANDMADE_QUESTIONS_PIPELINE/storage/zwbCD3CUFIs/frames/frame_9480.jpg\n",
      "mmm mmm delightful so that's it guys this is the dumpling sisters Singapore fried rice noodles with curry yeah I know it was bit long wasn't it so thank you so much for watching keep your eye out for other cool videos just like this on our asian bite series \n"
     ]
    },
    {
     "name": "stderr",
     "output_type": "stream",
     "text": [
      "\r",
      "159it [06:18,  2.28s/it]"
     ]
    },
    {
     "name": "stdout",
     "output_type": "stream",
     "text": [
      "(512,)\n",
      "/home/hice1/bpopper3/scratch/LLaVA_RAG/RAG_Pipeline/HANDMADE_QUESTIONS_PIPELINE/storage/zwbCD3CUFIs/frames/frame_9540.jpg\n",
      "mmm mmm delightful so that's it guys this is the dumpling sisters Singapore fried rice noodles with curry yeah I know it was bit long wasn't it so thank you so much for watching keep your eye out for other cool videos just like this on our asian bite series we will see you next time bye \n"
     ]
    },
    {
     "name": "stderr",
     "output_type": "stream",
     "text": [
      "\r",
      "160it [06:20,  2.30s/it]"
     ]
    },
    {
     "name": "stdout",
     "output_type": "stream",
     "text": [
      "(512,)\n",
      "/home/hice1/bpopper3/scratch/LLaVA_RAG/RAG_Pipeline/HANDMADE_QUESTIONS_PIPELINE/storage/zwbCD3CUFIs/frames/frame_9600.jpg\n",
      "this is the dumpling sisters Singapore fried rice noodles with curry yeah I know it was bit long wasn't it so thank you so much for watching keep your eye out for other cool videos just like this on our asian bite series we will see you next time bye \n"
     ]
    },
    {
     "name": "stderr",
     "output_type": "stream",
     "text": [
      "\r",
      "161it [06:22,  2.29s/it]"
     ]
    },
    {
     "name": "stdout",
     "output_type": "stream",
     "text": [
      "(512,)\n",
      "/home/hice1/bpopper3/scratch/LLaVA_RAG/RAG_Pipeline/HANDMADE_QUESTIONS_PIPELINE/storage/zwbCD3CUFIs/frames/frame_9660.jpg\n",
      "this is the dumpling sisters Singapore fried rice noodles with curry yeah I know it was bit long wasn't it so thank you so much for watching keep your eye out for other cool videos just like this on our asian bite series we will see you next time bye \n"
     ]
    },
    {
     "name": "stderr",
     "output_type": "stream",
     "text": [
      "\r",
      "162it [06:25,  2.29s/it]"
     ]
    },
    {
     "name": "stdout",
     "output_type": "stream",
     "text": [
      "(512,)\n",
      "/home/hice1/bpopper3/scratch/LLaVA_RAG/RAG_Pipeline/HANDMADE_QUESTIONS_PIPELINE/storage/zwbCD3CUFIs/frames/frame_9720.jpg\n",
      "fried rice noodles with curry yeah I know it was bit long wasn't it so thank you so much for watching keep your eye out for other cool videos just like this on our asian bite series we will see you next time bye \n"
     ]
    },
    {
     "name": "stderr",
     "output_type": "stream",
     "text": [
      "\r",
      "163it [06:27,  2.28s/it]"
     ]
    },
    {
     "name": "stdout",
     "output_type": "stream",
     "text": [
      "(512,)\n",
      "/home/hice1/bpopper3/scratch/LLaVA_RAG/RAG_Pipeline/HANDMADE_QUESTIONS_PIPELINE/storage/zwbCD3CUFIs/frames/frame_9780.jpg\n",
      "know it was bit long wasn't it so thank you so much for watching keep your eye out for other cool videos just like this on our asian bite series we will see you next time bye \n"
     ]
    },
    {
     "name": "stderr",
     "output_type": "stream",
     "text": [
      "\r",
      "164it [06:29,  2.27s/it]"
     ]
    },
    {
     "name": "stdout",
     "output_type": "stream",
     "text": [
      "(512,)\n",
      "/home/hice1/bpopper3/scratch/LLaVA_RAG/RAG_Pipeline/HANDMADE_QUESTIONS_PIPELINE/storage/zwbCD3CUFIs/frames/frame_9840.jpg\n",
      "know it was bit long wasn't it so thank you so much for watching keep your eye out for other cool videos just like this on our asian bite series we will see you next time bye you \n"
     ]
    },
    {
     "name": "stderr",
     "output_type": "stream",
     "text": [
      "\r",
      "165it [06:32,  2.27s/it]"
     ]
    },
    {
     "name": "stdout",
     "output_type": "stream",
     "text": [
      "(512,)\n",
      "/home/hice1/bpopper3/scratch/LLaVA_RAG/RAG_Pipeline/HANDMADE_QUESTIONS_PIPELINE/storage/zwbCD3CUFIs/frames/frame_9900.jpg\n",
      "keep your eye out for other cool videos just like this on our asian bite series we will see you next time bye you \n"
     ]
    },
    {
     "name": "stderr",
     "output_type": "stream",
     "text": [
      "\r",
      "166it [06:34,  2.25s/it]"
     ]
    },
    {
     "name": "stdout",
     "output_type": "stream",
     "text": [
      "(512,)\n",
      "/home/hice1/bpopper3/scratch/LLaVA_RAG/RAG_Pipeline/HANDMADE_QUESTIONS_PIPELINE/storage/zwbCD3CUFIs/frames/frame_9960.jpg\n",
      "just like this on our asian bite series we will see you next time bye you \n"
     ]
    },
    {
     "name": "stderr",
     "output_type": "stream",
     "text": [
      "\r",
      "167it [06:36,  2.22s/it]"
     ]
    },
    {
     "name": "stdout",
     "output_type": "stream",
     "text": [
      "(512,)\n",
      "/home/hice1/bpopper3/scratch/LLaVA_RAG/RAG_Pipeline/HANDMADE_QUESTIONS_PIPELINE/storage/zwbCD3CUFIs/frames/frame_10020.jpg\n",
      "you \n"
     ]
    },
    {
     "name": "stderr",
     "output_type": "stream",
     "text": [
      "\r",
      "168it [06:38,  2.17s/it]"
     ]
    },
    {
     "name": "stdout",
     "output_type": "stream",
     "text": [
      "(512,)\n",
      "/home/hice1/bpopper3/scratch/LLaVA_RAG/RAG_Pipeline/HANDMADE_QUESTIONS_PIPELINE/storage/zwbCD3CUFIs/frames/frame_10080.jpg\n",
      "you \n"
     ]
    },
    {
     "name": "stderr",
     "output_type": "stream",
     "text": [
      "169it [06:40,  2.37s/it]"
     ]
    },
    {
     "name": "stdout",
     "output_type": "stream",
     "text": [
      "(512,)\n",
      "saved faiss index\n"
     ]
    },
    {
     "name": "stderr",
     "output_type": "stream",
     "text": [
      "\n",
      "0it [00:00, ?it/s]"
     ]
    },
    {
     "name": "stdout",
     "output_type": "stream",
     "text": [
      "/home/hice1/bpopper3/scratch/LLaVA_RAG/RAG_Pipeline/HANDMADE_QUESTIONS_PIPELINE/storage/XzgR14o6b80/frames/frame_0000.jpg\n",
      "beef tacos with Wasabi Mayo the great thing about street food is anything goes the Only Rule is they're got to be really fast and really tasty now these \n"
     ]
    },
    {
     "name": "stderr",
     "output_type": "stream",
     "text": [
      "\r",
      "1it [00:02,  2.21s/it]"
     ]
    },
    {
     "name": "stdout",
     "output_type": "stream",
     "text": [
      "(512,)\n",
      "/home/hice1/bpopper3/scratch/LLaVA_RAG/RAG_Pipeline/HANDMADE_QUESTIONS_PIPELINE/storage/XzgR14o6b80/frames/frame_0060.jpg\n",
      "beef tacos with Wasabi Mayo the great thing about street food is anything goes the Only Rule is they're got to be really fast and really tasty now these tacos mix in Mexican and Japanese \n"
     ]
    },
    {
     "name": "stderr",
     "output_type": "stream",
     "text": [
      "\r",
      "2it [00:04,  2.24s/it]"
     ]
    },
    {
     "name": "stdout",
     "output_type": "stream",
     "text": [
      "(512,)\n",
      "/home/hice1/bpopper3/scratch/LLaVA_RAG/RAG_Pipeline/HANDMADE_QUESTIONS_PIPELINE/storage/XzgR14o6b80/frames/frame_0120.jpg\n",
      "beef tacos with Wasabi Mayo the great thing about street food is anything goes the Only Rule is they're got to be really fast and really tasty now these tacos mix in Mexican and Japanese flavors into a delicious meaty \n"
     ]
    },
    {
     "name": "stderr",
     "output_type": "stream",
     "text": [
      "\r",
      "3it [00:06,  2.25s/it]"
     ]
    },
    {
     "name": "stdout",
     "output_type": "stream",
     "text": [
      "(512,)\n",
      "/home/hice1/bpopper3/scratch/LLaVA_RAG/RAG_Pipeline/HANDMADE_QUESTIONS_PIPELINE/storage/XzgR14o6b80/frames/frame_0180.jpg\n",
      "beef tacos with Wasabi Mayo the great thing about street food is anything goes the Only Rule is they're got to be really fast and really tasty now these tacos mix in Mexican and Japanese flavors into a delicious meaty \n"
     ]
    },
    {
     "name": "stderr",
     "output_type": "stream",
     "text": [
      "\r",
      "4it [00:09,  2.27s/it]"
     ]
    },
    {
     "name": "stdout",
     "output_type": "stream",
     "text": [
      "(512,)\n",
      "/home/hice1/bpopper3/scratch/LLaVA_RAG/RAG_Pipeline/HANDMADE_QUESTIONS_PIPELINE/storage/XzgR14o6b80/frames/frame_0240.jpg\n",
      "beef tacos with Wasabi Mayo the great thing about street food is anything goes the Only Rule is they're got to be really fast and really tasty now these tacos mix in Mexican and Japanese flavors into a delicious meaty mouthful first off get that pan really \n"
     ]
    },
    {
     "name": "stderr",
     "output_type": "stream",
     "text": [
      "\r",
      "5it [00:11,  2.27s/it]"
     ]
    },
    {
     "name": "stdout",
     "output_type": "stream",
     "text": [
      "(512,)\n",
      "/home/hice1/bpopper3/scratch/LLaVA_RAG/RAG_Pipeline/HANDMADE_QUESTIONS_PIPELINE/storage/XzgR14o6b80/frames/frame_0300.jpg\n",
      "thing about street food is anything goes the Only Rule is they're got to be really fast and really tasty now these tacos mix in Mexican and Japanese flavors into a delicious meaty mouthful first off get that pan really nice and hot these are so long steaks \n"
     ]
    },
    {
     "name": "stderr",
     "output_type": "stream",
     "text": [
      "\r",
      "6it [00:13,  2.27s/it]"
     ]
    },
    {
     "name": "stdout",
     "output_type": "stream",
     "text": [
      "(512,)\n",
      "/home/hice1/bpopper3/scratch/LLaVA_RAG/RAG_Pipeline/HANDMADE_QUESTIONS_PIPELINE/storage/XzgR14o6b80/frames/frame_0360.jpg\n",
      "the Only Rule is they're got to be really fast and really tasty now these tacos mix in Mexican and Japanese flavors into a delicious meaty mouthful first off get that pan really nice and hot these are so long steaks \n"
     ]
    },
    {
     "name": "stderr",
     "output_type": "stream",
     "text": [
      "\r",
      "7it [00:15,  2.27s/it]"
     ]
    },
    {
     "name": "stdout",
     "output_type": "stream",
     "text": [
      "(512,)\n",
      "/home/hice1/bpopper3/scratch/LLaVA_RAG/RAG_Pipeline/HANDMADE_QUESTIONS_PIPELINE/storage/XzgR14o6b80/frames/frame_0420.jpg\n",
      "really fast and really tasty now these tacos mix in Mexican and Japanese flavors into a delicious meaty mouthful first off get that pan really nice and hot these are so long steaks syrups in the pan with all that fat on \n"
     ]
    },
    {
     "name": "stderr",
     "output_type": "stream",
     "text": [
      "\r",
      "8it [00:18,  2.26s/it]"
     ]
    },
    {
     "name": "stdout",
     "output_type": "stream",
     "text": [
      "(512,)\n",
      "/home/hice1/bpopper3/scratch/LLaVA_RAG/RAG_Pipeline/HANDMADE_QUESTIONS_PIPELINE/storage/XzgR14o6b80/frames/frame_0480.jpg\n",
      "tacos mix in Mexican and Japanese flavors into a delicious meaty mouthful first off get that pan really nice and hot these are so long steaks syrups in the pan with all that fat on it have flavor \n"
     ]
    },
    {
     "name": "stderr",
     "output_type": "stream",
     "text": [
      "\r",
      "9it [00:20,  2.26s/it]"
     ]
    },
    {
     "name": "stdout",
     "output_type": "stream",
     "text": [
      "(512,)\n",
      "/home/hice1/bpopper3/scratch/LLaVA_RAG/RAG_Pipeline/HANDMADE_QUESTIONS_PIPELINE/storage/XzgR14o6b80/frames/frame_0540.jpg\n",
      "tacos mix in Mexican and Japanese flavors into a delicious meaty mouthful first off get that pan really nice and hot these are so long steaks syrups in the pan with all that fat on it have flavor salt and \n"
     ]
    },
    {
     "name": "stderr",
     "output_type": "stream",
     "text": [
      "\r",
      "10it [00:22,  2.26s/it]"
     ]
    },
    {
     "name": "stdout",
     "output_type": "stream",
     "text": [
      "(512,)\n",
      "/home/hice1/bpopper3/scratch/LLaVA_RAG/RAG_Pipeline/HANDMADE_QUESTIONS_PIPELINE/storage/XzgR14o6b80/frames/frame_0600.jpg\n",
      "mouthful first off get that pan really nice and hot these are so long steaks syrups in the pan with all that fat on it have flavor salt and \n"
     ]
    },
    {
     "name": "stderr",
     "output_type": "stream",
     "text": [
      "\r",
      "11it [00:24,  2.24s/it]"
     ]
    },
    {
     "name": "stdout",
     "output_type": "stream",
     "text": [
      "(512,)\n",
      "/home/hice1/bpopper3/scratch/LLaVA_RAG/RAG_Pipeline/HANDMADE_QUESTIONS_PIPELINE/storage/XzgR14o6b80/frames/frame_0660.jpg\n",
      "mouthful first off get that pan really nice and hot these are so long steaks syrups in the pan with all that fat on it have flavor salt and pepper got tablespoons of olive oil \n"
     ]
    },
    {
     "name": "stderr",
     "output_type": "stream",
     "text": [
      "\r",
      "12it [00:27,  2.25s/it]"
     ]
    },
    {
     "name": "stdout",
     "output_type": "stream",
     "text": [
      "(512,)\n",
      "/home/hice1/bpopper3/scratch/LLaVA_RAG/RAG_Pipeline/HANDMADE_QUESTIONS_PIPELINE/storage/XzgR14o6b80/frames/frame_0720.jpg\n",
      "mouthful first off get that pan really nice and hot these are so long steaks syrups in the pan with all that fat on it have flavor salt and pepper got tablespoons of olive oil in pan nice and hot hold up the \n"
     ]
    },
    {
     "name": "stderr",
     "output_type": "stream",
     "text": [
      "\r",
      "13it [00:29,  2.25s/it]"
     ]
    },
    {
     "name": "stdout",
     "output_type": "stream",
     "text": [
      "(512,)\n",
      "/home/hice1/bpopper3/scratch/LLaVA_RAG/RAG_Pipeline/HANDMADE_QUESTIONS_PIPELINE/storage/XzgR14o6b80/frames/frame_0780.jpg\n",
      "nice and hot these are so long steaks syrups in the pan with all that fat on it have flavor salt and pepper got tablespoons of olive oil in pan nice and hot hold up the \n"
     ]
    },
    {
     "name": "stderr",
     "output_type": "stream",
     "text": [
      "\r",
      "14it [00:31,  2.25s/it]"
     ]
    },
    {
     "name": "stdout",
     "output_type": "stream",
     "text": [
      "(512,)\n",
      "/home/hice1/bpopper3/scratch/LLaVA_RAG/RAG_Pipeline/HANDMADE_QUESTIONS_PIPELINE/storage/XzgR14o6b80/frames/frame_0840.jpg\n",
      "syrups in the pan with all that fat on it have flavor salt and pepper got tablespoons of olive oil in pan nice and hot hold up the \n"
     ]
    },
    {
     "name": "stderr",
     "output_type": "stream",
     "text": [
      "\r",
      "15it [00:33,  2.23s/it]"
     ]
    },
    {
     "name": "stdout",
     "output_type": "stream",
     "text": [
      "(512,)\n",
      "/home/hice1/bpopper3/scratch/LLaVA_RAG/RAG_Pipeline/HANDMADE_QUESTIONS_PIPELINE/storage/XzgR14o6b80/frames/frame_0900.jpg\n",
      "syrups in the pan with all that fat on it have flavor salt and pepper got tablespoons of olive oil in pan nice and hot hold up the steak and lay it in always lay away give \n"
     ]
    },
    {
     "name": "stderr",
     "output_type": "stream",
     "text": [
      "\r",
      "16it [00:36,  2.23s/it]"
     ]
    },
    {
     "name": "stdout",
     "output_type": "stream",
     "text": [
      "(512,)\n",
      "/home/hice1/bpopper3/scratch/LLaVA_RAG/RAG_Pipeline/HANDMADE_QUESTIONS_PIPELINE/storage/XzgR14o6b80/frames/frame_0960.jpg\n",
      "it have flavor salt and pepper got tablespoons of olive oil in pan nice and hot hold up the steak and lay it in always lay away give \n"
     ]
    },
    {
     "name": "stderr",
     "output_type": "stream",
     "text": [
      "\r",
      "17it [00:38,  2.22s/it]"
     ]
    },
    {
     "name": "stdout",
     "output_type": "stream",
     "text": [
      "(512,)\n",
      "/home/hice1/bpopper3/scratch/LLaVA_RAG/RAG_Pipeline/HANDMADE_QUESTIONS_PIPELINE/storage/XzgR14o6b80/frames/frame_1020.jpg\n",
      "salt and pepper got tablespoons of olive oil in pan nice and hot hold up the steak and lay it in always lay away give a pan little shake and it stops the \n"
     ]
    },
    {
     "name": "stderr",
     "output_type": "stream",
     "text": [
      "\r",
      "18it [00:40,  2.22s/it]"
     ]
    },
    {
     "name": "stdout",
     "output_type": "stream",
     "text": [
      "(512,)\n",
      "/home/hice1/bpopper3/scratch/LLaVA_RAG/RAG_Pipeline/HANDMADE_QUESTIONS_PIPELINE/storage/XzgR14o6b80/frames/frame_1080.jpg\n",
      "pepper got tablespoons of olive oil in pan nice and hot hold up the steak and lay it in always lay away give a pan little shake and it stops the steak from sticking a little for color \n"
     ]
    },
    {
     "name": "stderr",
     "output_type": "stream",
     "text": [
      "\r",
      "19it [00:42,  2.23s/it]"
     ]
    },
    {
     "name": "stdout",
     "output_type": "stream",
     "text": [
      "(512,)\n",
      "/home/hice1/bpopper3/scratch/LLaVA_RAG/RAG_Pipeline/HANDMADE_QUESTIONS_PIPELINE/storage/XzgR14o6b80/frames/frame_1140.jpg\n",
      "in pan nice and hot hold up the steak and lay it in always lay away give a pan little shake and it stops the steak from sticking a little for color the steaks going to \n"
     ]
    },
    {
     "name": "stderr",
     "output_type": "stream",
     "text": [
      "\r",
      "20it [00:44,  2.23s/it]"
     ]
    },
    {
     "name": "stdout",
     "output_type": "stream",
     "text": [
      "(512,)\n",
      "/home/hice1/bpopper3/scratch/LLaVA_RAG/RAG_Pipeline/HANDMADE_QUESTIONS_PIPELINE/storage/XzgR14o6b80/frames/frame_1200.jpg\n",
      "in pan nice and hot hold up the steak and lay it in always lay away give a pan little shake and it stops the steak from sticking a little for color the steaks going to burn while the steaks are cooking I can \n"
     ]
    },
    {
     "name": "stderr",
     "output_type": "stream",
     "text": [
      "\r",
      "21it [00:47,  2.24s/it]"
     ]
    },
    {
     "name": "stdout",
     "output_type": "stream",
     "text": [
      "(512,)\n",
      "/home/hice1/bpopper3/scratch/LLaVA_RAG/RAG_Pipeline/HANDMADE_QUESTIONS_PIPELINE/storage/XzgR14o6b80/frames/frame_1260.jpg\n",
      "steak and lay it in always lay away give a pan little shake and it stops the steak from sticking a little for color the steaks going to burn while the steaks are cooking I can go with my super quick marinade \n"
     ]
    },
    {
     "name": "stderr",
     "output_type": "stream",
     "text": [
      "\r",
      "22it [00:49,  2.25s/it]"
     ]
    },
    {
     "name": "stdout",
     "output_type": "stream",
     "text": [
      "(512,)\n",
      "/home/hice1/bpopper3/scratch/LLaVA_RAG/RAG_Pipeline/HANDMADE_QUESTIONS_PIPELINE/storage/XzgR14o6b80/frames/frame_1320.jpg\n",
      "steak and lay it in always lay away give a pan little shake and it stops the steak from sticking a little for color the steaks going to burn while the steaks are cooking I can go with my super quick marinade now 2 tbsp of misu paste that's a \n"
     ]
    },
    {
     "name": "stderr",
     "output_type": "stream",
     "text": [
      "\r",
      "23it [00:51,  2.27s/it]"
     ]
    },
    {
     "name": "stdout",
     "output_type": "stream",
     "text": [
      "(512,)\n",
      "/home/hice1/bpopper3/scratch/LLaVA_RAG/RAG_Pipeline/HANDMADE_QUESTIONS_PIPELINE/storage/XzgR14o6b80/frames/frame_1380.jpg\n",
      "a pan little shake and it stops the steak from sticking a little for color the steaks going to burn while the steaks are cooking I can go with my super quick marinade now 2 tbsp of misu paste that's a \n"
     ]
    },
    {
     "name": "stderr",
     "output_type": "stream",
     "text": [
      "\r",
      "24it [00:54,  2.27s/it]"
     ]
    },
    {
     "name": "stdout",
     "output_type": "stream",
     "text": [
      "(512,)\n",
      "/home/hice1/bpopper3/scratch/LLaVA_RAG/RAG_Pipeline/HANDMADE_QUESTIONS_PIPELINE/storage/XzgR14o6b80/frames/frame_1440.jpg\n",
      "a pan little shake and it stops the steak from sticking a little for color the steaks going to burn while the steaks are cooking I can go with my super quick marinade now 2 tbsp of misu paste that's a fermented soy bean that gives a really \n"
     ]
    },
    {
     "name": "stderr",
     "output_type": "stream",
     "text": [
      "\r",
      "25it [00:56,  2.28s/it]"
     ]
    },
    {
     "name": "stdout",
     "output_type": "stream",
     "text": [
      "(512,)\n",
      "/home/hice1/bpopper3/scratch/LLaVA_RAG/RAG_Pipeline/HANDMADE_QUESTIONS_PIPELINE/storage/XzgR14o6b80/frames/frame_1500.jpg\n",
      "steak from sticking a little for color the steaks going to burn while the steaks are cooking I can go with my super quick marinade now 2 tbsp of misu paste that's a fermented soy bean that gives a really nice sort of Rich \n"
     ]
    },
    {
     "name": "stderr",
     "output_type": "stream",
     "text": [
      "\r",
      "26it [00:58,  2.28s/it]"
     ]
    },
    {
     "name": "stdout",
     "output_type": "stream",
     "text": [
      "(512,)\n",
      "/home/hice1/bpopper3/scratch/LLaVA_RAG/RAG_Pipeline/HANDMADE_QUESTIONS_PIPELINE/storage/XzgR14o6b80/frames/frame_1560.jpg\n",
      "the steaks going to burn while the steaks are cooking I can go with my super quick marinade now 2 tbsp of misu paste that's a fermented soy bean that gives a really nice sort of Rich sweetness tablespoon of sugar couple \n"
     ]
    },
    {
     "name": "stderr",
     "output_type": "stream",
     "text": [
      "\r",
      "27it [01:00,  2.27s/it]"
     ]
    },
    {
     "name": "stdout",
     "output_type": "stream",
     "text": [
      "(512,)\n",
      "/home/hice1/bpopper3/scratch/LLaVA_RAG/RAG_Pipeline/HANDMADE_QUESTIONS_PIPELINE/storage/XzgR14o6b80/frames/frame_1620.jpg\n",
      "burn while the steaks are cooking I can go with my super quick marinade now 2 tbsp of misu paste that's a fermented soy bean that gives a really nice sort of Rich sweetness tablespoon of sugar couple tablespoons rice wine that gives it a \n"
     ]
    },
    {
     "name": "stderr",
     "output_type": "stream",
     "text": [
      "\r",
      "28it [01:03,  2.27s/it]"
     ]
    },
    {
     "name": "stdout",
     "output_type": "stream",
     "text": [
      "(512,)\n",
      "/home/hice1/bpopper3/scratch/LLaVA_RAG/RAG_Pipeline/HANDMADE_QUESTIONS_PIPELINE/storage/XzgR14o6b80/frames/frame_1680.jpg\n",
      "go with my super quick marinade now 2 tbsp of misu paste that's a fermented soy bean that gives a really nice sort of Rich sweetness tablespoon of sugar couple tablespoons rice wine that gives it a really nice vinegary kick couple \n"
     ]
    },
    {
     "name": "stderr",
     "output_type": "stream",
     "text": [
      "\r",
      "29it [01:05,  2.28s/it]"
     ]
    },
    {
     "name": "stdout",
     "output_type": "stream",
     "text": [
      "(512,)\n",
      "/home/hice1/bpopper3/scratch/LLaVA_RAG/RAG_Pipeline/HANDMADE_QUESTIONS_PIPELINE/storage/XzgR14o6b80/frames/frame_1740.jpg\n",
      "now 2 tbsp of misu paste that's a fermented soy bean that gives a really nice sort of Rich sweetness tablespoon of sugar couple tablespoons rice wine that gives it a really nice vinegary kick couple tablespoons of olive oil salt and \n"
     ]
    },
    {
     "name": "stderr",
     "output_type": "stream",
     "text": [
      "\r",
      "30it [01:07,  2.26s/it]"
     ]
    },
    {
     "name": "stdout",
     "output_type": "stream",
     "text": [
      "(512,)\n",
      "/home/hice1/bpopper3/scratch/LLaVA_RAG/RAG_Pipeline/HANDMADE_QUESTIONS_PIPELINE/storage/XzgR14o6b80/frames/frame_1800.jpg\n",
      "fermented soy bean that gives a really nice sort of Rich sweetness tablespoon of sugar couple tablespoons rice wine that gives it a really nice vinegary kick couple tablespoons of olive oil salt and \n"
     ]
    },
    {
     "name": "stderr",
     "output_type": "stream",
     "text": [
      "\r",
      "31it [01:09,  2.27s/it]"
     ]
    },
    {
     "name": "stdout",
     "output_type": "stream",
     "text": [
      "(512,)\n",
      "/home/hice1/bpopper3/scratch/LLaVA_RAG/RAG_Pipeline/HANDMADE_QUESTIONS_PIPELINE/storage/XzgR14o6b80/frames/frame_1860.jpg\n",
      "fermented soy bean that gives a really nice sort of Rich sweetness tablespoon of sugar couple tablespoons rice wine that gives it a really nice vinegary kick couple tablespoons of olive oil salt and pepper I'm looking for a nice sort of \n"
     ]
    },
    {
     "name": "stderr",
     "output_type": "stream",
     "text": [
      "\r",
      "32it [01:12,  2.26s/it]"
     ]
    },
    {
     "name": "stdout",
     "output_type": "stream",
     "text": [
      "(512,)\n",
      "/home/hice1/bpopper3/scratch/LLaVA_RAG/RAG_Pipeline/HANDMADE_QUESTIONS_PIPELINE/storage/XzgR14o6b80/frames/frame_1920.jpg\n",
      "nice sort of Rich sweetness tablespoon of sugar couple tablespoons rice wine that gives it a really nice vinegary kick couple tablespoons of olive oil salt and pepper I'm looking for a nice sort of thick Rich marinade \n"
     ]
    },
    {
     "name": "stderr",
     "output_type": "stream",
     "text": [
      "\r",
      "33it [01:14,  2.26s/it]"
     ]
    },
    {
     "name": "stdout",
     "output_type": "stream",
     "text": [
      "(512,)\n",
      "/home/hice1/bpopper3/scratch/LLaVA_RAG/RAG_Pipeline/HANDMADE_QUESTIONS_PIPELINE/storage/XzgR14o6b80/frames/frame_1980.jpg\n",
      "sweetness tablespoon of sugar couple tablespoons rice wine that gives it a really nice vinegary kick couple tablespoons of olive oil salt and pepper I'm looking for a nice sort of thick Rich marinade \n"
     ]
    },
    {
     "name": "stderr",
     "output_type": "stream",
     "text": [
      "\r",
      "34it [01:16,  2.25s/it]"
     ]
    },
    {
     "name": "stdout",
     "output_type": "stream",
     "text": [
      "(512,)\n",
      "/home/hice1/bpopper3/scratch/LLaVA_RAG/RAG_Pipeline/HANDMADE_QUESTIONS_PIPELINE/storage/XzgR14o6b80/frames/frame_2040.jpg\n",
      "tablespoons rice wine that gives it a really nice vinegary kick couple tablespoons of olive oil salt and pepper I'm looking for a nice sort of thick Rich marinade marinade done it's time to turn the \n"
     ]
    },
    {
     "name": "stderr",
     "output_type": "stream",
     "text": [
      "\r",
      "35it [01:18,  2.25s/it]"
     ]
    },
    {
     "name": "stdout",
     "output_type": "stream",
     "text": [
      "(512,)\n",
      "/home/hice1/bpopper3/scratch/LLaVA_RAG/RAG_Pipeline/HANDMADE_QUESTIONS_PIPELINE/storage/XzgR14o6b80/frames/frame_2100.jpg\n",
      "tablespoons rice wine that gives it a really nice vinegary kick couple tablespoons of olive oil salt and pepper I'm looking for a nice sort of thick Rich marinade marinade done it's time to turn the \n"
     ]
    },
    {
     "name": "stderr",
     "output_type": "stream",
     "text": [
      "\r",
      "36it [01:21,  2.25s/it]"
     ]
    },
    {
     "name": "stdout",
     "output_type": "stream",
     "text": [
      "(512,)\n",
      "/home/hice1/bpopper3/scratch/LLaVA_RAG/RAG_Pipeline/HANDMADE_QUESTIONS_PIPELINE/storage/XzgR14o6b80/frames/frame_2160.jpg\n",
      "really nice vinegary kick couple tablespoons of olive oil salt and pepper I'm looking for a nice sort of thick Rich marinade marinade done it's time to turn the \n"
     ]
    },
    {
     "name": "stderr",
     "output_type": "stream",
     "text": [
      "\r",
      "37it [01:23,  2.25s/it]"
     ]
    },
    {
     "name": "stdout",
     "output_type": "stream",
     "text": [
      "(512,)\n",
      "/home/hice1/bpopper3/scratch/LLaVA_RAG/RAG_Pipeline/HANDMADE_QUESTIONS_PIPELINE/storage/XzgR14o6b80/frames/frame_2220.jpg\n",
      "tablespoons of olive oil salt and pepper I'm looking for a nice sort of thick Rich marinade marinade done it's time to turn the steaks so the pan you give a spak little base all \n"
     ]
    },
    {
     "name": "stderr",
     "output_type": "stream",
     "text": [
      "\r",
      "38it [01:25,  2.24s/it]"
     ]
    },
    {
     "name": "stdout",
     "output_type": "stream",
     "text": [
      "(512,)\n",
      "/home/hice1/bpopper3/scratch/LLaVA_RAG/RAG_Pipeline/HANDMADE_QUESTIONS_PIPELINE/storage/XzgR14o6b80/frames/frame_2280.jpg\n",
      "pepper I'm looking for a nice sort of thick Rich marinade marinade done it's time to turn the steaks so the pan you give a spak little base all \n"
     ]
    },
    {
     "name": "stderr",
     "output_type": "stream",
     "text": [
      "\r",
      "39it [01:27,  2.24s/it]"
     ]
    },
    {
     "name": "stdout",
     "output_type": "stream",
     "text": [
      "(512,)\n",
      "/home/hice1/bpopper3/scratch/LLaVA_RAG/RAG_Pipeline/HANDMADE_QUESTIONS_PIPELINE/storage/XzgR14o6b80/frames/frame_2340.jpg\n",
      "thick Rich marinade marinade done it's time to turn the steaks so the pan you give a spak little base all we're doing every time is just adding more and more \n"
     ]
    },
    {
     "name": "stderr",
     "output_type": "stream",
     "text": [
      "\r",
      "40it [01:30,  2.24s/it]"
     ]
    },
    {
     "name": "stdout",
     "output_type": "stream",
     "text": [
      "(512,)\n",
      "/home/hice1/bpopper3/scratch/LLaVA_RAG/RAG_Pipeline/HANDMADE_QUESTIONS_PIPELINE/storage/XzgR14o6b80/frames/frame_2400.jpg\n",
      "thick Rich marinade marinade done it's time to turn the steaks so the pan you give a spak little base all we're doing every time is just adding more and more flavor take your tongs and sort of lift \n"
     ]
    },
    {
     "name": "stderr",
     "output_type": "stream",
     "text": [
      "\r",
      "41it [01:32,  2.25s/it]"
     ]
    },
    {
     "name": "stdout",
     "output_type": "stream",
     "text": [
      "(512,)\n",
      "/home/hice1/bpopper3/scratch/LLaVA_RAG/RAG_Pipeline/HANDMADE_QUESTIONS_PIPELINE/storage/XzgR14o6b80/frames/frame_2460.jpg\n",
      "marinade done it's time to turn the steaks so the pan you give a spak little base all we're doing every time is just adding more and more flavor take your tongs and sort of lift the steak on its back and really melt \n"
     ]
    },
    {
     "name": "stderr",
     "output_type": "stream",
     "text": [
      "\r",
      "42it [01:34,  2.27s/it]"
     ]
    },
    {
     "name": "stdout",
     "output_type": "stream",
     "text": [
      "(512,)\n",
      "/home/hice1/bpopper3/scratch/LLaVA_RAG/RAG_Pipeline/HANDMADE_QUESTIONS_PIPELINE/storage/XzgR14o6b80/frames/frame_2520.jpg\n",
      "marinade done it's time to turn the steaks so the pan you give a spak little base all we're doing every time is just adding more and more flavor take your tongs and sort of lift the steak on its back and really melt \n"
     ]
    },
    {
     "name": "stderr",
     "output_type": "stream",
     "text": [
      "\r",
      "43it [01:36,  2.27s/it]"
     ]
    },
    {
     "name": "stdout",
     "output_type": "stream",
     "text": [
      "(512,)\n",
      "/home/hice1/bpopper3/scratch/LLaVA_RAG/RAG_Pipeline/HANDMADE_QUESTIONS_PIPELINE/storage/XzgR14o6b80/frames/frame_2580.jpg\n",
      "steaks so the pan you give a spak little base all we're doing every time is just adding more and more flavor take your tongs and sort of lift the steak on its back and really melt for that fat \n"
     ]
    },
    {
     "name": "stderr",
     "output_type": "stream",
     "text": [
      "\r",
      "44it [01:39,  2.26s/it]"
     ]
    },
    {
     "name": "stdout",
     "output_type": "stream",
     "text": [
      "(512,)\n",
      "/home/hice1/bpopper3/scratch/LLaVA_RAG/RAG_Pipeline/HANDMADE_QUESTIONS_PIPELINE/storage/XzgR14o6b80/frames/frame_2640.jpg\n",
      "steaks so the pan you give a spak little base all we're doing every time is just adding more and more flavor take your tongs and sort of lift the steak on its back and really melt for that fat down offer the gas tear them out just \n"
     ]
    },
    {
     "name": "stderr",
     "output_type": "stream",
     "text": [
      "\r",
      "45it [01:41,  2.27s/it]"
     ]
    },
    {
     "name": "stdout",
     "output_type": "stream",
     "text": [
      "(512,)\n",
      "/home/hice1/bpopper3/scratch/LLaVA_RAG/RAG_Pipeline/HANDMADE_QUESTIONS_PIPELINE/storage/XzgR14o6b80/frames/frame_2700.jpg\n",
      "pan you give a spak little base all we're doing every time is just adding more and more flavor take your tongs and sort of lift the steak on its back and really melt for that fat down offer the gas tear them out just \n"
     ]
    },
    {
     "name": "stderr",
     "output_type": "stream",
     "text": [
      "\r",
      "46it [01:43,  2.27s/it]"
     ]
    },
    {
     "name": "stdout",
     "output_type": "stream",
     "text": [
      "(512,)\n",
      "/home/hice1/bpopper3/scratch/LLaVA_RAG/RAG_Pipeline/HANDMADE_QUESTIONS_PIPELINE/storage/XzgR14o6b80/frames/frame_2760.jpg\n",
      "we're doing every time is just adding more and more flavor take your tongs and sort of lift the steak on its back and really melt for that fat down offer the gas tear them out just take your knife \n"
     ]
    },
    {
     "name": "stderr",
     "output_type": "stream",
     "text": [
      "\r",
      "47it [01:46,  2.27s/it]"
     ]
    },
    {
     "name": "stdout",
     "output_type": "stream",
     "text": [
      "(512,)\n",
      "/home/hice1/bpopper3/scratch/LLaVA_RAG/RAG_Pipeline/HANDMADE_QUESTIONS_PIPELINE/storage/XzgR14o6b80/frames/frame_2820.jpg\n",
      "more and more flavor take your tongs and sort of lift the steak on its back and really melt for that fat down offer the gas tear them out just take your knife it's all that fat there just slice that \n"
     ]
    },
    {
     "name": "stderr",
     "output_type": "stream",
     "text": [
      "\r",
      "48it [01:48,  2.27s/it]"
     ]
    },
    {
     "name": "stdout",
     "output_type": "stream",
     "text": [
      "(512,)\n",
      "/home/hice1/bpopper3/scratch/LLaVA_RAG/RAG_Pipeline/HANDMADE_QUESTIONS_PIPELINE/storage/XzgR14o6b80/frames/frame_2880.jpg\n",
      "the steak on its back and really melt for that fat down offer the gas tear them out just take your knife it's all that fat there just slice that off I don't want any of \n"
     ]
    },
    {
     "name": "stderr",
     "output_type": "stream",
     "text": [
      "\r",
      "49it [01:50,  2.26s/it]"
     ]
    },
    {
     "name": "stdout",
     "output_type": "stream",
     "text": [
      "(512,)\n",
      "/home/hice1/bpopper3/scratch/LLaVA_RAG/RAG_Pipeline/HANDMADE_QUESTIONS_PIPELINE/storage/XzgR14o6b80/frames/frame_2940.jpg\n",
      "the steak on its back and really melt for that fat down offer the gas tear them out just take your knife it's all that fat there just slice that off I don't want any of that now in it's the \n"
     ]
    },
    {
     "name": "stderr",
     "output_type": "stream",
     "text": [
      "\r",
      "50it [01:52,  2.26s/it]"
     ]
    },
    {
     "name": "stdout",
     "output_type": "stream",
     "text": [
      "(512,)\n",
      "/home/hice1/bpopper3/scratch/LLaVA_RAG/RAG_Pipeline/HANDMADE_QUESTIONS_PIPELINE/storage/XzgR14o6b80/frames/frame_3000.jpg\n",
      "for that fat down offer the gas tear them out just take your knife it's all that fat there just slice that off I don't want any of that now in it's the \n"
     ]
    },
    {
     "name": "stderr",
     "output_type": "stream",
     "text": [
      "\r",
      "51it [01:55,  2.25s/it]"
     ]
    },
    {
     "name": "stdout",
     "output_type": "stream",
     "text": [
      "(512,)\n",
      "/home/hice1/bpopper3/scratch/LLaVA_RAG/RAG_Pipeline/HANDMADE_QUESTIONS_PIPELINE/storage/XzgR14o6b80/frames/frame_3060.jpg\n",
      "down offer the gas tear them out just take your knife it's all that fat there just slice that off I don't want any of that now in it's the [Music] marinade \n"
     ]
    },
    {
     "name": "stderr",
     "output_type": "stream",
     "text": [
      "\r",
      "52it [01:57,  2.24s/it]"
     ]
    },
    {
     "name": "stdout",
     "output_type": "stream",
     "text": [
      "(512,)\n",
      "/home/hice1/bpopper3/scratch/LLaVA_RAG/RAG_Pipeline/HANDMADE_QUESTIONS_PIPELINE/storage/XzgR14o6b80/frames/frame_3120.jpg\n",
      "down offer the gas tear them out just take your knife it's all that fat there just slice that off I don't want any of that now in it's the [Music] marinade beautiful tacos are one of Mexico's most \n"
     ]
    },
    {
     "name": "stderr",
     "output_type": "stream",
     "text": [
      "\r",
      "53it [01:59,  2.25s/it]"
     ]
    },
    {
     "name": "stdout",
     "output_type": "stream",
     "text": [
      "(512,)\n",
      "/home/hice1/bpopper3/scratch/LLaVA_RAG/RAG_Pipeline/HANDMADE_QUESTIONS_PIPELINE/storage/XzgR14o6b80/frames/frame_3180.jpg\n",
      "take your knife it's all that fat there just slice that off I don't want any of that now in it's the [Music] marinade beautiful tacos are one of Mexico's most popular street foods that can be made \n"
     ]
    },
    {
     "name": "stderr",
     "output_type": "stream",
     "text": [
      "\r",
      "54it [02:01,  2.26s/it]"
     ]
    },
    {
     "name": "stdout",
     "output_type": "stream",
     "text": [
      "(512,)\n",
      "/home/hice1/bpopper3/scratch/LLaVA_RAG/RAG_Pipeline/HANDMADE_QUESTIONS_PIPELINE/storage/XzgR14o6b80/frames/frame_3240.jpg\n",
      "it's all that fat there just slice that off I don't want any of that now in it's the [Music] marinade beautiful tacos are one of Mexico's most popular street foods that can be made from beef pore chicken or fish and are \n"
     ]
    },
    {
     "name": "stderr",
     "output_type": "stream",
     "text": [
      "\r",
      "55it [02:04,  2.27s/it]"
     ]
    },
    {
     "name": "stdout",
     "output_type": "stream",
     "text": [
      "(512,)\n",
      "/home/hice1/bpopper3/scratch/LLaVA_RAG/RAG_Pipeline/HANDMADE_QUESTIONS_PIPELINE/storage/XzgR14o6b80/frames/frame_3300.jpg\n",
      "off I don't want any of that now in it's the [Music] marinade beautiful tacos are one of Mexico's most popular street foods that can be made from beef pore chicken or fish and are loaded up with amazing sauces and \n"
     ]
    },
    {
     "name": "stderr",
     "output_type": "stream",
     "text": [
      "\r",
      "56it [02:06,  2.27s/it]"
     ]
    },
    {
     "name": "stdout",
     "output_type": "stream",
     "text": [
      "(512,)\n",
      "/home/hice1/bpopper3/scratch/LLaVA_RAG/RAG_Pipeline/HANDMADE_QUESTIONS_PIPELINE/storage/XzgR14o6b80/frames/frame_3360.jpg\n",
      "that now in it's the [Music] marinade beautiful tacos are one of Mexico's most popular street foods that can be made from beef pore chicken or fish and are loaded up with amazing sauces and spices now I want something sort of \n"
     ]
    },
    {
     "name": "stderr",
     "output_type": "stream",
     "text": [
      "\r",
      "57it [02:08,  2.26s/it]"
     ]
    },
    {
     "name": "stdout",
     "output_type": "stream",
     "text": [
      "(512,)\n",
      "/home/hice1/bpopper3/scratch/LLaVA_RAG/RAG_Pipeline/HANDMADE_QUESTIONS_PIPELINE/storage/XzgR14o6b80/frames/frame_3420.jpg\n",
      "[Music] marinade beautiful tacos are one of Mexico's most popular street foods that can be made from beef pore chicken or fish and are loaded up with amazing sauces and spices now I want something sort of pickly cabbage these are um Chinese \n"
     ]
    },
    {
     "name": "stderr",
     "output_type": "stream",
     "text": [
      "\r",
      "58it [02:10,  2.26s/it]"
     ]
    },
    {
     "name": "stdout",
     "output_type": "stream",
     "text": [
      "(512,)\n",
      "/home/hice1/bpopper3/scratch/LLaVA_RAG/RAG_Pipeline/HANDMADE_QUESTIONS_PIPELINE/storage/XzgR14o6b80/frames/frame_3480.jpg\n",
      "[Music] marinade beautiful tacos are one of Mexico's most popular street foods that can be made from beef pore chicken or fish and are loaded up with amazing sauces and spices now I want something sort of pickly cabbage these are um Chinese \n"
     ]
    },
    {
     "name": "stderr",
     "output_type": "stream",
     "text": [
      "\r",
      "59it [02:13,  2.27s/it]"
     ]
    },
    {
     "name": "stdout",
     "output_type": "stream",
     "text": [
      "(512,)\n",
      "/home/hice1/bpopper3/scratch/LLaVA_RAG/RAG_Pipeline/HANDMADE_QUESTIONS_PIPELINE/storage/XzgR14o6b80/frames/frame_3540.jpg\n",
      "marinade beautiful tacos are one of Mexico's most popular street foods that can be made from beef pore chicken or fish and are loaded up with amazing sauces and spices now I want something sort of pickly cabbage these are um Chinese cabbages slice it in \n"
     ]
    },
    {
     "name": "stderr",
     "output_type": "stream",
     "text": [
      "\r",
      "60it [02:15,  2.29s/it]"
     ]
    },
    {
     "name": "stdout",
     "output_type": "stream",
     "text": [
      "(512,)\n",
      "/home/hice1/bpopper3/scratch/LLaVA_RAG/RAG_Pipeline/HANDMADE_QUESTIONS_PIPELINE/storage/XzgR14o6b80/frames/frame_3600.jpg\n",
      "popular street foods that can be made from beef pore chicken or fish and are loaded up with amazing sauces and spices now I want something sort of pickly cabbage these are um Chinese cabbages slice it in half look at it really crisp and really \n"
     ]
    },
    {
     "name": "stderr",
     "output_type": "stream",
     "text": [
      "\r",
      "61it [02:17,  2.29s/it]"
     ]
    },
    {
     "name": "stdout",
     "output_type": "stream",
     "text": [
      "(512,)\n",
      "/home/hice1/bpopper3/scratch/LLaVA_RAG/RAG_Pipeline/HANDMADE_QUESTIONS_PIPELINE/storage/XzgR14o6b80/frames/frame_3660.jpg\n",
      "from beef pore chicken or fish and are loaded up with amazing sauces and spices now I want something sort of pickly cabbage these are um Chinese cabbages slice it in half look at it really crisp and really \n"
     ]
    },
    {
     "name": "stderr",
     "output_type": "stream",
     "text": [
      "\r",
      "62it [02:20,  2.28s/it]"
     ]
    },
    {
     "name": "stdout",
     "output_type": "stream",
     "text": [
      "(512,)\n",
      "/home/hice1/bpopper3/scratch/LLaVA_RAG/RAG_Pipeline/HANDMADE_QUESTIONS_PIPELINE/storage/XzgR14o6b80/frames/frame_3720.jpg\n",
      "loaded up with amazing sauces and spices now I want something sort of pickly cabbage these are um Chinese cabbages slice it in half look at it really crisp and really tasty we're going to slice that into \n"
     ]
    },
    {
     "name": "stderr",
     "output_type": "stream",
     "text": [
      "\r",
      "63it [02:22,  2.28s/it]"
     ]
    },
    {
     "name": "stdout",
     "output_type": "stream",
     "text": [
      "(512,)\n",
      "/home/hice1/bpopper3/scratch/LLaVA_RAG/RAG_Pipeline/HANDMADE_QUESTIONS_PIPELINE/storage/XzgR14o6b80/frames/frame_3780.jpg\n",
      "spices now I want something sort of pickly cabbage these are um Chinese cabbages slice it in half look at it really crisp and really tasty we're going to slice that into quarters and then just shred it and take \n"
     ]
    },
    {
     "name": "stderr",
     "output_type": "stream",
     "text": [
      "\r",
      "64it [02:24,  2.27s/it]"
     ]
    },
    {
     "name": "stdout",
     "output_type": "stream",
     "text": [
      "(512,)\n",
      "/home/hice1/bpopper3/scratch/LLaVA_RAG/RAG_Pipeline/HANDMADE_QUESTIONS_PIPELINE/storage/XzgR14o6b80/frames/frame_3840.jpg\n",
      "pickly cabbage these are um Chinese cabbages slice it in half look at it really crisp and really tasty we're going to slice that into quarters and then just shred it and take your \n"
     ]
    },
    {
     "name": "stderr",
     "output_type": "stream",
     "text": [
      "\r",
      "65it [02:26,  2.27s/it]"
     ]
    },
    {
     "name": "stdout",
     "output_type": "stream",
     "text": [
      "(512,)\n",
      "/home/hice1/bpopper3/scratch/LLaVA_RAG/RAG_Pipeline/HANDMADE_QUESTIONS_PIPELINE/storage/XzgR14o6b80/frames/frame_3900.jpg\n",
      "cabbages slice it in half look at it really crisp and really tasty we're going to slice that into quarters and then just shred it and take your \n"
     ]
    },
    {
     "name": "stderr",
     "output_type": "stream",
     "text": [
      "\r",
      "66it [02:29,  2.26s/it]"
     ]
    },
    {
     "name": "stdout",
     "output_type": "stream",
     "text": [
      "(512,)\n",
      "/home/hice1/bpopper3/scratch/LLaVA_RAG/RAG_Pipeline/HANDMADE_QUESTIONS_PIPELINE/storage/XzgR14o6b80/frames/frame_3960.jpg\n",
      "cabbages slice it in half look at it really crisp and really tasty we're going to slice that into quarters and then just shred it and take your time you think of cabbage here and you think of sort of brazed overcooked \n"
     ]
    },
    {
     "name": "stderr",
     "output_type": "stream",
     "text": [
      "\r",
      "67it [02:31,  2.27s/it]"
     ]
    },
    {
     "name": "stdout",
     "output_type": "stream",
     "text": [
      "(512,)\n",
      "/home/hice1/bpopper3/scratch/LLaVA_RAG/RAG_Pipeline/HANDMADE_QUESTIONS_PIPELINE/storage/XzgR14o6b80/frames/frame_4020.jpg\n",
      "half look at it really crisp and really tasty we're going to slice that into quarters and then just shred it and take your time you think of cabbage here and you think of sort of brazed overcooked \n"
     ]
    },
    {
     "name": "stderr",
     "output_type": "stream",
     "text": [
      "\r",
      "68it [02:33,  2.26s/it]"
     ]
    },
    {
     "name": "stdout",
     "output_type": "stream",
     "text": [
      "(512,)\n",
      "/home/hice1/bpopper3/scratch/LLaVA_RAG/RAG_Pipeline/HANDMADE_QUESTIONS_PIPELINE/storage/XzgR14o6b80/frames/frame_4080.jpg\n",
      "half look at it really crisp and really tasty we're going to slice that into quarters and then just shred it and take your time you think of cabbage here and you think of sort of brazed overcooked cabbage nothing worse but I Tech you \n"
     ]
    },
    {
     "name": "stderr",
     "output_type": "stream",
     "text": [
      "\r",
      "69it [02:35,  2.27s/it]"
     ]
    },
    {
     "name": "stdout",
     "output_type": "stream",
     "text": [
      "(512,)\n",
      "/home/hice1/bpopper3/scratch/LLaVA_RAG/RAG_Pipeline/HANDMADE_QUESTIONS_PIPELINE/storage/XzgR14o6b80/frames/frame_4140.jpg\n",
      "tasty we're going to slice that into quarters and then just shred it and take your time you think of cabbage here and you think of sort of brazed overcooked cabbage nothing worse but I Tech you want freshness a little season of chili \n"
     ]
    },
    {
     "name": "stderr",
     "output_type": "stream",
     "text": [
      "\r",
      "70it [02:38,  2.27s/it]"
     ]
    },
    {
     "name": "stdout",
     "output_type": "stream",
     "text": [
      "(512,)\n",
      "/home/hice1/bpopper3/scratch/LLaVA_RAG/RAG_Pipeline/HANDMADE_QUESTIONS_PIPELINE/storage/XzgR14o6b80/frames/frame_4200.jpg\n",
      "quarters and then just shred it and take your time you think of cabbage here and you think of sort of brazed overcooked cabbage nothing worse but I Tech you want freshness a little season of chili flakes they sort of discret \n"
     ]
    },
    {
     "name": "stderr",
     "output_type": "stream",
     "text": [
      "\r",
      "71it [02:40,  2.27s/it]"
     ]
    },
    {
     "name": "stdout",
     "output_type": "stream",
     "text": [
      "(512,)\n",
      "/home/hice1/bpopper3/scratch/LLaVA_RAG/RAG_Pipeline/HANDMADE_QUESTIONS_PIPELINE/storage/XzgR14o6b80/frames/frame_4260.jpg\n",
      "your time you think of cabbage here and you think of sort of brazed overcooked cabbage nothing worse but I Tech you want freshness a little season of chili flakes they sort of discret \n"
     ]
    },
    {
     "name": "stderr",
     "output_type": "stream",
     "text": [
      "\r",
      "72it [02:42,  2.27s/it]"
     ]
    },
    {
     "name": "stdout",
     "output_type": "stream",
     "text": [
      "(512,)\n",
      "/home/hice1/bpopper3/scratch/LLaVA_RAG/RAG_Pipeline/HANDMADE_QUESTIONS_PIPELINE/storage/XzgR14o6b80/frames/frame_4320.jpg\n",
      "time you think of cabbage here and you think of sort of brazed overcooked cabbage nothing worse but I Tech you want freshness a little season of chili flakes they sort of discret give it a little bit of heat little \n"
     ]
    },
    {
     "name": "stderr",
     "output_type": "stream",
     "text": [
      "\r",
      "73it [02:44,  2.27s/it]"
     ]
    },
    {
     "name": "stdout",
     "output_type": "stream",
     "text": [
      "(512,)\n",
      "/home/hice1/bpopper3/scratch/LLaVA_RAG/RAG_Pipeline/HANDMADE_QUESTIONS_PIPELINE/storage/XzgR14o6b80/frames/frame_4380.jpg\n",
      "time you think of cabbage here and you think of sort of brazed overcooked cabbage nothing worse but I Tech you want freshness a little season of chili flakes they sort of discret give it a little bit of heat little touch of rice wine vinegar you haven't \n"
     ]
    },
    {
     "name": "stderr",
     "output_type": "stream",
     "text": [
      "\r",
      "74it [02:47,  2.28s/it]"
     ]
    },
    {
     "name": "stdout",
     "output_type": "stream",
     "text": [
      "(512,)\n",
      "/home/hice1/bpopper3/scratch/LLaVA_RAG/RAG_Pipeline/HANDMADE_QUESTIONS_PIPELINE/storage/XzgR14o6b80/frames/frame_4440.jpg\n",
      "think of sort of brazed overcooked cabbage nothing worse but I Tech you want freshness a little season of chili flakes they sort of discret give it a little bit of heat little touch of rice wine vinegar you haven't got that fresh lemon \n"
     ]
    },
    {
     "name": "stderr",
     "output_type": "stream",
     "text": [
      "\r",
      "75it [02:49,  2.28s/it]"
     ]
    },
    {
     "name": "stdout",
     "output_type": "stream",
     "text": [
      "(512,)\n",
      "/home/hice1/bpopper3/scratch/LLaVA_RAG/RAG_Pipeline/HANDMADE_QUESTIONS_PIPELINE/storage/XzgR14o6b80/frames/frame_4500.jpg\n",
      "cabbage nothing worse but I Tech you want freshness a little season of chili flakes they sort of discret give it a little bit of heat little touch of rice wine vinegar you haven't got that fresh lemon juice small drop of toasted sesame seed \n"
     ]
    },
    {
     "name": "stderr",
     "output_type": "stream",
     "text": [
      "\r",
      "76it [02:51,  2.28s/it]"
     ]
    },
    {
     "name": "stdout",
     "output_type": "stream",
     "text": [
      "(512,)\n",
      "/home/hice1/bpopper3/scratch/LLaVA_RAG/RAG_Pipeline/HANDMADE_QUESTIONS_PIPELINE/storage/XzgR14o6b80/frames/frame_4560.jpg\n",
      "want freshness a little season of chili flakes they sort of discret give it a little bit of heat little touch of rice wine vinegar you haven't got that fresh lemon juice small drop of toasted sesame seed oil give that a really good mix now I \n"
     ]
    },
    {
     "name": "stderr",
     "output_type": "stream",
     "text": [
      "\r",
      "77it [02:54,  2.28s/it]"
     ]
    },
    {
     "name": "stdout",
     "output_type": "stream",
     "text": [
      "(512,)\n",
      "/home/hice1/bpopper3/scratch/LLaVA_RAG/RAG_Pipeline/HANDMADE_QUESTIONS_PIPELINE/storage/XzgR14o6b80/frames/frame_4620.jpg\n",
      "flakes they sort of discret give it a little bit of heat little touch of rice wine vinegar you haven't got that fresh lemon juice small drop of toasted sesame seed oil give that a really good mix now I \n"
     ]
    },
    {
     "name": "stderr",
     "output_type": "stream",
     "text": [
      "\r",
      "78it [02:56,  2.28s/it]"
     ]
    },
    {
     "name": "stdout",
     "output_type": "stream",
     "text": [
      "(512,)\n",
      "/home/hice1/bpopper3/scratch/LLaVA_RAG/RAG_Pipeline/HANDMADE_QUESTIONS_PIPELINE/storage/XzgR14o6b80/frames/frame_4680.jpg\n",
      "flakes they sort of discret give it a little bit of heat little touch of rice wine vinegar you haven't got that fresh lemon juice small drop of toasted sesame seed oil give that a really good mix now I need something to sort of Bring It \n"
     ]
    },
    {
     "name": "stderr",
     "output_type": "stream",
     "text": [
      "\r",
      "79it [02:58,  2.29s/it]"
     ]
    },
    {
     "name": "stdout",
     "output_type": "stream",
     "text": [
      "(512,)\n",
      "/home/hice1/bpopper3/scratch/LLaVA_RAG/RAG_Pipeline/HANDMADE_QUESTIONS_PIPELINE/storage/XzgR14o6b80/frames/frame_4740.jpg\n",
      "give it a little bit of heat little touch of rice wine vinegar you haven't got that fresh lemon juice small drop of toasted sesame seed oil give that a really good mix now I need something to sort of Bring It Together take some wabby paste very hot \n"
     ]
    },
    {
     "name": "stderr",
     "output_type": "stream",
     "text": [
      "\r",
      "80it [03:01,  2.30s/it]"
     ]
    },
    {
     "name": "stdout",
     "output_type": "stream",
     "text": [
      "(512,)\n",
      "/home/hice1/bpopper3/scratch/LLaVA_RAG/RAG_Pipeline/HANDMADE_QUESTIONS_PIPELINE/storage/XzgR14o6b80/frames/frame_4800.jpg\n",
      "touch of rice wine vinegar you haven't got that fresh lemon juice small drop of toasted sesame seed oil give that a really good mix now I need something to sort of Bring It Together take some wabby paste very hot very spicy a sort of thumbnail size I'm \n"
     ]
    },
    {
     "name": "stderr",
     "output_type": "stream",
     "text": [
      "\r",
      "81it [03:03,  2.30s/it]"
     ]
    },
    {
     "name": "stdout",
     "output_type": "stream",
     "text": [
      "(512,)\n",
      "/home/hice1/bpopper3/scratch/LLaVA_RAG/RAG_Pipeline/HANDMADE_QUESTIONS_PIPELINE/storage/XzgR14o6b80/frames/frame_4860.jpg\n",
      "got that fresh lemon juice small drop of toasted sesame seed oil give that a really good mix now I need something to sort of Bring It Together take some wabby paste very hot very spicy a sort of thumbnail size I'm going to mix that with a couple of \n"
     ]
    },
    {
     "name": "stderr",
     "output_type": "stream",
     "text": [
      "\r",
      "82it [03:05,  2.31s/it]"
     ]
    },
    {
     "name": "stdout",
     "output_type": "stream",
     "text": [
      "(512,)\n",
      "/home/hice1/bpopper3/scratch/LLaVA_RAG/RAG_Pipeline/HANDMADE_QUESTIONS_PIPELINE/storage/XzgR14o6b80/frames/frame_4920.jpg\n",
      "juice small drop of toasted sesame seed oil give that a really good mix now I need something to sort of Bring It Together take some wabby paste very hot very spicy a sort of thumbnail size I'm going to mix that with a couple of tablespoons of mayonnaise and give that \n"
     ]
    },
    {
     "name": "stderr",
     "output_type": "stream",
     "text": [
      "\r",
      "83it [03:07,  2.31s/it]"
     ]
    },
    {
     "name": "stdout",
     "output_type": "stream",
     "text": [
      "(512,)\n",
      "/home/hice1/bpopper3/scratch/LLaVA_RAG/RAG_Pipeline/HANDMADE_QUESTIONS_PIPELINE/storage/XzgR14o6b80/frames/frame_4980.jpg\n",
      "oil give that a really good mix now I need something to sort of Bring It Together take some wabby paste very hot very spicy a sort of thumbnail size I'm going to mix that with a couple of tablespoons of mayonnaise and give that a really good mix \n"
     ]
    },
    {
     "name": "stderr",
     "output_type": "stream",
     "text": [
      "\r",
      "84it [03:10,  2.32s/it]"
     ]
    },
    {
     "name": "stdout",
     "output_type": "stream",
     "text": [
      "(512,)\n",
      "/home/hice1/bpopper3/scratch/LLaVA_RAG/RAG_Pipeline/HANDMADE_QUESTIONS_PIPELINE/storage/XzgR14o6b80/frames/frame_5040.jpg\n",
      "need something to sort of Bring It Together take some wabby paste very hot very spicy a sort of thumbnail size I'm going to mix that with a couple of tablespoons of mayonnaise and give that a really good mix \n"
     ]
    },
    {
     "name": "stderr",
     "output_type": "stream",
     "text": [
      "\r",
      "85it [03:12,  2.30s/it]"
     ]
    },
    {
     "name": "stdout",
     "output_type": "stream",
     "text": [
      "(512,)\n",
      "/home/hice1/bpopper3/scratch/LLaVA_RAG/RAG_Pipeline/HANDMADE_QUESTIONS_PIPELINE/storage/XzgR14o6b80/frames/frame_5100.jpg\n",
      "need something to sort of Bring It Together take some wabby paste very hot very spicy a sort of thumbnail size I'm going to mix that with a couple of tablespoons of mayonnaise and give that a really good mix these are basic corn tortilla the trick \n"
     ]
    },
    {
     "name": "stderr",
     "output_type": "stream",
     "text": [
      "\r",
      "86it [03:14,  2.29s/it]"
     ]
    },
    {
     "name": "stdout",
     "output_type": "stream",
     "text": [
      "(512,)\n",
      "/home/hice1/bpopper3/scratch/LLaVA_RAG/RAG_Pipeline/HANDMADE_QUESTIONS_PIPELINE/storage/XzgR14o6b80/frames/frame_5160.jpg\n",
      "Together take some wabby paste very hot very spicy a sort of thumbnail size I'm going to mix that with a couple of tablespoons of mayonnaise and give that a really good mix these are basic corn tortilla the trick \n"
     ]
    },
    {
     "name": "stderr",
     "output_type": "stream",
     "text": [
      "\r",
      "87it [03:17,  2.28s/it]"
     ]
    },
    {
     "name": "stdout",
     "output_type": "stream",
     "text": [
      "(512,)\n",
      "/home/hice1/bpopper3/scratch/LLaVA_RAG/RAG_Pipeline/HANDMADE_QUESTIONS_PIPELINE/storage/XzgR14o6b80/frames/frame_5220.jpg\n",
      "very spicy a sort of thumbnail size I'm going to mix that with a couple of tablespoons of mayonnaise and give that a really good mix these are basic corn tortilla the trick is to sort of color them and then shape \n"
     ]
    },
    {
     "name": "stderr",
     "output_type": "stream",
     "text": [
      "\r",
      "88it [03:19,  2.28s/it]"
     ]
    },
    {
     "name": "stdout",
     "output_type": "stream",
     "text": [
      "(512,)\n",
      "/home/hice1/bpopper3/scratch/LLaVA_RAG/RAG_Pipeline/HANDMADE_QUESTIONS_PIPELINE/storage/XzgR14o6b80/frames/frame_5280.jpg\n",
      "going to mix that with a couple of tablespoons of mayonnaise and give that a really good mix these are basic corn tortilla the trick is to sort of color them and then shape them actually place it on the gas ring \n"
     ]
    },
    {
     "name": "stderr",
     "output_type": "stream",
     "text": [
      "\r",
      "89it [03:21,  2.28s/it]"
     ]
    },
    {
     "name": "stdout",
     "output_type": "stream",
     "text": [
      "(512,)\n",
      "/home/hice1/bpopper3/scratch/LLaVA_RAG/RAG_Pipeline/HANDMADE_QUESTIONS_PIPELINE/storage/XzgR14o6b80/frames/frame_5340.jpg\n",
      "going to mix that with a couple of tablespoons of mayonnaise and give that a really good mix these are basic corn tortilla the trick is to sort of color them and then shape them actually place it on the gas ring \n"
     ]
    },
    {
     "name": "stderr",
     "output_type": "stream",
     "text": [
      "\r",
      "90it [03:23,  2.26s/it]"
     ]
    },
    {
     "name": "stdout",
     "output_type": "stream",
     "text": [
      "(512,)\n",
      "/home/hice1/bpopper3/scratch/LLaVA_RAG/RAG_Pipeline/HANDMADE_QUESTIONS_PIPELINE/storage/XzgR14o6b80/frames/frame_5400.jpg\n",
      "tablespoons of mayonnaise and give that a really good mix these are basic corn tortilla the trick is to sort of color them and then shape them actually place it on the gas ring use some tongs so it's not to burn \n"
     ]
    },
    {
     "name": "stderr",
     "output_type": "stream",
     "text": [
      "\r",
      "91it [03:26,  2.27s/it]"
     ]
    },
    {
     "name": "stdout",
     "output_type": "stream",
     "text": [
      "(512,)\n",
      "/home/hice1/bpopper3/scratch/LLaVA_RAG/RAG_Pipeline/HANDMADE_QUESTIONS_PIPELINE/storage/XzgR14o6b80/frames/frame_5460.jpg\n",
      "a really good mix these are basic corn tortilla the trick is to sort of color them and then shape them actually place it on the gas ring use some tongs so it's not to burn \n"
     ]
    },
    {
     "name": "stderr",
     "output_type": "stream",
     "text": [
      "\r",
      "92it [03:28,  2.26s/it]"
     ]
    },
    {
     "name": "stdout",
     "output_type": "stream",
     "text": [
      "(512,)\n",
      "/home/hice1/bpopper3/scratch/LLaVA_RAG/RAG_Pipeline/HANDMADE_QUESTIONS_PIPELINE/storage/XzgR14o6b80/frames/frame_5520.jpg\n",
      "these are basic corn tortilla the trick is to sort of color them and then shape them actually place it on the gas ring use some tongs so it's not to burn yourself you can also toast your tacos \n"
     ]
    },
    {
     "name": "stderr",
     "output_type": "stream",
     "text": [
      "\r",
      "93it [03:30,  2.26s/it]"
     ]
    },
    {
     "name": "stdout",
     "output_type": "stream",
     "text": [
      "(512,)\n",
      "/home/hice1/bpopper3/scratch/LLaVA_RAG/RAG_Pipeline/HANDMADE_QUESTIONS_PIPELINE/storage/XzgR14o6b80/frames/frame_5580.jpg\n",
      "these are basic corn tortilla the trick is to sort of color them and then shape them actually place it on the gas ring use some tongs so it's not to burn yourself you can also toast your tacos in a frying pan from there just going to \n"
     ]
    },
    {
     "name": "stderr",
     "output_type": "stream",
     "text": [
      "\r",
      "94it [03:32,  2.27s/it]"
     ]
    },
    {
     "name": "stdout",
     "output_type": "stream",
     "text": [
      "(512,)\n",
      "/home/hice1/bpopper3/scratch/LLaVA_RAG/RAG_Pipeline/HANDMADE_QUESTIONS_PIPELINE/storage/XzgR14o6b80/frames/frame_5640.jpg\n",
      "is to sort of color them and then shape them actually place it on the gas ring use some tongs so it's not to burn yourself you can also toast your tacos in a frying pan from there just going to place \n"
     ]
    },
    {
     "name": "stderr",
     "output_type": "stream",
     "text": [
      "\r",
      "95it [03:35,  2.27s/it]"
     ]
    },
    {
     "name": "stdout",
     "output_type": "stream",
     "text": [
      "(512,)\n",
      "/home/hice1/bpopper3/scratch/LLaVA_RAG/RAG_Pipeline/HANDMADE_QUESTIONS_PIPELINE/storage/XzgR14o6b80/frames/frame_5700.jpg\n",
      "them actually place it on the gas ring use some tongs so it's not to burn yourself you can also toast your tacos in a frying pan from there just going to place it on the rolling pin literally 30 \n"
     ]
    },
    {
     "name": "stderr",
     "output_type": "stream",
     "text": [
      "\r",
      "96it [03:37,  2.26s/it]"
     ]
    },
    {
     "name": "stdout",
     "output_type": "stream",
     "text": [
      "(512,)\n",
      "/home/hice1/bpopper3/scratch/LLaVA_RAG/RAG_Pipeline/HANDMADE_QUESTIONS_PIPELINE/storage/XzgR14o6b80/frames/frame_5760.jpg\n",
      "use some tongs so it's not to burn yourself you can also toast your tacos in a frying pan from there just going to place it on the rolling pin literally 30 \n"
     ]
    },
    {
     "name": "stderr",
     "output_type": "stream",
     "text": [
      "\r",
      "97it [03:39,  2.25s/it]"
     ]
    },
    {
     "name": "stdout",
     "output_type": "stream",
     "text": [
      "(512,)\n",
      "/home/hice1/bpopper3/scratch/LLaVA_RAG/RAG_Pipeline/HANDMADE_QUESTIONS_PIPELINE/storage/XzgR14o6b80/frames/frame_5820.jpg\n",
      "use some tongs so it's not to burn yourself you can also toast your tacos in a frying pan from there just going to place it on the rolling pin literally 30 seconds as it cools down the great thing \n"
     ]
    },
    {
     "name": "stderr",
     "output_type": "stream",
     "text": [
      "\r",
      "98it [03:41,  2.26s/it]"
     ]
    },
    {
     "name": "stdout",
     "output_type": "stream",
     "text": [
      "(512,)\n",
      "/home/hice1/bpopper3/scratch/LLaVA_RAG/RAG_Pipeline/HANDMADE_QUESTIONS_PIPELINE/storage/XzgR14o6b80/frames/frame_5880.jpg\n",
      "use some tongs so it's not to burn yourself you can also toast your tacos in a frying pan from there just going to place it on the rolling pin literally 30 seconds as it cools down the great thing about serving tacos is people can fill \n"
     ]
    },
    {
     "name": "stderr",
     "output_type": "stream",
     "text": [
      "\r",
      "99it [03:44,  2.27s/it]"
     ]
    },
    {
     "name": "stdout",
     "output_type": "stream",
     "text": [
      "(512,)\n",
      "/home/hice1/bpopper3/scratch/LLaVA_RAG/RAG_Pipeline/HANDMADE_QUESTIONS_PIPELINE/storage/XzgR14o6b80/frames/frame_5940.jpg\n",
      "yourself you can also toast your tacos in a frying pan from there just going to place it on the rolling pin literally 30 seconds as it cools down the great thing about serving tacos is people can fill them themselves just the way they want \n"
     ]
    },
    {
     "name": "stderr",
     "output_type": "stream",
     "text": [
      "\r",
      "100it [03:46,  2.33s/it]"
     ]
    },
    {
     "name": "stdout",
     "output_type": "stream",
     "text": [
      "(512,)\n",
      "/home/hice1/bpopper3/scratch/LLaVA_RAG/RAG_Pipeline/HANDMADE_QUESTIONS_PIPELINE/storage/XzgR14o6b80/frames/frame_6000.jpg\n",
      "in a frying pan from there just going to place it on the rolling pin literally 30 seconds as it cools down the great thing about serving tacos is people can fill them themselves just the way they want them cabbage just squeeze out wet \n"
     ]
    },
    {
     "name": "stderr",
     "output_type": "stream",
     "text": [
      "\r",
      "101it [03:49,  2.32s/it]"
     ]
    },
    {
     "name": "stdout",
     "output_type": "stream",
     "text": [
      "(512,)\n",
      "/home/hice1/bpopper3/scratch/LLaVA_RAG/RAG_Pipeline/HANDMADE_QUESTIONS_PIPELINE/storage/XzgR14o6b80/frames/frame_6060.jpg\n",
      "place it on the rolling pin literally 30 seconds as it cools down the great thing about serving tacos is people can fill them themselves just the way they want them cabbage just squeeze out wet marinade a nice rustic Little \n"
     ]
    },
    {
     "name": "stderr",
     "output_type": "stream",
     "text": [
      "\r",
      "102it [03:51,  2.30s/it]"
     ]
    },
    {
     "name": "stdout",
     "output_type": "stream",
     "text": [
      "(512,)\n",
      "/home/hice1/bpopper3/scratch/LLaVA_RAG/RAG_Pipeline/HANDMADE_QUESTIONS_PIPELINE/storage/XzgR14o6b80/frames/frame_6120.jpg\n",
      "place it on the rolling pin literally 30 seconds as it cools down the great thing about serving tacos is people can fill them themselves just the way they want them cabbage just squeeze out wet marinade a nice rustic Little \n"
     ]
    },
    {
     "name": "stderr",
     "output_type": "stream",
     "text": [
      "\r",
      "103it [03:53,  2.29s/it]"
     ]
    },
    {
     "name": "stdout",
     "output_type": "stream",
     "text": [
      "(512,)\n",
      "/home/hice1/bpopper3/scratch/LLaVA_RAG/RAG_Pipeline/HANDMADE_QUESTIONS_PIPELINE/storage/XzgR14o6b80/frames/frame_6180.jpg\n",
      "it on the rolling pin literally 30 seconds as it cools down the great thing about serving tacos is people can fill them themselves just the way they want them cabbage just squeeze out wet marinade a nice rustic Little Mountain mayonnaise on oh you just see how soft \n"
     ]
    },
    {
     "name": "stderr",
     "output_type": "stream",
     "text": [
      "\r",
      "104it [03:55,  2.28s/it]"
     ]
    },
    {
     "name": "stdout",
     "output_type": "stream",
     "text": [
      "(512,)\n",
      "/home/hice1/bpopper3/scratch/LLaVA_RAG/RAG_Pipeline/HANDMADE_QUESTIONS_PIPELINE/storage/XzgR14o6b80/frames/frame_6240.jpg\n",
      "seconds as it cools down the great thing about serving tacos is people can fill them themselves just the way they want them cabbage just squeeze out wet marinade a nice rustic Little Mountain mayonnaise on oh you just see how soft \n"
     ]
    },
    {
     "name": "stderr",
     "output_type": "stream",
     "text": [
      "\r",
      "105it [03:58,  2.28s/it]"
     ]
    },
    {
     "name": "stdout",
     "output_type": "stream",
     "text": [
      "(512,)\n",
      "/home/hice1/bpopper3/scratch/LLaVA_RAG/RAG_Pipeline/HANDMADE_QUESTIONS_PIPELINE/storage/XzgR14o6b80/frames/frame_6300.jpg\n",
      "about serving tacos is people can fill them themselves just the way they want them cabbage just squeeze out wet marinade a nice rustic Little Mountain mayonnaise on oh you just see how soft \n"
     ]
    },
    {
     "name": "stderr",
     "output_type": "stream",
     "text": [
      "\r",
      "106it [04:00,  2.27s/it]"
     ]
    },
    {
     "name": "stdout",
     "output_type": "stream",
     "text": [
      "(512,)\n",
      "/home/hice1/bpopper3/scratch/LLaVA_RAG/RAG_Pipeline/HANDMADE_QUESTIONS_PIPELINE/storage/XzgR14o6b80/frames/frame_6360.jpg\n",
      "them themselves just the way they want them cabbage just squeeze out wet marinade a nice rustic Little Mountain mayonnaise on oh you just see how soft and delicious and almost sort of melting \n"
     ]
    },
    {
     "name": "stderr",
     "output_type": "stream",
     "text": [
      "\r",
      "107it [04:02,  2.27s/it]"
     ]
    },
    {
     "name": "stdout",
     "output_type": "stream",
     "text": [
      "(512,)\n",
      "/home/hice1/bpopper3/scratch/LLaVA_RAG/RAG_Pipeline/HANDMADE_QUESTIONS_PIPELINE/storage/XzgR14o6b80/frames/frame_6420.jpg\n",
      "them cabbage just squeeze out wet marinade a nice rustic Little Mountain mayonnaise on oh you just see how soft and delicious and almost sort of melting in the mouth texture we've got and this \n"
     ]
    },
    {
     "name": "stderr",
     "output_type": "stream",
     "text": [
      "\r",
      "108it [04:04,  2.27s/it]"
     ]
    },
    {
     "name": "stdout",
     "output_type": "stream",
     "text": [
      "(512,)\n",
      "/home/hice1/bpopper3/scratch/LLaVA_RAG/RAG_Pipeline/HANDMADE_QUESTIONS_PIPELINE/storage/XzgR14o6b80/frames/frame_6480.jpg\n",
      "marinade a nice rustic Little Mountain mayonnaise on oh you just see how soft and delicious and almost sort of melting in the mouth texture we've got and this amazing sirloin so got that really nice \n"
     ]
    },
    {
     "name": "stderr",
     "output_type": "stream",
     "text": [
      "\r",
      "109it [04:07,  2.26s/it]"
     ]
    },
    {
     "name": "stdout",
     "output_type": "stream",
     "text": [
      "(512,)\n",
      "/home/hice1/bpopper3/scratch/LLaVA_RAG/RAG_Pipeline/HANDMADE_QUESTIONS_PIPELINE/storage/XzgR14o6b80/frames/frame_6540.jpg\n",
      "marinade a nice rustic Little Mountain mayonnaise on oh you just see how soft and delicious and almost sort of melting in the mouth texture we've got and this amazing sirloin so got that really nice nice sear around the outside it's just \n"
     ]
    },
    {
     "name": "stderr",
     "output_type": "stream",
     "text": [
      "\r",
      "110it [04:09,  2.27s/it]"
     ]
    },
    {
     "name": "stdout",
     "output_type": "stream",
     "text": [
      "(512,)\n",
      "/home/hice1/bpopper3/scratch/LLaVA_RAG/RAG_Pipeline/HANDMADE_QUESTIONS_PIPELINE/storage/XzgR14o6b80/frames/frame_6600.jpg\n",
      "Mountain mayonnaise on oh you just see how soft and delicious and almost sort of melting in the mouth texture we've got and this amazing sirloin so got that really nice nice sear around the outside it's just nice and pink in the \n"
     ]
    },
    {
     "name": "stderr",
     "output_type": "stream",
     "text": [
      "\r",
      "111it [04:11,  2.28s/it]"
     ]
    },
    {
     "name": "stdout",
     "output_type": "stream",
     "text": [
      "(512,)\n",
      "/home/hice1/bpopper3/scratch/LLaVA_RAG/RAG_Pipeline/HANDMADE_QUESTIONS_PIPELINE/storage/XzgR14o6b80/frames/frame_6660.jpg\n",
      "mayonnaise on oh you just see how soft and delicious and almost sort of melting in the mouth texture we've got and this amazing sirloin so got that really nice nice sear around the outside it's just nice and pink in the middle start off with my crispy shell \n"
     ]
    },
    {
     "name": "stderr",
     "output_type": "stream",
     "text": [
      "\r",
      "112it [04:14,  2.30s/it]"
     ]
    },
    {
     "name": "stdout",
     "output_type": "stream",
     "text": [
      "(512,)\n",
      "/home/hice1/bpopper3/scratch/LLaVA_RAG/RAG_Pipeline/HANDMADE_QUESTIONS_PIPELINE/storage/XzgR14o6b80/frames/frame_6720.jpg\n",
      "and delicious and almost sort of melting in the mouth texture we've got and this amazing sirloin so got that really nice nice sear around the outside it's just nice and pink in the middle start off with my crispy shell \n"
     ]
    },
    {
     "name": "stderr",
     "output_type": "stream",
     "text": [
      "\r",
      "113it [04:16,  2.29s/it]"
     ]
    },
    {
     "name": "stdout",
     "output_type": "stream",
     "text": [
      "(512,)\n",
      "/home/hice1/bpopper3/scratch/LLaVA_RAG/RAG_Pipeline/HANDMADE_QUESTIONS_PIPELINE/storage/XzgR14o6b80/frames/frame_6780.jpg\n",
      "and delicious and almost sort of melting in the mouth texture we've got and this amazing sirloin so got that really nice nice sear around the outside it's just nice and pink in the middle start off with my crispy shell back of the spoon with the Wasabi \n"
     ]
    },
    {
     "name": "stderr",
     "output_type": "stream",
     "text": [
      "\r",
      "114it [04:18,  2.28s/it]"
     ]
    },
    {
     "name": "stdout",
     "output_type": "stream",
     "text": [
      "(512,)\n",
      "/home/hice1/bpopper3/scratch/LLaVA_RAG/RAG_Pipeline/HANDMADE_QUESTIONS_PIPELINE/storage/XzgR14o6b80/frames/frame_6840.jpg\n",
      "in the mouth texture we've got and this amazing sirloin so got that really nice nice sear around the outside it's just nice and pink in the middle start off with my crispy shell back of the spoon with the Wasabi mayonnaise inside Taco just spinkle that \n"
     ]
    },
    {
     "name": "stderr",
     "output_type": "stream",
     "text": [
      "\r",
      "115it [04:20,  2.29s/it]"
     ]
    },
    {
     "name": "stdout",
     "output_type": "stream",
     "text": [
      "(512,)\n",
      "/home/hice1/bpopper3/scratch/LLaVA_RAG/RAG_Pipeline/HANDMADE_QUESTIONS_PIPELINE/storage/XzgR14o6b80/frames/frame_6900.jpg\n",
      "amazing sirloin so got that really nice nice sear around the outside it's just nice and pink in the middle start off with my crispy shell back of the spoon with the Wasabi mayonnaise inside Taco just spinkle that \n"
     ]
    },
    {
     "name": "stderr",
     "output_type": "stream",
     "text": [
      "\r",
      "116it [04:23,  2.29s/it]"
     ]
    },
    {
     "name": "stdout",
     "output_type": "stream",
     "text": [
      "(512,)\n",
      "/home/hice1/bpopper3/scratch/LLaVA_RAG/RAG_Pipeline/HANDMADE_QUESTIONS_PIPELINE/storage/XzgR14o6b80/frames/frame_6960.jpg\n",
      "nice sear around the outside it's just nice and pink in the middle start off with my crispy shell back of the spoon with the Wasabi mayonnaise inside Taco just spinkle that delicious pickled cabbage and then just \n"
     ]
    },
    {
     "name": "stderr",
     "output_type": "stream",
     "text": [
      "\r",
      "117it [04:25,  2.28s/it]"
     ]
    },
    {
     "name": "stdout",
     "output_type": "stream",
     "text": [
      "(512,)\n",
      "/home/hice1/bpopper3/scratch/LLaVA_RAG/RAG_Pipeline/HANDMADE_QUESTIONS_PIPELINE/storage/XzgR14o6b80/frames/frame_7020.jpg\n",
      "nice and pink in the middle start off with my crispy shell back of the spoon with the Wasabi mayonnaise inside Taco just spinkle that delicious pickled cabbage and then just \n"
     ]
    },
    {
     "name": "stderr",
     "output_type": "stream",
     "text": [
      "\r",
      "118it [04:27,  2.26s/it]"
     ]
    },
    {
     "name": "stdout",
     "output_type": "stream",
     "text": [
      "(512,)\n",
      "/home/hice1/bpopper3/scratch/LLaVA_RAG/RAG_Pipeline/HANDMADE_QUESTIONS_PIPELINE/storage/XzgR14o6b80/frames/frame_7080.jpg\n",
      "nice and pink in the middle start off with my crispy shell back of the spoon with the Wasabi mayonnaise inside Taco just spinkle that delicious pickled cabbage and then just start lining my taco with three or four \n"
     ]
    },
    {
     "name": "stderr",
     "output_type": "stream",
     "text": [
      "\r",
      "119it [04:29,  2.27s/it]"
     ]
    },
    {
     "name": "stdout",
     "output_type": "stream",
     "text": [
      "(512,)\n",
      "/home/hice1/bpopper3/scratch/LLaVA_RAG/RAG_Pipeline/HANDMADE_QUESTIONS_PIPELINE/storage/XzgR14o6b80/frames/frame_7140.jpg\n",
      "back of the spoon with the Wasabi mayonnaise inside Taco just spinkle that delicious pickled cabbage and then just start lining my taco with three or four slices touch \n"
     ]
    },
    {
     "name": "stderr",
     "output_type": "stream",
     "text": [
      "\r",
      "120it [04:32,  2.25s/it]"
     ]
    },
    {
     "name": "stdout",
     "output_type": "stream",
     "text": [
      "(512,)\n",
      "/home/hice1/bpopper3/scratch/LLaVA_RAG/RAG_Pipeline/HANDMADE_QUESTIONS_PIPELINE/storage/XzgR14o6b80/frames/frame_7200.jpg\n",
      "back of the spoon with the Wasabi mayonnaise inside Taco just spinkle that delicious pickled cabbage and then just start lining my taco with three or four slices touch more on my spicy \n"
     ]
    },
    {
     "name": "stderr",
     "output_type": "stream",
     "text": [
      "\r",
      "121it [04:34,  2.25s/it]"
     ]
    },
    {
     "name": "stdout",
     "output_type": "stream",
     "text": [
      "(512,)\n",
      "/home/hice1/bpopper3/scratch/LLaVA_RAG/RAG_Pipeline/HANDMADE_QUESTIONS_PIPELINE/storage/XzgR14o6b80/frames/frame_7260.jpg\n",
      "mayonnaise inside Taco just spinkle that delicious pickled cabbage and then just start lining my taco with three or four slices touch more on my spicy \n"
     ]
    },
    {
     "name": "stderr",
     "output_type": "stream",
     "text": [
      "\r",
      "122it [04:36,  2.23s/it]"
     ]
    },
    {
     "name": "stdout",
     "output_type": "stream",
     "text": [
      "(512,)\n",
      "/home/hice1/bpopper3/scratch/LLaVA_RAG/RAG_Pipeline/HANDMADE_QUESTIONS_PIPELINE/storage/XzgR14o6b80/frames/frame_7320.jpg\n",
      "delicious pickled cabbage and then just start lining my taco with three or four slices touch more on my spicy Mayo that is how I'd make the perfect \n"
     ]
    },
    {
     "name": "stderr",
     "output_type": "stream",
     "text": [
      "\r",
      "123it [04:38,  2.23s/it]"
     ]
    },
    {
     "name": "stdout",
     "output_type": "stream",
     "text": [
      "(512,)\n",
      "/home/hice1/bpopper3/scratch/LLaVA_RAG/RAG_Pipeline/HANDMADE_QUESTIONS_PIPELINE/storage/XzgR14o6b80/frames/frame_7380.jpg\n",
      "delicious pickled cabbage and then just start lining my taco with three or four slices touch more on my spicy Mayo that is how I'd make the perfect Tacko \n"
     ]
    },
    {
     "name": "stderr",
     "output_type": "stream",
     "text": [
      "\r",
      "124it [04:41,  2.23s/it]"
     ]
    },
    {
     "name": "stdout",
     "output_type": "stream",
     "text": [
      "(512,)\n",
      "/home/hice1/bpopper3/scratch/LLaVA_RAG/RAG_Pipeline/HANDMADE_QUESTIONS_PIPELINE/storage/XzgR14o6b80/frames/frame_7440.jpg\n",
      "start lining my taco with three or four slices touch more on my spicy Mayo that is how I'd make the perfect Tacko \n"
     ]
    },
    {
     "name": "stderr",
     "output_type": "stream",
     "text": [
      "\r",
      "125it [04:43,  2.23s/it]"
     ]
    },
    {
     "name": "stdout",
     "output_type": "stream",
     "text": [
      "(512,)\n",
      "/home/hice1/bpopper3/scratch/LLaVA_RAG/RAG_Pipeline/HANDMADE_QUESTIONS_PIPELINE/storage/XzgR14o6b80/frames/frame_7500.jpg\n",
      "start lining my taco with three or four slices touch more on my spicy Mayo that is how I'd make the perfect Tacko \n"
     ]
    },
    {
     "name": "stderr",
     "output_type": "stream",
     "text": [
      "\r",
      "126it [04:45,  2.22s/it]"
     ]
    },
    {
     "name": "stdout",
     "output_type": "stream",
     "text": [
      "(512,)\n",
      "/home/hice1/bpopper3/scratch/LLaVA_RAG/RAG_Pipeline/HANDMADE_QUESTIONS_PIPELINE/storage/XzgR14o6b80/frames/frame_7560.jpg\n",
      "slices touch more on my spicy Mayo that is how I'd make the perfect Tacko \n"
     ]
    },
    {
     "name": "stderr",
     "output_type": "stream",
     "text": [
      "\r",
      "127it [04:47,  2.21s/it]"
     ]
    },
    {
     "name": "stdout",
     "output_type": "stream",
     "text": [
      "(512,)\n",
      "/home/hice1/bpopper3/scratch/LLaVA_RAG/RAG_Pipeline/HANDMADE_QUESTIONS_PIPELINE/storage/XzgR14o6b80/frames/frame_7620.jpg\n",
      "slices touch more on my spicy Mayo that is how I'd make the perfect Tacko \n"
     ]
    },
    {
     "name": "stderr",
     "output_type": "stream",
     "text": [
      "\r",
      "128it [04:49,  2.20s/it]"
     ]
    },
    {
     "name": "stdout",
     "output_type": "stream",
     "text": [
      "(512,)\n",
      "/home/hice1/bpopper3/scratch/LLaVA_RAG/RAG_Pipeline/HANDMADE_QUESTIONS_PIPELINE/storage/XzgR14o6b80/frames/frame_7680.jpg\n",
      "Mayo that is how I'd make the perfect Tacko \n"
     ]
    },
    {
     "name": "stderr",
     "output_type": "stream",
     "text": [
      "\r",
      "129it [04:52,  2.19s/it]"
     ]
    },
    {
     "name": "stdout",
     "output_type": "stream",
     "text": [
      "(512,)\n",
      "/home/hice1/bpopper3/scratch/LLaVA_RAG/RAG_Pipeline/HANDMADE_QUESTIONS_PIPELINE/storage/XzgR14o6b80/frames/frame_7740.jpg\n",
      "Mayo that is how I'd make the perfect Tacko \n"
     ]
    },
    {
     "name": "stderr",
     "output_type": "stream",
     "text": [
      "130it [04:54,  2.26s/it]\n"
     ]
    },
    {
     "name": "stdout",
     "output_type": "stream",
     "text": [
      "(512,)\n",
      "saved faiss index\n"
     ]
    },
    {
     "name": "stderr",
     "output_type": "stream",
     "text": [
      "\r",
      "0it [00:00, ?it/s]"
     ]
    },
    {
     "name": "stdout",
     "output_type": "stream",
     "text": [
      "/home/hice1/bpopper3/scratch/LLaVA_RAG/RAG_Pipeline/HANDMADE_QUESTIONS_PIPELINE/storage/vow-kxTPatc/frames/frame_0000.jpg\n",
      "Namaste I am Mula welcome to my kitchen \n"
     ]
    },
    {
     "name": "stderr",
     "output_type": "stream",
     "text": [
      "\r",
      "1it [00:02,  2.20s/it]"
     ]
    },
    {
     "name": "stdout",
     "output_type": "stream",
     "text": [
      "(512,)\n",
      "/home/hice1/bpopper3/scratch/LLaVA_RAG/RAG_Pipeline/HANDMADE_QUESTIONS_PIPELINE/storage/vow-kxTPatc/frames/frame_0060.jpg\n",
      "Namaste I am Mula welcome to my kitchen \n"
     ]
    },
    {
     "name": "stderr",
     "output_type": "stream",
     "text": [
      "\r",
      "2it [00:04,  2.19s/it]"
     ]
    },
    {
     "name": "stdout",
     "output_type": "stream",
     "text": [
      "(512,)\n",
      "/home/hice1/bpopper3/scratch/LLaVA_RAG/RAG_Pipeline/HANDMADE_QUESTIONS_PIPELINE/storage/vow-kxTPatc/frames/frame_0120.jpg\n",
      "Namaste I am Mula welcome to my kitchen today I will be making \n"
     ]
    },
    {
     "name": "stderr",
     "output_type": "stream",
     "text": [
      "\r",
      "3it [00:06,  2.19s/it]"
     ]
    },
    {
     "name": "stdout",
     "output_type": "stream",
     "text": [
      "(512,)\n",
      "/home/hice1/bpopper3/scratch/LLaVA_RAG/RAG_Pipeline/HANDMADE_QUESTIONS_PIPELINE/storage/vow-kxTPatc/frames/frame_0180.jpg\n",
      "Namaste I am Mula welcome to my kitchen today I will be making Nan Nan is Indian \n"
     ]
    },
    {
     "name": "stderr",
     "output_type": "stream",
     "text": [
      "\r",
      "4it [00:08,  2.19s/it]"
     ]
    },
    {
     "name": "stdout",
     "output_type": "stream",
     "text": [
      "(512,)\n",
      "/home/hice1/bpopper3/scratch/LLaVA_RAG/RAG_Pipeline/HANDMADE_QUESTIONS_PIPELINE/storage/vow-kxTPatc/frames/frame_0240.jpg\n",
      "Namaste I am Mula welcome to my kitchen today I will be making Nan Nan is Indian bread originated in \n"
     ]
    },
    {
     "name": "stderr",
     "output_type": "stream",
     "text": [
      "\r",
      "5it [00:11,  2.24s/it]"
     ]
    },
    {
     "name": "stdout",
     "output_type": "stream",
     "text": [
      "(512,)\n",
      "/home/hice1/bpopper3/scratch/LLaVA_RAG/RAG_Pipeline/HANDMADE_QUESTIONS_PIPELINE/storage/vow-kxTPatc/frames/frame_0300.jpg\n",
      "Namaste I am Mula welcome to my kitchen today I will be making Nan Nan is Indian bread originated in \n"
     ]
    },
    {
     "name": "stderr",
     "output_type": "stream",
     "text": [
      "\r",
      "6it [00:13,  2.22s/it]"
     ]
    },
    {
     "name": "stdout",
     "output_type": "stream",
     "text": [
      "(512,)\n",
      "/home/hice1/bpopper3/scratch/LLaVA_RAG/RAG_Pipeline/HANDMADE_QUESTIONS_PIPELINE/storage/vow-kxTPatc/frames/frame_0360.jpg\n",
      "Namaste I am Mula welcome to my kitchen today I will be making Nan Nan is Indian bread originated in Punjab and it's made in clay one if you \n"
     ]
    },
    {
     "name": "stderr",
     "output_type": "stream",
     "text": [
      "\r",
      "7it [00:15,  2.22s/it]"
     ]
    },
    {
     "name": "stdout",
     "output_type": "stream",
     "text": [
      "(512,)\n",
      "/home/hice1/bpopper3/scratch/LLaVA_RAG/RAG_Pipeline/HANDMADE_QUESTIONS_PIPELINE/storage/vow-kxTPatc/frames/frame_0420.jpg\n",
      "Namaste I am Mula welcome to my kitchen today I will be making Nan Nan is Indian bread originated in Punjab and it's made in clay one if you \n"
     ]
    },
    {
     "name": "stderr",
     "output_type": "stream",
     "text": [
      "\r",
      "8it [00:17,  2.23s/it]"
     ]
    },
    {
     "name": "stdout",
     "output_type": "stream",
     "text": [
      "(512,)\n",
      "/home/hice1/bpopper3/scratch/LLaVA_RAG/RAG_Pipeline/HANDMADE_QUESTIONS_PIPELINE/storage/vow-kxTPatc/frames/frame_0480.jpg\n",
      "Namaste I am Mula welcome to my kitchen today I will be making Nan Nan is Indian bread originated in Punjab and it's made in clay one if you go to any Indian restaurant you will \n"
     ]
    },
    {
     "name": "stderr",
     "output_type": "stream",
     "text": [
      "\r",
      "9it [00:20,  2.24s/it]"
     ]
    },
    {
     "name": "stdout",
     "output_type": "stream",
     "text": [
      "(512,)\n",
      "/home/hice1/bpopper3/scratch/LLaVA_RAG/RAG_Pipeline/HANDMADE_QUESTIONS_PIPELINE/storage/vow-kxTPatc/frames/frame_0540.jpg\n",
      "Namaste I am Mula welcome to my kitchen today I will be making Nan Nan is Indian bread originated in Punjab and it's made in clay one if you go to any Indian restaurant you will \n"
     ]
    },
    {
     "name": "stderr",
     "output_type": "stream",
     "text": [
      "\r",
      "10it [00:22,  2.24s/it]"
     ]
    },
    {
     "name": "stdout",
     "output_type": "stream",
     "text": [
      "(512,)\n",
      "/home/hice1/bpopper3/scratch/LLaVA_RAG/RAG_Pipeline/HANDMADE_QUESTIONS_PIPELINE/storage/vow-kxTPatc/frames/frame_0600.jpg\n",
      "today I will be making Nan Nan is Indian bread originated in Punjab and it's made in clay one if you go to any Indian restaurant you will find Nan this is a very popular \n"
     ]
    },
    {
     "name": "stderr",
     "output_type": "stream",
     "text": [
      "\r",
      "11it [00:24,  2.25s/it]"
     ]
    },
    {
     "name": "stdout",
     "output_type": "stream",
     "text": [
      "(512,)\n",
      "/home/hice1/bpopper3/scratch/LLaVA_RAG/RAG_Pipeline/HANDMADE_QUESTIONS_PIPELINE/storage/vow-kxTPatc/frames/frame_0660.jpg\n",
      "today I will be making Nan Nan is Indian bread originated in Punjab and it's made in clay one if you go to any Indian restaurant you will find Nan this is a very popular \n"
     ]
    },
    {
     "name": "stderr",
     "output_type": "stream",
     "text": [
      "\r",
      "12it [00:26,  2.24s/it]"
     ]
    },
    {
     "name": "stdout",
     "output_type": "stream",
     "text": [
      "(512,)\n",
      "/home/hice1/bpopper3/scratch/LLaVA_RAG/RAG_Pipeline/HANDMADE_QUESTIONS_PIPELINE/storage/vow-kxTPatc/frames/frame_0720.jpg\n",
      "Nan Nan is Indian bread originated in Punjab and it's made in clay one if you go to any Indian restaurant you will find Nan this is a very popular \n"
     ]
    },
    {
     "name": "stderr",
     "output_type": "stream",
     "text": [
      "\r",
      "13it [00:28,  2.23s/it]"
     ]
    },
    {
     "name": "stdout",
     "output_type": "stream",
     "text": [
      "(512,)\n",
      "/home/hice1/bpopper3/scratch/LLaVA_RAG/RAG_Pipeline/HANDMADE_QUESTIONS_PIPELINE/storage/vow-kxTPatc/frames/frame_0780.jpg\n",
      "bread originated in Punjab and it's made in clay one if you go to any Indian restaurant you will find Nan this is a very popular bread you can serve this with a chickp \n"
     ]
    },
    {
     "name": "stderr",
     "output_type": "stream",
     "text": [
      "\r",
      "14it [00:31,  2.23s/it]"
     ]
    },
    {
     "name": "stdout",
     "output_type": "stream",
     "text": [
      "(512,)\n",
      "/home/hice1/bpopper3/scratch/LLaVA_RAG/RAG_Pipeline/HANDMADE_QUESTIONS_PIPELINE/storage/vow-kxTPatc/frames/frame_0840.jpg\n",
      "Punjab and it's made in clay one if you go to any Indian restaurant you will find Nan this is a very popular bread you can serve this with a chickp \n"
     ]
    },
    {
     "name": "stderr",
     "output_type": "stream",
     "text": [
      "\r",
      "15it [00:33,  2.22s/it]"
     ]
    },
    {
     "name": "stdout",
     "output_type": "stream",
     "text": [
      "(512,)\n",
      "/home/hice1/bpopper3/scratch/LLaVA_RAG/RAG_Pipeline/HANDMADE_QUESTIONS_PIPELINE/storage/vow-kxTPatc/frames/frame_0900.jpg\n",
      "Punjab and it's made in clay one if you go to any Indian restaurant you will find Nan this is a very popular bread you can serve this with a chickp peas with paneer with palac \n"
     ]
    },
    {
     "name": "stderr",
     "output_type": "stream",
     "text": [
      "\r",
      "16it [00:35,  2.24s/it]"
     ]
    },
    {
     "name": "stdout",
     "output_type": "stream",
     "text": [
      "(512,)\n",
      "/home/hice1/bpopper3/scratch/LLaVA_RAG/RAG_Pipeline/HANDMADE_QUESTIONS_PIPELINE/storage/vow-kxTPatc/frames/frame_0960.jpg\n",
      "go to any Indian restaurant you will find Nan this is a very popular bread you can serve this with a chickp peas with paneer with palac paneer yogurt or even eat plain it \n"
     ]
    },
    {
     "name": "stderr",
     "output_type": "stream",
     "text": [
      "\r",
      "17it [00:37,  2.24s/it]"
     ]
    },
    {
     "name": "stdout",
     "output_type": "stream",
     "text": [
      "(512,)\n",
      "/home/hice1/bpopper3/scratch/LLaVA_RAG/RAG_Pipeline/HANDMADE_QUESTIONS_PIPELINE/storage/vow-kxTPatc/frames/frame_1020.jpg\n",
      "go to any Indian restaurant you will find Nan this is a very popular bread you can serve this with a chickp peas with paneer with palac paneer yogurt or even eat plain it \n"
     ]
    },
    {
     "name": "stderr",
     "output_type": "stream",
     "text": [
      "\r",
      "18it [00:40,  2.23s/it]"
     ]
    },
    {
     "name": "stdout",
     "output_type": "stream",
     "text": [
      "(512,)\n",
      "/home/hice1/bpopper3/scratch/LLaVA_RAG/RAG_Pipeline/HANDMADE_QUESTIONS_PIPELINE/storage/vow-kxTPatc/frames/frame_1080.jpg\n",
      "find Nan this is a very popular bread you can serve this with a chickp peas with paneer with palac paneer yogurt or even eat plain it tastes very good I will be using the \n"
     ]
    },
    {
     "name": "stderr",
     "output_type": "stream",
     "text": [
      "\r",
      "19it [00:42,  2.23s/it]"
     ]
    },
    {
     "name": "stdout",
     "output_type": "stream",
     "text": [
      "(512,)\n",
      "/home/hice1/bpopper3/scratch/LLaVA_RAG/RAG_Pipeline/HANDMADE_QUESTIONS_PIPELINE/storage/vow-kxTPatc/frames/frame_1140.jpg\n",
      "find Nan this is a very popular bread you can serve this with a chickp peas with paneer with palac paneer yogurt or even eat plain it tastes very good I will be using the \n"
     ]
    },
    {
     "name": "stderr",
     "output_type": "stream",
     "text": [
      "\r",
      "20it [00:44,  2.24s/it]"
     ]
    },
    {
     "name": "stdout",
     "output_type": "stream",
     "text": [
      "(512,)\n",
      "/home/hice1/bpopper3/scratch/LLaVA_RAG/RAG_Pipeline/HANDMADE_QUESTIONS_PIPELINE/storage/vow-kxTPatc/frames/frame_1200.jpg\n",
      "bread you can serve this with a chickp peas with paneer with palac paneer yogurt or even eat plain it tastes very good I will be using the home oven and it still it tastes very \n"
     ]
    },
    {
     "name": "stderr",
     "output_type": "stream",
     "text": [
      "\r",
      "21it [00:46,  2.24s/it]"
     ]
    },
    {
     "name": "stdout",
     "output_type": "stream",
     "text": [
      "(512,)\n",
      "/home/hice1/bpopper3/scratch/LLaVA_RAG/RAG_Pipeline/HANDMADE_QUESTIONS_PIPELINE/storage/vow-kxTPatc/frames/frame_1260.jpg\n",
      "bread you can serve this with a chickp peas with paneer with palac paneer yogurt or even eat plain it tastes very good I will be using the home oven and it still it tastes very \n"
     ]
    },
    {
     "name": "stderr",
     "output_type": "stream",
     "text": [
      "\r",
      "22it [00:49,  2.25s/it]"
     ]
    },
    {
     "name": "stdout",
     "output_type": "stream",
     "text": [
      "(512,)\n",
      "/home/hice1/bpopper3/scratch/LLaVA_RAG/RAG_Pipeline/HANDMADE_QUESTIONS_PIPELINE/storage/vow-kxTPatc/frames/frame_1320.jpg\n",
      "bread you can serve this with a chickp peas with paneer with palac paneer yogurt or even eat plain it tastes very good I will be using the home oven and it still it tastes very delicious the recipe I am giving is will \n"
     ]
    },
    {
     "name": "stderr",
     "output_type": "stream",
     "text": [
      "\r",
      "23it [00:51,  2.26s/it]"
     ]
    },
    {
     "name": "stdout",
     "output_type": "stream",
     "text": [
      "(512,)\n",
      "/home/hice1/bpopper3/scratch/LLaVA_RAG/RAG_Pipeline/HANDMADE_QUESTIONS_PIPELINE/storage/vow-kxTPatc/frames/frame_1380.jpg\n",
      "peas with paneer with palac paneer yogurt or even eat plain it tastes very good I will be using the home oven and it still it tastes very delicious the recipe I am giving is will \n"
     ]
    },
    {
     "name": "stderr",
     "output_type": "stream",
     "text": [
      "\r",
      "24it [00:53,  2.25s/it]"
     ]
    },
    {
     "name": "stdout",
     "output_type": "stream",
     "text": [
      "(512,)\n",
      "/home/hice1/bpopper3/scratch/LLaVA_RAG/RAG_Pipeline/HANDMADE_QUESTIONS_PIPELINE/storage/vow-kxTPatc/frames/frame_1440.jpg\n",
      "peas with paneer with palac paneer yogurt or even eat plain it tastes very good I will be using the home oven and it still it tastes very delicious the recipe I am giving is will make uh six Nan \n"
     ]
    },
    {
     "name": "stderr",
     "output_type": "stream",
     "text": [
      "\r",
      "25it [00:55,  2.25s/it]"
     ]
    },
    {
     "name": "stdout",
     "output_type": "stream",
     "text": [
      "(512,)\n",
      "/home/hice1/bpopper3/scratch/LLaVA_RAG/RAG_Pipeline/HANDMADE_QUESTIONS_PIPELINE/storage/vow-kxTPatc/frames/frame_1500.jpg\n",
      "paneer yogurt or even eat plain it tastes very good I will be using the home oven and it still it tastes very delicious the recipe I am giving is will make uh six Nan \n"
     ]
    },
    {
     "name": "stderr",
     "output_type": "stream",
     "text": [
      "\r",
      "26it [00:58,  2.25s/it]"
     ]
    },
    {
     "name": "stdout",
     "output_type": "stream",
     "text": [
      "(512,)\n",
      "/home/hice1/bpopper3/scratch/LLaVA_RAG/RAG_Pipeline/HANDMADE_QUESTIONS_PIPELINE/storage/vow-kxTPatc/frames/frame_1560.jpg\n",
      "tastes very good I will be using the home oven and it still it tastes very delicious the recipe I am giving is will make uh six Nan so I need 2 cups of allpurpose \n"
     ]
    },
    {
     "name": "stderr",
     "output_type": "stream",
     "text": [
      "\r",
      "27it [01:00,  2.24s/it]"
     ]
    },
    {
     "name": "stdout",
     "output_type": "stream",
     "text": [
      "(512,)\n",
      "/home/hice1/bpopper3/scratch/LLaVA_RAG/RAG_Pipeline/HANDMADE_QUESTIONS_PIPELINE/storage/vow-kxTPatc/frames/frame_1620.jpg\n",
      "tastes very good I will be using the home oven and it still it tastes very delicious the recipe I am giving is will make uh six Nan so I need 2 cups of allpurpose \n"
     ]
    },
    {
     "name": "stderr",
     "output_type": "stream",
     "text": [
      "\r",
      "28it [01:02,  2.25s/it]"
     ]
    },
    {
     "name": "stdout",
     "output_type": "stream",
     "text": [
      "(512,)\n",
      "/home/hice1/bpopper3/scratch/LLaVA_RAG/RAG_Pipeline/HANDMADE_QUESTIONS_PIPELINE/storage/vow-kxTPatc/frames/frame_1680.jpg\n",
      "home oven and it still it tastes very delicious the recipe I am giving is will make uh six Nan so I need 2 cups of allpurpose flour 34 cup \n"
     ]
    },
    {
     "name": "stderr",
     "output_type": "stream",
     "text": [
      "\r",
      "29it [01:04,  2.24s/it]"
     ]
    },
    {
     "name": "stdout",
     "output_type": "stream",
     "text": [
      "(512,)\n",
      "/home/hice1/bpopper3/scratch/LLaVA_RAG/RAG_Pipeline/HANDMADE_QUESTIONS_PIPELINE/storage/vow-kxTPatc/frames/frame_1740.jpg\n",
      "home oven and it still it tastes very delicious the recipe I am giving is will make uh six Nan so I need 2 cups of allpurpose flour 34 cup of water uh lukewarm \n"
     ]
    },
    {
     "name": "stderr",
     "output_type": "stream",
     "text": [
      "\r",
      "30it [01:07,  2.24s/it]"
     ]
    },
    {
     "name": "stdout",
     "output_type": "stream",
     "text": [
      "(512,)\n",
      "/home/hice1/bpopper3/scratch/LLaVA_RAG/RAG_Pipeline/HANDMADE_QUESTIONS_PIPELINE/storage/vow-kxTPatc/frames/frame_1800.jpg\n",
      "delicious the recipe I am giving is will make uh six Nan so I need 2 cups of allpurpose flour 34 cup of water uh lukewarm \n"
     ]
    },
    {
     "name": "stderr",
     "output_type": "stream",
     "text": [
      "\r",
      "31it [01:09,  2.24s/it]"
     ]
    },
    {
     "name": "stdout",
     "output_type": "stream",
     "text": [
      "(512,)\n",
      "/home/hice1/bpopper3/scratch/LLaVA_RAG/RAG_Pipeline/HANDMADE_QUESTIONS_PIPELINE/storage/vow-kxTPatc/frames/frame_1860.jpg\n",
      "delicious the recipe I am giving is will make uh six Nan so I need 2 cups of allpurpose flour 34 cup of water uh lukewarm water 2 spoons of oil 2 and2 tblspoon of \n"
     ]
    },
    {
     "name": "stderr",
     "output_type": "stream",
     "text": [
      "\r",
      "32it [01:11,  2.25s/it]"
     ]
    },
    {
     "name": "stdout",
     "output_type": "stream",
     "text": [
      "(512,)\n",
      "/home/hice1/bpopper3/scratch/LLaVA_RAG/RAG_Pipeline/HANDMADE_QUESTIONS_PIPELINE/storage/vow-kxTPatc/frames/frame_1920.jpg\n",
      "make uh six Nan so I need 2 cups of allpurpose flour 34 cup of water uh lukewarm water 2 spoons of oil 2 and2 tblspoon of \n"
     ]
    },
    {
     "name": "stderr",
     "output_type": "stream",
     "text": [
      "\r",
      "33it [01:13,  2.25s/it]"
     ]
    },
    {
     "name": "stdout",
     "output_type": "stream",
     "text": [
      "(512,)\n",
      "/home/hice1/bpopper3/scratch/LLaVA_RAG/RAG_Pipeline/HANDMADE_QUESTIONS_PIPELINE/storage/vow-kxTPatc/frames/frame_1980.jpg\n",
      "make uh six Nan so I need 2 cups of allpurpose flour 34 cup of water uh lukewarm water 2 spoons of oil 2 and2 tblspoon of \n"
     ]
    },
    {
     "name": "stderr",
     "output_type": "stream",
     "text": [
      "\r",
      "34it [01:16,  2.24s/it]"
     ]
    },
    {
     "name": "stdout",
     "output_type": "stream",
     "text": [
      "(512,)\n",
      "/home/hice1/bpopper3/scratch/LLaVA_RAG/RAG_Pipeline/HANDMADE_QUESTIONS_PIPELINE/storage/vow-kxTPatc/frames/frame_2040.jpg\n",
      "so I need 2 cups of allpurpose flour 34 cup of water uh lukewarm water 2 spoons of oil 2 and2 tblspoon of yogurt 1 teaspoon of sugar 1 teaspoon of \n"
     ]
    },
    {
     "name": "stderr",
     "output_type": "stream",
     "text": [
      "\r",
      "35it [01:18,  2.23s/it]"
     ]
    },
    {
     "name": "stdout",
     "output_type": "stream",
     "text": [
      "(512,)\n",
      "/home/hice1/bpopper3/scratch/LLaVA_RAG/RAG_Pipeline/HANDMADE_QUESTIONS_PIPELINE/storage/vow-kxTPatc/frames/frame_2100.jpg\n",
      "so I need 2 cups of allpurpose flour 34 cup of water uh lukewarm water 2 spoons of oil 2 and2 tblspoon of yogurt 1 teaspoon of sugar 1 teaspoon of \n"
     ]
    },
    {
     "name": "stderr",
     "output_type": "stream",
     "text": [
      "\r",
      "36it [01:20,  2.25s/it]"
     ]
    },
    {
     "name": "stdout",
     "output_type": "stream",
     "text": [
      "(512,)\n",
      "/home/hice1/bpopper3/scratch/LLaVA_RAG/RAG_Pipeline/HANDMADE_QUESTIONS_PIPELINE/storage/vow-kxTPatc/frames/frame_2160.jpg\n",
      "flour 34 cup of water uh lukewarm water 2 spoons of oil 2 and2 tblspoon of yogurt 1 teaspoon of sugar 1 teaspoon of \n"
     ]
    },
    {
     "name": "stderr",
     "output_type": "stream",
     "text": [
      "\r",
      "37it [01:22,  2.25s/it]"
     ]
    },
    {
     "name": "stdout",
     "output_type": "stream",
     "text": [
      "(512,)\n",
      "/home/hice1/bpopper3/scratch/LLaVA_RAG/RAG_Pipeline/HANDMADE_QUESTIONS_PIPELINE/storage/vow-kxTPatc/frames/frame_2220.jpg\n",
      "flour 34 cup of water uh lukewarm water 2 spoons of oil 2 and2 tblspoon of yogurt 1 teaspoon of sugar 1 teaspoon of salt pinch of baking \n"
     ]
    },
    {
     "name": "stderr",
     "output_type": "stream",
     "text": [
      "\r",
      "38it [01:25,  2.26s/it]"
     ]
    },
    {
     "name": "stdout",
     "output_type": "stream",
     "text": [
      "(512,)\n",
      "/home/hice1/bpopper3/scratch/LLaVA_RAG/RAG_Pipeline/HANDMADE_QUESTIONS_PIPELINE/storage/vow-kxTPatc/frames/frame_2280.jpg\n",
      "of water uh lukewarm water 2 spoons of oil 2 and2 tblspoon of yogurt 1 teaspoon of sugar 1 teaspoon of salt pinch of baking \n"
     ]
    },
    {
     "name": "stderr",
     "output_type": "stream",
     "text": [
      "\r",
      "39it [01:27,  2.25s/it]"
     ]
    },
    {
     "name": "stdout",
     "output_type": "stream",
     "text": [
      "(512,)\n",
      "/home/hice1/bpopper3/scratch/LLaVA_RAG/RAG_Pipeline/HANDMADE_QUESTIONS_PIPELINE/storage/vow-kxTPatc/frames/frame_2340.jpg\n",
      "water 2 spoons of oil 2 and2 tblspoon of yogurt 1 teaspoon of sugar 1 teaspoon of salt pinch of baking soda 1 teaspoon of yeast \n"
     ]
    },
    {
     "name": "stderr",
     "output_type": "stream",
     "text": [
      "\r",
      "40it [01:29,  2.24s/it]"
     ]
    },
    {
     "name": "stdout",
     "output_type": "stream",
     "text": [
      "(512,)\n",
      "/home/hice1/bpopper3/scratch/LLaVA_RAG/RAG_Pipeline/HANDMADE_QUESTIONS_PIPELINE/storage/vow-kxTPatc/frames/frame_2400.jpg\n",
      "water 2 spoons of oil 2 and2 tblspoon of yogurt 1 teaspoon of sugar 1 teaspoon of salt pinch of baking soda 1 teaspoon of yeast \n"
     ]
    },
    {
     "name": "stderr",
     "output_type": "stream",
     "text": [
      "\r",
      "41it [01:31,  2.23s/it]"
     ]
    },
    {
     "name": "stdout",
     "output_type": "stream",
     "text": [
      "(512,)\n",
      "/home/hice1/bpopper3/scratch/LLaVA_RAG/RAG_Pipeline/HANDMADE_QUESTIONS_PIPELINE/storage/vow-kxTPatc/frames/frame_2460.jpg\n",
      "yogurt 1 teaspoon of sugar 1 teaspoon of salt pinch of baking soda 1 teaspoon of yeast so first I'm going to mix the yeast in \n"
     ]
    },
    {
     "name": "stderr",
     "output_type": "stream",
     "text": [
      "\r",
      "42it [01:33,  2.23s/it]"
     ]
    },
    {
     "name": "stdout",
     "output_type": "stream",
     "text": [
      "(512,)\n",
      "/home/hice1/bpopper3/scratch/LLaVA_RAG/RAG_Pipeline/HANDMADE_QUESTIONS_PIPELINE/storage/vow-kxTPatc/frames/frame_2520.jpg\n",
      "yogurt 1 teaspoon of sugar 1 teaspoon of salt pinch of baking soda 1 teaspoon of yeast so first I'm going to mix the yeast in \n"
     ]
    },
    {
     "name": "stderr",
     "output_type": "stream",
     "text": [
      "\r",
      "43it [01:36,  2.23s/it]"
     ]
    },
    {
     "name": "stdout",
     "output_type": "stream",
     "text": [
      "(512,)\n",
      "/home/hice1/bpopper3/scratch/LLaVA_RAG/RAG_Pipeline/HANDMADE_QUESTIONS_PIPELINE/storage/vow-kxTPatc/frames/frame_2580.jpg\n",
      "yogurt 1 teaspoon of sugar 1 teaspoon of salt pinch of baking soda 1 teaspoon of yeast so first I'm going to mix the yeast in water and \n"
     ]
    },
    {
     "name": "stderr",
     "output_type": "stream",
     "text": [
      "\r",
      "44it [01:38,  2.22s/it]"
     ]
    },
    {
     "name": "stdout",
     "output_type": "stream",
     "text": [
      "(512,)\n",
      "/home/hice1/bpopper3/scratch/LLaVA_RAG/RAG_Pipeline/HANDMADE_QUESTIONS_PIPELINE/storage/vow-kxTPatc/frames/frame_2640.jpg\n",
      "salt pinch of baking soda 1 teaspoon of yeast so first I'm going to mix the yeast in water and \n"
     ]
    },
    {
     "name": "stderr",
     "output_type": "stream",
     "text": [
      "\r",
      "45it [01:40,  2.22s/it]"
     ]
    },
    {
     "name": "stdout",
     "output_type": "stream",
     "text": [
      "(512,)\n",
      "/home/hice1/bpopper3/scratch/LLaVA_RAG/RAG_Pipeline/HANDMADE_QUESTIONS_PIPELINE/storage/vow-kxTPatc/frames/frame_2700.jpg\n",
      "salt pinch of baking soda 1 teaspoon of yeast so first I'm going to mix the yeast in water and \n"
     ]
    },
    {
     "name": "stderr",
     "output_type": "stream",
     "text": [
      "\r",
      "46it [01:42,  2.21s/it]"
     ]
    },
    {
     "name": "stdout",
     "output_type": "stream",
     "text": [
      "(512,)\n",
      "/home/hice1/bpopper3/scratch/LLaVA_RAG/RAG_Pipeline/HANDMADE_QUESTIONS_PIPELINE/storage/vow-kxTPatc/frames/frame_2760.jpg\n",
      "salt pinch of baking soda 1 teaspoon of yeast so first I'm going to mix the yeast in water and \n"
     ]
    },
    {
     "name": "stderr",
     "output_type": "stream",
     "text": [
      "\r",
      "47it [01:44,  2.21s/it]"
     ]
    },
    {
     "name": "stdout",
     "output_type": "stream",
     "text": [
      "(512,)\n",
      "/home/hice1/bpopper3/scratch/LLaVA_RAG/RAG_Pipeline/HANDMADE_QUESTIONS_PIPELINE/storage/vow-kxTPatc/frames/frame_2820.jpg\n",
      "soda 1 teaspoon of yeast so first I'm going to mix the yeast in water and \n"
     ]
    },
    {
     "name": "stderr",
     "output_type": "stream",
     "text": [
      "\r",
      "48it [01:47,  2.20s/it]"
     ]
    },
    {
     "name": "stdout",
     "output_type": "stream",
     "text": [
      "(512,)\n",
      "/home/hice1/bpopper3/scratch/LLaVA_RAG/RAG_Pipeline/HANDMADE_QUESTIONS_PIPELINE/storage/vow-kxTPatc/frames/frame_2880.jpg\n",
      "soda 1 teaspoon of yeast so first I'm going to mix the yeast in water and \n"
     ]
    },
    {
     "name": "stderr",
     "output_type": "stream",
     "text": [
      "\r",
      "49it [01:49,  2.20s/it]"
     ]
    },
    {
     "name": "stdout",
     "output_type": "stream",
     "text": [
      "(512,)\n",
      "/home/hice1/bpopper3/scratch/LLaVA_RAG/RAG_Pipeline/HANDMADE_QUESTIONS_PIPELINE/storage/vow-kxTPatc/frames/frame_2940.jpg\n",
      "so first I'm going to mix the yeast in water and dissolve and just leave it just for a \n"
     ]
    },
    {
     "name": "stderr",
     "output_type": "stream",
     "text": [
      "\r",
      "50it [01:51,  2.19s/it]"
     ]
    },
    {
     "name": "stdout",
     "output_type": "stream",
     "text": [
      "(512,)\n",
      "/home/hice1/bpopper3/scratch/LLaVA_RAG/RAG_Pipeline/HANDMADE_QUESTIONS_PIPELINE/storage/vow-kxTPatc/frames/frame_3000.jpg\n",
      "so first I'm going to mix the yeast in water and dissolve and just leave it just for a \n"
     ]
    },
    {
     "name": "stderr",
     "output_type": "stream",
     "text": [
      "\r",
      "51it [01:53,  2.20s/it]"
     ]
    },
    {
     "name": "stdout",
     "output_type": "stream",
     "text": [
      "(512,)\n",
      "/home/hice1/bpopper3/scratch/LLaVA_RAG/RAG_Pipeline/HANDMADE_QUESTIONS_PIPELINE/storage/vow-kxTPatc/frames/frame_3060.jpg\n",
      "water and dissolve and just leave it just for a couple of \n"
     ]
    },
    {
     "name": "stderr",
     "output_type": "stream",
     "text": [
      "\r",
      "52it [01:55,  2.21s/it]"
     ]
    },
    {
     "name": "stdout",
     "output_type": "stream",
     "text": [
      "(512,)\n",
      "/home/hice1/bpopper3/scratch/LLaVA_RAG/RAG_Pipeline/HANDMADE_QUESTIONS_PIPELINE/storage/vow-kxTPatc/frames/frame_3120.jpg\n",
      "water and dissolve and just leave it just for a couple of minute now I'm am going to add one spoon \n"
     ]
    },
    {
     "name": "stderr",
     "output_type": "stream",
     "text": [
      "\r",
      "53it [01:58,  2.20s/it]"
     ]
    },
    {
     "name": "stdout",
     "output_type": "stream",
     "text": [
      "(512,)\n",
      "/home/hice1/bpopper3/scratch/LLaVA_RAG/RAG_Pipeline/HANDMADE_QUESTIONS_PIPELINE/storage/vow-kxTPatc/frames/frame_3180.jpg\n",
      "dissolve and just leave it just for a couple of minute now I'm am going to add one spoon \n"
     ]
    },
    {
     "name": "stderr",
     "output_type": "stream",
     "text": [
      "\r",
      "54it [02:00,  2.20s/it]"
     ]
    },
    {
     "name": "stdout",
     "output_type": "stream",
     "text": [
      "(512,)\n",
      "/home/hice1/bpopper3/scratch/LLaVA_RAG/RAG_Pipeline/HANDMADE_QUESTIONS_PIPELINE/storage/vow-kxTPatc/frames/frame_3240.jpg\n",
      "dissolve and just leave it just for a couple of minute now I'm am going to add one spoon of salt one spoon of sugar \n"
     ]
    },
    {
     "name": "stderr",
     "output_type": "stream",
     "text": [
      "\r",
      "55it [02:02,  2.21s/it]"
     ]
    },
    {
     "name": "stdout",
     "output_type": "stream",
     "text": [
      "(512,)\n",
      "/home/hice1/bpopper3/scratch/LLaVA_RAG/RAG_Pipeline/HANDMADE_QUESTIONS_PIPELINE/storage/vow-kxTPatc/frames/frame_3300.jpg\n",
      "dissolve and just leave it just for a couple of minute now I'm am going to add one spoon of salt one spoon of sugar \n"
     ]
    },
    {
     "name": "stderr",
     "output_type": "stream",
     "text": [
      "\r",
      "56it [02:04,  2.21s/it]"
     ]
    },
    {
     "name": "stdout",
     "output_type": "stream",
     "text": [
      "(512,)\n",
      "/home/hice1/bpopper3/scratch/LLaVA_RAG/RAG_Pipeline/HANDMADE_QUESTIONS_PIPELINE/storage/vow-kxTPatc/frames/frame_3360.jpg\n",
      "dissolve and just leave it just for a couple of minute now I'm am going to add one spoon of salt one spoon of sugar pinch of baking powder in allpurpose \n"
     ]
    },
    {
     "name": "stderr",
     "output_type": "stream",
     "text": [
      "\r",
      "57it [02:07,  2.22s/it]"
     ]
    },
    {
     "name": "stdout",
     "output_type": "stream",
     "text": [
      "(512,)\n",
      "/home/hice1/bpopper3/scratch/LLaVA_RAG/RAG_Pipeline/HANDMADE_QUESTIONS_PIPELINE/storage/vow-kxTPatc/frames/frame_3420.jpg\n",
      "dissolve and just leave it just for a couple of minute now I'm am going to add one spoon of salt one spoon of sugar pinch of baking powder in allpurpose \n"
     ]
    },
    {
     "name": "stderr",
     "output_type": "stream",
     "text": [
      "\r",
      "58it [02:09,  2.23s/it]"
     ]
    },
    {
     "name": "stdout",
     "output_type": "stream",
     "text": [
      "(512,)\n",
      "/home/hice1/bpopper3/scratch/LLaVA_RAG/RAG_Pipeline/HANDMADE_QUESTIONS_PIPELINE/storage/vow-kxTPatc/frames/frame_3480.jpg\n",
      "dissolve and just leave it just for a couple of minute now I'm am going to add one spoon of salt one spoon of sugar pinch of baking powder in allpurpose flour mix \n"
     ]
    },
    {
     "name": "stderr",
     "output_type": "stream",
     "text": [
      "\r",
      "59it [02:11,  2.23s/it]"
     ]
    },
    {
     "name": "stdout",
     "output_type": "stream",
     "text": [
      "(512,)\n",
      "/home/hice1/bpopper3/scratch/LLaVA_RAG/RAG_Pipeline/HANDMADE_QUESTIONS_PIPELINE/storage/vow-kxTPatc/frames/frame_3540.jpg\n",
      "couple of minute now I'm am going to add one spoon of salt one spoon of sugar pinch of baking powder in allpurpose flour mix \n"
     ]
    },
    {
     "name": "stderr",
     "output_type": "stream",
     "text": [
      "\r",
      "60it [02:13,  2.23s/it]"
     ]
    },
    {
     "name": "stdout",
     "output_type": "stream",
     "text": [
      "(512,)\n",
      "/home/hice1/bpopper3/scratch/LLaVA_RAG/RAG_Pipeline/HANDMADE_QUESTIONS_PIPELINE/storage/vow-kxTPatc/frames/frame_3600.jpg\n",
      "couple of minute now I'm am going to add one spoon of salt one spoon of sugar pinch of baking powder in allpurpose flour mix it add 2 tbspoon of oil I like to use \n"
     ]
    },
    {
     "name": "stderr",
     "output_type": "stream",
     "text": [
      "\r",
      "61it [02:16,  2.26s/it]"
     ]
    },
    {
     "name": "stdout",
     "output_type": "stream",
     "text": [
      "(512,)\n",
      "/home/hice1/bpopper3/scratch/LLaVA_RAG/RAG_Pipeline/HANDMADE_QUESTIONS_PIPELINE/storage/vow-kxTPatc/frames/frame_3660.jpg\n",
      "minute now I'm am going to add one spoon of salt one spoon of sugar pinch of baking powder in allpurpose flour mix it add 2 tbspoon of oil I like to use \n"
     ]
    },
    {
     "name": "stderr",
     "output_type": "stream",
     "text": [
      "\r",
      "62it [02:18,  2.25s/it]"
     ]
    },
    {
     "name": "stdout",
     "output_type": "stream",
     "text": [
      "(512,)\n",
      "/home/hice1/bpopper3/scratch/LLaVA_RAG/RAG_Pipeline/HANDMADE_QUESTIONS_PIPELINE/storage/vow-kxTPatc/frames/frame_3720.jpg\n",
      "of salt one spoon of sugar pinch of baking powder in allpurpose flour mix it add 2 tbspoon of oil I like to use canola \n"
     ]
    },
    {
     "name": "stderr",
     "output_type": "stream",
     "text": [
      "\r",
      "63it [02:20,  2.25s/it]"
     ]
    },
    {
     "name": "stdout",
     "output_type": "stream",
     "text": [
      "(512,)\n",
      "/home/hice1/bpopper3/scratch/LLaVA_RAG/RAG_Pipeline/HANDMADE_QUESTIONS_PIPELINE/storage/vow-kxTPatc/frames/frame_3780.jpg\n",
      "of salt one spoon of sugar pinch of baking powder in allpurpose flour mix it add 2 tbspoon of oil I like to use canola oil mix it \n"
     ]
    },
    {
     "name": "stderr",
     "output_type": "stream",
     "text": [
      "\r",
      "64it [02:22,  2.24s/it]"
     ]
    },
    {
     "name": "stdout",
     "output_type": "stream",
     "text": [
      "(512,)\n",
      "/home/hice1/bpopper3/scratch/LLaVA_RAG/RAG_Pipeline/HANDMADE_QUESTIONS_PIPELINE/storage/vow-kxTPatc/frames/frame_3840.jpg\n",
      "pinch of baking powder in allpurpose flour mix it add 2 tbspoon of oil I like to use canola oil mix it \n"
     ]
    },
    {
     "name": "stderr",
     "output_type": "stream",
     "text": [
      "\r",
      "65it [02:25,  2.23s/it]"
     ]
    },
    {
     "name": "stdout",
     "output_type": "stream",
     "text": [
      "(512,)\n",
      "/home/hice1/bpopper3/scratch/LLaVA_RAG/RAG_Pipeline/HANDMADE_QUESTIONS_PIPELINE/storage/vow-kxTPatc/frames/frame_3900.jpg\n",
      "pinch of baking powder in allpurpose flour mix it add 2 tbspoon of oil I like to use canola oil mix it \n"
     ]
    },
    {
     "name": "stderr",
     "output_type": "stream",
     "text": [
      "\r",
      "66it [02:27,  2.23s/it]"
     ]
    },
    {
     "name": "stdout",
     "output_type": "stream",
     "text": [
      "(512,)\n",
      "/home/hice1/bpopper3/scratch/LLaVA_RAG/RAG_Pipeline/HANDMADE_QUESTIONS_PIPELINE/storage/vow-kxTPatc/frames/frame_3960.jpg\n",
      "flour mix it add 2 tbspoon of oil I like to use canola oil mix it again and now uh put the 2 and 1/2 spoon \n"
     ]
    },
    {
     "name": "stderr",
     "output_type": "stream",
     "text": [
      "\r",
      "67it [02:29,  2.23s/it]"
     ]
    },
    {
     "name": "stdout",
     "output_type": "stream",
     "text": [
      "(512,)\n",
      "/home/hice1/bpopper3/scratch/LLaVA_RAG/RAG_Pipeline/HANDMADE_QUESTIONS_PIPELINE/storage/vow-kxTPatc/frames/frame_4020.jpg\n",
      "flour mix it add 2 tbspoon of oil I like to use canola oil mix it again and now uh put the 2 and 1/2 spoon \n"
     ]
    },
    {
     "name": "stderr",
     "output_type": "stream",
     "text": [
      "\r",
      "68it [02:31,  2.23s/it]"
     ]
    },
    {
     "name": "stdout",
     "output_type": "stream",
     "text": [
      "(512,)\n",
      "/home/hice1/bpopper3/scratch/LLaVA_RAG/RAG_Pipeline/HANDMADE_QUESTIONS_PIPELINE/storage/vow-kxTPatc/frames/frame_4080.jpg\n",
      "it add 2 tbspoon of oil I like to use canola oil mix it again and now uh put the 2 and 1/2 spoon of uh yogurt \n"
     ]
    },
    {
     "name": "stderr",
     "output_type": "stream",
     "text": [
      "\r",
      "69it [02:33,  2.23s/it]"
     ]
    },
    {
     "name": "stdout",
     "output_type": "stream",
     "text": [
      "(512,)\n",
      "/home/hice1/bpopper3/scratch/LLaVA_RAG/RAG_Pipeline/HANDMADE_QUESTIONS_PIPELINE/storage/vow-kxTPatc/frames/frame_4140.jpg\n",
      "it add 2 tbspoon of oil I like to use canola oil mix it again and now uh put the 2 and 1/2 spoon of uh yogurt \n"
     ]
    },
    {
     "name": "stderr",
     "output_type": "stream",
     "text": [
      "\r",
      "70it [02:36,  2.25s/it]"
     ]
    },
    {
     "name": "stdout",
     "output_type": "stream",
     "text": [
      "(512,)\n",
      "/home/hice1/bpopper3/scratch/LLaVA_RAG/RAG_Pipeline/HANDMADE_QUESTIONS_PIPELINE/storage/vow-kxTPatc/frames/frame_4200.jpg\n",
      "canola oil mix it again and now uh put the 2 and 1/2 spoon of uh yogurt \n"
     ]
    },
    {
     "name": "stderr",
     "output_type": "stream",
     "text": [
      "\r",
      "71it [02:38,  2.23s/it]"
     ]
    },
    {
     "name": "stdout",
     "output_type": "stream",
     "text": [
      "(512,)\n",
      "/home/hice1/bpopper3/scratch/LLaVA_RAG/RAG_Pipeline/HANDMADE_QUESTIONS_PIPELINE/storage/vow-kxTPatc/frames/frame_4260.jpg\n",
      "canola oil mix it again and now uh put the 2 and 1/2 spoon of uh yogurt \n"
     ]
    },
    {
     "name": "stderr",
     "output_type": "stream",
     "text": [
      "\r",
      "72it [02:40,  2.22s/it]"
     ]
    },
    {
     "name": "stdout",
     "output_type": "stream",
     "text": [
      "(512,)\n",
      "/home/hice1/bpopper3/scratch/LLaVA_RAG/RAG_Pipeline/HANDMADE_QUESTIONS_PIPELINE/storage/vow-kxTPatc/frames/frame_4320.jpg\n",
      "oil mix it again and now uh put the 2 and 1/2 spoon of uh yogurt \n"
     ]
    },
    {
     "name": "stderr",
     "output_type": "stream",
     "text": [
      "\r",
      "73it [02:42,  2.21s/it]"
     ]
    },
    {
     "name": "stdout",
     "output_type": "stream",
     "text": [
      "(512,)\n",
      "/home/hice1/bpopper3/scratch/LLaVA_RAG/RAG_Pipeline/HANDMADE_QUESTIONS_PIPELINE/storage/vow-kxTPatc/frames/frame_4380.jpg\n",
      "again and now uh put the 2 and 1/2 spoon of uh yogurt \n"
     ]
    },
    {
     "name": "stderr",
     "output_type": "stream",
     "text": [
      "\r",
      "74it [02:44,  2.20s/it]"
     ]
    },
    {
     "name": "stdout",
     "output_type": "stream",
     "text": [
      "(512,)\n",
      "/home/hice1/bpopper3/scratch/LLaVA_RAG/RAG_Pipeline/HANDMADE_QUESTIONS_PIPELINE/storage/vow-kxTPatc/frames/frame_4440.jpg\n",
      "again and now uh put the 2 and 1/2 spoon of uh yogurt \n"
     ]
    },
    {
     "name": "stderr",
     "output_type": "stream",
     "text": [
      "\r",
      "75it [02:47,  2.19s/it]"
     ]
    },
    {
     "name": "stdout",
     "output_type": "stream",
     "text": [
      "(512,)\n",
      "/home/hice1/bpopper3/scratch/LLaVA_RAG/RAG_Pipeline/HANDMADE_QUESTIONS_PIPELINE/storage/vow-kxTPatc/frames/frame_4500.jpg\n",
      "again and now uh put the 2 and 1/2 spoon of uh yogurt and add the water \n"
     ]
    },
    {
     "name": "stderr",
     "output_type": "stream",
     "text": [
      "\r",
      "76it [02:49,  2.19s/it]"
     ]
    },
    {
     "name": "stdout",
     "output_type": "stream",
     "text": [
      "(512,)\n",
      "/home/hice1/bpopper3/scratch/LLaVA_RAG/RAG_Pipeline/HANDMADE_QUESTIONS_PIPELINE/storage/vow-kxTPatc/frames/frame_4560.jpg\n",
      "of uh yogurt and add the water \n"
     ]
    },
    {
     "name": "stderr",
     "output_type": "stream",
     "text": [
      "\r",
      "77it [02:51,  2.18s/it]"
     ]
    },
    {
     "name": "stdout",
     "output_type": "stream",
     "text": [
      "(512,)\n",
      "/home/hice1/bpopper3/scratch/LLaVA_RAG/RAG_Pipeline/HANDMADE_QUESTIONS_PIPELINE/storage/vow-kxTPatc/frames/frame_4620.jpg\n",
      "of uh yogurt and add the water with which we have already dissolved the \n"
     ]
    },
    {
     "name": "stderr",
     "output_type": "stream",
     "text": [
      "\r",
      "78it [02:53,  2.18s/it]"
     ]
    },
    {
     "name": "stdout",
     "output_type": "stream",
     "text": [
      "(512,)\n",
      "/home/hice1/bpopper3/scratch/LLaVA_RAG/RAG_Pipeline/HANDMADE_QUESTIONS_PIPELINE/storage/vow-kxTPatc/frames/frame_4680.jpg\n",
      "and add the water with which we have already dissolved the \n"
     ]
    },
    {
     "name": "stderr",
     "output_type": "stream",
     "text": [
      "\r",
      "79it [02:55,  2.19s/it]"
     ]
    },
    {
     "name": "stdout",
     "output_type": "stream",
     "text": [
      "(512,)\n",
      "/home/hice1/bpopper3/scratch/LLaVA_RAG/RAG_Pipeline/HANDMADE_QUESTIONS_PIPELINE/storage/vow-kxTPatc/frames/frame_4740.jpg\n",
      "and add the water with which we have already dissolved the \n"
     ]
    },
    {
     "name": "stderr",
     "output_type": "stream",
     "text": [
      "\r",
      "80it [02:58,  2.20s/it]"
     ]
    },
    {
     "name": "stdout",
     "output_type": "stream",
     "text": [
      "(512,)\n",
      "/home/hice1/bpopper3/scratch/LLaVA_RAG/RAG_Pipeline/HANDMADE_QUESTIONS_PIPELINE/storage/vow-kxTPatc/frames/frame_4800.jpg\n",
      "and add the water with which we have already dissolved the \n"
     ]
    },
    {
     "name": "stderr",
     "output_type": "stream",
     "text": [
      "\r",
      "81it [03:00,  2.21s/it]"
     ]
    },
    {
     "name": "stdout",
     "output_type": "stream",
     "text": [
      "(512,)\n",
      "/home/hice1/bpopper3/scratch/LLaVA_RAG/RAG_Pipeline/HANDMADE_QUESTIONS_PIPELINE/storage/vow-kxTPatc/frames/frame_4860.jpg\n",
      "and add the water with which we have already dissolved the yeast and make a dough \n"
     ]
    },
    {
     "name": "stderr",
     "output_type": "stream",
     "text": [
      "\r",
      "82it [03:02,  2.20s/it]"
     ]
    },
    {
     "name": "stdout",
     "output_type": "stream",
     "text": [
      "(512,)\n",
      "/home/hice1/bpopper3/scratch/LLaVA_RAG/RAG_Pipeline/HANDMADE_QUESTIONS_PIPELINE/storage/vow-kxTPatc/frames/frame_4920.jpg\n",
      "and add the water with which we have already dissolved the yeast and make a dough \n"
     ]
    },
    {
     "name": "stderr",
     "output_type": "stream",
     "text": [
      "\r",
      "83it [03:04,  2.20s/it]"
     ]
    },
    {
     "name": "stdout",
     "output_type": "stream",
     "text": [
      "(512,)\n",
      "/home/hice1/bpopper3/scratch/LLaVA_RAG/RAG_Pipeline/HANDMADE_QUESTIONS_PIPELINE/storage/vow-kxTPatc/frames/frame_4980.jpg\n",
      "and add the water with which we have already dissolved the yeast and make a dough \n"
     ]
    },
    {
     "name": "stderr",
     "output_type": "stream",
     "text": [
      "\r",
      "84it [03:06,  2.19s/it]"
     ]
    },
    {
     "name": "stdout",
     "output_type": "stream",
     "text": [
      "(512,)\n",
      "/home/hice1/bpopper3/scratch/LLaVA_RAG/RAG_Pipeline/HANDMADE_QUESTIONS_PIPELINE/storage/vow-kxTPatc/frames/frame_5040.jpg\n",
      "and add the water with which we have already dissolved the yeast and make a dough \n"
     ]
    },
    {
     "name": "stderr",
     "output_type": "stream",
     "text": [
      "\r",
      "85it [03:09,  2.19s/it]"
     ]
    },
    {
     "name": "stdout",
     "output_type": "stream",
     "text": [
      "(512,)\n",
      "/home/hice1/bpopper3/scratch/LLaVA_RAG/RAG_Pipeline/HANDMADE_QUESTIONS_PIPELINE/storage/vow-kxTPatc/frames/frame_5100.jpg\n",
      "with which we have already dissolved the yeast and make a dough \n"
     ]
    },
    {
     "name": "stderr",
     "output_type": "stream",
     "text": [
      "\r",
      "86it [03:11,  2.20s/it]"
     ]
    },
    {
     "name": "stdout",
     "output_type": "stream",
     "text": [
      "(512,)\n",
      "/home/hice1/bpopper3/scratch/LLaVA_RAG/RAG_Pipeline/HANDMADE_QUESTIONS_PIPELINE/storage/vow-kxTPatc/frames/frame_5160.jpg\n",
      "with which we have already dissolved the yeast and make a dough \n"
     ]
    },
    {
     "name": "stderr",
     "output_type": "stream",
     "text": [
      "\r",
      "87it [03:13,  2.21s/it]"
     ]
    },
    {
     "name": "stdout",
     "output_type": "stream",
     "text": [
      "(512,)\n",
      "/home/hice1/bpopper3/scratch/LLaVA_RAG/RAG_Pipeline/HANDMADE_QUESTIONS_PIPELINE/storage/vow-kxTPatc/frames/frame_5220.jpg\n",
      "yeast and make a dough so keep kneading the flour till it comes \n"
     ]
    },
    {
     "name": "stderr",
     "output_type": "stream",
     "text": [
      "\r",
      "88it [03:15,  2.20s/it]"
     ]
    },
    {
     "name": "stdout",
     "output_type": "stream",
     "text": [
      "(512,)\n",
      "/home/hice1/bpopper3/scratch/LLaVA_RAG/RAG_Pipeline/HANDMADE_QUESTIONS_PIPELINE/storage/vow-kxTPatc/frames/frame_5280.jpg\n",
      "yeast and make a dough so keep kneading the flour till it comes \n"
     ]
    },
    {
     "name": "stderr",
     "output_type": "stream",
     "text": [
      "\r",
      "89it [03:17,  2.19s/it]"
     ]
    },
    {
     "name": "stdout",
     "output_type": "stream",
     "text": [
      "(512,)\n",
      "/home/hice1/bpopper3/scratch/LLaVA_RAG/RAG_Pipeline/HANDMADE_QUESTIONS_PIPELINE/storage/vow-kxTPatc/frames/frame_5340.jpg\n",
      "yeast and make a dough so keep kneading the flour till it comes all together and becomes a very soft \n"
     ]
    },
    {
     "name": "stderr",
     "output_type": "stream",
     "text": [
      "\r",
      "90it [03:20,  2.19s/it]"
     ]
    },
    {
     "name": "stdout",
     "output_type": "stream",
     "text": [
      "(512,)\n",
      "/home/hice1/bpopper3/scratch/LLaVA_RAG/RAG_Pipeline/HANDMADE_QUESTIONS_PIPELINE/storage/vow-kxTPatc/frames/frame_5400.jpg\n",
      "yeast and make a dough so keep kneading the flour till it comes all together and becomes a very soft dough now I'm just going to take few \n"
     ]
    },
    {
     "name": "stderr",
     "output_type": "stream",
     "text": [
      "\r",
      "91it [03:22,  2.20s/it]"
     ]
    },
    {
     "name": "stdout",
     "output_type": "stream",
     "text": [
      "(512,)\n",
      "/home/hice1/bpopper3/scratch/LLaVA_RAG/RAG_Pipeline/HANDMADE_QUESTIONS_PIPELINE/storage/vow-kxTPatc/frames/frame_5460.jpg\n",
      "so keep kneading the flour till it comes all together and becomes a very soft dough now I'm just going to take few \n"
     ]
    },
    {
     "name": "stderr",
     "output_type": "stream",
     "text": [
      "\r",
      "92it [03:24,  2.21s/it]"
     ]
    },
    {
     "name": "stdout",
     "output_type": "stream",
     "text": [
      "(512,)\n",
      "/home/hice1/bpopper3/scratch/LLaVA_RAG/RAG_Pipeline/HANDMADE_QUESTIONS_PIPELINE/storage/vow-kxTPatc/frames/frame_5520.jpg\n",
      "so keep kneading the flour till it comes all together and becomes a very soft dough now I'm just going to take few drops of oil in my \n"
     ]
    },
    {
     "name": "stderr",
     "output_type": "stream",
     "text": [
      "\r",
      "93it [03:26,  2.21s/it]"
     ]
    },
    {
     "name": "stdout",
     "output_type": "stream",
     "text": [
      "(512,)\n",
      "/home/hice1/bpopper3/scratch/LLaVA_RAG/RAG_Pipeline/HANDMADE_QUESTIONS_PIPELINE/storage/vow-kxTPatc/frames/frame_5580.jpg\n",
      "so keep kneading the flour till it comes all together and becomes a very soft dough now I'm just going to take few drops of oil in my \n"
     ]
    },
    {
     "name": "stderr",
     "output_type": "stream",
     "text": [
      "\r",
      "94it [03:28,  2.22s/it]"
     ]
    },
    {
     "name": "stdout",
     "output_type": "stream",
     "text": [
      "(512,)\n",
      "/home/hice1/bpopper3/scratch/LLaVA_RAG/RAG_Pipeline/HANDMADE_QUESTIONS_PIPELINE/storage/vow-kxTPatc/frames/frame_5640.jpg\n",
      "so keep kneading the flour till it comes all together and becomes a very soft dough now I'm just going to take few drops of oil in my hand and knead just \n"
     ]
    },
    {
     "name": "stderr",
     "output_type": "stream",
     "text": [
      "\r",
      "95it [03:31,  2.22s/it]"
     ]
    },
    {
     "name": "stdout",
     "output_type": "stream",
     "text": [
      "(512,)\n",
      "/home/hice1/bpopper3/scratch/LLaVA_RAG/RAG_Pipeline/HANDMADE_QUESTIONS_PIPELINE/storage/vow-kxTPatc/frames/frame_5700.jpg\n",
      "so keep kneading the flour till it comes all together and becomes a very soft dough now I'm just going to take few drops of oil in my hand and knead just for few \n"
     ]
    },
    {
     "name": "stderr",
     "output_type": "stream",
     "text": [
      "\r",
      "96it [03:33,  2.22s/it]"
     ]
    },
    {
     "name": "stdout",
     "output_type": "stream",
     "text": [
      "(512,)\n",
      "/home/hice1/bpopper3/scratch/LLaVA_RAG/RAG_Pipeline/HANDMADE_QUESTIONS_PIPELINE/storage/vow-kxTPatc/frames/frame_5760.jpg\n",
      "so keep kneading the flour till it comes all together and becomes a very soft dough now I'm just going to take few drops of oil in my hand and knead just for few \n"
     ]
    },
    {
     "name": "stderr",
     "output_type": "stream",
     "text": [
      "\r",
      "97it [03:35,  2.23s/it]"
     ]
    },
    {
     "name": "stdout",
     "output_type": "stream",
     "text": [
      "(512,)\n",
      "/home/hice1/bpopper3/scratch/LLaVA_RAG/RAG_Pipeline/HANDMADE_QUESTIONS_PIPELINE/storage/vow-kxTPatc/frames/frame_5820.jpg\n",
      "all together and becomes a very soft dough now I'm just going to take few drops of oil in my hand and knead just for few seconds now we have to keep this dough 3 \n"
     ]
    },
    {
     "name": "stderr",
     "output_type": "stream",
     "text": [
      "\r",
      "98it [03:37,  2.23s/it]"
     ]
    },
    {
     "name": "stdout",
     "output_type": "stream",
     "text": [
      "(512,)\n",
      "/home/hice1/bpopper3/scratch/LLaVA_RAG/RAG_Pipeline/HANDMADE_QUESTIONS_PIPELINE/storage/vow-kxTPatc/frames/frame_5880.jpg\n",
      "all together and becomes a very soft dough now I'm just going to take few drops of oil in my hand and knead just for few seconds now we have to keep this dough 3 \n"
     ]
    },
    {
     "name": "stderr",
     "output_type": "stream",
     "text": [
      "\r",
      "99it [03:40,  2.23s/it]"
     ]
    },
    {
     "name": "stdout",
     "output_type": "stream",
     "text": [
      "(512,)\n",
      "/home/hice1/bpopper3/scratch/LLaVA_RAG/RAG_Pipeline/HANDMADE_QUESTIONS_PIPELINE/storage/vow-kxTPatc/frames/frame_5940.jpg\n",
      "dough now I'm just going to take few drops of oil in my hand and knead just for few seconds now we have to keep this dough 3 to 4 hours and it should become double \n"
     ]
    },
    {
     "name": "stderr",
     "output_type": "stream",
     "text": [
      "\r",
      "100it [03:42,  2.24s/it]"
     ]
    },
    {
     "name": "stdout",
     "output_type": "stream",
     "text": [
      "(512,)\n",
      "/home/hice1/bpopper3/scratch/LLaVA_RAG/RAG_Pipeline/HANDMADE_QUESTIONS_PIPELINE/storage/vow-kxTPatc/frames/frame_6000.jpg\n",
      "drops of oil in my hand and knead just for few seconds now we have to keep this dough 3 to 4 hours and it should become double in volume \n"
     ]
    },
    {
     "name": "stderr",
     "output_type": "stream",
     "text": [
      "\r",
      "101it [03:44,  2.23s/it]"
     ]
    },
    {
     "name": "stdout",
     "output_type": "stream",
     "text": [
      "(512,)\n",
      "/home/hice1/bpopper3/scratch/LLaVA_RAG/RAG_Pipeline/HANDMADE_QUESTIONS_PIPELINE/storage/vow-kxTPatc/frames/frame_6060.jpg\n",
      "drops of oil in my hand and knead just for few seconds now we have to keep this dough 3 to 4 hours and it should become double in volume so I already have a dough which I made \n"
     ]
    },
    {
     "name": "stderr",
     "output_type": "stream",
     "text": [
      "\r",
      "102it [03:46,  2.24s/it]"
     ]
    },
    {
     "name": "stdout",
     "output_type": "stream",
     "text": [
      "(512,)\n",
      "/home/hice1/bpopper3/scratch/LLaVA_RAG/RAG_Pipeline/HANDMADE_QUESTIONS_PIPELINE/storage/vow-kxTPatc/frames/frame_6120.jpg\n",
      "hand and knead just for few seconds now we have to keep this dough 3 to 4 hours and it should become double in volume so I already have a dough which I made this uh morning about 4 hours before so \n"
     ]
    },
    {
     "name": "stderr",
     "output_type": "stream",
     "text": [
      "\r",
      "103it [03:49,  2.25s/it]"
     ]
    },
    {
     "name": "stdout",
     "output_type": "stream",
     "text": [
      "(512,)\n",
      "/home/hice1/bpopper3/scratch/LLaVA_RAG/RAG_Pipeline/HANDMADE_QUESTIONS_PIPELINE/storage/vow-kxTPatc/frames/frame_6180.jpg\n",
      "hand and knead just for few seconds now we have to keep this dough 3 to 4 hours and it should become double in volume so I already have a dough which I made this uh morning about 4 hours before so \n"
     ]
    },
    {
     "name": "stderr",
     "output_type": "stream",
     "text": [
      "\r",
      "104it [03:51,  2.26s/it]"
     ]
    },
    {
     "name": "stdout",
     "output_type": "stream",
     "text": [
      "(512,)\n",
      "/home/hice1/bpopper3/scratch/LLaVA_RAG/RAG_Pipeline/HANDMADE_QUESTIONS_PIPELINE/storage/vow-kxTPatc/frames/frame_6240.jpg\n",
      "for few seconds now we have to keep this dough 3 to 4 hours and it should become double in volume so I already have a dough which I made this uh morning about 4 hours before so we will use that dough today to make the \n"
     ]
    },
    {
     "name": "stderr",
     "output_type": "stream",
     "text": [
      "\r",
      "105it [03:53,  2.26s/it]"
     ]
    },
    {
     "name": "stdout",
     "output_type": "stream",
     "text": [
      "(512,)\n",
      "/home/hice1/bpopper3/scratch/LLaVA_RAG/RAG_Pipeline/HANDMADE_QUESTIONS_PIPELINE/storage/vow-kxTPatc/frames/frame_6300.jpg\n",
      "seconds now we have to keep this dough 3 to 4 hours and it should become double in volume so I already have a dough which I made this uh morning about 4 hours before so we will use that dough today to make the \n"
     ]
    },
    {
     "name": "stderr",
     "output_type": "stream",
     "text": [
      "\r",
      "106it [03:55,  2.26s/it]"
     ]
    },
    {
     "name": "stdout",
     "output_type": "stream",
     "text": [
      "(512,)\n",
      "/home/hice1/bpopper3/scratch/LLaVA_RAG/RAG_Pipeline/HANDMADE_QUESTIONS_PIPELINE/storage/vow-kxTPatc/frames/frame_6360.jpg\n",
      "seconds now we have to keep this dough 3 to 4 hours and it should become double in volume so I already have a dough which I made this uh morning about 4 hours before so we will use that dough today to make the \n"
     ]
    },
    {
     "name": "stderr",
     "output_type": "stream",
     "text": [
      "\r",
      "107it [03:58,  2.27s/it]"
     ]
    },
    {
     "name": "stdout",
     "output_type": "stream",
     "text": [
      "(512,)\n",
      "/home/hice1/bpopper3/scratch/LLaVA_RAG/RAG_Pipeline/HANDMADE_QUESTIONS_PIPELINE/storage/vow-kxTPatc/frames/frame_6420.jpg\n",
      "to 4 hours and it should become double in volume so I already have a dough which I made this uh morning about 4 hours before so we will use that dough today to make the \n"
     ]
    },
    {
     "name": "stderr",
     "output_type": "stream",
     "text": [
      "\r",
      "108it [04:00,  2.26s/it]"
     ]
    },
    {
     "name": "stdout",
     "output_type": "stream",
     "text": [
      "(512,)\n",
      "/home/hice1/bpopper3/scratch/LLaVA_RAG/RAG_Pipeline/HANDMADE_QUESTIONS_PIPELINE/storage/vow-kxTPatc/frames/frame_6480.jpg\n",
      "to 4 hours and it should become double in volume so I already have a dough which I made this uh morning about 4 hours before so we will use that dough today to make the \n"
     ]
    },
    {
     "name": "stderr",
     "output_type": "stream",
     "text": [
      "\r",
      "109it [04:02,  2.25s/it]"
     ]
    },
    {
     "name": "stdout",
     "output_type": "stream",
     "text": [
      "(512,)\n",
      "/home/hice1/bpopper3/scratch/LLaVA_RAG/RAG_Pipeline/HANDMADE_QUESTIONS_PIPELINE/storage/vow-kxTPatc/frames/frame_6540.jpg\n",
      "in volume so I already have a dough which I made this uh morning about 4 hours before so we will use that dough today to make the na so here is my dough which is already \n"
     ]
    },
    {
     "name": "stderr",
     "output_type": "stream",
     "text": [
      "\r",
      "110it [04:04,  2.26s/it]"
     ]
    },
    {
     "name": "stdout",
     "output_type": "stream",
     "text": [
      "(512,)\n",
      "/home/hice1/bpopper3/scratch/LLaVA_RAG/RAG_Pipeline/HANDMADE_QUESTIONS_PIPELINE/storage/vow-kxTPatc/frames/frame_6600.jpg\n",
      "so I already have a dough which I made this uh morning about 4 hours before so we will use that dough today to make the na so here is my dough which is already \n"
     ]
    },
    {
     "name": "stderr",
     "output_type": "stream",
     "text": [
      "\r",
      "111it [04:07,  2.25s/it]"
     ]
    },
    {
     "name": "stdout",
     "output_type": "stream",
     "text": [
      "(512,)\n",
      "/home/hice1/bpopper3/scratch/LLaVA_RAG/RAG_Pipeline/HANDMADE_QUESTIONS_PIPELINE/storage/vow-kxTPatc/frames/frame_6660.jpg\n",
      "this uh morning about 4 hours before so we will use that dough today to make the na so here is my dough which is already ready and uh I already have my oven on \n"
     ]
    },
    {
     "name": "stderr",
     "output_type": "stream",
     "text": [
      "\r",
      "112it [04:09,  2.25s/it]"
     ]
    },
    {
     "name": "stdout",
     "output_type": "stream",
     "text": [
      "(512,)\n",
      "/home/hice1/bpopper3/scratch/LLaVA_RAG/RAG_Pipeline/HANDMADE_QUESTIONS_PIPELINE/storage/vow-kxTPatc/frames/frame_6720.jpg\n",
      "we will use that dough today to make the na so here is my dough which is already ready and uh I already have my oven on \n"
     ]
    },
    {
     "name": "stderr",
     "output_type": "stream",
     "text": [
      "\r",
      "113it [04:11,  2.24s/it]"
     ]
    },
    {
     "name": "stdout",
     "output_type": "stream",
     "text": [
      "(512,)\n",
      "/home/hice1/bpopper3/scratch/LLaVA_RAG/RAG_Pipeline/HANDMADE_QUESTIONS_PIPELINE/storage/vow-kxTPatc/frames/frame_6780.jpg\n",
      "we will use that dough today to make the na so here is my dough which is already ready and uh I already have my oven on \n"
     ]
    },
    {
     "name": "stderr",
     "output_type": "stream",
     "text": [
      "\r",
      "114it [04:13,  2.24s/it]"
     ]
    },
    {
     "name": "stdout",
     "output_type": "stream",
     "text": [
      "(512,)\n",
      "/home/hice1/bpopper3/scratch/LLaVA_RAG/RAG_Pipeline/HANDMADE_QUESTIONS_PIPELINE/storage/vow-kxTPatc/frames/frame_6840.jpg\n",
      "na so here is my dough which is already ready and uh I already have my oven on on 500° and on Broiler for about 20 \n"
     ]
    },
    {
     "name": "stderr",
     "output_type": "stream",
     "text": [
      "\r",
      "115it [04:16,  2.26s/it]"
     ]
    },
    {
     "name": "stdout",
     "output_type": "stream",
     "text": [
      "(512,)\n",
      "/home/hice1/bpopper3/scratch/LLaVA_RAG/RAG_Pipeline/HANDMADE_QUESTIONS_PIPELINE/storage/vow-kxTPatc/frames/frame_6900.jpg\n",
      "na so here is my dough which is already ready and uh I already have my oven on on 500° and on Broiler for about 20 \n"
     ]
    },
    {
     "name": "stderr",
     "output_type": "stream",
     "text": [
      "\r",
      "116it [04:18,  2.27s/it]"
     ]
    },
    {
     "name": "stdout",
     "output_type": "stream",
     "text": [
      "(512,)\n",
      "/home/hice1/bpopper3/scratch/LLaVA_RAG/RAG_Pipeline/HANDMADE_QUESTIONS_PIPELINE/storage/vow-kxTPatc/frames/frame_6960.jpg\n",
      "na so here is my dough which is already ready and uh I already have my oven on on 500° and on Broiler for about 20 \n"
     ]
    },
    {
     "name": "stderr",
     "output_type": "stream",
     "text": [
      "\r",
      "117it [04:20,  2.25s/it]"
     ]
    },
    {
     "name": "stdout",
     "output_type": "stream",
     "text": [
      "(512,)\n",
      "/home/hice1/bpopper3/scratch/LLaVA_RAG/RAG_Pipeline/HANDMADE_QUESTIONS_PIPELINE/storage/vow-kxTPatc/frames/frame_7020.jpg\n",
      "na so here is my dough which is already ready and uh I already have my oven on on 500° and on Broiler for about 20 minutes and I use \n"
     ]
    },
    {
     "name": "stderr",
     "output_type": "stream",
     "text": [
      "\r",
      "118it [04:22,  2.25s/it]"
     ]
    },
    {
     "name": "stdout",
     "output_type": "stream",
     "text": [
      "(512,)\n",
      "/home/hice1/bpopper3/scratch/LLaVA_RAG/RAG_Pipeline/HANDMADE_QUESTIONS_PIPELINE/storage/vow-kxTPatc/frames/frame_7080.jpg\n",
      "na so here is my dough which is already ready and uh I already have my oven on on 500° and on Broiler for about 20 minutes and I use the baking stone or pizza stone to make \n"
     ]
    },
    {
     "name": "stderr",
     "output_type": "stream",
     "text": [
      "\r",
      "119it [04:25,  2.25s/it]"
     ]
    },
    {
     "name": "stdout",
     "output_type": "stream",
     "text": [
      "(512,)\n",
      "/home/hice1/bpopper3/scratch/LLaVA_RAG/RAG_Pipeline/HANDMADE_QUESTIONS_PIPELINE/storage/vow-kxTPatc/frames/frame_7140.jpg\n",
      "ready and uh I already have my oven on on 500° and on Broiler for about 20 minutes and I use the baking stone or pizza stone to make \n"
     ]
    },
    {
     "name": "stderr",
     "output_type": "stream",
     "text": [
      "\r",
      "120it [04:27,  2.25s/it]"
     ]
    },
    {
     "name": "stdout",
     "output_type": "stream",
     "text": [
      "(512,)\n",
      "/home/hice1/bpopper3/scratch/LLaVA_RAG/RAG_Pipeline/HANDMADE_QUESTIONS_PIPELINE/storage/vow-kxTPatc/frames/frame_7200.jpg\n",
      "ready and uh I already have my oven on on 500° and on Broiler for about 20 minutes and I use the baking stone or pizza stone to make \n"
     ]
    },
    {
     "name": "stderr",
     "output_type": "stream",
     "text": [
      "\r",
      "121it [04:29,  2.24s/it]"
     ]
    },
    {
     "name": "stdout",
     "output_type": "stream",
     "text": [
      "(512,)\n",
      "/home/hice1/bpopper3/scratch/LLaVA_RAG/RAG_Pipeline/HANDMADE_QUESTIONS_PIPELINE/storage/vow-kxTPatc/frames/frame_7260.jpg\n",
      "on 500° and on Broiler for about 20 minutes and I use the baking stone or pizza stone to make the Nan uh it makes it very big \n"
     ]
    },
    {
     "name": "stderr",
     "output_type": "stream",
     "text": [
      "\r",
      "122it [04:31,  2.24s/it]"
     ]
    },
    {
     "name": "stdout",
     "output_type": "stream",
     "text": [
      "(512,)\n",
      "/home/hice1/bpopper3/scratch/LLaVA_RAG/RAG_Pipeline/HANDMADE_QUESTIONS_PIPELINE/storage/vow-kxTPatc/frames/frame_7320.jpg\n",
      "on 500° and on Broiler for about 20 minutes and I use the baking stone or pizza stone to make the Nan uh it makes it very big \n"
     ]
    },
    {
     "name": "stderr",
     "output_type": "stream",
     "text": [
      "\r",
      "123it [04:34,  2.23s/it]"
     ]
    },
    {
     "name": "stdout",
     "output_type": "stream",
     "text": [
      "(512,)\n",
      "/home/hice1/bpopper3/scratch/LLaVA_RAG/RAG_Pipeline/HANDMADE_QUESTIONS_PIPELINE/storage/vow-kxTPatc/frames/frame_7380.jpg\n",
      "on 500° and on Broiler for about 20 minutes and I use the baking stone or pizza stone to make the Nan uh it makes it very big difference and it comes out very good \n"
     ]
    },
    {
     "name": "stderr",
     "output_type": "stream",
     "text": [
      "\r",
      "124it [04:36,  2.23s/it]"
     ]
    },
    {
     "name": "stdout",
     "output_type": "stream",
     "text": [
      "(512,)\n",
      "/home/hice1/bpopper3/scratch/LLaVA_RAG/RAG_Pipeline/HANDMADE_QUESTIONS_PIPELINE/storage/vow-kxTPatc/frames/frame_7440.jpg\n",
      "minutes and I use the baking stone or pizza stone to make the Nan uh it makes it very big difference and it comes out very good using uh this uh \n"
     ]
    },
    {
     "name": "stderr",
     "output_type": "stream",
     "text": [
      "\r",
      "125it [04:38,  2.23s/it]"
     ]
    },
    {
     "name": "stdout",
     "output_type": "stream",
     "text": [
      "(512,)\n",
      "/home/hice1/bpopper3/scratch/LLaVA_RAG/RAG_Pipeline/HANDMADE_QUESTIONS_PIPELINE/storage/vow-kxTPatc/frames/frame_7500.jpg\n",
      "minutes and I use the baking stone or pizza stone to make the Nan uh it makes it very big difference and it comes out very good using uh this uh \n"
     ]
    },
    {
     "name": "stderr",
     "output_type": "stream",
     "text": [
      "\r",
      "126it [04:40,  2.23s/it]"
     ]
    },
    {
     "name": "stdout",
     "output_type": "stream",
     "text": [
      "(512,)\n",
      "/home/hice1/bpopper3/scratch/LLaVA_RAG/RAG_Pipeline/HANDMADE_QUESTIONS_PIPELINE/storage/vow-kxTPatc/frames/frame_7560.jpg\n",
      "minutes and I use the baking stone or pizza stone to make the Nan uh it makes it very big difference and it comes out very good using uh this uh Stone so I'm going to just put uh little \n"
     ]
    },
    {
     "name": "stderr",
     "output_type": "stream",
     "text": [
      "\r",
      "127it [04:43,  2.24s/it]"
     ]
    },
    {
     "name": "stdout",
     "output_type": "stream",
     "text": [
      "(512,)\n",
      "/home/hice1/bpopper3/scratch/LLaVA_RAG/RAG_Pipeline/HANDMADE_QUESTIONS_PIPELINE/storage/vow-kxTPatc/frames/frame_7620.jpg\n",
      "the baking stone or pizza stone to make the Nan uh it makes it very big difference and it comes out very good using uh this uh Stone so I'm going to just put uh little \n"
     ]
    },
    {
     "name": "stderr",
     "output_type": "stream",
     "text": [
      "\r",
      "128it [04:45,  2.24s/it]"
     ]
    },
    {
     "name": "stdout",
     "output_type": "stream",
     "text": [
      "(512,)\n",
      "/home/hice1/bpopper3/scratch/LLaVA_RAG/RAG_Pipeline/HANDMADE_QUESTIONS_PIPELINE/storage/vow-kxTPatc/frames/frame_7680.jpg\n",
      "the Nan uh it makes it very big difference and it comes out very good using uh this uh Stone so I'm going to just put uh little bit \n"
     ]
    },
    {
     "name": "stderr",
     "output_type": "stream",
     "text": [
      "\r",
      "129it [04:47,  2.23s/it]"
     ]
    },
    {
     "name": "stdout",
     "output_type": "stream",
     "text": [
      "(512,)\n",
      "/home/hice1/bpopper3/scratch/LLaVA_RAG/RAG_Pipeline/HANDMADE_QUESTIONS_PIPELINE/storage/vow-kxTPatc/frames/frame_7740.jpg\n",
      "the Nan uh it makes it very big difference and it comes out very good using uh this uh Stone so I'm going to just put uh little bit oil on my \n"
     ]
    },
    {
     "name": "stderr",
     "output_type": "stream",
     "text": [
      "\r",
      "130it [04:49,  2.23s/it]"
     ]
    },
    {
     "name": "stdout",
     "output_type": "stream",
     "text": [
      "(512,)\n",
      "/home/hice1/bpopper3/scratch/LLaVA_RAG/RAG_Pipeline/HANDMADE_QUESTIONS_PIPELINE/storage/vow-kxTPatc/frames/frame_7800.jpg\n",
      "the Nan uh it makes it very big difference and it comes out very good using uh this uh Stone so I'm going to just put uh little bit oil on my hand and and \n"
     ]
    },
    {
     "name": "stderr",
     "output_type": "stream",
     "text": [
      "\r",
      "131it [04:52,  2.24s/it]"
     ]
    },
    {
     "name": "stdout",
     "output_type": "stream",
     "text": [
      "(512,)\n",
      "/home/hice1/bpopper3/scratch/LLaVA_RAG/RAG_Pipeline/HANDMADE_QUESTIONS_PIPELINE/storage/vow-kxTPatc/frames/frame_7860.jpg\n",
      "difference and it comes out very good using uh this uh Stone so I'm going to just put uh little bit oil on my hand and and make \n"
     ]
    },
    {
     "name": "stderr",
     "output_type": "stream",
     "text": [
      "\r",
      "132it [04:54,  2.23s/it]"
     ]
    },
    {
     "name": "stdout",
     "output_type": "stream",
     "text": [
      "(512,)\n",
      "/home/hice1/bpopper3/scratch/LLaVA_RAG/RAG_Pipeline/HANDMADE_QUESTIONS_PIPELINE/storage/vow-kxTPatc/frames/frame_7920.jpg\n",
      "difference and it comes out very good using uh this uh Stone so I'm going to just put uh little bit oil on my hand and and make \n"
     ]
    },
    {
     "name": "stderr",
     "output_type": "stream",
     "text": [
      "\r",
      "133it [04:56,  2.23s/it]"
     ]
    },
    {
     "name": "stdout",
     "output_type": "stream",
     "text": [
      "(512,)\n",
      "/home/hice1/bpopper3/scratch/LLaVA_RAG/RAG_Pipeline/HANDMADE_QUESTIONS_PIPELINE/storage/vow-kxTPatc/frames/frame_7980.jpg\n",
      "using uh this uh Stone so I'm going to just put uh little bit oil on my hand and and make \n"
     ]
    },
    {
     "name": "stderr",
     "output_type": "stream",
     "text": [
      "\r",
      "134it [04:58,  2.22s/it]"
     ]
    },
    {
     "name": "stdout",
     "output_type": "stream",
     "text": [
      "(512,)\n",
      "/home/hice1/bpopper3/scratch/LLaVA_RAG/RAG_Pipeline/HANDMADE_QUESTIONS_PIPELINE/storage/vow-kxTPatc/frames/frame_8040.jpg\n",
      "Stone so I'm going to just put uh little bit oil on my hand and and make \n"
     ]
    },
    {
     "name": "stderr",
     "output_type": "stream",
     "text": [
      "\r",
      "135it [05:00,  2.21s/it]"
     ]
    },
    {
     "name": "stdout",
     "output_type": "stream",
     "text": [
      "(512,)\n",
      "/home/hice1/bpopper3/scratch/LLaVA_RAG/RAG_Pipeline/HANDMADE_QUESTIONS_PIPELINE/storage/vow-kxTPatc/frames/frame_8100.jpg\n",
      "Stone so I'm going to just put uh little bit oil on my hand and and make \n"
     ]
    },
    {
     "name": "stderr",
     "output_type": "stream",
     "text": [
      "\r",
      "136it [05:03,  2.21s/it]"
     ]
    },
    {
     "name": "stdout",
     "output_type": "stream",
     "text": [
      "(512,)\n",
      "/home/hice1/bpopper3/scratch/LLaVA_RAG/RAG_Pipeline/HANDMADE_QUESTIONS_PIPELINE/storage/vow-kxTPatc/frames/frame_8160.jpg\n",
      "bit oil on my hand and and make six divide in these six equal \n"
     ]
    },
    {
     "name": "stderr",
     "output_type": "stream",
     "text": [
      "\r",
      "137it [05:05,  2.20s/it]"
     ]
    },
    {
     "name": "stdout",
     "output_type": "stream",
     "text": [
      "(512,)\n",
      "/home/hice1/bpopper3/scratch/LLaVA_RAG/RAG_Pipeline/HANDMADE_QUESTIONS_PIPELINE/storage/vow-kxTPatc/frames/frame_8220.jpg\n",
      "bit oil on my hand and and make six divide in these six equal \n"
     ]
    },
    {
     "name": "stderr",
     "output_type": "stream",
     "text": [
      "\r",
      "138it [05:07,  2.19s/it]"
     ]
    },
    {
     "name": "stdout",
     "output_type": "stream",
     "text": [
      "(512,)\n",
      "/home/hice1/bpopper3/scratch/LLaVA_RAG/RAG_Pipeline/HANDMADE_QUESTIONS_PIPELINE/storage/vow-kxTPatc/frames/frame_8280.jpg\n",
      "oil on my hand and and make six divide in these six equal \n"
     ]
    },
    {
     "name": "stderr",
     "output_type": "stream",
     "text": [
      "\r",
      "139it [05:09,  2.18s/it]"
     ]
    },
    {
     "name": "stdout",
     "output_type": "stream",
     "text": [
      "(512,)\n",
      "/home/hice1/bpopper3/scratch/LLaVA_RAG/RAG_Pipeline/HANDMADE_QUESTIONS_PIPELINE/storage/vow-kxTPatc/frames/frame_8340.jpg\n",
      "hand and and make six divide in these six equal parts and \n"
     ]
    },
    {
     "name": "stderr",
     "output_type": "stream",
     "text": [
      "\r",
      "140it [05:11,  2.20s/it]"
     ]
    },
    {
     "name": "stdout",
     "output_type": "stream",
     "text": [
      "(512,)\n",
      "/home/hice1/bpopper3/scratch/LLaVA_RAG/RAG_Pipeline/HANDMADE_QUESTIONS_PIPELINE/storage/vow-kxTPatc/frames/frame_8400.jpg\n",
      "make six divide in these six equal parts and \n"
     ]
    },
    {
     "name": "stderr",
     "output_type": "stream",
     "text": [
      "\r",
      "141it [05:13,  2.18s/it]"
     ]
    },
    {
     "name": "stdout",
     "output_type": "stream",
     "text": [
      "(512,)\n",
      "/home/hice1/bpopper3/scratch/LLaVA_RAG/RAG_Pipeline/HANDMADE_QUESTIONS_PIPELINE/storage/vow-kxTPatc/frames/frame_8460.jpg\n",
      "six divide in these six equal parts and take Little allpurpose Flower it helps \n"
     ]
    },
    {
     "name": "stderr",
     "output_type": "stream",
     "text": [
      "\r",
      "142it [05:16,  2.17s/it]"
     ]
    },
    {
     "name": "stdout",
     "output_type": "stream",
     "text": [
      "(512,)\n",
      "/home/hice1/bpopper3/scratch/LLaVA_RAG/RAG_Pipeline/HANDMADE_QUESTIONS_PIPELINE/storage/vow-kxTPatc/frames/frame_8520.jpg\n",
      "six divide in these six equal parts and take Little allpurpose Flower it helps \n"
     ]
    },
    {
     "name": "stderr",
     "output_type": "stream",
     "text": [
      "\r",
      "143it [05:18,  2.17s/it]"
     ]
    },
    {
     "name": "stdout",
     "output_type": "stream",
     "text": [
      "(512,)\n",
      "/home/hice1/bpopper3/scratch/LLaVA_RAG/RAG_Pipeline/HANDMADE_QUESTIONS_PIPELINE/storage/vow-kxTPatc/frames/frame_8580.jpg\n",
      "six divide in these six equal parts and take Little allpurpose Flower it helps \n"
     ]
    },
    {
     "name": "stderr",
     "output_type": "stream",
     "text": [
      "\r",
      "144it [05:20,  2.17s/it]"
     ]
    },
    {
     "name": "stdout",
     "output_type": "stream",
     "text": [
      "(512,)\n",
      "/home/hice1/bpopper3/scratch/LLaVA_RAG/RAG_Pipeline/HANDMADE_QUESTIONS_PIPELINE/storage/vow-kxTPatc/frames/frame_8640.jpg\n",
      "six divide in these six equal parts and take Little allpurpose Flower it helps \n"
     ]
    },
    {
     "name": "stderr",
     "output_type": "stream",
     "text": [
      "\r",
      "145it [05:22,  2.17s/it]"
     ]
    },
    {
     "name": "stdout",
     "output_type": "stream",
     "text": [
      "(512,)\n",
      "/home/hice1/bpopper3/scratch/LLaVA_RAG/RAG_Pipeline/HANDMADE_QUESTIONS_PIPELINE/storage/vow-kxTPatc/frames/frame_8700.jpg\n",
      "six divide in these six equal parts and take Little allpurpose Flower it helps making the \n"
     ]
    },
    {
     "name": "stderr",
     "output_type": "stream",
     "text": [
      "\r",
      "146it [05:24,  2.18s/it]"
     ]
    },
    {
     "name": "stdout",
     "output_type": "stream",
     "text": [
      "(512,)\n",
      "/home/hice1/bpopper3/scratch/LLaVA_RAG/RAG_Pipeline/HANDMADE_QUESTIONS_PIPELINE/storage/vow-kxTPatc/frames/frame_8760.jpg\n",
      "parts and take Little allpurpose Flower it helps making the \n"
     ]
    },
    {
     "name": "stderr",
     "output_type": "stream",
     "text": [
      "\r",
      "147it [05:26,  2.19s/it]"
     ]
    },
    {
     "name": "stdout",
     "output_type": "stream",
     "text": [
      "(512,)\n",
      "/home/hice1/bpopper3/scratch/LLaVA_RAG/RAG_Pipeline/HANDMADE_QUESTIONS_PIPELINE/storage/vow-kxTPatc/frames/frame_8820.jpg\n",
      "parts and take Little allpurpose Flower it helps making the \n"
     ]
    },
    {
     "name": "stderr",
     "output_type": "stream",
     "text": [
      "\r",
      "148it [05:29,  2.20s/it]"
     ]
    },
    {
     "name": "stdout",
     "output_type": "stream",
     "text": [
      "(512,)\n",
      "/home/hice1/bpopper3/scratch/LLaVA_RAG/RAG_Pipeline/HANDMADE_QUESTIONS_PIPELINE/storage/vow-kxTPatc/frames/frame_8880.jpg\n",
      "parts and take Little allpurpose Flower it helps making the \n"
     ]
    },
    {
     "name": "stderr",
     "output_type": "stream",
     "text": [
      "\r",
      "149it [05:31,  2.20s/it]"
     ]
    },
    {
     "name": "stdout",
     "output_type": "stream",
     "text": [
      "(512,)\n",
      "/home/hice1/bpopper3/scratch/LLaVA_RAG/RAG_Pipeline/HANDMADE_QUESTIONS_PIPELINE/storage/vow-kxTPatc/frames/frame_8940.jpg\n",
      "take Little allpurpose Flower it helps making the \n"
     ]
    },
    {
     "name": "stderr",
     "output_type": "stream",
     "text": [
      "\r",
      "150it [05:33,  2.20s/it]"
     ]
    },
    {
     "name": "stdout",
     "output_type": "stream",
     "text": [
      "(512,)\n",
      "/home/hice1/bpopper3/scratch/LLaVA_RAG/RAG_Pipeline/HANDMADE_QUESTIONS_PIPELINE/storage/vow-kxTPatc/frames/frame_9000.jpg\n",
      "take Little allpurpose Flower it helps making the balls and it helps in Rolling \n"
     ]
    },
    {
     "name": "stderr",
     "output_type": "stream",
     "text": [
      "\r",
      "151it [05:35,  2.19s/it]"
     ]
    },
    {
     "name": "stdout",
     "output_type": "stream",
     "text": [
      "(512,)\n",
      "/home/hice1/bpopper3/scratch/LLaVA_RAG/RAG_Pipeline/HANDMADE_QUESTIONS_PIPELINE/storage/vow-kxTPatc/frames/frame_9060.jpg\n",
      "making the balls and it helps in Rolling \n"
     ]
    },
    {
     "name": "stderr",
     "output_type": "stream",
     "text": [
      "\r",
      "152it [05:37,  2.19s/it]"
     ]
    },
    {
     "name": "stdout",
     "output_type": "stream",
     "text": [
      "(512,)\n",
      "/home/hice1/bpopper3/scratch/LLaVA_RAG/RAG_Pipeline/HANDMADE_QUESTIONS_PIPELINE/storage/vow-kxTPatc/frames/frame_9120.jpg\n",
      "making the balls and it helps in Rolling \n"
     ]
    },
    {
     "name": "stderr",
     "output_type": "stream",
     "text": [
      "\r",
      "153it [05:40,  2.18s/it]"
     ]
    },
    {
     "name": "stdout",
     "output_type": "stream",
     "text": [
      "(512,)\n",
      "/home/hice1/bpopper3/scratch/LLaVA_RAG/RAG_Pipeline/HANDMADE_QUESTIONS_PIPELINE/storage/vow-kxTPatc/frames/frame_9180.jpg\n",
      "making the balls and it helps in Rolling also okay I'm going to \n"
     ]
    },
    {
     "name": "stderr",
     "output_type": "stream",
     "text": [
      "\r",
      "154it [05:42,  2.18s/it]"
     ]
    },
    {
     "name": "stdout",
     "output_type": "stream",
     "text": [
      "(512,)\n",
      "/home/hice1/bpopper3/scratch/LLaVA_RAG/RAG_Pipeline/HANDMADE_QUESTIONS_PIPELINE/storage/vow-kxTPatc/frames/frame_9240.jpg\n",
      "making the balls and it helps in Rolling also okay I'm going to roll the \n"
     ]
    },
    {
     "name": "stderr",
     "output_type": "stream",
     "text": [
      "\r",
      "155it [05:44,  2.18s/it]"
     ]
    },
    {
     "name": "stdout",
     "output_type": "stream",
     "text": [
      "(512,)\n",
      "/home/hice1/bpopper3/scratch/LLaVA_RAG/RAG_Pipeline/HANDMADE_QUESTIONS_PIPELINE/storage/vow-kxTPatc/frames/frame_9300.jpg\n",
      "balls and it helps in Rolling also okay I'm going to roll the Nan usually Nan are in rectangle \n"
     ]
    },
    {
     "name": "stderr",
     "output_type": "stream",
     "text": [
      "\r",
      "156it [05:46,  2.19s/it]"
     ]
    },
    {
     "name": "stdout",
     "output_type": "stream",
     "text": [
      "(512,)\n",
      "/home/hice1/bpopper3/scratch/LLaVA_RAG/RAG_Pipeline/HANDMADE_QUESTIONS_PIPELINE/storage/vow-kxTPatc/frames/frame_9360.jpg\n",
      "balls and it helps in Rolling also okay I'm going to roll the Nan usually Nan are in rectangle \n"
     ]
    },
    {
     "name": "stderr",
     "output_type": "stream",
     "text": [
      "\r",
      "157it [05:48,  2.19s/it]"
     ]
    },
    {
     "name": "stdout",
     "output_type": "stream",
     "text": [
      "(512,)\n",
      "/home/hice1/bpopper3/scratch/LLaVA_RAG/RAG_Pipeline/HANDMADE_QUESTIONS_PIPELINE/storage/vow-kxTPatc/frames/frame_9420.jpg\n",
      "balls and it helps in Rolling also okay I'm going to roll the Nan usually Nan are in rectangle shape and roll it \n"
     ]
    },
    {
     "name": "stderr",
     "output_type": "stream",
     "text": [
      "\r",
      "158it [05:51,  2.20s/it]"
     ]
    },
    {
     "name": "stdout",
     "output_type": "stream",
     "text": [
      "(512,)\n",
      "/home/hice1/bpopper3/scratch/LLaVA_RAG/RAG_Pipeline/HANDMADE_QUESTIONS_PIPELINE/storage/vow-kxTPatc/frames/frame_9480.jpg\n",
      "balls and it helps in Rolling also okay I'm going to roll the Nan usually Nan are in rectangle shape and roll it \n"
     ]
    },
    {
     "name": "stderr",
     "output_type": "stream",
     "text": [
      "\r",
      "159it [05:53,  2.20s/it]"
     ]
    },
    {
     "name": "stdout",
     "output_type": "stream",
     "text": [
      "(512,)\n",
      "/home/hice1/bpopper3/scratch/LLaVA_RAG/RAG_Pipeline/HANDMADE_QUESTIONS_PIPELINE/storage/vow-kxTPatc/frames/frame_9540.jpg\n",
      "balls and it helps in Rolling also okay I'm going to roll the Nan usually Nan are in rectangle shape and roll it about 1 14 in thick don't make it very \n"
     ]
    },
    {
     "name": "stderr",
     "output_type": "stream",
     "text": [
      "\r",
      "160it [05:55,  2.21s/it]"
     ]
    },
    {
     "name": "stdout",
     "output_type": "stream",
     "text": [
      "(512,)\n",
      "/home/hice1/bpopper3/scratch/LLaVA_RAG/RAG_Pipeline/HANDMADE_QUESTIONS_PIPELINE/storage/vow-kxTPatc/frames/frame_9600.jpg\n",
      "also okay I'm going to roll the Nan usually Nan are in rectangle shape and roll it about 1 14 in thick don't make it very \n"
     ]
    },
    {
     "name": "stderr",
     "output_type": "stream",
     "text": [
      "\r",
      "161it [05:57,  2.22s/it]"
     ]
    },
    {
     "name": "stdout",
     "output_type": "stream",
     "text": [
      "(512,)\n",
      "/home/hice1/bpopper3/scratch/LLaVA_RAG/RAG_Pipeline/HANDMADE_QUESTIONS_PIPELINE/storage/vow-kxTPatc/frames/frame_9660.jpg\n",
      "also okay I'm going to roll the Nan usually Nan are in rectangle shape and roll it about 1 14 in thick don't make it very \n"
     ]
    },
    {
     "name": "stderr",
     "output_type": "stream",
     "text": [
      "\r",
      "162it [05:59,  2.22s/it]"
     ]
    },
    {
     "name": "stdout",
     "output_type": "stream",
     "text": [
      "(512,)\n",
      "/home/hice1/bpopper3/scratch/LLaVA_RAG/RAG_Pipeline/HANDMADE_QUESTIONS_PIPELINE/storage/vow-kxTPatc/frames/frame_9720.jpg\n",
      "also okay I'm going to roll the Nan usually Nan are in rectangle shape and roll it about 1 14 in thick don't make it very thin so my I can bake three NS at a time \n"
     ]
    },
    {
     "name": "stderr",
     "output_type": "stream",
     "text": [
      "\r",
      "163it [06:02,  2.23s/it]"
     ]
    },
    {
     "name": "stdout",
     "output_type": "stream",
     "text": [
      "(512,)\n",
      "/home/hice1/bpopper3/scratch/LLaVA_RAG/RAG_Pipeline/HANDMADE_QUESTIONS_PIPELINE/storage/vow-kxTPatc/frames/frame_9780.jpg\n",
      "roll the Nan usually Nan are in rectangle shape and roll it about 1 14 in thick don't make it very thin so my I can bake three NS at a time \n"
     ]
    },
    {
     "name": "stderr",
     "output_type": "stream",
     "text": [
      "\r",
      "164it [06:04,  2.23s/it]"
     ]
    },
    {
     "name": "stdout",
     "output_type": "stream",
     "text": [
      "(512,)\n",
      "/home/hice1/bpopper3/scratch/LLaVA_RAG/RAG_Pipeline/HANDMADE_QUESTIONS_PIPELINE/storage/vow-kxTPatc/frames/frame_9840.jpg\n",
      "Nan usually Nan are in rectangle shape and roll it about 1 14 in thick don't make it very thin so my I can bake three NS at a time \n"
     ]
    },
    {
     "name": "stderr",
     "output_type": "stream",
     "text": [
      "\r",
      "165it [06:06,  2.23s/it]"
     ]
    },
    {
     "name": "stdout",
     "output_type": "stream",
     "text": [
      "(512,)\n",
      "/home/hice1/bpopper3/scratch/LLaVA_RAG/RAG_Pipeline/HANDMADE_QUESTIONS_PIPELINE/storage/vow-kxTPatc/frames/frame_9900.jpg\n",
      "shape and roll it about 1 14 in thick don't make it very thin so my I can bake three NS at a time \n"
     ]
    },
    {
     "name": "stderr",
     "output_type": "stream",
     "text": [
      "\r",
      "166it [06:08,  2.25s/it]"
     ]
    },
    {
     "name": "stdout",
     "output_type": "stream",
     "text": [
      "(512,)\n",
      "/home/hice1/bpopper3/scratch/LLaVA_RAG/RAG_Pipeline/HANDMADE_QUESTIONS_PIPELINE/storage/vow-kxTPatc/frames/frame_9960.jpg\n",
      "shape and roll it about 1 14 in thick don't make it very thin so my I can bake three NS at a time so I \n"
     ]
    },
    {
     "name": "stderr",
     "output_type": "stream",
     "text": [
      "\r",
      "167it [06:11,  2.24s/it]"
     ]
    },
    {
     "name": "stdout",
     "output_type": "stream",
     "text": [
      "(512,)\n",
      "/home/hice1/bpopper3/scratch/LLaVA_RAG/RAG_Pipeline/HANDMADE_QUESTIONS_PIPELINE/storage/vow-kxTPatc/frames/frame_10020.jpg\n",
      "about 1 14 in thick don't make it very thin so my I can bake three NS at a time so I will okay my oven is already ready I had \n"
     ]
    },
    {
     "name": "stderr",
     "output_type": "stream",
     "text": [
      "\r",
      "168it [06:13,  2.24s/it]"
     ]
    },
    {
     "name": "stdout",
     "output_type": "stream",
     "text": [
      "(512,)\n",
      "/home/hice1/bpopper3/scratch/LLaVA_RAG/RAG_Pipeline/HANDMADE_QUESTIONS_PIPELINE/storage/vow-kxTPatc/frames/frame_10080.jpg\n",
      "thin so my I can bake three NS at a time so I will okay my oven is already ready I had \n"
     ]
    },
    {
     "name": "stderr",
     "output_type": "stream",
     "text": [
      "\r",
      "169it [06:15,  2.23s/it]"
     ]
    },
    {
     "name": "stdout",
     "output_type": "stream",
     "text": [
      "(512,)\n",
      "/home/hice1/bpopper3/scratch/LLaVA_RAG/RAG_Pipeline/HANDMADE_QUESTIONS_PIPELINE/storage/vow-kxTPatc/frames/frame_10140.jpg\n",
      "thin so my I can bake three NS at a time so I will okay my oven is already ready I had it uh started it about 20 minutes \n"
     ]
    },
    {
     "name": "stderr",
     "output_type": "stream",
     "text": [
      "\r",
      "170it [06:17,  2.22s/it]"
     ]
    },
    {
     "name": "stdout",
     "output_type": "stream",
     "text": [
      "(512,)\n",
      "/home/hice1/bpopper3/scratch/LLaVA_RAG/RAG_Pipeline/HANDMADE_QUESTIONS_PIPELINE/storage/vow-kxTPatc/frames/frame_10200.jpg\n",
      "thin so my I can bake three NS at a time so I will okay my oven is already ready I had it uh started it about 20 minutes \n"
     ]
    },
    {
     "name": "stderr",
     "output_type": "stream",
     "text": [
      "\r",
      "171it [06:20,  2.22s/it]"
     ]
    },
    {
     "name": "stdout",
     "output_type": "stream",
     "text": [
      "(512,)\n",
      "/home/hice1/bpopper3/scratch/LLaVA_RAG/RAG_Pipeline/HANDMADE_QUESTIONS_PIPELINE/storage/vow-kxTPatc/frames/frame_10260.jpg\n",
      "thin so my I can bake three NS at a time so I will okay my oven is already ready I had it uh started it about 20 minutes \n"
     ]
    },
    {
     "name": "stderr",
     "output_type": "stream",
     "text": [
      "\r",
      "172it [06:22,  2.22s/it]"
     ]
    },
    {
     "name": "stdout",
     "output_type": "stream",
     "text": [
      "(512,)\n",
      "/home/hice1/bpopper3/scratch/LLaVA_RAG/RAG_Pipeline/HANDMADE_QUESTIONS_PIPELINE/storage/vow-kxTPatc/frames/frame_10320.jpg\n",
      "so I will okay my oven is already ready I had it uh started it about 20 minutes \n"
     ]
    },
    {
     "name": "stderr",
     "output_type": "stream",
     "text": [
      "\r",
      "173it [06:24,  2.21s/it]"
     ]
    },
    {
     "name": "stdout",
     "output_type": "stream",
     "text": [
      "(512,)\n",
      "/home/hice1/bpopper3/scratch/LLaVA_RAG/RAG_Pipeline/HANDMADE_QUESTIONS_PIPELINE/storage/vow-kxTPatc/frames/frame_10380.jpg\n",
      "so I will okay my oven is already ready I had it uh started it about 20 minutes before and this is \n"
     ]
    },
    {
     "name": "stderr",
     "output_type": "stream",
     "text": [
      "\r",
      "174it [06:26,  2.21s/it]"
     ]
    },
    {
     "name": "stdout",
     "output_type": "stream",
     "text": [
      "(512,)\n",
      "/home/hice1/bpopper3/scratch/LLaVA_RAG/RAG_Pipeline/HANDMADE_QUESTIONS_PIPELINE/storage/vow-kxTPatc/frames/frame_10440.jpg\n",
      "so I will okay my oven is already ready I had it uh started it about 20 minutes before and this is my pizza stone \n"
     ]
    },
    {
     "name": "stderr",
     "output_type": "stream",
     "text": [
      "\r",
      "175it [06:28,  2.21s/it]"
     ]
    },
    {
     "name": "stdout",
     "output_type": "stream",
     "text": [
      "(512,)\n",
      "/home/hice1/bpopper3/scratch/LLaVA_RAG/RAG_Pipeline/HANDMADE_QUESTIONS_PIPELINE/storage/vow-kxTPatc/frames/frame_10500.jpg\n",
      "so I will okay my oven is already ready I had it uh started it about 20 minutes before and this is my pizza stone \n"
     ]
    },
    {
     "name": "stderr",
     "output_type": "stream",
     "text": [
      "\r",
      "176it [06:31,  2.21s/it]"
     ]
    },
    {
     "name": "stdout",
     "output_type": "stream",
     "text": [
      "(512,)\n",
      "/home/hice1/bpopper3/scratch/LLaVA_RAG/RAG_Pipeline/HANDMADE_QUESTIONS_PIPELINE/storage/vow-kxTPatc/frames/frame_10560.jpg\n",
      "will okay my oven is already ready I had it uh started it about 20 minutes before and this is my pizza stone so before I put the Nan I will just wet \n"
     ]
    },
    {
     "name": "stderr",
     "output_type": "stream",
     "text": [
      "\r",
      "177it [06:33,  2.21s/it]"
     ]
    },
    {
     "name": "stdout",
     "output_type": "stream",
     "text": [
      "(512,)\n",
      "/home/hice1/bpopper3/scratch/LLaVA_RAG/RAG_Pipeline/HANDMADE_QUESTIONS_PIPELINE/storage/vow-kxTPatc/frames/frame_10620.jpg\n",
      "it uh started it about 20 minutes before and this is my pizza stone so before I put the Nan I will just wet my \n"
     ]
    },
    {
     "name": "stderr",
     "output_type": "stream",
     "text": [
      "\r",
      "178it [06:35,  2.21s/it]"
     ]
    },
    {
     "name": "stdout",
     "output_type": "stream",
     "text": [
      "(512,)\n",
      "/home/hice1/bpopper3/scratch/LLaVA_RAG/RAG_Pipeline/HANDMADE_QUESTIONS_PIPELINE/storage/vow-kxTPatc/frames/frame_10680.jpg\n",
      "it uh started it about 20 minutes before and this is my pizza stone so before I put the Nan I will just wet my hand take \n"
     ]
    },
    {
     "name": "stderr",
     "output_type": "stream",
     "text": [
      "\r",
      "179it [06:37,  2.21s/it]"
     ]
    },
    {
     "name": "stdout",
     "output_type": "stream",
     "text": [
      "(512,)\n",
      "/home/hice1/bpopper3/scratch/LLaVA_RAG/RAG_Pipeline/HANDMADE_QUESTIONS_PIPELINE/storage/vow-kxTPatc/frames/frame_10740.jpg\n",
      "before and this is my pizza stone so before I put the Nan I will just wet my hand take \n"
     ]
    },
    {
     "name": "stderr",
     "output_type": "stream",
     "text": [
      "\r",
      "180it [06:39,  2.21s/it]"
     ]
    },
    {
     "name": "stdout",
     "output_type": "stream",
     "text": [
      "(512,)\n",
      "/home/hice1/bpopper3/scratch/LLaVA_RAG/RAG_Pipeline/HANDMADE_QUESTIONS_PIPELINE/storage/vow-kxTPatc/frames/frame_10800.jpg\n",
      "before and this is my pizza stone so before I put the Nan I will just wet my hand take \n"
     ]
    },
    {
     "name": "stderr",
     "output_type": "stream",
     "text": [
      "\r",
      "181it [06:42,  2.20s/it]"
     ]
    },
    {
     "name": "stdout",
     "output_type": "stream",
     "text": [
      "(512,)\n",
      "/home/hice1/bpopper3/scratch/LLaVA_RAG/RAG_Pipeline/HANDMADE_QUESTIONS_PIPELINE/storage/vow-kxTPatc/frames/frame_10860.jpg\n",
      "before and this is my pizza stone so before I put the Nan I will just wet my hand take \n"
     ]
    },
    {
     "name": "stderr",
     "output_type": "stream",
     "text": [
      "\r",
      "182it [06:44,  2.20s/it]"
     ]
    },
    {
     "name": "stdout",
     "output_type": "stream",
     "text": [
      "(512,)\n",
      "/home/hice1/bpopper3/scratch/LLaVA_RAG/RAG_Pipeline/HANDMADE_QUESTIONS_PIPELINE/storage/vow-kxTPatc/frames/frame_10920.jpg\n",
      "before and this is my pizza stone so before I put the Nan I will just wet my hand take \n"
     ]
    },
    {
     "name": "stderr",
     "output_type": "stream",
     "text": [
      "\r",
      "183it [06:46,  2.20s/it]"
     ]
    },
    {
     "name": "stdout",
     "output_type": "stream",
     "text": [
      "(512,)\n",
      "/home/hice1/bpopper3/scratch/LLaVA_RAG/RAG_Pipeline/HANDMADE_QUESTIONS_PIPELINE/storage/vow-kxTPatc/frames/frame_10980.jpg\n",
      "my pizza stone so before I put the Nan I will just wet my hand take \n"
     ]
    },
    {
     "name": "stderr",
     "output_type": "stream",
     "text": [
      "\r",
      "184it [06:48,  2.20s/it]"
     ]
    },
    {
     "name": "stdout",
     "output_type": "stream",
     "text": [
      "(512,)\n",
      "/home/hice1/bpopper3/scratch/LLaVA_RAG/RAG_Pipeline/HANDMADE_QUESTIONS_PIPELINE/storage/vow-kxTPatc/frames/frame_11040.jpg\n",
      "so before I put the Nan I will just wet my hand take \n"
     ]
    },
    {
     "name": "stderr",
     "output_type": "stream",
     "text": [
      "\r",
      "185it [06:50,  2.19s/it]"
     ]
    },
    {
     "name": "stdout",
     "output_type": "stream",
     "text": [
      "(512,)\n",
      "/home/hice1/bpopper3/scratch/LLaVA_RAG/RAG_Pipeline/HANDMADE_QUESTIONS_PIPELINE/storage/vow-kxTPatc/frames/frame_11100.jpg\n",
      "so before I put the Nan I will just wet my hand take \n"
     ]
    },
    {
     "name": "stderr",
     "output_type": "stream",
     "text": [
      "\r",
      "186it [06:53,  2.18s/it]"
     ]
    },
    {
     "name": "stdout",
     "output_type": "stream",
     "text": [
      "(512,)\n",
      "/home/hice1/bpopper3/scratch/LLaVA_RAG/RAG_Pipeline/HANDMADE_QUESTIONS_PIPELINE/storage/vow-kxTPatc/frames/frame_11160.jpg\n",
      "my hand take \n"
     ]
    },
    {
     "name": "stderr",
     "output_type": "stream",
     "text": [
      "\r",
      "187it [06:55,  2.15s/it]"
     ]
    },
    {
     "name": "stdout",
     "output_type": "stream",
     "text": [
      "(512,)\n",
      "/home/hice1/bpopper3/scratch/LLaVA_RAG/RAG_Pipeline/HANDMADE_QUESTIONS_PIPELINE/storage/vow-kxTPatc/frames/frame_11220.jpg\n",
      "hand take \n"
     ]
    },
    {
     "name": "stderr",
     "output_type": "stream",
     "text": [
      "\r",
      "188it [06:57,  2.13s/it]"
     ]
    },
    {
     "name": "stdout",
     "output_type": "stream",
     "text": [
      "(512,)\n",
      "/home/hice1/bpopper3/scratch/LLaVA_RAG/RAG_Pipeline/HANDMADE_QUESTIONS_PIPELINE/storage/vow-kxTPatc/frames/frame_11280.jpg\n",
      "No transcript available\n"
     ]
    },
    {
     "name": "stderr",
     "output_type": "stream",
     "text": [
      "\r",
      "189it [06:59,  2.10s/it]"
     ]
    },
    {
     "name": "stdout",
     "output_type": "stream",
     "text": [
      "(512,)\n",
      "/home/hice1/bpopper3/scratch/LLaVA_RAG/RAG_Pipeline/HANDMADE_QUESTIONS_PIPELINE/storage/vow-kxTPatc/frames/frame_11340.jpg\n",
      "it this should take about 3 \n"
     ]
    },
    {
     "name": "stderr",
     "output_type": "stream",
     "text": [
      "\r",
      "190it [07:01,  2.11s/it]"
     ]
    },
    {
     "name": "stdout",
     "output_type": "stream",
     "text": [
      "(512,)\n",
      "/home/hice1/bpopper3/scratch/LLaVA_RAG/RAG_Pipeline/HANDMADE_QUESTIONS_PIPELINE/storage/vow-kxTPatc/frames/frame_11400.jpg\n",
      "it this should take about 3 \n"
     ]
    },
    {
     "name": "stderr",
     "output_type": "stream",
     "text": [
      "\r",
      "191it [07:03,  2.12s/it]"
     ]
    },
    {
     "name": "stdout",
     "output_type": "stream",
     "text": [
      "(512,)\n",
      "/home/hice1/bpopper3/scratch/LLaVA_RAG/RAG_Pipeline/HANDMADE_QUESTIONS_PIPELINE/storage/vow-kxTPatc/frames/frame_11460.jpg\n",
      "it this should take about 3 \n"
     ]
    },
    {
     "name": "stderr",
     "output_type": "stream",
     "text": [
      "\r",
      "192it [07:05,  2.12s/it]"
     ]
    },
    {
     "name": "stdout",
     "output_type": "stream",
     "text": [
      "(512,)\n",
      "/home/hice1/bpopper3/scratch/LLaVA_RAG/RAG_Pipeline/HANDMADE_QUESTIONS_PIPELINE/storage/vow-kxTPatc/frames/frame_11520.jpg\n",
      "it this should take about 3 \n"
     ]
    },
    {
     "name": "stderr",
     "output_type": "stream",
     "text": [
      "\r",
      "193it [07:07,  2.12s/it]"
     ]
    },
    {
     "name": "stdout",
     "output_type": "stream",
     "text": [
      "(512,)\n",
      "/home/hice1/bpopper3/scratch/LLaVA_RAG/RAG_Pipeline/HANDMADE_QUESTIONS_PIPELINE/storage/vow-kxTPatc/frames/frame_11580.jpg\n",
      "it this should take about 3 minutes it has been 3 minutes and my \n"
     ]
    },
    {
     "name": "stderr",
     "output_type": "stream",
     "text": [
      "\r",
      "194it [07:09,  2.14s/it]"
     ]
    },
    {
     "name": "stdout",
     "output_type": "stream",
     "text": [
      "(512,)\n",
      "/home/hice1/bpopper3/scratch/LLaVA_RAG/RAG_Pipeline/HANDMADE_QUESTIONS_PIPELINE/storage/vow-kxTPatc/frames/frame_11640.jpg\n",
      "it this should take about 3 minutes it has been 3 minutes and my \n"
     ]
    },
    {
     "name": "stderr",
     "output_type": "stream",
     "text": [
      "\r",
      "195it [07:12,  2.15s/it]"
     ]
    },
    {
     "name": "stdout",
     "output_type": "stream",
     "text": [
      "(512,)\n",
      "/home/hice1/bpopper3/scratch/LLaVA_RAG/RAG_Pipeline/HANDMADE_QUESTIONS_PIPELINE/storage/vow-kxTPatc/frames/frame_11700.jpg\n",
      "it this should take about 3 minutes it has been 3 minutes and my first pans are ready just see how good \n"
     ]
    },
    {
     "name": "stderr",
     "output_type": "stream",
     "text": [
      "\r",
      "196it [07:14,  2.16s/it]"
     ]
    },
    {
     "name": "stdout",
     "output_type": "stream",
     "text": [
      "(512,)\n",
      "/home/hice1/bpopper3/scratch/LLaVA_RAG/RAG_Pipeline/HANDMADE_QUESTIONS_PIPELINE/storage/vow-kxTPatc/frames/frame_11760.jpg\n",
      "it this should take about 3 minutes it has been 3 minutes and my first pans are ready just see how good they \n"
     ]
    },
    {
     "name": "stderr",
     "output_type": "stream",
     "text": [
      "\r",
      "197it [07:16,  2.17s/it]"
     ]
    },
    {
     "name": "stdout",
     "output_type": "stream",
     "text": [
      "(512,)\n",
      "/home/hice1/bpopper3/scratch/LLaVA_RAG/RAG_Pipeline/HANDMADE_QUESTIONS_PIPELINE/storage/vow-kxTPatc/frames/frame_11820.jpg\n",
      "it this should take about 3 minutes it has been 3 minutes and my first pans are ready just see how good they look very \n"
     ]
    },
    {
     "name": "stderr",
     "output_type": "stream",
     "text": [
      "\r",
      "198it [07:18,  2.18s/it]"
     ]
    },
    {
     "name": "stdout",
     "output_type": "stream",
     "text": [
      "(512,)\n",
      "/home/hice1/bpopper3/scratch/LLaVA_RAG/RAG_Pipeline/HANDMADE_QUESTIONS_PIPELINE/storage/vow-kxTPatc/frames/frame_11880.jpg\n",
      "it this should take about 3 minutes it has been 3 minutes and my first pans are ready just see how good they look very \n"
     ]
    },
    {
     "name": "stderr",
     "output_type": "stream",
     "text": [
      "\r",
      "199it [07:20,  2.19s/it]"
     ]
    },
    {
     "name": "stdout",
     "output_type": "stream",
     "text": [
      "(512,)\n",
      "/home/hice1/bpopper3/scratch/LLaVA_RAG/RAG_Pipeline/HANDMADE_QUESTIONS_PIPELINE/storage/vow-kxTPatc/frames/frame_11940.jpg\n",
      "minutes it has been 3 minutes and my first pans are ready just see how good they look very \n"
     ]
    },
    {
     "name": "stderr",
     "output_type": "stream",
     "text": [
      "\r",
      "200it [07:23,  2.19s/it]"
     ]
    },
    {
     "name": "stdout",
     "output_type": "stream",
     "text": [
      "(512,)\n",
      "/home/hice1/bpopper3/scratch/LLaVA_RAG/RAG_Pipeline/HANDMADE_QUESTIONS_PIPELINE/storage/vow-kxTPatc/frames/frame_12000.jpg\n",
      "minutes it has been 3 minutes and my first pans are ready just see how good they look very \n"
     ]
    },
    {
     "name": "stderr",
     "output_type": "stream",
     "text": [
      "\r",
      "201it [07:25,  2.19s/it]"
     ]
    },
    {
     "name": "stdout",
     "output_type": "stream",
     "text": [
      "(512,)\n",
      "/home/hice1/bpopper3/scratch/LLaVA_RAG/RAG_Pipeline/HANDMADE_QUESTIONS_PIPELINE/storage/vow-kxTPatc/frames/frame_12060.jpg\n",
      "minutes it has been 3 minutes and my first pans are ready just see how good they look very \n"
     ]
    },
    {
     "name": "stderr",
     "output_type": "stream",
     "text": [
      "\r",
      "202it [07:27,  2.19s/it]"
     ]
    },
    {
     "name": "stdout",
     "output_type": "stream",
     "text": [
      "(512,)\n",
      "/home/hice1/bpopper3/scratch/LLaVA_RAG/RAG_Pipeline/HANDMADE_QUESTIONS_PIPELINE/storage/vow-kxTPatc/frames/frame_12120.jpg\n",
      "minutes it has been 3 minutes and my first pans are ready just see how good they look very \n"
     ]
    },
    {
     "name": "stderr",
     "output_type": "stream",
     "text": [
      "\r",
      "203it [07:29,  2.19s/it]"
     ]
    },
    {
     "name": "stdout",
     "output_type": "stream",
     "text": [
      "(512,)\n",
      "/home/hice1/bpopper3/scratch/LLaVA_RAG/RAG_Pipeline/HANDMADE_QUESTIONS_PIPELINE/storage/vow-kxTPatc/frames/frame_12180.jpg\n",
      "first pans are ready just see how good they look very \n"
     ]
    },
    {
     "name": "stderr",
     "output_type": "stream",
     "text": [
      "\r",
      "204it [07:31,  2.20s/it]"
     ]
    },
    {
     "name": "stdout",
     "output_type": "stream",
     "text": [
      "(512,)\n",
      "/home/hice1/bpopper3/scratch/LLaVA_RAG/RAG_Pipeline/HANDMADE_QUESTIONS_PIPELINE/storage/vow-kxTPatc/frames/frame_12240.jpg\n",
      "first pans are ready just see how good they look very yummy and I'm going to brush this Nan \n"
     ]
    },
    {
     "name": "stderr",
     "output_type": "stream",
     "text": [
      "\r",
      "205it [07:34,  2.20s/it]"
     ]
    },
    {
     "name": "stdout",
     "output_type": "stream",
     "text": [
      "(512,)\n",
      "/home/hice1/bpopper3/scratch/LLaVA_RAG/RAG_Pipeline/HANDMADE_QUESTIONS_PIPELINE/storage/vow-kxTPatc/frames/frame_12300.jpg\n",
      "they look very yummy and I'm going to brush this Nan \n"
     ]
    },
    {
     "name": "stderr",
     "output_type": "stream",
     "text": [
      "\r",
      "206it [07:36,  2.19s/it]"
     ]
    },
    {
     "name": "stdout",
     "output_type": "stream",
     "text": [
      "(512,)\n",
      "/home/hice1/bpopper3/scratch/LLaVA_RAG/RAG_Pipeline/HANDMADE_QUESTIONS_PIPELINE/storage/vow-kxTPatc/frames/frame_12360.jpg\n",
      "look very yummy and I'm going to brush this Nan with clear \n"
     ]
    },
    {
     "name": "stderr",
     "output_type": "stream",
     "text": [
      "\r",
      "207it [07:38,  2.19s/it]"
     ]
    },
    {
     "name": "stdout",
     "output_type": "stream",
     "text": [
      "(512,)\n",
      "/home/hice1/bpopper3/scratch/LLaVA_RAG/RAG_Pipeline/HANDMADE_QUESTIONS_PIPELINE/storage/vow-kxTPatc/frames/frame_12420.jpg\n",
      "yummy and I'm going to brush this Nan with clear butter or \n"
     ]
    },
    {
     "name": "stderr",
     "output_type": "stream",
     "text": [
      "\r",
      "208it [07:40,  2.18s/it]"
     ]
    },
    {
     "name": "stdout",
     "output_type": "stream",
     "text": [
      "(512,)\n",
      "/home/hice1/bpopper3/scratch/LLaVA_RAG/RAG_Pipeline/HANDMADE_QUESTIONS_PIPELINE/storage/vow-kxTPatc/frames/frame_12480.jpg\n",
      "yummy and I'm going to brush this Nan with clear butter or \n"
     ]
    },
    {
     "name": "stderr",
     "output_type": "stream",
     "text": [
      "\r",
      "209it [07:42,  2.18s/it]"
     ]
    },
    {
     "name": "stdout",
     "output_type": "stream",
     "text": [
      "(512,)\n",
      "/home/hice1/bpopper3/scratch/LLaVA_RAG/RAG_Pipeline/HANDMADE_QUESTIONS_PIPELINE/storage/vow-kxTPatc/frames/frame_12540.jpg\n",
      "yummy and I'm going to brush this Nan with clear butter or \n"
     ]
    },
    {
     "name": "stderr",
     "output_type": "stream",
     "text": [
      "\r",
      "210it [07:44,  2.18s/it]"
     ]
    },
    {
     "name": "stdout",
     "output_type": "stream",
     "text": [
      "(512,)\n",
      "/home/hice1/bpopper3/scratch/LLaVA_RAG/RAG_Pipeline/HANDMADE_QUESTIONS_PIPELINE/storage/vow-kxTPatc/frames/frame_12600.jpg\n",
      "yummy and I'm going to brush this Nan with clear butter or \n"
     ]
    },
    {
     "name": "stderr",
     "output_type": "stream",
     "text": [
      "\r",
      "211it [07:47,  2.18s/it]"
     ]
    },
    {
     "name": "stdout",
     "output_type": "stream",
     "text": [
      "(512,)\n",
      "/home/hice1/bpopper3/scratch/LLaVA_RAG/RAG_Pipeline/HANDMADE_QUESTIONS_PIPELINE/storage/vow-kxTPatc/frames/frame_12660.jpg\n",
      "yummy and I'm going to brush this Nan with clear butter or \n"
     ]
    },
    {
     "name": "stderr",
     "output_type": "stream",
     "text": [
      "\r",
      "212it [07:49,  2.18s/it]"
     ]
    },
    {
     "name": "stdout",
     "output_type": "stream",
     "text": [
      "(512,)\n",
      "/home/hice1/bpopper3/scratch/LLaVA_RAG/RAG_Pipeline/HANDMADE_QUESTIONS_PIPELINE/storage/vow-kxTPatc/frames/frame_12720.jpg\n",
      "yummy and I'm going to brush this Nan with clear butter or ghee okay they are \n"
     ]
    },
    {
     "name": "stderr",
     "output_type": "stream",
     "text": [
      "\r",
      "213it [07:51,  2.18s/it]"
     ]
    },
    {
     "name": "stdout",
     "output_type": "stream",
     "text": [
      "(512,)\n",
      "/home/hice1/bpopper3/scratch/LLaVA_RAG/RAG_Pipeline/HANDMADE_QUESTIONS_PIPELINE/storage/vow-kxTPatc/frames/frame_12780.jpg\n",
      "yummy and I'm going to brush this Nan with clear butter or ghee okay they are \n"
     ]
    },
    {
     "name": "stderr",
     "output_type": "stream",
     "text": [
      "\r",
      "214it [07:53,  2.19s/it]"
     ]
    },
    {
     "name": "stdout",
     "output_type": "stream",
     "text": [
      "(512,)\n",
      "/home/hice1/bpopper3/scratch/LLaVA_RAG/RAG_Pipeline/HANDMADE_QUESTIONS_PIPELINE/storage/vow-kxTPatc/frames/frame_12840.jpg\n",
      "with clear butter or ghee okay they are \n"
     ]
    },
    {
     "name": "stderr",
     "output_type": "stream",
     "text": [
      "\r",
      "215it [07:55,  2.18s/it]"
     ]
    },
    {
     "name": "stdout",
     "output_type": "stream",
     "text": [
      "(512,)\n",
      "/home/hice1/bpopper3/scratch/LLaVA_RAG/RAG_Pipeline/HANDMADE_QUESTIONS_PIPELINE/storage/vow-kxTPatc/frames/frame_12900.jpg\n",
      "with clear butter or ghee okay they are \n"
     ]
    },
    {
     "name": "stderr",
     "output_type": "stream",
     "text": [
      "\r",
      "216it [07:58,  2.19s/it]"
     ]
    },
    {
     "name": "stdout",
     "output_type": "stream",
     "text": [
      "(512,)\n",
      "/home/hice1/bpopper3/scratch/LLaVA_RAG/RAG_Pipeline/HANDMADE_QUESTIONS_PIPELINE/storage/vow-kxTPatc/frames/frame_12960.jpg\n",
      "butter or ghee okay they are \n"
     ]
    },
    {
     "name": "stderr",
     "output_type": "stream",
     "text": [
      "\r",
      "217it [08:00,  2.17s/it]"
     ]
    },
    {
     "name": "stdout",
     "output_type": "stream",
     "text": [
      "(512,)\n",
      "/home/hice1/bpopper3/scratch/LLaVA_RAG/RAG_Pipeline/HANDMADE_QUESTIONS_PIPELINE/storage/vow-kxTPatc/frames/frame_13020.jpg\n",
      "ghee okay they are ready again I'm just going to wet my \n"
     ]
    },
    {
     "name": "stderr",
     "output_type": "stream",
     "text": [
      "\r",
      "218it [08:02,  2.18s/it]"
     ]
    },
    {
     "name": "stdout",
     "output_type": "stream",
     "text": [
      "(512,)\n",
      "/home/hice1/bpopper3/scratch/LLaVA_RAG/RAG_Pipeline/HANDMADE_QUESTIONS_PIPELINE/storage/vow-kxTPatc/frames/frame_13080.jpg\n",
      "ghee okay they are ready again I'm just going to wet my \n"
     ]
    },
    {
     "name": "stderr",
     "output_type": "stream",
     "text": [
      "\r",
      "219it [08:04,  2.17s/it]"
     ]
    },
    {
     "name": "stdout",
     "output_type": "stream",
     "text": [
      "(512,)\n",
      "/home/hice1/bpopper3/scratch/LLaVA_RAG/RAG_Pipeline/HANDMADE_QUESTIONS_PIPELINE/storage/vow-kxTPatc/frames/frame_13140.jpg\n",
      "ghee okay they are ready again I'm just going to wet my Palms little bit \n"
     ]
    },
    {
     "name": "stderr",
     "output_type": "stream",
     "text": [
      "\r",
      "220it [08:06,  2.18s/it]"
     ]
    },
    {
     "name": "stdout",
     "output_type": "stream",
     "text": [
      "(512,)\n",
      "/home/hice1/bpopper3/scratch/LLaVA_RAG/RAG_Pipeline/HANDMADE_QUESTIONS_PIPELINE/storage/vow-kxTPatc/frames/frame_13200.jpg\n",
      "ghee okay they are ready again I'm just going to wet my Palms little bit \n"
     ]
    },
    {
     "name": "stderr",
     "output_type": "stream",
     "text": [
      "\r",
      "221it [08:09,  2.21s/it]"
     ]
    },
    {
     "name": "stdout",
     "output_type": "stream",
     "text": [
      "(512,)\n",
      "/home/hice1/bpopper3/scratch/LLaVA_RAG/RAG_Pipeline/HANDMADE_QUESTIONS_PIPELINE/storage/vow-kxTPatc/frames/frame_13260.jpg\n",
      "ghee okay they are ready again I'm just going to wet my Palms little bit \n"
     ]
    },
    {
     "name": "stderr",
     "output_type": "stream",
     "text": [
      "\r",
      "222it [08:11,  2.20s/it]"
     ]
    },
    {
     "name": "stdout",
     "output_type": "stream",
     "text": [
      "(512,)\n",
      "/home/hice1/bpopper3/scratch/LLaVA_RAG/RAG_Pipeline/HANDMADE_QUESTIONS_PIPELINE/storage/vow-kxTPatc/frames/frame_13320.jpg\n",
      "ready again I'm just going to wet my Palms little bit \n"
     ]
    },
    {
     "name": "stderr",
     "output_type": "stream",
     "text": [
      "\r",
      "223it [08:13,  2.19s/it]"
     ]
    },
    {
     "name": "stdout",
     "output_type": "stream",
     "text": [
      "(512,)\n",
      "/home/hice1/bpopper3/scratch/LLaVA_RAG/RAG_Pipeline/HANDMADE_QUESTIONS_PIPELINE/storage/vow-kxTPatc/frames/frame_13380.jpg\n",
      "ready again I'm just going to wet my Palms little bit \n"
     ]
    },
    {
     "name": "stderr",
     "output_type": "stream",
     "text": [
      "\r",
      "224it [08:15,  2.18s/it]"
     ]
    },
    {
     "name": "stdout",
     "output_type": "stream",
     "text": [
      "(512,)\n",
      "/home/hice1/bpopper3/scratch/LLaVA_RAG/RAG_Pipeline/HANDMADE_QUESTIONS_PIPELINE/storage/vow-kxTPatc/frames/frame_13440.jpg\n",
      "ready again I'm just going to wet my Palms little bit \n"
     ]
    },
    {
     "name": "stderr",
     "output_type": "stream",
     "text": [
      "\r",
      "225it [08:17,  2.18s/it]"
     ]
    },
    {
     "name": "stdout",
     "output_type": "stream",
     "text": [
      "(512,)\n",
      "/home/hice1/bpopper3/scratch/LLaVA_RAG/RAG_Pipeline/HANDMADE_QUESTIONS_PIPELINE/storage/vow-kxTPatc/frames/frame_13500.jpg\n",
      "ready again I'm just going to wet my Palms little bit \n"
     ]
    },
    {
     "name": "stderr",
     "output_type": "stream",
     "text": [
      "\r",
      "226it [08:19,  2.17s/it]"
     ]
    },
    {
     "name": "stdout",
     "output_type": "stream",
     "text": [
      "(512,)\n",
      "/home/hice1/bpopper3/scratch/LLaVA_RAG/RAG_Pipeline/HANDMADE_QUESTIONS_PIPELINE/storage/vow-kxTPatc/frames/frame_13560.jpg\n",
      "ready again I'm just going to wet my Palms little bit \n"
     ]
    },
    {
     "name": "stderr",
     "output_type": "stream",
     "text": [
      "\r",
      "227it [08:22,  2.17s/it]"
     ]
    },
    {
     "name": "stdout",
     "output_type": "stream",
     "text": [
      "(512,)\n",
      "/home/hice1/bpopper3/scratch/LLaVA_RAG/RAG_Pipeline/HANDMADE_QUESTIONS_PIPELINE/storage/vow-kxTPatc/frames/frame_13620.jpg\n",
      "Palms little bit \n"
     ]
    },
    {
     "name": "stderr",
     "output_type": "stream",
     "text": [
      "\r",
      "228it [08:24,  2.16s/it]"
     ]
    },
    {
     "name": "stdout",
     "output_type": "stream",
     "text": [
      "(512,)\n",
      "/home/hice1/bpopper3/scratch/LLaVA_RAG/RAG_Pipeline/HANDMADE_QUESTIONS_PIPELINE/storage/vow-kxTPatc/frames/frame_13680.jpg\n",
      "Palms little bit \n"
     ]
    },
    {
     "name": "stderr",
     "output_type": "stream",
     "text": [
      "\r",
      "229it [08:26,  2.15s/it]"
     ]
    },
    {
     "name": "stdout",
     "output_type": "stream",
     "text": [
      "(512,)\n",
      "/home/hice1/bpopper3/scratch/LLaVA_RAG/RAG_Pipeline/HANDMADE_QUESTIONS_PIPELINE/storage/vow-kxTPatc/frames/frame_13740.jpg\n",
      "No transcript available\n"
     ]
    },
    {
     "name": "stderr",
     "output_type": "stream",
     "text": [
      "\r",
      "230it [08:28,  2.13s/it]"
     ]
    },
    {
     "name": "stdout",
     "output_type": "stream",
     "text": [
      "(512,)\n",
      "/home/hice1/bpopper3/scratch/LLaVA_RAG/RAG_Pipeline/HANDMADE_QUESTIONS_PIPELINE/storage/vow-kxTPatc/frames/frame_13800.jpg\n",
      "No transcript available\n"
     ]
    },
    {
     "name": "stderr",
     "output_type": "stream",
     "text": [
      "\r",
      "231it [08:30,  2.11s/it]"
     ]
    },
    {
     "name": "stdout",
     "output_type": "stream",
     "text": [
      "(512,)\n",
      "/home/hice1/bpopper3/scratch/LLaVA_RAG/RAG_Pipeline/HANDMADE_QUESTIONS_PIPELINE/storage/vow-kxTPatc/frames/frame_13860.jpg\n",
      "and another about 3 minutes they will be \n"
     ]
    },
    {
     "name": "stderr",
     "output_type": "stream",
     "text": [
      "\r",
      "232it [08:32,  2.13s/it]"
     ]
    },
    {
     "name": "stdout",
     "output_type": "stream",
     "text": [
      "(512,)\n",
      "/home/hice1/bpopper3/scratch/LLaVA_RAG/RAG_Pipeline/HANDMADE_QUESTIONS_PIPELINE/storage/vow-kxTPatc/frames/frame_13920.jpg\n",
      "and another about 3 minutes they will be ready okay it has been about 3 minutes \n"
     ]
    },
    {
     "name": "stderr",
     "output_type": "stream",
     "text": [
      "\r",
      "233it [08:34,  2.15s/it]"
     ]
    },
    {
     "name": "stdout",
     "output_type": "stream",
     "text": [
      "(512,)\n",
      "/home/hice1/bpopper3/scratch/LLaVA_RAG/RAG_Pipeline/HANDMADE_QUESTIONS_PIPELINE/storage/vow-kxTPatc/frames/frame_13980.jpg\n",
      "and another about 3 minutes they will be ready okay it has been about 3 minutes let me check if my nan is ready and yes \n"
     ]
    },
    {
     "name": "stderr",
     "output_type": "stream",
     "text": [
      "\r",
      "234it [08:37,  2.17s/it]"
     ]
    },
    {
     "name": "stdout",
     "output_type": "stream",
     "text": [
      "(512,)\n",
      "/home/hice1/bpopper3/scratch/LLaVA_RAG/RAG_Pipeline/HANDMADE_QUESTIONS_PIPELINE/storage/vow-kxTPatc/frames/frame_14040.jpg\n",
      "and another about 3 minutes they will be ready okay it has been about 3 minutes let me check if my nan is ready and yes \n"
     ]
    },
    {
     "name": "stderr",
     "output_type": "stream",
     "text": [
      "\r",
      "235it [08:39,  2.18s/it]"
     ]
    },
    {
     "name": "stdout",
     "output_type": "stream",
     "text": [
      "(512,)\n",
      "/home/hice1/bpopper3/scratch/LLaVA_RAG/RAG_Pipeline/HANDMADE_QUESTIONS_PIPELINE/storage/vow-kxTPatc/frames/frame_14100.jpg\n",
      "and another about 3 minutes they will be ready okay it has been about 3 minutes let me check if my nan is ready and yes \n"
     ]
    },
    {
     "name": "stderr",
     "output_type": "stream",
     "text": [
      "\r",
      "236it [08:41,  2.19s/it]"
     ]
    },
    {
     "name": "stdout",
     "output_type": "stream",
     "text": [
      "(512,)\n",
      "/home/hice1/bpopper3/scratch/LLaVA_RAG/RAG_Pipeline/HANDMADE_QUESTIONS_PIPELINE/storage/vow-kxTPatc/frames/frame_14160.jpg\n",
      "and another about 3 minutes they will be ready okay it has been about 3 minutes let me check if my nan is ready and yes they look \n"
     ]
    },
    {
     "name": "stderr",
     "output_type": "stream",
     "text": [
      "\r",
      "237it [08:43,  2.20s/it]"
     ]
    },
    {
     "name": "stdout",
     "output_type": "stream",
     "text": [
      "(512,)\n",
      "/home/hice1/bpopper3/scratch/LLaVA_RAG/RAG_Pipeline/HANDMADE_QUESTIONS_PIPELINE/storage/vow-kxTPatc/frames/frame_14220.jpg\n",
      "and another about 3 minutes they will be ready okay it has been about 3 minutes let me check if my nan is ready and yes they look \n"
     ]
    },
    {
     "name": "stderr",
     "output_type": "stream",
     "text": [
      "\r",
      "238it [08:45,  2.21s/it]"
     ]
    },
    {
     "name": "stdout",
     "output_type": "stream",
     "text": [
      "(512,)\n",
      "/home/hice1/bpopper3/scratch/LLaVA_RAG/RAG_Pipeline/HANDMADE_QUESTIONS_PIPELINE/storage/vow-kxTPatc/frames/frame_14280.jpg\n",
      "and another about 3 minutes they will be ready okay it has been about 3 minutes let me check if my nan is ready and yes they look great let's take them \n"
     ]
    },
    {
     "name": "stderr",
     "output_type": "stream",
     "text": [
      "\r",
      "239it [08:48,  2.21s/it]"
     ]
    },
    {
     "name": "stdout",
     "output_type": "stream",
     "text": [
      "(512,)\n",
      "/home/hice1/bpopper3/scratch/LLaVA_RAG/RAG_Pipeline/HANDMADE_QUESTIONS_PIPELINE/storage/vow-kxTPatc/frames/frame_14340.jpg\n",
      "and another about 3 minutes they will be ready okay it has been about 3 minutes let me check if my nan is ready and yes they look great let's take them \n"
     ]
    },
    {
     "name": "stderr",
     "output_type": "stream",
     "text": [
      "\r",
      "240it [08:50,  2.22s/it]"
     ]
    },
    {
     "name": "stdout",
     "output_type": "stream",
     "text": [
      "(512,)\n",
      "/home/hice1/bpopper3/scratch/LLaVA_RAG/RAG_Pipeline/HANDMADE_QUESTIONS_PIPELINE/storage/vow-kxTPatc/frames/frame_14400.jpg\n",
      "and another about 3 minutes they will be ready okay it has been about 3 minutes let me check if my nan is ready and yes they look great let's take them \n"
     ]
    },
    {
     "name": "stderr",
     "output_type": "stream",
     "text": [
      "\r",
      "241it [08:52,  2.22s/it]"
     ]
    },
    {
     "name": "stdout",
     "output_type": "stream",
     "text": [
      "(512,)\n",
      "/home/hice1/bpopper3/scratch/LLaVA_RAG/RAG_Pipeline/HANDMADE_QUESTIONS_PIPELINE/storage/vow-kxTPatc/frames/frame_14460.jpg\n",
      "ready okay it has been about 3 minutes let me check if my nan is ready and yes they look great let's take them \n"
     ]
    },
    {
     "name": "stderr",
     "output_type": "stream",
     "text": [
      "\r",
      "242it [08:54,  2.21s/it]"
     ]
    },
    {
     "name": "stdout",
     "output_type": "stream",
     "text": [
      "(512,)\n",
      "/home/hice1/bpopper3/scratch/LLaVA_RAG/RAG_Pipeline/HANDMADE_QUESTIONS_PIPELINE/storage/vow-kxTPatc/frames/frame_14520.jpg\n",
      "let me check if my nan is ready and yes they look great let's take them \n"
     ]
    },
    {
     "name": "stderr",
     "output_type": "stream",
     "text": [
      "\r",
      "243it [08:56,  2.21s/it]"
     ]
    },
    {
     "name": "stdout",
     "output_type": "stream",
     "text": [
      "(512,)\n",
      "/home/hice1/bpopper3/scratch/LLaVA_RAG/RAG_Pipeline/HANDMADE_QUESTIONS_PIPELINE/storage/vow-kxTPatc/frames/frame_14580.jpg\n",
      "they look great let's take them \n"
     ]
    },
    {
     "name": "stderr",
     "output_type": "stream",
     "text": [
      "\r",
      "244it [08:59,  2.20s/it]"
     ]
    },
    {
     "name": "stdout",
     "output_type": "stream",
     "text": [
      "(512,)\n",
      "/home/hice1/bpopper3/scratch/LLaVA_RAG/RAG_Pipeline/HANDMADE_QUESTIONS_PIPELINE/storage/vow-kxTPatc/frames/frame_14640.jpg\n",
      "they look great let's take them \n"
     ]
    },
    {
     "name": "stderr",
     "output_type": "stream",
     "text": [
      "\r",
      "245it [09:01,  2.19s/it]"
     ]
    },
    {
     "name": "stdout",
     "output_type": "stream",
     "text": [
      "(512,)\n",
      "/home/hice1/bpopper3/scratch/LLaVA_RAG/RAG_Pipeline/HANDMADE_QUESTIONS_PIPELINE/storage/vow-kxTPatc/frames/frame_14700.jpg\n",
      "they look great let's take them out and put little butter on it \n"
     ]
    },
    {
     "name": "stderr",
     "output_type": "stream",
     "text": [
      "\r",
      "246it [09:03,  2.18s/it]"
     ]
    },
    {
     "name": "stdout",
     "output_type": "stream",
     "text": [
      "(512,)\n",
      "/home/hice1/bpopper3/scratch/LLaVA_RAG/RAG_Pipeline/HANDMADE_QUESTIONS_PIPELINE/storage/vow-kxTPatc/frames/frame_14760.jpg\n",
      "great let's take them out and put little butter on it \n"
     ]
    },
    {
     "name": "stderr",
     "output_type": "stream",
     "text": [
      "\r",
      "247it [09:05,  2.19s/it]"
     ]
    },
    {
     "name": "stdout",
     "output_type": "stream",
     "text": [
      "(512,)\n",
      "/home/hice1/bpopper3/scratch/LLaVA_RAG/RAG_Pipeline/HANDMADE_QUESTIONS_PIPELINE/storage/vow-kxTPatc/frames/frame_14820.jpg\n",
      "great let's take them out and put little butter on it \n"
     ]
    },
    {
     "name": "stderr",
     "output_type": "stream",
     "text": [
      "\r",
      "248it [09:07,  2.20s/it]"
     ]
    },
    {
     "name": "stdout",
     "output_type": "stream",
     "text": [
      "(512,)\n",
      "/home/hice1/bpopper3/scratch/LLaVA_RAG/RAG_Pipeline/HANDMADE_QUESTIONS_PIPELINE/storage/vow-kxTPatc/frames/frame_14880.jpg\n",
      "out and put little butter on it \n"
     ]
    },
    {
     "name": "stderr",
     "output_type": "stream",
     "text": [
      "\r",
      "249it [09:10,  2.19s/it]"
     ]
    },
    {
     "name": "stdout",
     "output_type": "stream",
     "text": [
      "(512,)\n",
      "/home/hice1/bpopper3/scratch/LLaVA_RAG/RAG_Pipeline/HANDMADE_QUESTIONS_PIPELINE/storage/vow-kxTPatc/frames/frame_14940.jpg\n",
      "out and put little butter on it \n"
     ]
    },
    {
     "name": "stderr",
     "output_type": "stream",
     "text": [
      "\r",
      "250it [09:12,  2.19s/it]"
     ]
    },
    {
     "name": "stdout",
     "output_type": "stream",
     "text": [
      "(512,)\n",
      "/home/hice1/bpopper3/scratch/LLaVA_RAG/RAG_Pipeline/HANDMADE_QUESTIONS_PIPELINE/storage/vow-kxTPatc/frames/frame_15000.jpg\n",
      "out and put little butter on it \n"
     ]
    },
    {
     "name": "stderr",
     "output_type": "stream",
     "text": [
      "\r",
      "251it [09:14,  2.18s/it]"
     ]
    },
    {
     "name": "stdout",
     "output_type": "stream",
     "text": [
      "(512,)\n",
      "/home/hice1/bpopper3/scratch/LLaVA_RAG/RAG_Pipeline/HANDMADE_QUESTIONS_PIPELINE/storage/vow-kxTPatc/frames/frame_15060.jpg\n",
      "out and put little butter on it \n"
     ]
    },
    {
     "name": "stderr",
     "output_type": "stream",
     "text": [
      "\r",
      "252it [09:16,  2.19s/it]"
     ]
    },
    {
     "name": "stdout",
     "output_type": "stream",
     "text": [
      "(512,)\n",
      "/home/hice1/bpopper3/scratch/LLaVA_RAG/RAG_Pipeline/HANDMADE_QUESTIONS_PIPELINE/storage/vow-kxTPatc/frames/frame_15120.jpg\n",
      "out and put little butter on it \n"
     ]
    },
    {
     "name": "stderr",
     "output_type": "stream",
     "text": [
      "\r",
      "253it [09:18,  2.18s/it]"
     ]
    },
    {
     "name": "stdout",
     "output_type": "stream",
     "text": [
      "(512,)\n",
      "/home/hice1/bpopper3/scratch/LLaVA_RAG/RAG_Pipeline/HANDMADE_QUESTIONS_PIPELINE/storage/vow-kxTPatc/frames/frame_15180.jpg\n",
      "out and put little butter on it \n"
     ]
    },
    {
     "name": "stderr",
     "output_type": "stream",
     "text": [
      "\r",
      "254it [09:20,  2.17s/it]"
     ]
    },
    {
     "name": "stdout",
     "output_type": "stream",
     "text": [
      "(512,)\n",
      "/home/hice1/bpopper3/scratch/LLaVA_RAG/RAG_Pipeline/HANDMADE_QUESTIONS_PIPELINE/storage/vow-kxTPatc/frames/frame_15240.jpg\n",
      "out and put little butter on it these Nan they look \n"
     ]
    },
    {
     "name": "stderr",
     "output_type": "stream",
     "text": [
      "\r",
      "255it [09:23,  2.19s/it]"
     ]
    },
    {
     "name": "stdout",
     "output_type": "stream",
     "text": [
      "(512,)\n",
      "/home/hice1/bpopper3/scratch/LLaVA_RAG/RAG_Pipeline/HANDMADE_QUESTIONS_PIPELINE/storage/vow-kxTPatc/frames/frame_15300.jpg\n",
      "these Nan they look \n"
     ]
    },
    {
     "name": "stderr",
     "output_type": "stream",
     "text": [
      "\r",
      "256it [09:25,  2.17s/it]"
     ]
    },
    {
     "name": "stdout",
     "output_type": "stream",
     "text": [
      "(512,)\n",
      "/home/hice1/bpopper3/scratch/LLaVA_RAG/RAG_Pipeline/HANDMADE_QUESTIONS_PIPELINE/storage/vow-kxTPatc/frames/frame_15360.jpg\n",
      "these Nan they look great and thank you for \n"
     ]
    },
    {
     "name": "stderr",
     "output_type": "stream",
     "text": [
      "\r",
      "257it [09:27,  2.18s/it]"
     ]
    },
    {
     "name": "stdout",
     "output_type": "stream",
     "text": [
      "(512,)\n",
      "/home/hice1/bpopper3/scratch/LLaVA_RAG/RAG_Pipeline/HANDMADE_QUESTIONS_PIPELINE/storage/vow-kxTPatc/frames/frame_15420.jpg\n",
      "these Nan they look great and thank you for watching I will see you again with a new \n"
     ]
    },
    {
     "name": "stderr",
     "output_type": "stream",
     "text": [
      "\r",
      "258it [09:29,  2.18s/it]"
     ]
    },
    {
     "name": "stdout",
     "output_type": "stream",
     "text": [
      "(512,)\n",
      "/home/hice1/bpopper3/scratch/LLaVA_RAG/RAG_Pipeline/HANDMADE_QUESTIONS_PIPELINE/storage/vow-kxTPatc/frames/frame_15480.jpg\n",
      "these Nan they look great and thank you for watching I will see you again with a new \n"
     ]
    },
    {
     "name": "stderr",
     "output_type": "stream",
     "text": [
      "\r",
      "259it [09:31,  2.18s/it]"
     ]
    },
    {
     "name": "stdout",
     "output_type": "stream",
     "text": [
      "(512,)\n",
      "/home/hice1/bpopper3/scratch/LLaVA_RAG/RAG_Pipeline/HANDMADE_QUESTIONS_PIPELINE/storage/vow-kxTPatc/frames/frame_15540.jpg\n",
      "these Nan they look great and thank you for watching I will see you again with a new recipe and I'm ready to \n"
     ]
    },
    {
     "name": "stderr",
     "output_type": "stream",
     "text": [
      "\r",
      "260it [09:34,  2.19s/it]"
     ]
    },
    {
     "name": "stdout",
     "output_type": "stream",
     "text": [
      "(512,)\n",
      "/home/hice1/bpopper3/scratch/LLaVA_RAG/RAG_Pipeline/HANDMADE_QUESTIONS_PIPELINE/storage/vow-kxTPatc/frames/frame_15600.jpg\n",
      "these Nan they look great and thank you for watching I will see you again with a new recipe and I'm ready to \n"
     ]
    },
    {
     "name": "stderr",
     "output_type": "stream",
     "text": [
      "\r",
      "261it [09:36,  2.19s/it]"
     ]
    },
    {
     "name": "stdout",
     "output_type": "stream",
     "text": [
      "(512,)\n",
      "/home/hice1/bpopper3/scratch/LLaVA_RAG/RAG_Pipeline/HANDMADE_QUESTIONS_PIPELINE/storage/vow-kxTPatc/frames/frame_15660.jpg\n",
      "these Nan they look great and thank you for watching I will see you again with a new recipe and I'm ready to \n"
     ]
    },
    {
     "name": "stderr",
     "output_type": "stream",
     "text": [
      "\r",
      "262it [09:38,  2.20s/it]"
     ]
    },
    {
     "name": "stdout",
     "output_type": "stream",
     "text": [
      "(512,)\n",
      "/home/hice1/bpopper3/scratch/LLaVA_RAG/RAG_Pipeline/HANDMADE_QUESTIONS_PIPELINE/storage/vow-kxTPatc/frames/frame_15720.jpg\n",
      "these Nan they look great and thank you for watching I will see you again with a new recipe and I'm ready to \n"
     ]
    },
    {
     "name": "stderr",
     "output_type": "stream",
     "text": [
      "\r",
      "263it [09:40,  2.20s/it]"
     ]
    },
    {
     "name": "stdout",
     "output_type": "stream",
     "text": [
      "(512,)\n",
      "/home/hice1/bpopper3/scratch/LLaVA_RAG/RAG_Pipeline/HANDMADE_QUESTIONS_PIPELINE/storage/vow-kxTPatc/frames/frame_15780.jpg\n",
      "these Nan they look great and thank you for watching I will see you again with a new recipe and I'm ready to \n"
     ]
    },
    {
     "name": "stderr",
     "output_type": "stream",
     "text": [
      "\r",
      "264it [09:43,  2.24s/it]"
     ]
    },
    {
     "name": "stdout",
     "output_type": "stream",
     "text": [
      "(512,)\n",
      "/home/hice1/bpopper3/scratch/LLaVA_RAG/RAG_Pipeline/HANDMADE_QUESTIONS_PIPELINE/storage/vow-kxTPatc/frames/frame_15840.jpg\n",
      "great and thank you for watching I will see you again with a new recipe and I'm ready to \n"
     ]
    },
    {
     "name": "stderr",
     "output_type": "stream",
     "text": [
      "\r",
      "265it [09:45,  2.23s/it]"
     ]
    },
    {
     "name": "stdout",
     "output_type": "stream",
     "text": [
      "(512,)\n",
      "/home/hice1/bpopper3/scratch/LLaVA_RAG/RAG_Pipeline/HANDMADE_QUESTIONS_PIPELINE/storage/vow-kxTPatc/frames/frame_15900.jpg\n",
      "great and thank you for watching I will see you again with a new recipe and I'm ready to eat e \n"
     ]
    },
    {
     "name": "stderr",
     "output_type": "stream",
     "text": [
      "\r",
      "266it [09:47,  2.22s/it]"
     ]
    },
    {
     "name": "stdout",
     "output_type": "stream",
     "text": [
      "(512,)\n",
      "/home/hice1/bpopper3/scratch/LLaVA_RAG/RAG_Pipeline/HANDMADE_QUESTIONS_PIPELINE/storage/vow-kxTPatc/frames/frame_15960.jpg\n",
      "watching I will see you again with a new recipe and I'm ready to eat e \n"
     ]
    },
    {
     "name": "stderr",
     "output_type": "stream",
     "text": [
      "\r",
      "267it [09:49,  2.21s/it]"
     ]
    },
    {
     "name": "stdout",
     "output_type": "stream",
     "text": [
      "(512,)\n",
      "/home/hice1/bpopper3/scratch/LLaVA_RAG/RAG_Pipeline/HANDMADE_QUESTIONS_PIPELINE/storage/vow-kxTPatc/frames/frame_16020.jpg\n",
      "recipe and I'm ready to eat e \n"
     ]
    },
    {
     "name": "stderr",
     "output_type": "stream",
     "text": [
      "\r",
      "268it [09:51,  2.20s/it]"
     ]
    },
    {
     "name": "stdout",
     "output_type": "stream",
     "text": [
      "(512,)\n",
      "/home/hice1/bpopper3/scratch/LLaVA_RAG/RAG_Pipeline/HANDMADE_QUESTIONS_PIPELINE/storage/vow-kxTPatc/frames/frame_16080.jpg\n",
      "recipe and I'm ready to eat e \n"
     ]
    },
    {
     "name": "stderr",
     "output_type": "stream",
     "text": [
      "\r",
      "269it [09:53,  2.19s/it]"
     ]
    },
    {
     "name": "stdout",
     "output_type": "stream",
     "text": [
      "(512,)\n",
      "/home/hice1/bpopper3/scratch/LLaVA_RAG/RAG_Pipeline/HANDMADE_QUESTIONS_PIPELINE/storage/vow-kxTPatc/frames/frame_16140.jpg\n",
      "eat e \n"
     ]
    },
    {
     "name": "stderr",
     "output_type": "stream",
     "text": [
      "\r",
      "270it [09:56,  2.15s/it]"
     ]
    },
    {
     "name": "stdout",
     "output_type": "stream",
     "text": [
      "(512,)\n",
      "/home/hice1/bpopper3/scratch/LLaVA_RAG/RAG_Pipeline/HANDMADE_QUESTIONS_PIPELINE/storage/vow-kxTPatc/frames/frame_16200.jpg\n",
      "eat e \n"
     ]
    },
    {
     "name": "stderr",
     "output_type": "stream",
     "text": [
      "\r",
      "271it [09:58,  2.12s/it]"
     ]
    },
    {
     "name": "stdout",
     "output_type": "stream",
     "text": [
      "(512,)\n",
      "/home/hice1/bpopper3/scratch/LLaVA_RAG/RAG_Pipeline/HANDMADE_QUESTIONS_PIPELINE/storage/vow-kxTPatc/frames/frame_16260.jpg\n",
      "eat e \n"
     ]
    },
    {
     "name": "stderr",
     "output_type": "stream",
     "text": [
      "\r",
      "272it [10:00,  2.10s/it]"
     ]
    },
    {
     "name": "stdout",
     "output_type": "stream",
     "text": [
      "(512,)\n",
      "/home/hice1/bpopper3/scratch/LLaVA_RAG/RAG_Pipeline/HANDMADE_QUESTIONS_PIPELINE/storage/vow-kxTPatc/frames/frame_16320.jpg\n",
      "eat e \n"
     ]
    },
    {
     "name": "stderr",
     "output_type": "stream",
     "text": [
      "\r",
      "273it [10:02,  2.08s/it]"
     ]
    },
    {
     "name": "stdout",
     "output_type": "stream",
     "text": [
      "(512,)\n",
      "/home/hice1/bpopper3/scratch/LLaVA_RAG/RAG_Pipeline/HANDMADE_QUESTIONS_PIPELINE/storage/vow-kxTPatc/frames/frame_16380.jpg\n",
      "eat e \n"
     ]
    },
    {
     "name": "stderr",
     "output_type": "stream",
     "text": [
      "\r",
      "274it [10:04,  2.08s/it]"
     ]
    },
    {
     "name": "stdout",
     "output_type": "stream",
     "text": [
      "(512,)\n",
      "/home/hice1/bpopper3/scratch/LLaVA_RAG/RAG_Pipeline/HANDMADE_QUESTIONS_PIPELINE/storage/vow-kxTPatc/frames/frame_16440.jpg\n",
      "eat e \n"
     ]
    },
    {
     "name": "stderr",
     "output_type": "stream",
     "text": [
      "275it [10:06,  2.20s/it]\n"
     ]
    },
    {
     "name": "stdout",
     "output_type": "stream",
     "text": [
      "(512,)\n",
      "saved faiss index\n"
     ]
    },
    {
     "name": "stderr",
     "output_type": "stream",
     "text": [
      "\r",
      "0it [00:00, ?it/s]"
     ]
    },
    {
     "name": "stdout",
     "output_type": "stream",
     "text": [
      "/home/hice1/bpopper3/scratch/LLaVA_RAG/RAG_Pipeline/HANDMADE_QUESTIONS_PIPELINE/storage/UUlfKJ9M_pQ/frames/frame_0000.jpg\n",
      "[Music] \n"
     ]
    },
    {
     "name": "stderr",
     "output_type": "stream",
     "text": [
      "\r",
      "1it [00:02,  2.17s/it]"
     ]
    },
    {
     "name": "stdout",
     "output_type": "stream",
     "text": [
      "(512,)\n",
      "/home/hice1/bpopper3/scratch/LLaVA_RAG/RAG_Pipeline/HANDMADE_QUESTIONS_PIPELINE/storage/UUlfKJ9M_pQ/frames/frame_0060.jpg\n",
      "[Music] \n"
     ]
    },
    {
     "name": "stderr",
     "output_type": "stream",
     "text": [
      "\r",
      "2it [00:04,  2.11s/it]"
     ]
    },
    {
     "name": "stdout",
     "output_type": "stream",
     "text": [
      "(512,)\n",
      "/home/hice1/bpopper3/scratch/LLaVA_RAG/RAG_Pipeline/HANDMADE_QUESTIONS_PIPELINE/storage/UUlfKJ9M_pQ/frames/frame_0120.jpg\n",
      "[Music] first thing we're going to do is uh cook \n"
     ]
    },
    {
     "name": "stderr",
     "output_type": "stream",
     "text": [
      "\r",
      "3it [00:06,  2.12s/it]"
     ]
    },
    {
     "name": "stdout",
     "output_type": "stream",
     "text": [
      "(512,)\n",
      "/home/hice1/bpopper3/scratch/LLaVA_RAG/RAG_Pipeline/HANDMADE_QUESTIONS_PIPELINE/storage/UUlfKJ9M_pQ/frames/frame_0180.jpg\n",
      "[Music] first thing we're going to do is uh cook some bacon I have six strips in here \n"
     ]
    },
    {
     "name": "stderr",
     "output_type": "stream",
     "text": [
      "\r",
      "4it [00:08,  2.14s/it]"
     ]
    },
    {
     "name": "stdout",
     "output_type": "stream",
     "text": [
      "(512,)\n",
      "/home/hice1/bpopper3/scratch/LLaVA_RAG/RAG_Pipeline/HANDMADE_QUESTIONS_PIPELINE/storage/UUlfKJ9M_pQ/frames/frame_0240.jpg\n",
      "first thing we're going to do is uh cook some bacon I have six strips in here which I cut into SLI uh pieces as you \n"
     ]
    },
    {
     "name": "stderr",
     "output_type": "stream",
     "text": [
      "\r",
      "5it [00:10,  2.16s/it]"
     ]
    },
    {
     "name": "stdout",
     "output_type": "stream",
     "text": [
      "(512,)\n",
      "/home/hice1/bpopper3/scratch/LLaVA_RAG/RAG_Pipeline/HANDMADE_QUESTIONS_PIPELINE/storage/UUlfKJ9M_pQ/frames/frame_0300.jpg\n",
      "first thing we're going to do is uh cook some bacon I have six strips in here which I cut into SLI uh pieces as you can see I'm just going to cook this \n"
     ]
    },
    {
     "name": "stderr",
     "output_type": "stream",
     "text": [
      "\r",
      "6it [00:13,  2.19s/it]"
     ]
    },
    {
     "name": "stdout",
     "output_type": "stream",
     "text": [
      "(512,)\n",
      "/home/hice1/bpopper3/scratch/LLaVA_RAG/RAG_Pipeline/HANDMADE_QUESTIONS_PIPELINE/storage/UUlfKJ9M_pQ/frames/frame_0360.jpg\n",
      "first thing we're going to do is uh cook some bacon I have six strips in here which I cut into SLI uh pieces as you can see I'm just going to cook this until it's all \n"
     ]
    },
    {
     "name": "stderr",
     "output_type": "stream",
     "text": [
      "\r",
      "7it [00:15,  2.22s/it]"
     ]
    },
    {
     "name": "stdout",
     "output_type": "stream",
     "text": [
      "(512,)\n",
      "/home/hice1/bpopper3/scratch/LLaVA_RAG/RAG_Pipeline/HANDMADE_QUESTIONS_PIPELINE/storage/UUlfKJ9M_pQ/frames/frame_0420.jpg\n",
      "first thing we're going to do is uh cook some bacon I have six strips in here which I cut into SLI uh pieces as you can see I'm just going to cook this until it's all cooked we're going to use two t 10 oz \n"
     ]
    },
    {
     "name": "stderr",
     "output_type": "stream",
     "text": [
      "\r",
      "8it [00:17,  2.24s/it]"
     ]
    },
    {
     "name": "stdout",
     "output_type": "stream",
     "text": [
      "(512,)\n",
      "/home/hice1/bpopper3/scratch/LLaVA_RAG/RAG_Pipeline/HANDMADE_QUESTIONS_PIPELINE/storage/UUlfKJ9M_pQ/frames/frame_0480.jpg\n",
      "first thing we're going to do is uh cook some bacon I have six strips in here which I cut into SLI uh pieces as you can see I'm just going to cook this until it's all cooked we're going to use two t 10 oz \n"
     ]
    },
    {
     "name": "stderr",
     "output_type": "stream",
     "text": [
      "\r",
      "9it [00:19,  2.26s/it]"
     ]
    },
    {
     "name": "stdout",
     "output_type": "stream",
     "text": [
      "(512,)\n",
      "/home/hice1/bpopper3/scratch/LLaVA_RAG/RAG_Pipeline/HANDMADE_QUESTIONS_PIPELINE/storage/UUlfKJ9M_pQ/frames/frame_0540.jpg\n",
      "first thing we're going to do is uh cook some bacon I have six strips in here which I cut into SLI uh pieces as you can see I'm just going to cook this until it's all cooked we're going to use two t 10 oz cans of clams for this I'm using baby \n"
     ]
    },
    {
     "name": "stderr",
     "output_type": "stream",
     "text": [
      "\r",
      "10it [00:22,  2.28s/it]"
     ]
    },
    {
     "name": "stdout",
     "output_type": "stream",
     "text": [
      "(512,)\n",
      "/home/hice1/bpopper3/scratch/LLaVA_RAG/RAG_Pipeline/HANDMADE_QUESTIONS_PIPELINE/storage/UUlfKJ9M_pQ/frames/frame_0600.jpg\n",
      "some bacon I have six strips in here which I cut into SLI uh pieces as you can see I'm just going to cook this until it's all cooked we're going to use two t 10 oz cans of clams for this I'm using baby clams um and what I did is I just as you \n"
     ]
    },
    {
     "name": "stderr",
     "output_type": "stream",
     "text": [
      "\r",
      "11it [00:24,  2.30s/it]"
     ]
    },
    {
     "name": "stdout",
     "output_type": "stream",
     "text": [
      "(512,)\n",
      "/home/hice1/bpopper3/scratch/LLaVA_RAG/RAG_Pipeline/HANDMADE_QUESTIONS_PIPELINE/storage/UUlfKJ9M_pQ/frames/frame_0660.jpg\n",
      "which I cut into SLI uh pieces as you can see I'm just going to cook this until it's all cooked we're going to use two t 10 oz cans of clams for this I'm using baby clams um and what I did is I just as you can see uh drain them but I'm going to \n"
     ]
    },
    {
     "name": "stderr",
     "output_type": "stream",
     "text": [
      "\r",
      "12it [00:26,  2.31s/it]"
     ]
    },
    {
     "name": "stdout",
     "output_type": "stream",
     "text": [
      "(512,)\n",
      "/home/hice1/bpopper3/scratch/LLaVA_RAG/RAG_Pipeline/HANDMADE_QUESTIONS_PIPELINE/storage/UUlfKJ9M_pQ/frames/frame_0720.jpg\n",
      "can see I'm just going to cook this until it's all cooked we're going to use two t 10 oz cans of clams for this I'm using baby clams um and what I did is I just as you can see uh drain them but I'm going to keep the \n"
     ]
    },
    {
     "name": "stderr",
     "output_type": "stream",
     "text": [
      "\r",
      "13it [00:29,  2.31s/it]"
     ]
    },
    {
     "name": "stdout",
     "output_type": "stream",
     "text": [
      "(512,)\n",
      "/home/hice1/bpopper3/scratch/LLaVA_RAG/RAG_Pipeline/HANDMADE_QUESTIONS_PIPELINE/storage/UUlfKJ9M_pQ/frames/frame_0780.jpg\n",
      "until it's all cooked we're going to use two t 10 oz cans of clams for this I'm using baby clams um and what I did is I just as you can see uh drain them but I'm going to keep the liquid uh that's 283 G by the way if \n"
     ]
    },
    {
     "name": "stderr",
     "output_type": "stream",
     "text": [
      "\r",
      "14it [00:31,  2.32s/it]"
     ]
    },
    {
     "name": "stdout",
     "output_type": "stream",
     "text": [
      "(512,)\n",
      "/home/hice1/bpopper3/scratch/LLaVA_RAG/RAG_Pipeline/HANDMADE_QUESTIONS_PIPELINE/storage/UUlfKJ9M_pQ/frames/frame_0840.jpg\n",
      "cooked we're going to use two t 10 oz cans of clams for this I'm using baby clams um and what I did is I just as you can see uh drain them but I'm going to keep the liquid uh that's 283 G by the way if \n"
     ]
    },
    {
     "name": "stderr",
     "output_type": "stream",
     "text": [
      "\r",
      "15it [00:33,  2.31s/it]"
     ]
    },
    {
     "name": "stdout",
     "output_type": "stream",
     "text": [
      "(512,)\n",
      "/home/hice1/bpopper3/scratch/LLaVA_RAG/RAG_Pipeline/HANDMADE_QUESTIONS_PIPELINE/storage/UUlfKJ9M_pQ/frames/frame_0900.jpg\n",
      "cans of clams for this I'm using baby clams um and what I did is I just as you can see uh drain them but I'm going to keep the liquid uh that's 283 G by the way if you're using bigger clams you're going to have to chop them or you can just buy \n"
     ]
    },
    {
     "name": "stderr",
     "output_type": "stream",
     "text": [
      "\r",
      "16it [00:36,  2.32s/it]"
     ]
    },
    {
     "name": "stdout",
     "output_type": "stream",
     "text": [
      "(512,)\n",
      "/home/hice1/bpopper3/scratch/LLaVA_RAG/RAG_Pipeline/HANDMADE_QUESTIONS_PIPELINE/storage/UUlfKJ9M_pQ/frames/frame_0960.jpg\n",
      "cans of clams for this I'm using baby clams um and what I did is I just as you can see uh drain them but I'm going to keep the liquid uh that's 283 G by the way if you're using bigger clams you're going to have to chop them or you can just buy minced clams um for this you know \n"
     ]
    },
    {
     "name": "stderr",
     "output_type": "stream",
     "text": [
      "\r",
      "17it [00:38,  2.33s/it]"
     ]
    },
    {
     "name": "stdout",
     "output_type": "stream",
     "text": [
      "(512,)\n",
      "/home/hice1/bpopper3/scratch/LLaVA_RAG/RAG_Pipeline/HANDMADE_QUESTIONS_PIPELINE/storage/UUlfKJ9M_pQ/frames/frame_1020.jpg\n",
      "clams um and what I did is I just as you can see uh drain them but I'm going to keep the liquid uh that's 283 G by the way if you're using bigger clams you're going to have to chop them or you can just buy minced clams um for this you know chopped \n"
     ]
    },
    {
     "name": "stderr",
     "output_type": "stream",
     "text": [
      "\r",
      "18it [00:40,  2.34s/it]"
     ]
    },
    {
     "name": "stdout",
     "output_type": "stream",
     "text": [
      "(512,)\n",
      "/home/hice1/bpopper3/scratch/LLaVA_RAG/RAG_Pipeline/HANDMADE_QUESTIONS_PIPELINE/storage/UUlfKJ9M_pQ/frames/frame_1080.jpg\n",
      "can see uh drain them but I'm going to keep the liquid uh that's 283 G by the way if you're using bigger clams you're going to have to chop them or you can just buy minced clams um for this you know chopped clams I'm also going to use clam juice \n"
     ]
    },
    {
     "name": "stderr",
     "output_type": "stream",
     "text": [
      "\r",
      "19it [00:43,  2.34s/it]"
     ]
    },
    {
     "name": "stdout",
     "output_type": "stream",
     "text": [
      "(512,)\n",
      "/home/hice1/bpopper3/scratch/LLaVA_RAG/RAG_Pipeline/HANDMADE_QUESTIONS_PIPELINE/storage/UUlfKJ9M_pQ/frames/frame_1140.jpg\n",
      "keep the liquid uh that's 283 G by the way if you're using bigger clams you're going to have to chop them or you can just buy minced clams um for this you know chopped clams I'm also going to use clam juice for this this is an 8 oz bottle uh \n"
     ]
    },
    {
     "name": "stderr",
     "output_type": "stream",
     "text": [
      "\r",
      "20it [00:45,  2.33s/it]"
     ]
    },
    {
     "name": "stdout",
     "output_type": "stream",
     "text": [
      "(512,)\n",
      "/home/hice1/bpopper3/scratch/LLaVA_RAG/RAG_Pipeline/HANDMADE_QUESTIONS_PIPELINE/storage/UUlfKJ9M_pQ/frames/frame_1200.jpg\n",
      "liquid uh that's 283 G by the way if you're using bigger clams you're going to have to chop them or you can just buy minced clams um for this you know chopped clams I'm also going to use clam juice for this this is an 8 oz bottle uh that's 236 ml \n"
     ]
    },
    {
     "name": "stderr",
     "output_type": "stream",
     "text": [
      "\r",
      "21it [00:47,  2.33s/it]"
     ]
    },
    {
     "name": "stdout",
     "output_type": "stream",
     "text": [
      "(512,)\n",
      "/home/hice1/bpopper3/scratch/LLaVA_RAG/RAG_Pipeline/HANDMADE_QUESTIONS_PIPELINE/storage/UUlfKJ9M_pQ/frames/frame_1260.jpg\n",
      "you're using bigger clams you're going to have to chop them or you can just buy minced clams um for this you know chopped clams I'm also going to use clam juice for this this is an 8 oz bottle uh that's 236 ml um if you cannot find this you can use a \n"
     ]
    },
    {
     "name": "stderr",
     "output_type": "stream",
     "text": [
      "\r",
      "22it [00:50,  2.33s/it]"
     ]
    },
    {
     "name": "stdout",
     "output_type": "stream",
     "text": [
      "(512,)\n",
      "/home/hice1/bpopper3/scratch/LLaVA_RAG/RAG_Pipeline/HANDMADE_QUESTIONS_PIPELINE/storage/UUlfKJ9M_pQ/frames/frame_1320.jpg\n",
      "you're using bigger clams you're going to have to chop them or you can just buy minced clams um for this you know chopped clams I'm also going to use clam juice for this this is an 8 oz bottle uh that's 236 ml um if you cannot find this you can use a cup of chicken stock all right we're \n"
     ]
    },
    {
     "name": "stderr",
     "output_type": "stream",
     "text": [
      "\r",
      "23it [00:52,  2.34s/it]"
     ]
    },
    {
     "name": "stdout",
     "output_type": "stream",
     "text": [
      "(512,)\n",
      "/home/hice1/bpopper3/scratch/LLaVA_RAG/RAG_Pipeline/HANDMADE_QUESTIONS_PIPELINE/storage/UUlfKJ9M_pQ/frames/frame_1380.jpg\n",
      "minced clams um for this you know chopped clams I'm also going to use clam juice for this this is an 8 oz bottle uh that's 236 ml um if you cannot find this you can use a cup of chicken stock all right we're going to take the bacon out of the pot \n"
     ]
    },
    {
     "name": "stderr",
     "output_type": "stream",
     "text": [
      "\r",
      "24it [00:54,  2.34s/it]"
     ]
    },
    {
     "name": "stdout",
     "output_type": "stream",
     "text": [
      "(512,)\n",
      "/home/hice1/bpopper3/scratch/LLaVA_RAG/RAG_Pipeline/HANDMADE_QUESTIONS_PIPELINE/storage/UUlfKJ9M_pQ/frames/frame_1440.jpg\n",
      "chopped clams I'm also going to use clam juice for this this is an 8 oz bottle uh that's 236 ml um if you cannot find this you can use a cup of chicken stock all right we're going to take the bacon out of the pot now that it's nice and crisp I will keep \n"
     ]
    },
    {
     "name": "stderr",
     "output_type": "stream",
     "text": [
      "\r",
      "25it [00:57,  2.33s/it]"
     ]
    },
    {
     "name": "stdout",
     "output_type": "stream",
     "text": [
      "(512,)\n",
      "/home/hice1/bpopper3/scratch/LLaVA_RAG/RAG_Pipeline/HANDMADE_QUESTIONS_PIPELINE/storage/UUlfKJ9M_pQ/frames/frame_1500.jpg\n",
      "clams I'm also going to use clam juice for this this is an 8 oz bottle uh that's 236 ml um if you cannot find this you can use a cup of chicken stock all right we're going to take the bacon out of the pot now that it's nice and crisp I will keep \n"
     ]
    },
    {
     "name": "stderr",
     "output_type": "stream",
     "text": [
      "\r",
      "26it [00:59,  2.34s/it]"
     ]
    },
    {
     "name": "stdout",
     "output_type": "stream",
     "text": [
      "(512,)\n",
      "/home/hice1/bpopper3/scratch/LLaVA_RAG/RAG_Pipeline/HANDMADE_QUESTIONS_PIPELINE/storage/UUlfKJ9M_pQ/frames/frame_1560.jpg\n",
      "for this this is an 8 oz bottle uh that's 236 ml um if you cannot find this you can use a cup of chicken stock all right we're going to take the bacon out of the pot now that it's nice and crisp I will keep the fat in \n"
     ]
    },
    {
     "name": "stderr",
     "output_type": "stream",
     "text": [
      "\r",
      "27it [01:01,  2.32s/it]"
     ]
    },
    {
     "name": "stdout",
     "output_type": "stream",
     "text": [
      "(512,)\n",
      "/home/hice1/bpopper3/scratch/LLaVA_RAG/RAG_Pipeline/HANDMADE_QUESTIONS_PIPELINE/storage/UUlfKJ9M_pQ/frames/frame_1620.jpg\n",
      "that's 236 ml um if you cannot find this you can use a cup of chicken stock all right we're going to take the bacon out of the pot now that it's nice and crisp I will keep the fat in there I'm going to add some chopped \n"
     ]
    },
    {
     "name": "stderr",
     "output_type": "stream",
     "text": [
      "\r",
      "28it [01:04,  2.32s/it]"
     ]
    },
    {
     "name": "stdout",
     "output_type": "stream",
     "text": [
      "(512,)\n",
      "/home/hice1/bpopper3/scratch/LLaVA_RAG/RAG_Pipeline/HANDMADE_QUESTIONS_PIPELINE/storage/UUlfKJ9M_pQ/frames/frame_1680.jpg\n",
      "um if you cannot find this you can use a cup of chicken stock all right we're going to take the bacon out of the pot now that it's nice and crisp I will keep the fat in there I'm going to add some chopped onion to this and uh \n"
     ]
    },
    {
     "name": "stderr",
     "output_type": "stream",
     "text": [
      "\r",
      "29it [01:06,  2.31s/it]"
     ]
    },
    {
     "name": "stdout",
     "output_type": "stream",
     "text": [
      "(512,)\n",
      "/home/hice1/bpopper3/scratch/LLaVA_RAG/RAG_Pipeline/HANDMADE_QUESTIONS_PIPELINE/storage/UUlfKJ9M_pQ/frames/frame_1740.jpg\n",
      "cup of chicken stock all right we're going to take the bacon out of the pot now that it's nice and crisp I will keep the fat in there I'm going to add some chopped onion to this and uh \n"
     ]
    },
    {
     "name": "stderr",
     "output_type": "stream",
     "text": [
      "\r",
      "30it [01:08,  2.30s/it]"
     ]
    },
    {
     "name": "stdout",
     "output_type": "stream",
     "text": [
      "(512,)\n",
      "/home/hice1/bpopper3/scratch/LLaVA_RAG/RAG_Pipeline/HANDMADE_QUESTIONS_PIPELINE/storage/UUlfKJ9M_pQ/frames/frame_1800.jpg\n",
      "going to take the bacon out of the pot now that it's nice and crisp I will keep the fat in there I'm going to add some chopped onion to this and uh \n"
     ]
    },
    {
     "name": "stderr",
     "output_type": "stream",
     "text": [
      "\r",
      "31it [01:10,  2.28s/it]"
     ]
    },
    {
     "name": "stdout",
     "output_type": "stream",
     "text": [
      "(512,)\n",
      "/home/hice1/bpopper3/scratch/LLaVA_RAG/RAG_Pipeline/HANDMADE_QUESTIONS_PIPELINE/storage/UUlfKJ9M_pQ/frames/frame_1860.jpg\n",
      "now that it's nice and crisp I will keep the fat in there I'm going to add some chopped onion to this and uh celery we're going to cook this for a \n"
     ]
    },
    {
     "name": "stderr",
     "output_type": "stream",
     "text": [
      "\r",
      "32it [01:13,  2.27s/it]"
     ]
    },
    {
     "name": "stdout",
     "output_type": "stream",
     "text": [
      "(512,)\n",
      "/home/hice1/bpopper3/scratch/LLaVA_RAG/RAG_Pipeline/HANDMADE_QUESTIONS_PIPELINE/storage/UUlfKJ9M_pQ/frames/frame_1920.jpg\n",
      "the fat in there I'm going to add some chopped onion to this and uh celery we're going to cook this for a few minutes until the onions are softened and \n"
     ]
    },
    {
     "name": "stderr",
     "output_type": "stream",
     "text": [
      "\r",
      "33it [01:15,  2.26s/it]"
     ]
    },
    {
     "name": "stdout",
     "output_type": "stream",
     "text": [
      "(512,)\n",
      "/home/hice1/bpopper3/scratch/LLaVA_RAG/RAG_Pipeline/HANDMADE_QUESTIONS_PIPELINE/storage/UUlfKJ9M_pQ/frames/frame_1980.jpg\n",
      "the fat in there I'm going to add some chopped onion to this and uh celery we're going to cook this for a few minutes until the onions are softened and translucent I'm going to be using baby \n"
     ]
    },
    {
     "name": "stderr",
     "output_type": "stream",
     "text": [
      "\r",
      "34it [01:17,  2.27s/it]"
     ]
    },
    {
     "name": "stdout",
     "output_type": "stream",
     "text": [
      "(512,)\n",
      "/home/hice1/bpopper3/scratch/LLaVA_RAG/RAG_Pipeline/HANDMADE_QUESTIONS_PIPELINE/storage/UUlfKJ9M_pQ/frames/frame_2040.jpg\n",
      "there I'm going to add some chopped onion to this and uh celery we're going to cook this for a few minutes until the onions are softened and translucent I'm going to be using baby potatoes for this recipe all I did is \n"
     ]
    },
    {
     "name": "stderr",
     "output_type": "stream",
     "text": [
      "\r",
      "35it [01:20,  2.27s/it]"
     ]
    },
    {
     "name": "stdout",
     "output_type": "stream",
     "text": [
      "(512,)\n",
      "/home/hice1/bpopper3/scratch/LLaVA_RAG/RAG_Pipeline/HANDMADE_QUESTIONS_PIPELINE/storage/UUlfKJ9M_pQ/frames/frame_2100.jpg\n",
      "onion to this and uh celery we're going to cook this for a few minutes until the onions are softened and translucent I'm going to be using baby potatoes for this recipe all I did is scrub them I will not peel them and I \n"
     ]
    },
    {
     "name": "stderr",
     "output_type": "stream",
     "text": [
      "\r",
      "36it [01:22,  2.27s/it]"
     ]
    },
    {
     "name": "stdout",
     "output_type": "stream",
     "text": [
      "(512,)\n",
      "/home/hice1/bpopper3/scratch/LLaVA_RAG/RAG_Pipeline/HANDMADE_QUESTIONS_PIPELINE/storage/UUlfKJ9M_pQ/frames/frame_2160.jpg\n",
      "celery we're going to cook this for a few minutes until the onions are softened and translucent I'm going to be using baby potatoes for this recipe all I did is scrub them I will not peel them and I quartered them you can use rusted potato \n"
     ]
    },
    {
     "name": "stderr",
     "output_type": "stream",
     "text": [
      "\r",
      "37it [01:24,  2.27s/it]"
     ]
    },
    {
     "name": "stdout",
     "output_type": "stream",
     "text": [
      "(512,)\n",
      "/home/hice1/bpopper3/scratch/LLaVA_RAG/RAG_Pipeline/HANDMADE_QUESTIONS_PIPELINE/storage/UUlfKJ9M_pQ/frames/frame_2220.jpg\n",
      "celery we're going to cook this for a few minutes until the onions are softened and translucent I'm going to be using baby potatoes for this recipe all I did is scrub them I will not peel them and I quartered them you can use rusted potato peel it and just uh chop it into \n"
     ]
    },
    {
     "name": "stderr",
     "output_type": "stream",
     "text": [
      "\r",
      "38it [01:26,  2.29s/it]"
     ]
    },
    {
     "name": "stdout",
     "output_type": "stream",
     "text": [
      "(512,)\n",
      "/home/hice1/bpopper3/scratch/LLaVA_RAG/RAG_Pipeline/HANDMADE_QUESTIONS_PIPELINE/storage/UUlfKJ9M_pQ/frames/frame_2280.jpg\n",
      "celery we're going to cook this for a few minutes until the onions are softened and translucent I'm going to be using baby potatoes for this recipe all I did is scrub them I will not peel them and I quartered them you can use rusted potato peel it and just uh chop it into \n"
     ]
    },
    {
     "name": "stderr",
     "output_type": "stream",
     "text": [
      "\r",
      "39it [01:29,  2.30s/it]"
     ]
    },
    {
     "name": "stdout",
     "output_type": "stream",
     "text": [
      "(512,)\n",
      "/home/hice1/bpopper3/scratch/LLaVA_RAG/RAG_Pipeline/HANDMADE_QUESTIONS_PIPELINE/storage/UUlfKJ9M_pQ/frames/frame_2340.jpg\n",
      "few minutes until the onions are softened and translucent I'm going to be using baby potatoes for this recipe all I did is scrub them I will not peel them and I quartered them you can use rusted potato peel it and just uh chop it into \n"
     ]
    },
    {
     "name": "stderr",
     "output_type": "stream",
     "text": [
      "\r",
      "40it [01:31,  2.30s/it]"
     ]
    },
    {
     "name": "stdout",
     "output_type": "stream",
     "text": [
      "(512,)\n",
      "/home/hice1/bpopper3/scratch/LLaVA_RAG/RAG_Pipeline/HANDMADE_QUESTIONS_PIPELINE/storage/UUlfKJ9M_pQ/frames/frame_2400.jpg\n",
      "translucent I'm going to be using baby potatoes for this recipe all I did is scrub them I will not peel them and I quartered them you can use rusted potato peel it and just uh chop it into \n"
     ]
    },
    {
     "name": "stderr",
     "output_type": "stream",
     "text": [
      "\r",
      "41it [01:33,  2.29s/it]"
     ]
    },
    {
     "name": "stdout",
     "output_type": "stream",
     "text": [
      "(512,)\n",
      "/home/hice1/bpopper3/scratch/LLaVA_RAG/RAG_Pipeline/HANDMADE_QUESTIONS_PIPELINE/storage/UUlfKJ9M_pQ/frames/frame_2460.jpg\n",
      "potatoes for this recipe all I did is scrub them I will not peel them and I quartered them you can use rusted potato peel it and just uh chop it into pieces I'm going to add some thyme leaves to this let's call it a teaspoon \n"
     ]
    },
    {
     "name": "stderr",
     "output_type": "stream",
     "text": [
      "\r",
      "42it [01:36,  2.29s/it]"
     ]
    },
    {
     "name": "stdout",
     "output_type": "stream",
     "text": [
      "(512,)\n",
      "/home/hice1/bpopper3/scratch/LLaVA_RAG/RAG_Pipeline/HANDMADE_QUESTIONS_PIPELINE/storage/UUlfKJ9M_pQ/frames/frame_2520.jpg\n",
      "scrub them I will not peel them and I quartered them you can use rusted potato peel it and just uh chop it into pieces I'm going to add some thyme leaves to this let's call it a teaspoon \n"
     ]
    },
    {
     "name": "stderr",
     "output_type": "stream",
     "text": [
      "\r",
      "43it [01:38,  2.29s/it]"
     ]
    },
    {
     "name": "stdout",
     "output_type": "stream",
     "text": [
      "(512,)\n",
      "/home/hice1/bpopper3/scratch/LLaVA_RAG/RAG_Pipeline/HANDMADE_QUESTIONS_PIPELINE/storage/UUlfKJ9M_pQ/frames/frame_2580.jpg\n",
      "quartered them you can use rusted potato peel it and just uh chop it into pieces I'm going to add some thyme leaves to this let's call it a teaspoon now I'm going to add 1/3 cup of allpurpose \n"
     ]
    },
    {
     "name": "stderr",
     "output_type": "stream",
     "text": [
      "\r",
      "44it [01:40,  2.29s/it]"
     ]
    },
    {
     "name": "stdout",
     "output_type": "stream",
     "text": [
      "(512,)\n",
      "/home/hice1/bpopper3/scratch/LLaVA_RAG/RAG_Pipeline/HANDMADE_QUESTIONS_PIPELINE/storage/UUlfKJ9M_pQ/frames/frame_2640.jpg\n",
      "peel it and just uh chop it into pieces I'm going to add some thyme leaves to this let's call it a teaspoon now I'm going to add 1/3 cup of allpurpose flour Apple grams on the recipe for \n"
     ]
    },
    {
     "name": "stderr",
     "output_type": "stream",
     "text": [
      "\r",
      "45it [01:42,  2.29s/it]"
     ]
    },
    {
     "name": "stdout",
     "output_type": "stream",
     "text": [
      "(512,)\n",
      "/home/hice1/bpopper3/scratch/LLaVA_RAG/RAG_Pipeline/HANDMADE_QUESTIONS_PIPELINE/storage/UUlfKJ9M_pQ/frames/frame_2700.jpg\n",
      "pieces I'm going to add some thyme leaves to this let's call it a teaspoon now I'm going to add 1/3 cup of allpurpose flour Apple grams on the recipe for \n"
     ]
    },
    {
     "name": "stderr",
     "output_type": "stream",
     "text": [
      "\r",
      "46it [01:45,  2.28s/it]"
     ]
    },
    {
     "name": "stdout",
     "output_type": "stream",
     "text": [
      "(512,)\n",
      "/home/hice1/bpopper3/scratch/LLaVA_RAG/RAG_Pipeline/HANDMADE_QUESTIONS_PIPELINE/storage/UUlfKJ9M_pQ/frames/frame_2760.jpg\n",
      "pieces I'm going to add some thyme leaves to this let's call it a teaspoon now I'm going to add 1/3 cup of allpurpose flour Apple grams on the recipe for you we're going to cook this for a \n"
     ]
    },
    {
     "name": "stderr",
     "output_type": "stream",
     "text": [
      "\r",
      "47it [01:47,  2.30s/it]"
     ]
    },
    {
     "name": "stdout",
     "output_type": "stream",
     "text": [
      "(512,)\n",
      "/home/hice1/bpopper3/scratch/LLaVA_RAG/RAG_Pipeline/HANDMADE_QUESTIONS_PIPELINE/storage/UUlfKJ9M_pQ/frames/frame_2820.jpg\n",
      "pieces I'm going to add some thyme leaves to this let's call it a teaspoon now I'm going to add 1/3 cup of allpurpose flour Apple grams on the recipe for you we're going to cook this for a couple \n"
     ]
    },
    {
     "name": "stderr",
     "output_type": "stream",
     "text": [
      "\r",
      "48it [01:49,  2.30s/it]"
     ]
    },
    {
     "name": "stdout",
     "output_type": "stream",
     "text": [
      "(512,)\n",
      "/home/hice1/bpopper3/scratch/LLaVA_RAG/RAG_Pipeline/HANDMADE_QUESTIONS_PIPELINE/storage/UUlfKJ9M_pQ/frames/frame_2880.jpg\n",
      "pieces I'm going to add some thyme leaves to this let's call it a teaspoon now I'm going to add 1/3 cup of allpurpose flour Apple grams on the recipe for you we're going to cook this for a couple \n"
     ]
    },
    {
     "name": "stderr",
     "output_type": "stream",
     "text": [
      "\r",
      "49it [01:52,  2.30s/it]"
     ]
    },
    {
     "name": "stdout",
     "output_type": "stream",
     "text": [
      "(512,)\n",
      "/home/hice1/bpopper3/scratch/LLaVA_RAG/RAG_Pipeline/HANDMADE_QUESTIONS_PIPELINE/storage/UUlfKJ9M_pQ/frames/frame_2940.jpg\n",
      "now I'm going to add 1/3 cup of allpurpose flour Apple grams on the recipe for you we're going to cook this for a couple minutes now we're going to add our \n"
     ]
    },
    {
     "name": "stderr",
     "output_type": "stream",
     "text": [
      "\r",
      "50it [01:54,  2.28s/it]"
     ]
    },
    {
     "name": "stdout",
     "output_type": "stream",
     "text": [
      "(512,)\n",
      "/home/hice1/bpopper3/scratch/LLaVA_RAG/RAG_Pipeline/HANDMADE_QUESTIONS_PIPELINE/storage/UUlfKJ9M_pQ/frames/frame_3000.jpg\n",
      "now I'm going to add 1/3 cup of allpurpose flour Apple grams on the recipe for you we're going to cook this for a couple minutes now we're going to add our liquid the liquid from the cans and the \n"
     ]
    },
    {
     "name": "stderr",
     "output_type": "stream",
     "text": [
      "\r",
      "51it [01:56,  2.28s/it]"
     ]
    },
    {
     "name": "stdout",
     "output_type": "stream",
     "text": [
      "(512,)\n",
      "/home/hice1/bpopper3/scratch/LLaVA_RAG/RAG_Pipeline/HANDMADE_QUESTIONS_PIPELINE/storage/UUlfKJ9M_pQ/frames/frame_3060.jpg\n",
      "flour Apple grams on the recipe for you we're going to cook this for a couple minutes now we're going to add our liquid the liquid from the cans and the clam juice you know uh the clam juice is \n"
     ]
    },
    {
     "name": "stderr",
     "output_type": "stream",
     "text": [
      "\r",
      "52it [01:58,  2.28s/it]"
     ]
    },
    {
     "name": "stdout",
     "output_type": "stream",
     "text": [
      "(512,)\n",
      "/home/hice1/bpopper3/scratch/LLaVA_RAG/RAG_Pipeline/HANDMADE_QUESTIONS_PIPELINE/storage/UUlfKJ9M_pQ/frames/frame_3120.jpg\n",
      "you we're going to cook this for a couple minutes now we're going to add our liquid the liquid from the cans and the clam juice you know uh the clam juice is salty and the liquid from the can also \n"
     ]
    },
    {
     "name": "stderr",
     "output_type": "stream",
     "text": [
      "\r",
      "53it [02:01,  2.28s/it]"
     ]
    },
    {
     "name": "stdout",
     "output_type": "stream",
     "text": [
      "(512,)\n",
      "/home/hice1/bpopper3/scratch/LLaVA_RAG/RAG_Pipeline/HANDMADE_QUESTIONS_PIPELINE/storage/UUlfKJ9M_pQ/frames/frame_3180.jpg\n",
      "you we're going to cook this for a couple minutes now we're going to add our liquid the liquid from the cans and the clam juice you know uh the clam juice is salty and the liquid from the can also has some salt to it so I'm not going to \n"
     ]
    },
    {
     "name": "stderr",
     "output_type": "stream",
     "text": [
      "\r",
      "54it [02:03,  2.32s/it]"
     ]
    },
    {
     "name": "stdout",
     "output_type": "stream",
     "text": [
      "(512,)\n",
      "/home/hice1/bpopper3/scratch/LLaVA_RAG/RAG_Pipeline/HANDMADE_QUESTIONS_PIPELINE/storage/UUlfKJ9M_pQ/frames/frame_3240.jpg\n",
      "couple minutes now we're going to add our liquid the liquid from the cans and the clam juice you know uh the clam juice is salty and the liquid from the can also has some salt to it so I'm not going to add any salt Until the End we'll taste \n"
     ]
    },
    {
     "name": "stderr",
     "output_type": "stream",
     "text": [
      "\r",
      "55it [02:05,  2.32s/it]"
     ]
    },
    {
     "name": "stdout",
     "output_type": "stream",
     "text": [
      "(512,)\n",
      "/home/hice1/bpopper3/scratch/LLaVA_RAG/RAG_Pipeline/HANDMADE_QUESTIONS_PIPELINE/storage/UUlfKJ9M_pQ/frames/frame_3300.jpg\n",
      "minutes now we're going to add our liquid the liquid from the cans and the clam juice you know uh the clam juice is salty and the liquid from the can also has some salt to it so I'm not going to add any salt Until the End we'll taste it and then decide if it needs more so I \n"
     ]
    },
    {
     "name": "stderr",
     "output_type": "stream",
     "text": [
      "\r",
      "56it [02:08,  2.33s/it]"
     ]
    },
    {
     "name": "stdout",
     "output_type": "stream",
     "text": [
      "(512,)\n",
      "/home/hice1/bpopper3/scratch/LLaVA_RAG/RAG_Pipeline/HANDMADE_QUESTIONS_PIPELINE/storage/UUlfKJ9M_pQ/frames/frame_3360.jpg\n",
      "minutes now we're going to add our liquid the liquid from the cans and the clam juice you know uh the clam juice is salty and the liquid from the can also has some salt to it so I'm not going to add any salt Until the End we'll taste it and then decide if it needs more so I have roughly 2 and 1/2 cups of liquid \n"
     ]
    },
    {
     "name": "stderr",
     "output_type": "stream",
     "text": [
      "\r",
      "57it [02:10,  2.34s/it]"
     ]
    },
    {
     "name": "stdout",
     "output_type": "stream",
     "text": [
      "(512,)\n",
      "/home/hice1/bpopper3/scratch/LLaVA_RAG/RAG_Pipeline/HANDMADE_QUESTIONS_PIPELINE/storage/UUlfKJ9M_pQ/frames/frame_3420.jpg\n",
      "liquid the liquid from the cans and the clam juice you know uh the clam juice is salty and the liquid from the can also has some salt to it so I'm not going to add any salt Until the End we'll taste it and then decide if it needs more so I have roughly 2 and 1/2 cups of liquid and I'm going to whisk it \n"
     ]
    },
    {
     "name": "stderr",
     "output_type": "stream",
     "text": [
      "\r",
      "58it [02:12,  2.35s/it]"
     ]
    },
    {
     "name": "stdout",
     "output_type": "stream",
     "text": [
      "(512,)\n",
      "/home/hice1/bpopper3/scratch/LLaVA_RAG/RAG_Pipeline/HANDMADE_QUESTIONS_PIPELINE/storage/UUlfKJ9M_pQ/frames/frame_3480.jpg\n",
      "clam juice you know uh the clam juice is salty and the liquid from the can also has some salt to it so I'm not going to add any salt Until the End we'll taste it and then decide if it needs more so I have roughly 2 and 1/2 cups of liquid and I'm going to whisk it in uh and get rid of all the lumps that \n"
     ]
    },
    {
     "name": "stderr",
     "output_type": "stream",
     "text": [
      "\r",
      "59it [02:15,  2.36s/it]"
     ]
    },
    {
     "name": "stdout",
     "output_type": "stream",
     "text": [
      "(512,)\n",
      "/home/hice1/bpopper3/scratch/LLaVA_RAG/RAG_Pipeline/HANDMADE_QUESTIONS_PIPELINE/storage/UUlfKJ9M_pQ/frames/frame_3540.jpg\n",
      "salty and the liquid from the can also has some salt to it so I'm not going to add any salt Until the End we'll taste it and then decide if it needs more so I have roughly 2 and 1/2 cups of liquid and I'm going to whisk it in uh and get rid of all the lumps that might form you know all the flower lumps \n"
     ]
    },
    {
     "name": "stderr",
     "output_type": "stream",
     "text": [
      "\r",
      "60it [02:17,  2.37s/it]"
     ]
    },
    {
     "name": "stdout",
     "output_type": "stream",
     "text": [
      "(512,)\n",
      "/home/hice1/bpopper3/scratch/LLaVA_RAG/RAG_Pipeline/HANDMADE_QUESTIONS_PIPELINE/storage/UUlfKJ9M_pQ/frames/frame_3600.jpg\n",
      "has some salt to it so I'm not going to add any salt Until the End we'll taste it and then decide if it needs more so I have roughly 2 and 1/2 cups of liquid and I'm going to whisk it in uh and get rid of all the lumps that might form you know all the flower lumps that might \n"
     ]
    },
    {
     "name": "stderr",
     "output_type": "stream",
     "text": [
      "\r",
      "61it [02:20,  2.37s/it]"
     ]
    },
    {
     "name": "stdout",
     "output_type": "stream",
     "text": [
      "(512,)\n",
      "/home/hice1/bpopper3/scratch/LLaVA_RAG/RAG_Pipeline/HANDMADE_QUESTIONS_PIPELINE/storage/UUlfKJ9M_pQ/frames/frame_3660.jpg\n",
      "add any salt Until the End we'll taste it and then decide if it needs more so I have roughly 2 and 1/2 cups of liquid and I'm going to whisk it in uh and get rid of all the lumps that might form you know all the flower lumps that might \n"
     ]
    },
    {
     "name": "stderr",
     "output_type": "stream",
     "text": [
      "\r",
      "62it [02:22,  2.35s/it]"
     ]
    },
    {
     "name": "stdout",
     "output_type": "stream",
     "text": [
      "(512,)\n",
      "/home/hice1/bpopper3/scratch/LLaVA_RAG/RAG_Pipeline/HANDMADE_QUESTIONS_PIPELINE/storage/UUlfKJ9M_pQ/frames/frame_3720.jpg\n",
      "it and then decide if it needs more so I have roughly 2 and 1/2 cups of liquid and I'm going to whisk it in uh and get rid of all the lumps that might form you know all the flower lumps that might \n"
     ]
    },
    {
     "name": "stderr",
     "output_type": "stream",
     "text": [
      "\r",
      "63it [02:24,  2.33s/it]"
     ]
    },
    {
     "name": "stdout",
     "output_type": "stream",
     "text": [
      "(512,)\n",
      "/home/hice1/bpopper3/scratch/LLaVA_RAG/RAG_Pipeline/HANDMADE_QUESTIONS_PIPELINE/storage/UUlfKJ9M_pQ/frames/frame_3780.jpg\n",
      "have roughly 2 and 1/2 cups of liquid and I'm going to whisk it in uh and get rid of all the lumps that might form you know all the flower lumps that might \n"
     ]
    },
    {
     "name": "stderr",
     "output_type": "stream",
     "text": [
      "\r",
      "64it [02:26,  2.31s/it]"
     ]
    },
    {
     "name": "stdout",
     "output_type": "stream",
     "text": [
      "(512,)\n",
      "/home/hice1/bpopper3/scratch/LLaVA_RAG/RAG_Pipeline/HANDMADE_QUESTIONS_PIPELINE/storage/UUlfKJ9M_pQ/frames/frame_3840.jpg\n",
      "and I'm going to whisk it in uh and get rid of all the lumps that might form you know all the flower lumps that might form there's no flour lumps in here this \n"
     ]
    },
    {
     "name": "stderr",
     "output_type": "stream",
     "text": [
      "\r",
      "65it [02:29,  2.29s/it]"
     ]
    },
    {
     "name": "stdout",
     "output_type": "stream",
     "text": [
      "(512,)\n",
      "/home/hice1/bpopper3/scratch/LLaVA_RAG/RAG_Pipeline/HANDMADE_QUESTIONS_PIPELINE/storage/UUlfKJ9M_pQ/frames/frame_3900.jpg\n",
      "in uh and get rid of all the lumps that might form you know all the flower lumps that might form there's no flour lumps in here this \n"
     ]
    },
    {
     "name": "stderr",
     "output_type": "stream",
     "text": [
      "\r",
      "66it [02:31,  2.28s/it]"
     ]
    },
    {
     "name": "stdout",
     "output_type": "stream",
     "text": [
      "(512,)\n",
      "/home/hice1/bpopper3/scratch/LLaVA_RAG/RAG_Pipeline/HANDMADE_QUESTIONS_PIPELINE/storage/UUlfKJ9M_pQ/frames/frame_3960.jpg\n",
      "might form you know all the flower lumps that might form there's no flour lumps in here this is perfect I'm now going to add my \n"
     ]
    },
    {
     "name": "stderr",
     "output_type": "stream",
     "text": [
      "\r",
      "67it [02:33,  2.26s/it]"
     ]
    },
    {
     "name": "stdout",
     "output_type": "stream",
     "text": [
      "(512,)\n",
      "/home/hice1/bpopper3/scratch/LLaVA_RAG/RAG_Pipeline/HANDMADE_QUESTIONS_PIPELINE/storage/UUlfKJ9M_pQ/frames/frame_4020.jpg\n",
      "that might form there's no flour lumps in here this is perfect I'm now going to add my potatoes and most of the bacon I'll \n"
     ]
    },
    {
     "name": "stderr",
     "output_type": "stream",
     "text": [
      "\r",
      "68it [02:35,  2.25s/it]"
     ]
    },
    {
     "name": "stdout",
     "output_type": "stream",
     "text": [
      "(512,)\n",
      "/home/hice1/bpopper3/scratch/LLaVA_RAG/RAG_Pipeline/HANDMADE_QUESTIONS_PIPELINE/storage/UUlfKJ9M_pQ/frames/frame_4080.jpg\n",
      "form there's no flour lumps in here this is perfect I'm now going to add my potatoes and most of the bacon I'll leave some for topping \n"
     ]
    },
    {
     "name": "stderr",
     "output_type": "stream",
     "text": [
      "\r",
      "69it [02:38,  2.24s/it]"
     ]
    },
    {
     "name": "stdout",
     "output_type": "stream",
     "text": [
      "(512,)\n",
      "/home/hice1/bpopper3/scratch/LLaVA_RAG/RAG_Pipeline/HANDMADE_QUESTIONS_PIPELINE/storage/UUlfKJ9M_pQ/frames/frame_4140.jpg\n",
      "form there's no flour lumps in here this is perfect I'm now going to add my potatoes and most of the bacon I'll leave some for topping so we'll leave that for toppings all \n"
     ]
    },
    {
     "name": "stderr",
     "output_type": "stream",
     "text": [
      "\r",
      "70it [02:40,  2.25s/it]"
     ]
    },
    {
     "name": "stdout",
     "output_type": "stream",
     "text": [
      "(512,)\n",
      "/home/hice1/bpopper3/scratch/LLaVA_RAG/RAG_Pipeline/HANDMADE_QUESTIONS_PIPELINE/storage/UUlfKJ9M_pQ/frames/frame_4200.jpg\n",
      "form there's no flour lumps in here this is perfect I'm now going to add my potatoes and most of the bacon I'll leave some for topping so we'll leave that for toppings all right we're going to let this simmer for \n"
     ]
    },
    {
     "name": "stderr",
     "output_type": "stream",
     "text": [
      "\r",
      "71it [02:42,  2.26s/it]"
     ]
    },
    {
     "name": "stdout",
     "output_type": "stream",
     "text": [
      "(512,)\n",
      "/home/hice1/bpopper3/scratch/LLaVA_RAG/RAG_Pipeline/HANDMADE_QUESTIONS_PIPELINE/storage/UUlfKJ9M_pQ/frames/frame_4260.jpg\n",
      "form there's no flour lumps in here this is perfect I'm now going to add my potatoes and most of the bacon I'll leave some for topping so we'll leave that for toppings all right we're going to let this simmer for about 15 minutes until the potatoes are \n"
     ]
    },
    {
     "name": "stderr",
     "output_type": "stream",
     "text": [
      "\r",
      "72it [02:45,  2.28s/it]"
     ]
    },
    {
     "name": "stdout",
     "output_type": "stream",
     "text": [
      "(512,)\n",
      "/home/hice1/bpopper3/scratch/LLaVA_RAG/RAG_Pipeline/HANDMADE_QUESTIONS_PIPELINE/storage/UUlfKJ9M_pQ/frames/frame_4320.jpg\n",
      "is perfect I'm now going to add my potatoes and most of the bacon I'll leave some for topping so we'll leave that for toppings all right we're going to let this simmer for about 15 minutes until the potatoes are tender don't let this start boiling \n"
     ]
    },
    {
     "name": "stderr",
     "output_type": "stream",
     "text": [
      "\r",
      "73it [02:47,  2.28s/it]"
     ]
    },
    {
     "name": "stdout",
     "output_type": "stream",
     "text": [
      "(512,)\n",
      "/home/hice1/bpopper3/scratch/LLaVA_RAG/RAG_Pipeline/HANDMADE_QUESTIONS_PIPELINE/storage/UUlfKJ9M_pQ/frames/frame_4380.jpg\n",
      "is perfect I'm now going to add my potatoes and most of the bacon I'll leave some for topping so we'll leave that for toppings all right we're going to let this simmer for about 15 minutes until the potatoes are tender don't let this start boiling crazy okay make sure it's just simmering \n"
     ]
    },
    {
     "name": "stderr",
     "output_type": "stream",
     "text": [
      "\r",
      "74it [02:49,  2.30s/it]"
     ]
    },
    {
     "name": "stdout",
     "output_type": "stream",
     "text": [
      "(512,)\n",
      "/home/hice1/bpopper3/scratch/LLaVA_RAG/RAG_Pipeline/HANDMADE_QUESTIONS_PIPELINE/storage/UUlfKJ9M_pQ/frames/frame_4440.jpg\n",
      "potatoes and most of the bacon I'll leave some for topping so we'll leave that for toppings all right we're going to let this simmer for about 15 minutes until the potatoes are tender don't let this start boiling crazy okay make sure it's just simmering I want you to stir this occasionally \n"
     ]
    },
    {
     "name": "stderr",
     "output_type": "stream",
     "text": [
      "\r",
      "75it [02:52,  2.31s/it]"
     ]
    },
    {
     "name": "stdout",
     "output_type": "stream",
     "text": [
      "(512,)\n",
      "/home/hice1/bpopper3/scratch/LLaVA_RAG/RAG_Pipeline/HANDMADE_QUESTIONS_PIPELINE/storage/UUlfKJ9M_pQ/frames/frame_4500.jpg\n",
      "leave some for topping so we'll leave that for toppings all right we're going to let this simmer for about 15 minutes until the potatoes are tender don't let this start boiling crazy okay make sure it's just simmering I want you to stir this occasionally okay these potatoes are cooked they're nice and tender I can Pierce them with a \n"
     ]
    },
    {
     "name": "stderr",
     "output_type": "stream",
     "text": [
      "\r",
      "76it [02:54,  2.32s/it]"
     ]
    },
    {
     "name": "stdout",
     "output_type": "stream",
     "text": [
      "(512,)\n",
      "/home/hice1/bpopper3/scratch/LLaVA_RAG/RAG_Pipeline/HANDMADE_QUESTIONS_PIPELINE/storage/UUlfKJ9M_pQ/frames/frame_4560.jpg\n",
      "so we'll leave that for toppings all right we're going to let this simmer for about 15 minutes until the potatoes are tender don't let this start boiling crazy okay make sure it's just simmering I want you to stir this occasionally okay these potatoes are cooked they're nice and tender I can Pierce them with a fork that took about I'm going to say \n"
     ]
    },
    {
     "name": "stderr",
     "output_type": "stream",
     "text": [
      "\r",
      "77it [02:56,  2.34s/it]"
     ]
    },
    {
     "name": "stdout",
     "output_type": "stream",
     "text": [
      "(512,)\n",
      "/home/hice1/bpopper3/scratch/LLaVA_RAG/RAG_Pipeline/HANDMADE_QUESTIONS_PIPELINE/storage/UUlfKJ9M_pQ/frames/frame_4620.jpg\n",
      "right we're going to let this simmer for about 15 minutes until the potatoes are tender don't let this start boiling crazy okay make sure it's just simmering I want you to stir this occasionally okay these potatoes are cooked they're nice and tender I can Pierce them with a fork that took about I'm going to say maybe 20 minutes I'm going to add 1 and \n"
     ]
    },
    {
     "name": "stderr",
     "output_type": "stream",
     "text": [
      "\r",
      "78it [02:59,  2.35s/it]"
     ]
    },
    {
     "name": "stdout",
     "output_type": "stream",
     "text": [
      "(512,)\n",
      "/home/hice1/bpopper3/scratch/LLaVA_RAG/RAG_Pipeline/HANDMADE_QUESTIONS_PIPELINE/storage/UUlfKJ9M_pQ/frames/frame_4680.jpg\n",
      "about 15 minutes until the potatoes are tender don't let this start boiling crazy okay make sure it's just simmering I want you to stir this occasionally okay these potatoes are cooked they're nice and tender I can Pierce them with a fork that took about I'm going to say maybe 20 minutes I'm going to add 1 and 1/2 cups of cream to this \n"
     ]
    },
    {
     "name": "stderr",
     "output_type": "stream",
     "text": [
      "\r",
      "79it [03:01,  2.35s/it]"
     ]
    },
    {
     "name": "stdout",
     "output_type": "stream",
     "text": [
      "(512,)\n",
      "/home/hice1/bpopper3/scratch/LLaVA_RAG/RAG_Pipeline/HANDMADE_QUESTIONS_PIPELINE/storage/UUlfKJ9M_pQ/frames/frame_4740.jpg\n",
      "tender don't let this start boiling crazy okay make sure it's just simmering I want you to stir this occasionally okay these potatoes are cooked they're nice and tender I can Pierce them with a fork that took about I'm going to say maybe 20 minutes I'm going to add 1 and 1/2 cups of cream to this \n"
     ]
    },
    {
     "name": "stderr",
     "output_type": "stream",
     "text": [
      "\r",
      "80it [03:03,  2.35s/it]"
     ]
    },
    {
     "name": "stdout",
     "output_type": "stream",
     "text": [
      "(512,)\n",
      "/home/hice1/bpopper3/scratch/LLaVA_RAG/RAG_Pipeline/HANDMADE_QUESTIONS_PIPELINE/storage/UUlfKJ9M_pQ/frames/frame_4800.jpg\n",
      "crazy okay make sure it's just simmering I want you to stir this occasionally okay these potatoes are cooked they're nice and tender I can Pierce them with a fork that took about I'm going to say maybe 20 minutes I'm going to add 1 and 1/2 cups of cream to this \n"
     ]
    },
    {
     "name": "stderr",
     "output_type": "stream",
     "text": [
      "\r",
      "81it [03:06,  2.34s/it]"
     ]
    },
    {
     "name": "stdout",
     "output_type": "stream",
     "text": [
      "(512,)\n",
      "/home/hice1/bpopper3/scratch/LLaVA_RAG/RAG_Pipeline/HANDMADE_QUESTIONS_PIPELINE/storage/UUlfKJ9M_pQ/frames/frame_4860.jpg\n",
      "I want you to stir this occasionally okay these potatoes are cooked they're nice and tender I can Pierce them with a fork that took about I'm going to say maybe 20 minutes I'm going to add 1 and 1/2 cups of cream to this and I'm going to add the \n"
     ]
    },
    {
     "name": "stderr",
     "output_type": "stream",
     "text": [
      "\r",
      "82it [03:08,  2.33s/it]"
     ]
    },
    {
     "name": "stdout",
     "output_type": "stream",
     "text": [
      "(512,)\n",
      "/home/hice1/bpopper3/scratch/LLaVA_RAG/RAG_Pipeline/HANDMADE_QUESTIONS_PIPELINE/storage/UUlfKJ9M_pQ/frames/frame_4920.jpg\n",
      "okay these potatoes are cooked they're nice and tender I can Pierce them with a fork that took about I'm going to say maybe 20 minutes I'm going to add 1 and 1/2 cups of cream to this and I'm going to add the \n"
     ]
    },
    {
     "name": "stderr",
     "output_type": "stream",
     "text": [
      "\r",
      "83it [03:10,  2.32s/it]"
     ]
    },
    {
     "name": "stdout",
     "output_type": "stream",
     "text": [
      "(512,)\n",
      "/home/hice1/bpopper3/scratch/LLaVA_RAG/RAG_Pipeline/HANDMADE_QUESTIONS_PIPELINE/storage/UUlfKJ9M_pQ/frames/frame_4980.jpg\n",
      "fork that took about I'm going to say maybe 20 minutes I'm going to add 1 and 1/2 cups of cream to this and I'm going to add the clamps so we're just going to mix all \n"
     ]
    },
    {
     "name": "stderr",
     "output_type": "stream",
     "text": [
      "\r",
      "84it [03:13,  2.31s/it]"
     ]
    },
    {
     "name": "stdout",
     "output_type": "stream",
     "text": [
      "(512,)\n",
      "/home/hice1/bpopper3/scratch/LLaVA_RAG/RAG_Pipeline/HANDMADE_QUESTIONS_PIPELINE/storage/UUlfKJ9M_pQ/frames/frame_5040.jpg\n",
      "maybe 20 minutes I'm going to add 1 and 1/2 cups of cream to this and I'm going to add the clamps so we're just going to mix all this we are going to Simply Heat this \n"
     ]
    },
    {
     "name": "stderr",
     "output_type": "stream",
     "text": [
      "\r",
      "85it [03:15,  2.29s/it]"
     ]
    },
    {
     "name": "stdout",
     "output_type": "stream",
     "text": [
      "(512,)\n",
      "/home/hice1/bpopper3/scratch/LLaVA_RAG/RAG_Pipeline/HANDMADE_QUESTIONS_PIPELINE/storage/UUlfKJ9M_pQ/frames/frame_5100.jpg\n",
      "1/2 cups of cream to this and I'm going to add the clamps so we're just going to mix all this we are going to Simply Heat this \n"
     ]
    },
    {
     "name": "stderr",
     "output_type": "stream",
     "text": [
      "\r",
      "86it [03:17,  2.28s/it]"
     ]
    },
    {
     "name": "stdout",
     "output_type": "stream",
     "text": [
      "(512,)\n",
      "/home/hice1/bpopper3/scratch/LLaVA_RAG/RAG_Pipeline/HANDMADE_QUESTIONS_PIPELINE/storage/UUlfKJ9M_pQ/frames/frame_5160.jpg\n",
      "and I'm going to add the clamps so we're just going to mix all this we are going to Simply Heat this through I'm not going to let this boil and to taste for \n"
     ]
    },
    {
     "name": "stderr",
     "output_type": "stream",
     "text": [
      "\r",
      "87it [03:19,  2.27s/it]"
     ]
    },
    {
     "name": "stdout",
     "output_type": "stream",
     "text": [
      "(512,)\n",
      "/home/hice1/bpopper3/scratch/LLaVA_RAG/RAG_Pipeline/HANDMADE_QUESTIONS_PIPELINE/storage/UUlfKJ9M_pQ/frames/frame_5220.jpg\n",
      "and I'm going to add the clamps so we're just going to mix all this we are going to Simply Heat this through I'm not going to let this boil and to taste for salt for me it's fine I will add pepper \n"
     ]
    },
    {
     "name": "stderr",
     "output_type": "stream",
     "text": [
      "\r",
      "88it [03:22,  2.28s/it]"
     ]
    },
    {
     "name": "stdout",
     "output_type": "stream",
     "text": [
      "(512,)\n",
      "/home/hice1/bpopper3/scratch/LLaVA_RAG/RAG_Pipeline/HANDMADE_QUESTIONS_PIPELINE/storage/UUlfKJ9M_pQ/frames/frame_5280.jpg\n",
      "and I'm going to add the clamps so we're just going to mix all this we are going to Simply Heat this through I'm not going to let this boil and to taste for salt for me it's fine I will add pepper \n"
     ]
    },
    {
     "name": "stderr",
     "output_type": "stream",
     "text": [
      "\r",
      "89it [03:24,  2.28s/it]"
     ]
    },
    {
     "name": "stdout",
     "output_type": "stream",
     "text": [
      "(512,)\n",
      "/home/hice1/bpopper3/scratch/LLaVA_RAG/RAG_Pipeline/HANDMADE_QUESTIONS_PIPELINE/storage/UUlfKJ9M_pQ/frames/frame_5340.jpg\n",
      "clamps so we're just going to mix all this we are going to Simply Heat this through I'm not going to let this boil and to taste for salt for me it's fine I will add pepper \n"
     ]
    },
    {
     "name": "stderr",
     "output_type": "stream",
     "text": [
      "\r",
      "90it [03:26,  2.28s/it]"
     ]
    },
    {
     "name": "stdout",
     "output_type": "stream",
     "text": [
      "(512,)\n",
      "/home/hice1/bpopper3/scratch/LLaVA_RAG/RAG_Pipeline/HANDMADE_QUESTIONS_PIPELINE/storage/UUlfKJ9M_pQ/frames/frame_5400.jpg\n",
      "clamps so we're just going to mix all this we are going to Simply Heat this through I'm not going to let this boil and to taste for salt for me it's fine I will add pepper \n"
     ]
    },
    {
     "name": "stderr",
     "output_type": "stream",
     "text": [
      "\r",
      "91it [03:28,  2.27s/it]"
     ]
    },
    {
     "name": "stdout",
     "output_type": "stream",
     "text": [
      "(512,)\n",
      "/home/hice1/bpopper3/scratch/LLaVA_RAG/RAG_Pipeline/HANDMADE_QUESTIONS_PIPELINE/storage/UUlfKJ9M_pQ/frames/frame_5460.jpg\n",
      "this we are going to Simply Heat this through I'm not going to let this boil and to taste for salt for me it's fine I will add pepper \n"
     ]
    },
    {
     "name": "stderr",
     "output_type": "stream",
     "text": [
      "\r",
      "92it [03:31,  2.26s/it]"
     ]
    },
    {
     "name": "stdout",
     "output_type": "stream",
     "text": [
      "(512,)\n",
      "/home/hice1/bpopper3/scratch/LLaVA_RAG/RAG_Pipeline/HANDMADE_QUESTIONS_PIPELINE/storage/UUlfKJ9M_pQ/frames/frame_5520.jpg\n",
      "through I'm not going to let this boil and to taste for salt for me it's fine I will add pepper as you can see I garnished this with \n"
     ]
    },
    {
     "name": "stderr",
     "output_type": "stream",
     "text": [
      "\r",
      "93it [03:33,  2.25s/it]"
     ]
    },
    {
     "name": "stdout",
     "output_type": "stream",
     "text": [
      "(512,)\n",
      "/home/hice1/bpopper3/scratch/LLaVA_RAG/RAG_Pipeline/HANDMADE_QUESTIONS_PIPELINE/storage/UUlfKJ9M_pQ/frames/frame_5580.jpg\n",
      "through I'm not going to let this boil and to taste for salt for me it's fine I will add pepper as you can see I garnished this with some bacon and now we are going to eat \n"
     ]
    },
    {
     "name": "stderr",
     "output_type": "stream",
     "text": [
      "\r",
      "94it [03:35,  2.25s/it]"
     ]
    },
    {
     "name": "stdout",
     "output_type": "stream",
     "text": [
      "(512,)\n",
      "/home/hice1/bpopper3/scratch/LLaVA_RAG/RAG_Pipeline/HANDMADE_QUESTIONS_PIPELINE/storage/UUlfKJ9M_pQ/frames/frame_5640.jpg\n",
      "salt for me it's fine I will add pepper as you can see I garnished this with some bacon and now we are going to eat dinner \n"
     ]
    },
    {
     "name": "stderr",
     "output_type": "stream",
     "text": [
      "\r",
      "95it [03:37,  2.24s/it]"
     ]
    },
    {
     "name": "stdout",
     "output_type": "stream",
     "text": [
      "(512,)\n",
      "/home/hice1/bpopper3/scratch/LLaVA_RAG/RAG_Pipeline/HANDMADE_QUESTIONS_PIPELINE/storage/UUlfKJ9M_pQ/frames/frame_5700.jpg\n",
      "as you can see I garnished this with some bacon and now we are going to eat dinner \n"
     ]
    },
    {
     "name": "stderr",
     "output_type": "stream",
     "text": [
      "\r",
      "96it [03:40,  2.23s/it]"
     ]
    },
    {
     "name": "stdout",
     "output_type": "stream",
     "text": [
      "(512,)\n",
      "/home/hice1/bpopper3/scratch/LLaVA_RAG/RAG_Pipeline/HANDMADE_QUESTIONS_PIPELINE/storage/UUlfKJ9M_pQ/frames/frame_5760.jpg\n",
      "as you can see I garnished this with some bacon and now we are going to eat dinner \n"
     ]
    },
    {
     "name": "stderr",
     "output_type": "stream",
     "text": [
      "\r",
      "97it [03:42,  2.22s/it]"
     ]
    },
    {
     "name": "stdout",
     "output_type": "stream",
     "text": [
      "(512,)\n",
      "/home/hice1/bpopper3/scratch/LLaVA_RAG/RAG_Pipeline/HANDMADE_QUESTIONS_PIPELINE/storage/UUlfKJ9M_pQ/frames/frame_5820.jpg\n",
      "as you can see I garnished this with some bacon and now we are going to eat dinner \n"
     ]
    },
    {
     "name": "stderr",
     "output_type": "stream",
     "text": [
      "\r",
      "98it [03:44,  2.21s/it]"
     ]
    },
    {
     "name": "stdout",
     "output_type": "stream",
     "text": [
      "(512,)\n",
      "/home/hice1/bpopper3/scratch/LLaVA_RAG/RAG_Pipeline/HANDMADE_QUESTIONS_PIPELINE/storage/UUlfKJ9M_pQ/frames/frame_5880.jpg\n",
      "as you can see I garnished this with some bacon and now we are going to eat dinner yeah ah yes this is one of my favorite \n"
     ]
    },
    {
     "name": "stderr",
     "output_type": "stream",
     "text": [
      "\r",
      "99it [03:46,  2.21s/it]"
     ]
    },
    {
     "name": "stdout",
     "output_type": "stream",
     "text": [
      "(512,)\n",
      "/home/hice1/bpopper3/scratch/LLaVA_RAG/RAG_Pipeline/HANDMADE_QUESTIONS_PIPELINE/storage/UUlfKJ9M_pQ/frames/frame_5940.jpg\n",
      "as you can see I garnished this with some bacon and now we are going to eat dinner yeah ah yes this is one of my favorite soups it's not health food so I don't \n"
     ]
    },
    {
     "name": "stderr",
     "output_type": "stream",
     "text": [
      "\r",
      "100it [03:48,  2.23s/it]"
     ]
    },
    {
     "name": "stdout",
     "output_type": "stream",
     "text": [
      "(512,)\n",
      "/home/hice1/bpopper3/scratch/LLaVA_RAG/RAG_Pipeline/HANDMADE_QUESTIONS_PIPELINE/storage/UUlfKJ9M_pQ/frames/frame_6000.jpg\n",
      "some bacon and now we are going to eat dinner yeah ah yes this is one of my favorite soups it's not health food so I don't eat it maybe once a year but boy is it \n"
     ]
    },
    {
     "name": "stderr",
     "output_type": "stream",
     "text": [
      "\r",
      "101it [03:51,  2.24s/it]"
     ]
    },
    {
     "name": "stdout",
     "output_type": "stream",
     "text": [
      "(512,)\n",
      "/home/hice1/bpopper3/scratch/LLaVA_RAG/RAG_Pipeline/HANDMADE_QUESTIONS_PIPELINE/storage/UUlfKJ9M_pQ/frames/frame_6060.jpg\n",
      "dinner yeah ah yes this is one of my favorite soups it's not health food so I don't eat it maybe once a year but boy is it \n"
     ]
    },
    {
     "name": "stderr",
     "output_type": "stream",
     "text": [
      "\r",
      "102it [03:53,  2.24s/it]"
     ]
    },
    {
     "name": "stdout",
     "output_type": "stream",
     "text": [
      "(512,)\n",
      "/home/hice1/bpopper3/scratch/LLaVA_RAG/RAG_Pipeline/HANDMADE_QUESTIONS_PIPELINE/storage/UUlfKJ9M_pQ/frames/frame_6120.jpg\n",
      "yeah ah yes this is one of my favorite soups it's not health food so I don't eat it maybe once a year but boy is it good this is very very very nice you \n"
     ]
    },
    {
     "name": "stderr",
     "output_type": "stream",
     "text": [
      "\r",
      "103it [03:55,  2.24s/it]"
     ]
    },
    {
     "name": "stdout",
     "output_type": "stream",
     "text": [
      "(512,)\n",
      "/home/hice1/bpopper3/scratch/LLaVA_RAG/RAG_Pipeline/HANDMADE_QUESTIONS_PIPELINE/storage/UUlfKJ9M_pQ/frames/frame_6180.jpg\n",
      "yeah ah yes this is one of my favorite soups it's not health food so I don't eat it maybe once a year but boy is it good this is very very very nice you know super easy to make elegant enough \n"
     ]
    },
    {
     "name": "stderr",
     "output_type": "stream",
     "text": [
      "\r",
      "104it [03:57,  2.25s/it]"
     ]
    },
    {
     "name": "stdout",
     "output_type": "stream",
     "text": [
      "(512,)\n",
      "/home/hice1/bpopper3/scratch/LLaVA_RAG/RAG_Pipeline/HANDMADE_QUESTIONS_PIPELINE/storage/UUlfKJ9M_pQ/frames/frame_6240.jpg\n",
      "yeah ah yes this is one of my favorite soups it's not health food so I don't eat it maybe once a year but boy is it good this is very very very nice you know super easy to make elegant enough to have for when you have guests over \n"
     ]
    },
    {
     "name": "stderr",
     "output_type": "stream",
     "text": [
      "\r",
      "105it [04:00,  2.27s/it]"
     ]
    },
    {
     "name": "stdout",
     "output_type": "stream",
     "text": [
      "(512,)\n",
      "/home/hice1/bpopper3/scratch/LLaVA_RAG/RAG_Pipeline/HANDMADE_QUESTIONS_PIPELINE/storage/UUlfKJ9M_pQ/frames/frame_6300.jpg\n",
      "yeah ah yes this is one of my favorite soups it's not health food so I don't eat it maybe once a year but boy is it good this is very very very nice you know super easy to make elegant enough to have for when you have guests over it's also a great little week night \n"
     ]
    },
    {
     "name": "stderr",
     "output_type": "stream",
     "text": [
      "\r",
      "106it [04:02,  2.32s/it]"
     ]
    },
    {
     "name": "stdout",
     "output_type": "stream",
     "text": [
      "(512,)\n",
      "/home/hice1/bpopper3/scratch/LLaVA_RAG/RAG_Pipeline/HANDMADE_QUESTIONS_PIPELINE/storage/UUlfKJ9M_pQ/frames/frame_6360.jpg\n",
      "soups it's not health food so I don't eat it maybe once a year but boy is it good this is very very very nice you know super easy to make elegant enough to have for when you have guests over it's also a great little week night dinner by the way this Bread is made by \n"
     ]
    },
    {
     "name": "stderr",
     "output_type": "stream",
     "text": [
      "\r",
      "107it [04:04,  2.32s/it]"
     ]
    },
    {
     "name": "stdout",
     "output_type": "stream",
     "text": [
      "(512,)\n",
      "/home/hice1/bpopper3/scratch/LLaVA_RAG/RAG_Pipeline/HANDMADE_QUESTIONS_PIPELINE/storage/UUlfKJ9M_pQ/frames/frame_6420.jpg\n",
      "eat it maybe once a year but boy is it good this is very very very nice you know super easy to make elegant enough to have for when you have guests over it's also a great little week night dinner by the way this Bread is made by my friend Mercedes here and she's going \n"
     ]
    },
    {
     "name": "stderr",
     "output_type": "stream",
     "text": [
      "\r",
      "108it [04:07,  2.31s/it]"
     ]
    },
    {
     "name": "stdout",
     "output_type": "stream",
     "text": [
      "(512,)\n",
      "/home/hice1/bpopper3/scratch/LLaVA_RAG/RAG_Pipeline/HANDMADE_QUESTIONS_PIPELINE/storage/UUlfKJ9M_pQ/frames/frame_6480.jpg\n",
      "good this is very very very nice you know super easy to make elegant enough to have for when you have guests over it's also a great little week night dinner by the way this Bread is made by my friend Mercedes here and she's going to be making a video with us in a few \n"
     ]
    },
    {
     "name": "stderr",
     "output_type": "stream",
     "text": [
      "\r",
      "109it [04:09,  2.31s/it]"
     ]
    },
    {
     "name": "stdout",
     "output_type": "stream",
     "text": [
      "(512,)\n",
      "/home/hice1/bpopper3/scratch/LLaVA_RAG/RAG_Pipeline/HANDMADE_QUESTIONS_PIPELINE/storage/UUlfKJ9M_pQ/frames/frame_6540.jpg\n",
      "good this is very very very nice you know super easy to make elegant enough to have for when you have guests over it's also a great little week night dinner by the way this Bread is made by my friend Mercedes here and she's going to be making a video with us in a few weeks so that I can show you how to make \n"
     ]
    },
    {
     "name": "stderr",
     "output_type": "stream",
     "text": [
      "\r",
      "110it [04:11,  2.32s/it]"
     ]
    },
    {
     "name": "stdout",
     "output_type": "stream",
     "text": [
      "(512,)\n",
      "/home/hice1/bpopper3/scratch/LLaVA_RAG/RAG_Pipeline/HANDMADE_QUESTIONS_PIPELINE/storage/UUlfKJ9M_pQ/frames/frame_6600.jpg\n",
      "know super easy to make elegant enough to have for when you have guests over it's also a great little week night dinner by the way this Bread is made by my friend Mercedes here and she's going to be making a video with us in a few weeks so that I can show you how to make this we're going to make these into little rolls delicious thank you for \n"
     ]
    },
    {
     "name": "stderr",
     "output_type": "stream",
     "text": [
      "\r",
      "111it [04:14,  2.34s/it]"
     ]
    },
    {
     "name": "stdout",
     "output_type": "stream",
     "text": [
      "(512,)\n",
      "/home/hice1/bpopper3/scratch/LLaVA_RAG/RAG_Pipeline/HANDMADE_QUESTIONS_PIPELINE/storage/UUlfKJ9M_pQ/frames/frame_6660.jpg\n",
      "to have for when you have guests over it's also a great little week night dinner by the way this Bread is made by my friend Mercedes here and she's going to be making a video with us in a few weeks so that I can show you how to make this we're going to make these into little rolls delicious thank you for watching this video I appreciate it a \n"
     ]
    },
    {
     "name": "stderr",
     "output_type": "stream",
     "text": [
      "\r",
      "112it [04:16,  2.35s/it]"
     ]
    },
    {
     "name": "stdout",
     "output_type": "stream",
     "text": [
      "(512,)\n",
      "/home/hice1/bpopper3/scratch/LLaVA_RAG/RAG_Pipeline/HANDMADE_QUESTIONS_PIPELINE/storage/UUlfKJ9M_pQ/frames/frame_6720.jpg\n",
      "it's also a great little week night dinner by the way this Bread is made by my friend Mercedes here and she's going to be making a video with us in a few weeks so that I can show you how to make this we're going to make these into little rolls delicious thank you for watching this video I appreciate it a lot if you like it and you give me a \n"
     ]
    },
    {
     "name": "stderr",
     "output_type": "stream",
     "text": [
      "\r",
      "113it [04:19,  2.36s/it]"
     ]
    },
    {
     "name": "stdout",
     "output_type": "stream",
     "text": [
      "(512,)\n",
      "/home/hice1/bpopper3/scratch/LLaVA_RAG/RAG_Pipeline/HANDMADE_QUESTIONS_PIPELINE/storage/UUlfKJ9M_pQ/frames/frame_6780.jpg\n",
      "dinner by the way this Bread is made by my friend Mercedes here and she's going to be making a video with us in a few weeks so that I can show you how to make this we're going to make these into little rolls delicious thank you for watching this video I appreciate it a lot if you like it and you give me a like thank you if you share it with your \n"
     ]
    },
    {
     "name": "stderr",
     "output_type": "stream",
     "text": [
      "\r",
      "114it [04:21,  2.37s/it]"
     ]
    },
    {
     "name": "stdout",
     "output_type": "stream",
     "text": [
      "(512,)\n",
      "/home/hice1/bpopper3/scratch/LLaVA_RAG/RAG_Pipeline/HANDMADE_QUESTIONS_PIPELINE/storage/UUlfKJ9M_pQ/frames/frame_6840.jpg\n",
      "my friend Mercedes here and she's going to be making a video with us in a few weeks so that I can show you how to make this we're going to make these into little rolls delicious thank you for watching this video I appreciate it a lot if you like it and you give me a like thank you if you share it with your friends and you sub and you comment \n"
     ]
    },
    {
     "name": "stderr",
     "output_type": "stream",
     "text": [
      "\r",
      "115it [04:23,  2.37s/it]"
     ]
    },
    {
     "name": "stdout",
     "output_type": "stream",
     "text": [
      "(512,)\n",
      "/home/hice1/bpopper3/scratch/LLaVA_RAG/RAG_Pipeline/HANDMADE_QUESTIONS_PIPELINE/storage/UUlfKJ9M_pQ/frames/frame_6900.jpg\n",
      "to be making a video with us in a few weeks so that I can show you how to make this we're going to make these into little rolls delicious thank you for watching this video I appreciate it a lot if you like it and you give me a like thank you if you share it with your friends and you sub and you comment thank you thank you thank you I really really appreciate it you have no idea \n"
     ]
    },
    {
     "name": "stderr",
     "output_type": "stream",
     "text": [
      "\r",
      "116it [04:26,  2.38s/it]"
     ]
    },
    {
     "name": "stdout",
     "output_type": "stream",
     "text": [
      "(512,)\n",
      "/home/hice1/bpopper3/scratch/LLaVA_RAG/RAG_Pipeline/HANDMADE_QUESTIONS_PIPELINE/storage/UUlfKJ9M_pQ/frames/frame_6960.jpg\n",
      "weeks so that I can show you how to make this we're going to make these into little rolls delicious thank you for watching this video I appreciate it a lot if you like it and you give me a like thank you if you share it with your friends and you sub and you comment thank you thank you thank you I really really appreciate it you have no idea how much I appre appreciate your support \n"
     ]
    },
    {
     "name": "stderr",
     "output_type": "stream",
     "text": [
      "\r",
      "117it [04:28,  2.38s/it]"
     ]
    },
    {
     "name": "stdout",
     "output_type": "stream",
     "text": [
      "(512,)\n",
      "/home/hice1/bpopper3/scratch/LLaVA_RAG/RAG_Pipeline/HANDMADE_QUESTIONS_PIPELINE/storage/UUlfKJ9M_pQ/frames/frame_7020.jpg\n",
      "this we're going to make these into little rolls delicious thank you for watching this video I appreciate it a lot if you like it and you give me a like thank you if you share it with your friends and you sub and you comment thank you thank you thank you I really really appreciate it you have no idea how much I appre appreciate your support a lot thank you I will have this recipe \n"
     ]
    },
    {
     "name": "stderr",
     "output_type": "stream",
     "text": [
      "\r",
      "118it [04:31,  2.39s/it]"
     ]
    },
    {
     "name": "stdout",
     "output_type": "stream",
     "text": [
      "(512,)\n",
      "/home/hice1/bpopper3/scratch/LLaVA_RAG/RAG_Pipeline/HANDMADE_QUESTIONS_PIPELINE/storage/UUlfKJ9M_pQ/frames/frame_7080.jpg\n",
      "watching this video I appreciate it a lot if you like it and you give me a like thank you if you share it with your friends and you sub and you comment thank you thank you thank you I really really appreciate it you have no idea how much I appre appreciate your support a lot thank you I will have this recipe on the website ready for you guys to \n"
     ]
    },
    {
     "name": "stderr",
     "output_type": "stream",
     "text": [
      "\r",
      "119it [04:33,  2.38s/it]"
     ]
    },
    {
     "name": "stdout",
     "output_type": "stream",
     "text": [
      "(512,)\n",
      "/home/hice1/bpopper3/scratch/LLaVA_RAG/RAG_Pipeline/HANDMADE_QUESTIONS_PIPELINE/storage/UUlfKJ9M_pQ/frames/frame_7140.jpg\n",
      "lot if you like it and you give me a like thank you if you share it with your friends and you sub and you comment thank you thank you thank you I really really appreciate it you have no idea how much I appre appreciate your support a lot thank you I will have this recipe on the website ready for you guys to come and print it in the meantime eat \n"
     ]
    },
    {
     "name": "stderr",
     "output_type": "stream",
     "text": [
      "\r",
      "120it [04:35,  2.38s/it]"
     ]
    },
    {
     "name": "stdout",
     "output_type": "stream",
     "text": [
      "(512,)\n",
      "/home/hice1/bpopper3/scratch/LLaVA_RAG/RAG_Pipeline/HANDMADE_QUESTIONS_PIPELINE/storage/UUlfKJ9M_pQ/frames/frame_7200.jpg\n",
      "like thank you if you share it with your friends and you sub and you comment thank you thank you thank you I really really appreciate it you have no idea how much I appre appreciate your support a lot thank you I will have this recipe on the website ready for you guys to come and print it in the meantime eat well without going broke I'm going to see you guys soon \n"
     ]
    },
    {
     "name": "stderr",
     "output_type": "stream",
     "text": [
      "\r",
      "121it [04:38,  2.38s/it]"
     ]
    },
    {
     "name": "stdout",
     "output_type": "stream",
     "text": [
      "(512,)\n",
      "/home/hice1/bpopper3/scratch/LLaVA_RAG/RAG_Pipeline/HANDMADE_QUESTIONS_PIPELINE/storage/UUlfKJ9M_pQ/frames/frame_7260.jpg\n",
      "friends and you sub and you comment thank you thank you thank you I really really appreciate it you have no idea how much I appre appreciate your support a lot thank you I will have this recipe on the website ready for you guys to come and print it in the meantime eat well without going broke I'm going to see you guys soon \n"
     ]
    },
    {
     "name": "stderr",
     "output_type": "stream",
     "text": [
      "\r",
      "122it [04:40,  2.37s/it]"
     ]
    },
    {
     "name": "stdout",
     "output_type": "stream",
     "text": [
      "(512,)\n",
      "/home/hice1/bpopper3/scratch/LLaVA_RAG/RAG_Pipeline/HANDMADE_QUESTIONS_PIPELINE/storage/UUlfKJ9M_pQ/frames/frame_7320.jpg\n",
      "thank you thank you thank you I really really appreciate it you have no idea how much I appre appreciate your support a lot thank you I will have this recipe on the website ready for you guys to come and print it in the meantime eat well without going broke I'm going to see you guys soon \n"
     ]
    },
    {
     "name": "stderr",
     "output_type": "stream",
     "text": [
      "\r",
      "123it [04:42,  2.35s/it]"
     ]
    },
    {
     "name": "stdout",
     "output_type": "stream",
     "text": [
      "(512,)\n",
      "/home/hice1/bpopper3/scratch/LLaVA_RAG/RAG_Pipeline/HANDMADE_QUESTIONS_PIPELINE/storage/UUlfKJ9M_pQ/frames/frame_7380.jpg\n",
      "how much I appre appreciate your support a lot thank you I will have this recipe on the website ready for you guys to come and print it in the meantime eat well without going broke I'm going to see you guys soon \n"
     ]
    },
    {
     "name": "stderr",
     "output_type": "stream",
     "text": [
      "\r",
      "124it [04:45,  2.33s/it]"
     ]
    },
    {
     "name": "stdout",
     "output_type": "stream",
     "text": [
      "(512,)\n",
      "/home/hice1/bpopper3/scratch/LLaVA_RAG/RAG_Pipeline/HANDMADE_QUESTIONS_PIPELINE/storage/UUlfKJ9M_pQ/frames/frame_7440.jpg\n",
      "a lot thank you I will have this recipe on the website ready for you guys to come and print it in the meantime eat well without going broke I'm going to see you guys soon \n"
     ]
    },
    {
     "name": "stderr",
     "output_type": "stream",
     "text": [
      "\r",
      "125it [04:47,  2.30s/it]"
     ]
    },
    {
     "name": "stdout",
     "output_type": "stream",
     "text": [
      "(512,)\n",
      "/home/hice1/bpopper3/scratch/LLaVA_RAG/RAG_Pipeline/HANDMADE_QUESTIONS_PIPELINE/storage/UUlfKJ9M_pQ/frames/frame_7500.jpg\n",
      "on the website ready for you guys to come and print it in the meantime eat well without going broke I'm going to see you guys soon \n"
     ]
    },
    {
     "name": "stderr",
     "output_type": "stream",
     "text": [
      "126it [04:49,  2.30s/it]"
     ]
    },
    {
     "name": "stdout",
     "output_type": "stream",
     "text": [
      "(512,)\n",
      "saved faiss index\n"
     ]
    },
    {
     "name": "stderr",
     "output_type": "stream",
     "text": [
      "\n"
     ]
    }
   ],
   "source": [
    "\n",
    "import json\n",
    "import os\n",
    "import numpy as np\n",
    "from numpy.linalg import norm\n",
    "import cv2\n",
    "import pandas as pd\n",
    "from tqdm import tqdm\n",
    "from transformers import BridgeTowerProcessor, BridgeTowerForContrastiveLearning\n",
    "from PIL import Image\n",
    "from transformers import LlavaNextProcessor, LlavaNextForConditionalGeneration\n",
    "import torch\n",
    "from PIL import Image\n",
    "import requests\n",
    "from termcolor import cprint\n",
    "import faiss\n",
    "import pandas as pd\n",
    "\n",
    "base_path = '/home/hice1/bpopper3/scratch/LLaVA_RAG/RAG_Pipeline/HANDMADE_QUESTIONS_PIPELINE/storage'\n",
    "\n",
    "processor = BridgeTowerProcessor.from_pretrained(\"BridgeTower/bridgetower-large-itm-mlm-itc\",cache_dir=\"/home/hice1/bpopper3/scratch/hug_face_files/hub_cache\")\n",
    "model = BridgeTowerForContrastiveLearning.from_pretrained(\"BridgeTower/bridgetower-large-itm-mlm-itc\",cache_dir=\"/home/hice1/bpopper3/scratch/hug_face_files/hub_cache\")\n",
    "\n",
    "\n",
    "def encode_single_image_text(image_path, text):\n",
    "    print(image_path)\n",
    "    print(text)\n",
    "    image = Image.open(image_path)\n",
    "    encoding = processor(image, text, return_tensors=\"pt\")\n",
    "    outputs = model(**encoding)\n",
    "    return outputs['cross_embeds'].detach().numpy()\n",
    "\n",
    "\n",
    "\n",
    "\n",
    "\n",
    "for URL in ALL_URLS:\n",
    "    input_folder = f\"{base_path}/{URL}\"\n",
    "    \n",
    "    \n",
    "        #load ./paired_image_data.csv\n",
    "    df_mapping = pd.read_csv(f'{input_folder}/image_transcript_mapping.csv')\n",
    "    #rows :             index,image_path,transcript_text,timestamp\n",
    "\n",
    "    #create empty FAISS index\n",
    "    \n",
    "\n",
    "    # Create embeddings for each row\n",
    "    embeddings = np.zeros((len(df_mapping), 512))\n",
    "    for _, row in tqdm(df_mapping.iterrows()):\n",
    "\n",
    "\n",
    "        embedding = encode_single_image_text(row['image_path'], row['transcript_text'])\n",
    "        #reshape to (512,)\n",
    "        embedding = embedding.reshape(512)\n",
    "        embeddings[row['index'],:] = embedding\n",
    "\n",
    "        print(embedding.shape)\n",
    "\n",
    "    # Initialize FAISS index\n",
    "    dimension = 512  # dimension of your embeddings\n",
    "    index = faiss.IndexFlatL2(dimension)\n",
    "\n",
    "    # Add embeddings to the FAISS index\n",
    "    index.add(embeddings)\n",
    "\n",
    "    # Create a mapping between FAISS ids and dataframe indices\n",
    "    id_to_index = {i: idx for i, idx in enumerate(df_mapping.index)}\n",
    "\n",
    "    # Save the FAISS index\n",
    "    faiss.write_index(index, f\"{input_folder}/faiss_database.bin\")\n",
    "    print('saved faiss index')"
   ]
  },
  {
   "cell_type": "markdown",
   "metadata": {},
   "source": [
    "## Step 3 : Chat with FAISS Db as RAG"
   ]
  },
  {
   "cell_type": "code",
   "execution_count": 5,
   "metadata": {},
   "outputs": [],
   "source": [
    "import faiss\n",
    "import numpy as np\n",
    "import pandas as pd\n",
    "import matplotlib.pyplot as plt\n",
    "import numpy as np\n",
    "from numpy.linalg import norm\n",
    "import pandas as pd\n",
    "from tqdm import tqdm\n",
    "from transformers import BridgeTowerProcessor, BridgeTowerForContrastiveLearning\n",
    "from PIL import Image\n",
    "from transformers import LlavaNextProcessor, LlavaNextForConditionalGeneration\n",
    "from PIL import Image\n",
    "from termcolor import cprint\n",
    "import pandas as pd\n",
    "os.environ[\"HUGGINGFACE_HUB_CACHE\"] = \"/home/hice1/bpopper3/scratch/hug_face_files/hub_cache\"\n",
    "os.environ[\"HF_HOME\"] = \"/home/hice1/bpopper3/scratch/hug_face_files/hf_home\"\n",
    "\n",
    "#by default dont load if not needed\n",
    "processor = None\n",
    "model = None\n",
    "is_loaded = False\n",
    "def load_bridgetower():\n",
    "    global index\n",
    "    global df\n",
    "    global is_loaded\n",
    "    if is_loaded == False:\n",
    "        print('loading BRIDGETOWER ##############################################################')\n",
    "        is_loaded = True\n",
    "        global processor\n",
    "        global model\n",
    "        processor = BridgeTowerProcessor.from_pretrained(\"BridgeTower/bridgetower-large-itm-mlm-itc\",cache_dir=os.getenv(\"HUGGINGFACE_HUB_CACHE\"))\n",
    "        model = BridgeTowerForContrastiveLearning.from_pretrained(\"BridgeTower/bridgetower-large-itm-mlm-itc\",cache_dir=os.getenv(\"HUGGINGFACE_HUB_CACHE\"))\n",
    "\n",
    "\n",
    "def encode_text_query(text):\n",
    "    global index\n",
    "    global df\n",
    "    if not is_loaded:\n",
    "        load_bridgetower()\n",
    "    #create random Image 32x32\n",
    "    image = Image.fromarray(np.random.randint(0,255,(32,32,3),dtype=np.uint8))\n",
    "    encoding = processor(image, text, return_tensors=\"pt\")\n",
    "    outputs = model(**encoding)\n",
    "    #reshape to (512,)\n",
    "\n",
    "    return outputs['text_embeds'].detach().numpy().reshape(-1)\n",
    "\n",
    "\n",
    "def get_n_closest_index(embedding,n):\n",
    "    global index\n",
    "    global df\n",
    "    D, I = index.search(np.array([embedding]), n)\n",
    "    #I[0] has the indexes of the n closest images\n",
    "    return I[0]\n",
    "\n",
    "def set_index(folder_path):\n",
    "    global index\n",
    "    global df\n",
    "    index = faiss.read_index(folder_path+'/faiss_database.bin')\n",
    "    df = pd.read_csv(folder_path+'/image_transcript_mapping.csv')\n",
    "\n"
   ]
  },
  {
   "cell_type": "code",
   "execution_count": 6,
   "metadata": {},
   "outputs": [],
   "source": [
    "def return_image_and_enhanced_query(question,answer_a,answer_b,answer_c,answer_d,folder_path):\n",
    "    global index\n",
    "    global df\n",
    "    set_index(folder_path)\n",
    "    text_embedding = encode_text_query(question)\n",
    "    \n",
    "    #return query with 1 closest image/text pair to enhance the query\n",
    "\n",
    "    closest_index = get_n_closest_index(text_embedding,1)\n",
    "    print(f\"Closest index is {closest_index[0]} for query '{question}'\")\n",
    "    return create_enhanced_conversation(df.iloc[closest_index[0]]['transcript_text'],question,Image.open(df.iloc[closest_index[0]]['image_path']),answer_a,answer_b,answer_c,answer_d)\n",
    "\n",
    "\n",
    "def create_enhanced_conversation(textt,question,image,answer_a,answer_b,answer_c,answer_d):\n",
    "    global index\n",
    "    global df\n",
    "    \n",
    "    return [{\n",
    "        \"role\": \"user\",\n",
    "        \"content\": [\n",
    "            {\"type\": \"text\", \"text\" : f\"\"\"Please answer this question : 'What is 2+2'\n",
    "            This transcript can also help you answer : 'Addition is a mathematical commutative operation that' .\n",
    "            It is possible that the image helps you answer the question, but it is possible that it does not\n",
    "            Answer A: 4\n",
    "            Answer B: 6\n",
    "            Answer C: 9\n",
    "            Answer D: 12\"\"\"}\n",
    "        ],\n",
    "    },\n",
    "    {\n",
    "        \"role\": \"assistant\",\n",
    "        \"content\": [\n",
    "   \n",
    "            {\"type\": \"text\", \"text\" : \"A\"}\n",
    "        ],\n",
    "    },\n",
    "    {\n",
    "        \"role\": \"user\",\n",
    "        \"content\": [\n",
    "            {\"type\": \"image\"},\n",
    "            {\"type\": \"text\", \"text\" : f\"\"\"Please answer this question : '{question}'\n",
    "            This transcript can also help you answer : '{textt}' .\n",
    "            It is possible that the image helps you answer the question, but it is possible that it does not\n",
    "            Answer A: {answer_a}\n",
    "            Answer B: {answer_b}\n",
    "            Answer C: {answer_c}\n",
    "            Answer D: {answer_d}\"\"\"}\n",
    "        ],\n",
    "    }],image"
   ]
  },
  {
   "cell_type": "code",
   "execution_count": 7,
   "metadata": {},
   "outputs": [
    {
     "name": "stdout",
     "output_type": "stream",
     "text": [
      "beginning to load LLaVA\n"
     ]
    },
    {
     "name": "stderr",
     "output_type": "stream",
     "text": [
      "Some kwargs in processor config are unused and will not have any effect: num_additional_image_tokens. \n",
      "Loading checkpoint shards: 100%|██████████| 4/4 [00:29<00:00,  7.31s/it]\n"
     ]
    }
   ],
   "source": [
    "#This script loads LLaVA so it's on a big GPU\n",
    "import json\n",
    "import os\n",
    "import numpy as np\n",
    "from numpy.linalg import norm\n",
    "import cv2\n",
    "import pandas as pd\n",
    "from tqdm import tqdm\n",
    "from transformers import BridgeTowerProcessor, BridgeTowerForContrastiveLearning\n",
    "from PIL import Image\n",
    "from transformers import LlavaNextProcessor, LlavaNextForConditionalGeneration\n",
    "import torch\n",
    "from PIL import Image\n",
    "import requests\n",
    "from termcolor import cprint\n",
    "\n",
    "os.environ[\"HUGGINGFACE_HUB_CACHE\"] = \"/home/hice1/bpopper3/scratch/hug_face_files/hub_cache\"\n",
    "os.environ[\"HF_HOME\"] = \"/home/hice1/bpopper3/scratch/hug_face_files/hf_home\"\n",
    "\n",
    "\n",
    "\n",
    "########################## LOADING LLAVA ##########################\n",
    "\n",
    "\n",
    "print(\"beginning to load LLaVA\")\n",
    "#load on cuda:0\n",
    "\n",
    "llava_processor = LlavaNextProcessor.from_pretrained(\"llava-hf/llava-v1.6-mistral-7b-hf\", device=\"cuda:0\",cache_dir=os.getenv(\"HUGGINGFACE_HUB_CACHE\"))\n",
    "\n",
    "\n",
    "from transformers import LlavaNextForConditionalGeneration, BitsAndBytesConfig\n",
    "\n",
    "# specify how to quantize the model\n",
    "quantization_config = BitsAndBytesConfig(\n",
    "    load_in_4bit=True,\n",
    "    bnb_4bit_quant_type=\"nf4\",\n",
    "    bnb_4bit_compute_dtype=torch.float16,\n",
    ")\n",
    "\n",
    "llava_model = LlavaNextForConditionalGeneration.from_pretrained(\"llava-hf/llava-v1.6-mistral-7b-hf\", quantization_config=quantization_config, device_map=\"auto\",cache_dir=os.getenv(\"HUGGINGFACE_HUB_CACHE\"))\n"
   ]
  },
  {
   "cell_type": "code",
   "execution_count": 18,
   "metadata": {},
   "outputs": [
    {
     "name": "stdout",
     "output_type": "stream",
     "text": [
      "test\n"
     ]
    }
   ],
   "source": [
    "print('test')"
   ]
  },
  {
   "cell_type": "code",
   "execution_count": 13,
   "metadata": {},
   "outputs": [
    {
     "name": "stdout",
     "output_type": "stream",
     "text": [
      "Index(['VideoID', 'Question', 'Answer1 (corr)', 'Answer2', 'Answer3',\n",
      "       'Answer4', 'youtubeURL', 'Unnamed: 7', 'Unnamed: 8',\n",
      "       'https://www.youtube.com/watch?v=', 'Unnamed: 10'],\n",
      "      dtype='object')\n"
     ]
    }
   ],
   "source": [
    "print(df_questions.keys())"
   ]
  },
  {
   "cell_type": "code",
   "execution_count": 19,
   "metadata": {},
   "outputs": [
    {
     "data": {
      "text/html": [
       "<div>\n",
       "<style scoped>\n",
       "    .dataframe tbody tr th:only-of-type {\n",
       "        vertical-align: middle;\n",
       "    }\n",
       "\n",
       "    .dataframe tbody tr th {\n",
       "        vertical-align: top;\n",
       "    }\n",
       "\n",
       "    .dataframe thead th {\n",
       "        text-align: right;\n",
       "    }\n",
       "</style>\n",
       "<table border=\"1\" class=\"dataframe\">\n",
       "  <thead>\n",
       "    <tr style=\"text-align: right;\">\n",
       "      <th></th>\n",
       "      <th>index</th>\n",
       "      <th>image_path</th>\n",
       "      <th>transcript_text</th>\n",
       "      <th>timestamp</th>\n",
       "    </tr>\n",
       "  </thead>\n",
       "  <tbody>\n",
       "    <tr>\n",
       "      <th>0</th>\n",
       "      <td>0</td>\n",
       "      <td>/home/hice1/bpopper3/scratch/LLaVA_RAG/RAG_Pip...</td>\n",
       "      <td>[Music]</td>\n",
       "      <td>0.0000</td>\n",
       "    </tr>\n",
       "    <tr>\n",
       "      <th>1</th>\n",
       "      <td>1</td>\n",
       "      <td>/home/hice1/bpopper3/scratch/LLaVA_RAG/RAG_Pip...</td>\n",
       "      <td>[Music]</td>\n",
       "      <td>2.5025</td>\n",
       "    </tr>\n",
       "    <tr>\n",
       "      <th>2</th>\n",
       "      <td>2</td>\n",
       "      <td>/home/hice1/bpopper3/scratch/LLaVA_RAG/RAG_Pip...</td>\n",
       "      <td>[Music] first thing we're going to do is uh cook</td>\n",
       "      <td>5.0050</td>\n",
       "    </tr>\n",
       "    <tr>\n",
       "      <th>3</th>\n",
       "      <td>3</td>\n",
       "      <td>/home/hice1/bpopper3/scratch/LLaVA_RAG/RAG_Pip...</td>\n",
       "      <td>[Music] first thing we're going to do is uh co...</td>\n",
       "      <td>7.5075</td>\n",
       "    </tr>\n",
       "    <tr>\n",
       "      <th>4</th>\n",
       "      <td>4</td>\n",
       "      <td>/home/hice1/bpopper3/scratch/LLaVA_RAG/RAG_Pip...</td>\n",
       "      <td>first thing we're going to do is uh cook some ...</td>\n",
       "      <td>10.0100</td>\n",
       "    </tr>\n",
       "    <tr>\n",
       "      <th>...</th>\n",
       "      <td>...</td>\n",
       "      <td>...</td>\n",
       "      <td>...</td>\n",
       "      <td>...</td>\n",
       "    </tr>\n",
       "    <tr>\n",
       "      <th>121</th>\n",
       "      <td>121</td>\n",
       "      <td>/home/hice1/bpopper3/scratch/LLaVA_RAG/RAG_Pip...</td>\n",
       "      <td>friends and you sub and you comment thank you ...</td>\n",
       "      <td>302.8025</td>\n",
       "    </tr>\n",
       "    <tr>\n",
       "      <th>122</th>\n",
       "      <td>122</td>\n",
       "      <td>/home/hice1/bpopper3/scratch/LLaVA_RAG/RAG_Pip...</td>\n",
       "      <td>thank you thank you thank you I really really ...</td>\n",
       "      <td>305.3050</td>\n",
       "    </tr>\n",
       "    <tr>\n",
       "      <th>123</th>\n",
       "      <td>123</td>\n",
       "      <td>/home/hice1/bpopper3/scratch/LLaVA_RAG/RAG_Pip...</td>\n",
       "      <td>how much I appre appreciate your support a lot...</td>\n",
       "      <td>307.8075</td>\n",
       "    </tr>\n",
       "    <tr>\n",
       "      <th>124</th>\n",
       "      <td>124</td>\n",
       "      <td>/home/hice1/bpopper3/scratch/LLaVA_RAG/RAG_Pip...</td>\n",
       "      <td>a lot thank you I will have this recipe on the...</td>\n",
       "      <td>310.3100</td>\n",
       "    </tr>\n",
       "    <tr>\n",
       "      <th>125</th>\n",
       "      <td>125</td>\n",
       "      <td>/home/hice1/bpopper3/scratch/LLaVA_RAG/RAG_Pip...</td>\n",
       "      <td>on the website ready for you guys to come and ...</td>\n",
       "      <td>312.8125</td>\n",
       "    </tr>\n",
       "  </tbody>\n",
       "</table>\n",
       "<p>126 rows × 4 columns</p>\n",
       "</div>"
      ],
      "text/plain": [
       "     index                                         image_path  \\\n",
       "0        0  /home/hice1/bpopper3/scratch/LLaVA_RAG/RAG_Pip...   \n",
       "1        1  /home/hice1/bpopper3/scratch/LLaVA_RAG/RAG_Pip...   \n",
       "2        2  /home/hice1/bpopper3/scratch/LLaVA_RAG/RAG_Pip...   \n",
       "3        3  /home/hice1/bpopper3/scratch/LLaVA_RAG/RAG_Pip...   \n",
       "4        4  /home/hice1/bpopper3/scratch/LLaVA_RAG/RAG_Pip...   \n",
       "..     ...                                                ...   \n",
       "121    121  /home/hice1/bpopper3/scratch/LLaVA_RAG/RAG_Pip...   \n",
       "122    122  /home/hice1/bpopper3/scratch/LLaVA_RAG/RAG_Pip...   \n",
       "123    123  /home/hice1/bpopper3/scratch/LLaVA_RAG/RAG_Pip...   \n",
       "124    124  /home/hice1/bpopper3/scratch/LLaVA_RAG/RAG_Pip...   \n",
       "125    125  /home/hice1/bpopper3/scratch/LLaVA_RAG/RAG_Pip...   \n",
       "\n",
       "                                       transcript_text  timestamp  \n",
       "0                                             [Music]      0.0000  \n",
       "1                                             [Music]      2.5025  \n",
       "2    [Music] first thing we're going to do is uh cook      5.0050  \n",
       "3    [Music] first thing we're going to do is uh co...     7.5075  \n",
       "4    first thing we're going to do is uh cook some ...    10.0100  \n",
       "..                                                 ...        ...  \n",
       "121  friends and you sub and you comment thank you ...   302.8025  \n",
       "122  thank you thank you thank you I really really ...   305.3050  \n",
       "123  how much I appre appreciate your support a lot...   307.8075  \n",
       "124  a lot thank you I will have this recipe on the...   310.3100  \n",
       "125  on the website ready for you guys to come and ...   312.8125  \n",
       "\n",
       "[126 rows x 4 columns]"
      ]
     },
     "execution_count": 19,
     "metadata": {},
     "output_type": "execute_result"
    }
   ],
   "source": [
    "df_questions"
   ]
  },
  {
   "cell_type": "code",
   "execution_count": 26,
   "metadata": {},
   "outputs": [
    {
     "name": "stdout",
     "output_type": "stream",
     "text": [
      "A : Blue\n",
      "B : Black\n",
      "C : Red\n",
      "D : Green\n",
      "Closest index is 65 for query 'What color is the spatula on the cutting board?'\n",
      "Question: What color is the spatula on the cutting board?\n",
      "B\n",
      "Top Answer: B / Black\n",
      "correct answer : Green\n",
      "INCORRECT\n",
      "Probabilities of known answers:\n",
      "C: 0.0048\n",
      "A: 0.0519\n",
      "B: 0.9202\n",
      "D: 0.0026\n",
      "----------------------------------------------------------------------\n",
      "A : Green beans\n",
      "B : Green pepper\n",
      "C : Cucumber\n",
      "D : Spring onions\n",
      "Closest index is 17 for query 'What green ingredient is added to the pan ?'\n",
      "Question: What green ingredient is added to the pan ?\n",
      "B\n",
      "Top Answer: B / Green pepper\n",
      "correct answer : Spring onions\n",
      "INCORRECT\n",
      "Probabilities of known answers:\n",
      "C: 0.0735\n",
      "A: 0.2754\n",
      "B: 0.4007\n",
      "D: 0.1835\n",
      "----------------------------------------------------------------------\n",
      "A : It is a trash can\n",
      "B : It's a decoration\n",
      "C : It is a pan\n",
      "D : To provide heat to cook\n",
      "Closest index is 87 for query 'What is the purpose of the large blue object on the table ?'\n",
      "Question: What is the purpose of the large blue object on the table ?\n",
      "C\n",
      "Top Answer: C / It is a pan\n",
      "correct answer : To provide heat to cook\n",
      "INCORRECT\n",
      "Probabilities of known answers:\n",
      "C: 0.5187\n",
      "A: 0.2000\n",
      "B: 0.0281\n",
      "D: 0.2063\n",
      "----------------------------------------------------------------------\n",
      "A : approximately 80 prawns\n",
      "B : there are no prawns\n",
      "C : About 4 big prawns\n",
      "D : approximately 25\n",
      "Closest index is 27 for query 'How many prawns are cooking in the pan?'\n",
      "Question: How many prawns are cooking in the pan?\n",
      "C\n",
      "Top Answer: C / About 4 big prawns\n",
      "correct answer : approximately 25\n",
      "INCORRECT\n",
      "Probabilities of known answers:\n",
      "C: 0.4555\n",
      "A: 0.0661\n",
      "B: 0.3034\n",
      "D: 0.0354\n",
      "----------------------------------------------------------------------\n",
      "A : Transparent\n",
      "B : Green\n",
      "C : Red\n",
      "D : Yellow-brown\n",
      "Closest index is 42 for query 'What is the color if the liquid the two steaks are in?'\n",
      "Question: What is the color if the liquid the two steaks are in?\n",
      "D\n",
      "Top Answer: D / Yellow-brown\n",
      "correct answer : Yellow-brown\n",
      "CORRECT\n",
      "Probabilities of known answers:\n",
      "C: 0.0050\n",
      "A: 0.4420\n",
      "B: 0.0027\n",
      "D: 0.5415\n",
      "----------------------------------------------------------------------\n",
      "A : Black\n",
      "B : White\n",
      "C : Blond\n",
      "D : Medium Brown\n",
      "Closest index is 41 for query 'What color is the hair of the man cooking?'\n",
      "Question: What color is the hair of the man cooking?\n",
      "C\n",
      "Top Answer: C / Blond\n",
      "correct answer : Blond\n",
      "CORRECT\n",
      "Probabilities of known answers:\n",
      "C: 0.9920\n",
      "A: 0.0046\n",
      "B: 0.0009\n",
      "D: 0.0005\n",
      "----------------------------------------------------------------------\n",
      "A : They are british\n",
      "B : They are chinese\n",
      "C : They are mexican\n",
      "D : They are french\n",
      "Closest index is 65 for query 'Which country are the cabbages from?'\n",
      "Question: Which country are the cabbages from?\n",
      "A\n",
      "Top Answer: A / They are british\n",
      "correct answer : They are chinese\n",
      "INCORRECT\n",
      "Probabilities of known answers:\n",
      "C: 0.0429\n",
      "A: 0.5690\n",
      "B: 0.2160\n",
      "D: 0.0160\n",
      "----------------------------------------------------------------------\n",
      "A : A full spoon\n",
      "B : nan\n",
      "C : About a thumbnail size\n",
      "D : A single drop\n",
      "Closest index is 82 for query 'How much wasabi is on the spoon ?'\n",
      "Question: How much wasabi is on the spoon ?\n",
      "C\n",
      "Top Answer: C / About a thumbnail size\n",
      "correct answer : About a thumbnail size\n",
      "CORRECT\n",
      "Probabilities of known answers:\n",
      "C: 0.7637\n",
      "A: 0.0941\n",
      "B: 0.0352\n",
      "D: 0.0756\n",
      "----------------------------------------------------------------------\n",
      "A : 2 cups\n",
      "B : 5 cups\n",
      "C : nan\n",
      "D : 1 cup\n",
      "Closest index is 59 for query 'How many cups of flour are required ?'\n",
      "Question: How many cups of flour are required ?\n",
      "A\n",
      "Top Answer: A / 2 cups\n",
      "correct answer : 2 cups\n",
      "CORRECT\n",
      "Probabilities of known answers:\n",
      "C: 0.0257\n",
      "A: 0.6518\n",
      "B: 0.0565\n",
      "D: 0.1988\n",
      "----------------------------------------------------------------------\n",
      "A : Red - brown\n",
      "B : White\n",
      "C : Black\n",
      "D : Yellow\n",
      "Closest index is 236 for query 'What color is the top of the woman ?'\n",
      "Question: What color is the top of the woman ?\n",
      "A\n",
      "Top Answer: A / Red - brown\n",
      "correct answer : Red - brown\n",
      "CORRECT\n",
      "Probabilities of known answers:\n",
      "C: 0.0263\n",
      "A: 0.9142\n",
      "B: 0.0389\n",
      "D: 0.0015\n",
      "----------------------------------------------------------------------\n",
      "A : 6\n",
      "B : 1\n",
      "C : 2\n",
      "D : 4\n",
      "Closest index is 173 for query 'When the plate is above the oven, how many cooked naans are there ?'\n",
      "Question: When the plate is above the oven, how many cooked naans are there ?\n",
      "D\n",
      "Top Answer: D / 4\n",
      "correct answer : 6\n",
      "INCORRECT\n",
      "Probabilities of known answers:\n",
      "C: 0.1090\n",
      "A: 0.3009\n",
      "B: 0.0804\n",
      "D: 0.3203\n",
      "----------------------------------------------------------------------\n",
      "A : Pepper\n",
      "B : Nutella\n",
      "C : Jam\n",
      "D : Yeast\n",
      "Closest index is 147 for query 'What is in the jar with the red lid?'\n",
      "Question: What is in the jar with the red lid?\n",
      "D\n",
      "Top Answer: D / Yeast\n",
      "correct answer : Yeast\n",
      "CORRECT\n",
      "Probabilities of known answers:\n",
      "C: 0.3872\n",
      "A: 0.0864\n",
      "B: 0.0070\n",
      "D: 0.5050\n",
      "----------------------------------------------------------------------\n",
      "A : A bowl of apples\n",
      "B : A banana\n",
      "C : A piece of bread\n",
      "D : A bowl of rice\n",
      "Closest index is 99 for query 'What food is displayed behind the two bowls of clam chowder?'\n",
      "Question: What food is displayed behind the two bowls of clam chowder?\n",
      "C\n",
      "Top Answer: C / A piece of bread\n",
      "correct answer : A piece of bread\n",
      "CORRECT\n",
      "Probabilities of known answers:\n",
      "C: 0.9760\n",
      "A: 0.0146\n",
      "B: 0.0010\n",
      "D: 0.0014\n",
      "----------------------------------------------------------------------\n",
      "A : Bacon\n",
      "B : Tomatoes\n",
      "C : Strawberries\n",
      "D : Pepper\n",
      "Closest index is 90 for query 'What is the red food cooking in the black pot?'\n",
      "Question: What is the red food cooking in the black pot?\n",
      "A\n",
      "Top Answer: A / Bacon\n",
      "correct answer : Bacon\n",
      "CORRECT\n",
      "Probabilities of known answers:\n",
      "C: 0.0540\n",
      "A: 0.3865\n",
      "B: 0.1235\n",
      "D: 0.3255\n",
      "----------------------------------------------------------------------\n",
      "A : Keep some for the topping\n",
      "B : Because she is preparing another dish that requires bacon\n",
      "C : Because she accidentally made too much\n",
      "D : Because of a religious tradition\n",
      "Closest index is 27 for query 'When adding the bacon in the mixture, why does the person say not to use all of it'\n",
      "Question: When adding the bacon in the mixture, why does the person say not to use all of it\n",
      "A\n",
      "Top Answer: A / Keep some for the topping\n",
      "correct answer : Keep some for the topping\n",
      "CORRECT\n",
      "Probabilities of known answers:\n",
      "C: 0.0418\n",
      "A: 0.7299\n",
      "B: 0.1350\n",
      "D: 0.0010\n",
      "----------------------------------------------------------------------\n",
      "A : No glasses and no makeup\n",
      "B : Some makeup and glasses\n",
      "C : No glasses and blonde hair\n",
      "D : Some makeup and red hair\n",
      "Closest index is 124 for query 'What best describes the woman's face?'\n",
      "Question: What best describes the woman's face?\n",
      "B\n",
      "Top Answer: B / Some makeup and glasses\n",
      "correct answer : Some makeup and glasses\n",
      "CORRECT\n",
      "Probabilities of known answers:\n",
      "C: 0.0013\n",
      "A: 0.0090\n",
      "B: 0.9800\n",
      "D: 0.0029\n",
      "----------------------------------------------------------------------\n"
     ]
    }
   ],
   "source": [
    "#iterate over all the questions\n",
    "import torch.nn.functional as F\n",
    "\n",
    "total_correct = 0\n",
    "\n",
    "for index, row in df_questions.iterrows():\n",
    "    URL = row['VideoID']\n",
    "    question = row['Question']\n",
    "    correct_answer = row['Answer1 (corr)']\n",
    "    wrong_answer1 = row['Answer2']\n",
    "    wrong_answer2 = row['Answer3']\n",
    "    wrong_answer3 = row['Answer4']\n",
    "\n",
    "    #shuffle and assign answer_a,b,c,d\n",
    "    answers = [correct_answer,wrong_answer1,wrong_answer2,wrong_answer3]\n",
    "    np.random.shuffle(answers)\n",
    "\n",
    "    answer_a = answers[0]\n",
    "    answer_b = answers[1]\n",
    "    answer_c = answers[2]\n",
    "    answer_d = answers[3]\n",
    "    print(f\"A : {answer_a}\")\n",
    "    print(f\"B : {answer_b}\")\n",
    "    print(f\"C : {answer_c}\")\n",
    "    print(f\"D : {answer_d}\")\n",
    "\n",
    "    folder_path = f\"{base_path}/{URL}\"\n",
    "\n",
    "    \n",
    "    conv,image = return_image_and_enhanced_query(question,answer_a,answer_b,answer_c,answer_d,folder_path)\n",
    "\n",
    "    prompt = llava_processor.apply_chat_template(conv, add_generation_prompt=True)\n",
    "    inputs = llava_processor(image,prompt, return_tensors=\"pt\").to(\"cuda:0\")\n",
    "    print(f\"Question: {question}\")\n",
    "    with torch.no_grad():\n",
    "        # Get the model's output logits directly\n",
    "        model_outputs = llava_model(**inputs)\n",
    "        logits = model_outputs.logits[0, -1, :]\n",
    "        \n",
    "        # Apply softmax to get probabilities\n",
    "        probabilities = F.softmax(logits, dim=0)\n",
    "        \n",
    "        answer_tokens = {\n",
    "            'C': 334,\n",
    "            'A': 330,\n",
    "            'B': 365,\n",
    "            'D': 384\n",
    "        }\n",
    "        \n",
    "        # Check probabilities of known answer tokens\n",
    "        answer_probs = {label: probabilities[token_id].item() \n",
    "                        for label, token_id in answer_tokens.items()}\n",
    "        \n",
    "        # Find the top answer among the known tokens\n",
    "        top_answer = max(answer_probs, key=answer_probs.get)\n",
    "        \n",
    "        def top_answer_to_idx(character):\n",
    "            print(character)\n",
    "            if character == \"A\":\n",
    "                return 0\n",
    "            if character == \"B\":\n",
    "                return 1\n",
    "            if character == \"C\":\n",
    "                return 2\n",
    "            if character == \"D\":\n",
    "                return 3\n",
    "        \n",
    "        top_answer_text = answers[top_answer_to_idx(top_answer)]\n",
    "        print(f\"Top Answer: {top_answer} / {top_answer_text}\")\n",
    "        print(f\"correct answer : {correct_answer}\")\n",
    "        \n",
    "        if top_answer_text == correct_answer:\n",
    "            print(\"CORRECT\")\n",
    "            total_correct+=1\n",
    "        else:\n",
    "            print(\"INCORRECT\")\n",
    "            \n",
    "        print(f\"Probabilities of known answers:\")\n",
    "        for label, prob in answer_probs.items():\n",
    "            print(f\"{label}: {prob:.4f}\")\n",
    "            \n",
    "            \n",
    "        \n",
    "        # If the top token is not one of the known answers\n",
    "        top_token_id = torch.argmax(probabilities).item()\n",
    "        if top_token_id not in answer_tokens.values():\n",
    "            top_token = llava_processor.tokenizer.convert_ids_to_tokens([top_token_id])[0]\n",
    "            print(f\"\\nTop token not in known answers:\")\n",
    "            print(f\"Token: {top_token}\")\n",
    "            print(f\"Token ID: {top_token_id}\")\n",
    "            print(f\"Probability: {probabilities[top_token_id].item():.4f}\")\n",
    "\n",
    "    print('----------------------------------------------------------------------')\n",
    "\n",
    "\n",
    "\n",
    "\n",
    "    \n"
   ]
  },
  {
   "cell_type": "code",
   "execution_count": 27,
   "metadata": {},
   "outputs": [
    {
     "name": "stdout",
     "output_type": "stream",
     "text": [
      "0.625\n"
     ]
    }
   ],
   "source": [
    "print(total_correct/len(df_questions))"
   ]
  },
  {
   "cell_type": "code",
   "execution_count": null,
   "metadata": {},
   "outputs": [],
   "source": []
  },
  {
   "cell_type": "code",
   "execution_count": null,
   "metadata": {},
   "outputs": [],
   "source": []
  },
  {
   "cell_type": "code",
   "execution_count": null,
   "metadata": {},
   "outputs": [],
   "source": [
    "# question,answer_a,answer_b,answer_c,answer_d,folder_path = 'what color is the omelet?','4','5','green','yellow','/home/hice1/bpopper3/scratch/LLaVA_RAG/RAG_Pipeline/HANDMADE_QUESTIONS_PIPELINE/storage/zwbCD3CUFIs'\n",
    "\n",
    "\n",
    "# conv,image = return_image_and_enhanced_query(question,answer_a,answer_b,answer_c,answer_d,'/home/hice1/bpopper3/scratch/LLaVA_RAG/RAG_Pipeline/HANDMADE_QUESTIONS_PIPELINE/storage/zwbCD3CUFIs')\n",
    "\n",
    "# prompt = llava_processor.apply_chat_template(conv, add_generation_prompt=True)\n",
    "# inputs = llava_processor(image,prompt, return_tensors=\"pt\").to(\"cuda:0\")\n",
    "\n",
    "# import torch.nn.functional as F\n",
    "\n",
    "# with torch.no_grad():\n",
    "#     # Get the model's output logits directly\n",
    "#     model_outputs = llava_model(**inputs)\n",
    "#     logits = model_outputs.logits[0, -1, :]\n",
    "    \n",
    "#     # Apply softmax to get probabilities\n",
    "#     probabilities = F.softmax(logits, dim=0)\n",
    "    \n",
    "#     answer_tokens = {\n",
    "#         'C': 334,\n",
    "#         'A': 330,\n",
    "#         'B': 365,\n",
    "#         'D': 384\n",
    "#     }\n",
    "    \n",
    "#     # Check probabilities of known answer tokens\n",
    "#     answer_probs = {label: probabilities[token_id].item() \n",
    "#                     for label, token_id in answer_tokens.items()}\n",
    "    \n",
    "#     # Find the top answer among the known tokens\n",
    "#     top_answer = max(answer_probs, key=answer_probs.get)\n",
    "    \n",
    "#     print(f\"Top Answer: {top_answer}\")\n",
    "#     print(f\"Probabilities of known answers:\")\n",
    "#     for label, prob in answer_probs.items():\n",
    "#         print(f\"{label}: {prob:.4f}\")\n",
    "    \n",
    "#     # If the top token is not one of the known answers\n",
    "#     top_token_id = torch.argmax(probabilities).item()\n",
    "#     if top_token_id not in answer_tokens.values():\n",
    "#         top_token = llava_processor.tokenizer.convert_ids_to_tokens([top_token_id])[0]\n",
    "#         print(f\"\\nTop token not in known answers:\")\n",
    "#         print(f\"Token: {top_token}\")\n",
    "#         print(f\"Token ID: {top_token_id}\")\n",
    "#         print(f\"Probability: {probabilities[top_token_id].item():.4f}\")\n",
    "    \n",
    "# #     # Get the top 5 most likely tokens\n",
    "# #     top_5_values, top_5_indices = torch.topk(probabilities, 5)\n",
    "# #     print(top_5_indices)\n",
    "    \n",
    "    \n",
    "# #     # 334 is C\n",
    "# #     # 330 is A\n",
    "# #     # 365 is B\n",
    "# #     # 384 is D\n",
    "# #     # Decode the token indices back to tokens\n",
    "# #     top_5_tokens = llava_processor.tokenizer.convert_ids_to_tokens(top_5_indices.tolist())\n",
    "    \n",
    "# #     # Print the top 5 tokens with their probabilities\n",
    "# #     print(\"Top 5 Most Likely Next Tokens:\")\n",
    "# #     for token, prob in zip(top_5_tokens, top_5_values):\n",
    "# #         print(f\"Token: {token}, Probability: {prob.item():.4f}\")\n"
   ]
  }
 ],
 "metadata": {
  "kernelspec": {
   "display_name": "Python [conda env:.conda-vlm]",
   "language": "python",
   "name": "conda-env-.conda-vlm-py"
  },
  "language_info": {
   "codemirror_mode": {
    "name": "ipython",
    "version": 3
   },
   "file_extension": ".py",
   "mimetype": "text/x-python",
   "name": "python",
   "nbconvert_exporter": "python",
   "pygments_lexer": "ipython3",
   "version": "3.11.10"
  }
 },
 "nbformat": 4,
 "nbformat_minor": 2
}
