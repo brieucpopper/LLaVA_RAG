{
 "cells": [
  {
   "cell_type": "markdown",
   "metadata": {},
   "source": [
    "### Notebook to run the complete eval of our method for Handmade questions\n",
    "\n",
    "https://docs.google.com/spreadsheets/d/1xgkQt_1NiwXEZhZUvTypgecG5wMCl8_brc6w1bhaOtE/edit?gid=0#gid=0\n",
    "\n"
   ]
  },
  {
   "cell_type": "code",
   "execution_count": 1,
   "metadata": {},
   "outputs": [],
   "source": [
    "# Optional : rm -r storage to remove storage\n"
   ]
  },
  {
   "cell_type": "markdown",
   "metadata": {
    "vscode": {
     "languageId": "plaintext"
    }
   },
   "source": [
    "## Step 0 : download videos"
   ]
  },
  {
   "cell_type": "code",
   "execution_count": 2,
   "metadata": {},
   "outputs": [
    {
     "name": "stdout",
     "output_type": "stream",
     "text": [
      "Index(['VideoID', 'Question', 'Answer1 (corr)', 'Answer2', 'Answer3',\n",
      "       'Answer4', 'youtubeURL', 'Unnamed: 7', 'Unnamed: 8',\n",
      "       'https://www.youtube.com/watch?v='],\n",
      "      dtype='object')\n"
     ]
    },
    {
     "data": {
      "text/html": [
       "<div>\n",
       "<style scoped>\n",
       "    .dataframe tbody tr th:only-of-type {\n",
       "        vertical-align: middle;\n",
       "    }\n",
       "\n",
       "    .dataframe tbody tr th {\n",
       "        vertical-align: top;\n",
       "    }\n",
       "\n",
       "    .dataframe thead th {\n",
       "        text-align: right;\n",
       "    }\n",
       "</style>\n",
       "<table border=\"1\" class=\"dataframe\">\n",
       "  <thead>\n",
       "    <tr style=\"text-align: right;\">\n",
       "      <th></th>\n",
       "      <th>VideoID</th>\n",
       "      <th>Question</th>\n",
       "      <th>Answer1 (corr)</th>\n",
       "      <th>Answer2</th>\n",
       "      <th>Answer3</th>\n",
       "      <th>Answer4</th>\n",
       "      <th>youtubeURL</th>\n",
       "      <th>Unnamed: 7</th>\n",
       "      <th>Unnamed: 8</th>\n",
       "      <th>https://www.youtube.com/watch?v=</th>\n",
       "    </tr>\n",
       "  </thead>\n",
       "  <tbody>\n",
       "    <tr>\n",
       "      <th>0</th>\n",
       "      <td>zwbCD3CUFIs</td>\n",
       "      <td>What color is the spatula on the cutting board?</td>\n",
       "      <td>Green</td>\n",
       "      <td>Red</td>\n",
       "      <td>Blue</td>\n",
       "      <td>Black</td>\n",
       "      <td>https://www.youtube.com/watch?v=zwbCD3CUFIs</td>\n",
       "      <td>NaN</td>\n",
       "      <td>NaN</td>\n",
       "      <td>NaN</td>\n",
       "    </tr>\n",
       "    <tr>\n",
       "      <th>1</th>\n",
       "      <td>zwbCD3CUFIs</td>\n",
       "      <td>What green ingredient is added to the pan ?</td>\n",
       "      <td>Spring onions</td>\n",
       "      <td>Green pepper</td>\n",
       "      <td>Green beans</td>\n",
       "      <td>Cucumber</td>\n",
       "      <td>https://www.youtube.com/watch?v=zwbCD3CUFIs</td>\n",
       "      <td>NaN</td>\n",
       "      <td>NaN</td>\n",
       "      <td>NaN</td>\n",
       "    </tr>\n",
       "    <tr>\n",
       "      <th>2</th>\n",
       "      <td>zwbCD3CUFIs</td>\n",
       "      <td>What is the purpose of the large blue object o...</td>\n",
       "      <td>To provide heat to cook</td>\n",
       "      <td>It is a trash can</td>\n",
       "      <td>It is a pan</td>\n",
       "      <td>It's a decoration</td>\n",
       "      <td>https://www.youtube.com/watch?v=zwbCD3CUFIs</td>\n",
       "      <td>NaN</td>\n",
       "      <td>NaN</td>\n",
       "      <td>NaN</td>\n",
       "    </tr>\n",
       "    <tr>\n",
       "      <th>3</th>\n",
       "      <td>zwbCD3CUFIs</td>\n",
       "      <td>How many prawns are cooking in the pan?</td>\n",
       "      <td>approximately 25</td>\n",
       "      <td>About 4 big prawns</td>\n",
       "      <td>approximately 80 prawns</td>\n",
       "      <td>there are no prawns</td>\n",
       "      <td>https://www.youtube.com/watch?v=zwbCD3CUFIs</td>\n",
       "      <td>NaN</td>\n",
       "      <td>NaN</td>\n",
       "      <td>NaN</td>\n",
       "    </tr>\n",
       "    <tr>\n",
       "      <th>5</th>\n",
       "      <td>XzgR14o6b80</td>\n",
       "      <td>What is the color if the liquid the two steaks...</td>\n",
       "      <td>Yellow-brown</td>\n",
       "      <td>Red</td>\n",
       "      <td>Green</td>\n",
       "      <td>Transparent</td>\n",
       "      <td>https://www.youtube.com/watch?v=XzgR14o6b80</td>\n",
       "      <td>NaN</td>\n",
       "      <td>NaN</td>\n",
       "      <td>NaN</td>\n",
       "    </tr>\n",
       "    <tr>\n",
       "      <th>...</th>\n",
       "      <td>...</td>\n",
       "      <td>...</td>\n",
       "      <td>...</td>\n",
       "      <td>...</td>\n",
       "      <td>...</td>\n",
       "      <td>...</td>\n",
       "      <td>...</td>\n",
       "      <td>...</td>\n",
       "      <td>...</td>\n",
       "      <td>...</td>\n",
       "    </tr>\n",
       "    <tr>\n",
       "      <th>73</th>\n",
       "      <td>i8BjqgemuXo</td>\n",
       "      <td>What distinguishes this dish?</td>\n",
       "      <td>Honey ham and parma ham</td>\n",
       "      <td>Bread type</td>\n",
       "      <td>Replace with turkey</td>\n",
       "      <td>Serve extra cold</td>\n",
       "      <td>https://www.youtube.com/watch?v=i8BjqgemuXo</td>\n",
       "      <td>NaN</td>\n",
       "      <td>NaN</td>\n",
       "      <td>NaN</td>\n",
       "    </tr>\n",
       "    <tr>\n",
       "      <th>75</th>\n",
       "      <td>g1jFJYtQ9_s</td>\n",
       "      <td>What flour is used traditionally for this dish?</td>\n",
       "      <td>Whole wheat flour</td>\n",
       "      <td>Cornmeal</td>\n",
       "      <td>Corn flour</td>\n",
       "      <td>Rice flour</td>\n",
       "      <td>https://www.youtube.com/watch?v=g1jFJYtQ9_s</td>\n",
       "      <td>NaN</td>\n",
       "      <td>NaN</td>\n",
       "      <td>NaN</td>\n",
       "    </tr>\n",
       "    <tr>\n",
       "      <th>76</th>\n",
       "      <td>g1jFJYtQ9_s</td>\n",
       "      <td>How long do you rest the dish prior to rolling?</td>\n",
       "      <td>30 minutes</td>\n",
       "      <td>20 minutes</td>\n",
       "      <td>10 minutes</td>\n",
       "      <td>45 minutes</td>\n",
       "      <td>https://www.youtube.com/watch?v=g1jFJYtQ9_s</td>\n",
       "      <td>NaN</td>\n",
       "      <td>NaN</td>\n",
       "      <td>NaN</td>\n",
       "    </tr>\n",
       "    <tr>\n",
       "      <th>77</th>\n",
       "      <td>g1jFJYtQ9_s</td>\n",
       "      <td>How to make the dish fluffy?</td>\n",
       "      <td>Open flame placement</td>\n",
       "      <td>Flattening with spatula</td>\n",
       "      <td>Add yeast to leaven</td>\n",
       "      <td>Freeze prior to cooking</td>\n",
       "      <td>https://www.youtube.com/watch?v=g1jFJYtQ9_s</td>\n",
       "      <td>NaN</td>\n",
       "      <td>NaN</td>\n",
       "      <td>NaN</td>\n",
       "    </tr>\n",
       "    <tr>\n",
       "      <th>78</th>\n",
       "      <td>g1jFJYtQ9_s</td>\n",
       "      <td>What is added to griddle for extra flavor?</td>\n",
       "      <td>Brushing ghee</td>\n",
       "      <td>Sugar sprinkle</td>\n",
       "      <td>Honey drizzle</td>\n",
       "      <td>Yogurt spoonful</td>\n",
       "      <td>https://www.youtube.com/watch?v=g1jFJYtQ9_s</td>\n",
       "      <td>NaN</td>\n",
       "      <td>NaN</td>\n",
       "      <td>NaN</td>\n",
       "    </tr>\n",
       "  </tbody>\n",
       "</table>\n",
       "<p>64 rows × 10 columns</p>\n",
       "</div>"
      ],
      "text/plain": [
       "        VideoID                                           Question  \\\n",
       "0   zwbCD3CUFIs    What color is the spatula on the cutting board?   \n",
       "1   zwbCD3CUFIs        What green ingredient is added to the pan ?   \n",
       "2   zwbCD3CUFIs  What is the purpose of the large blue object o...   \n",
       "3   zwbCD3CUFIs            How many prawns are cooking in the pan?   \n",
       "5   XzgR14o6b80  What is the color if the liquid the two steaks...   \n",
       "..          ...                                                ...   \n",
       "73  i8BjqgemuXo                      What distinguishes this dish?   \n",
       "75  g1jFJYtQ9_s    What flour is used traditionally for this dish?   \n",
       "76  g1jFJYtQ9_s    How long do you rest the dish prior to rolling?   \n",
       "77  g1jFJYtQ9_s                       How to make the dish fluffy?   \n",
       "78  g1jFJYtQ9_s         What is added to griddle for extra flavor?   \n",
       "\n",
       "             Answer1 (corr)                  Answer2                  Answer3  \\\n",
       "0                     Green                      Red                     Blue   \n",
       "1             Spring onions             Green pepper              Green beans   \n",
       "2   To provide heat to cook        It is a trash can              It is a pan   \n",
       "3          approximately 25       About 4 big prawns  approximately 80 prawns   \n",
       "5              Yellow-brown                      Red                    Green   \n",
       "..                      ...                      ...                      ...   \n",
       "73  Honey ham and parma ham               Bread type      Replace with turkey   \n",
       "75        Whole wheat flour                 Cornmeal               Corn flour   \n",
       "76               30 minutes               20 minutes               10 minutes   \n",
       "77     Open flame placement  Flattening with spatula      Add yeast to leaven   \n",
       "78            Brushing ghee           Sugar sprinkle            Honey drizzle   \n",
       "\n",
       "                    Answer4                                   youtubeURL  \\\n",
       "0                     Black  https://www.youtube.com/watch?v=zwbCD3CUFIs   \n",
       "1                  Cucumber  https://www.youtube.com/watch?v=zwbCD3CUFIs   \n",
       "2         It's a decoration  https://www.youtube.com/watch?v=zwbCD3CUFIs   \n",
       "3       there are no prawns  https://www.youtube.com/watch?v=zwbCD3CUFIs   \n",
       "5               Transparent  https://www.youtube.com/watch?v=XzgR14o6b80   \n",
       "..                      ...                                          ...   \n",
       "73         Serve extra cold  https://www.youtube.com/watch?v=i8BjqgemuXo   \n",
       "75               Rice flour  https://www.youtube.com/watch?v=g1jFJYtQ9_s   \n",
       "76               45 minutes  https://www.youtube.com/watch?v=g1jFJYtQ9_s   \n",
       "77  Freeze prior to cooking  https://www.youtube.com/watch?v=g1jFJYtQ9_s   \n",
       "78          Yogurt spoonful  https://www.youtube.com/watch?v=g1jFJYtQ9_s   \n",
       "\n",
       "    Unnamed: 7  Unnamed: 8  https://www.youtube.com/watch?v=  \n",
       "0          NaN         NaN                               NaN  \n",
       "1          NaN         NaN                               NaN  \n",
       "2          NaN         NaN                               NaN  \n",
       "3          NaN         NaN                               NaN  \n",
       "5          NaN         NaN                               NaN  \n",
       "..         ...         ...                               ...  \n",
       "73         NaN         NaN                               NaN  \n",
       "75         NaN         NaN                               NaN  \n",
       "76         NaN         NaN                               NaN  \n",
       "77         NaN         NaN                               NaN  \n",
       "78         NaN         NaN                               NaN  \n",
       "\n",
       "[64 rows x 10 columns]"
      ]
     },
     "execution_count": 2,
     "metadata": {},
     "output_type": "execute_result"
    }
   ],
   "source": [
    "import pandas as pd\n",
    "\n",
    "df_questions = pd.read_csv('Handmade_questions.csv')\n",
    "print(df_questions.keys())\n",
    "df_questions = df_questions.dropna(subset=['Question']) #drop any rows that aren't filled yet\n",
    "df_questions"
   ]
  },
  {
   "cell_type": "code",
   "execution_count": 3,
   "metadata": {},
   "outputs": [],
   "source": [
    "ALL_URLS = df_questions['VideoID'].unique().tolist()"
   ]
  },
  {
   "cell_type": "code",
   "execution_count": 4,
   "metadata": {},
   "outputs": [
    {
     "name": "stdout",
     "output_type": "stream",
     "text": [
      "Singapore-Style Curry Fried Rice Noodles | Asian Bites\n"
     ]
    },
    {
     "name": "stderr",
     "output_type": "stream",
     "text": [
      "/scratch/1034370/ipykernel_1433680/1625065730.py:25: DeprecationWarning: Call to deprecated function get_by_language_code (This object can be treated as a dictionary, i.e. captions['en']).\n",
      "  caption = yt.captions.get_by_language_code('a.en')\n",
      "/scratch/1034370/ipykernel_1433680/1625065730.py:25: DeprecationWarning: Call to deprecated function get_by_language_code (This object can be treated as a dictionary, i.e. captions['en']).\n",
      "  caption = yt.captions.get_by_language_code('a.en')\n"
     ]
    },
    {
     "name": "stdout",
     "output_type": "stream",
     "text": [
      "Experience Culinary Bliss with Gordon Ramsay Beef Tacos with Wasabi Mayo\n"
     ]
    }
   ],
   "source": [
    "#################################################################################################################\n",
    "WANT_TO_RUN_DL = True\n",
    "#################################################################################################################\n",
    "\n",
    "\n",
    "\n",
    "from pytubefix import YouTube\n",
    "from pytubefix.cli import on_progress\n",
    "import os\n",
    "\n",
    "base_path = './storage'\n",
    "\n",
    "if WANT_TO_RUN_DL:\n",
    "\n",
    "    for URL in ALL_URLS:\n",
    "\n",
    "        os.makedirs(f\"{base_path}/{URL}\", exist_ok=True)\n",
    "        url = f\"https://www.youtube.com/watch?v={URL}\"\n",
    "\n",
    "        yt = YouTube(url, on_progress_callback = on_progress)\n",
    "        print(yt.title)\n",
    "        ys = yt.streams.get_highest_resolution()\n",
    "        ys.download(f\"{base_path}/{URL}\", filename='video')\n",
    "\n",
    "        caption = yt.captions.get_by_language_code('a.en')\n",
    "\n",
    "        #save captions to ./\n",
    "        caption.save_captions(f\"{base_path}/{URL}/caption.srt\")"
   ]
  },
  {
   "cell_type": "markdown",
   "metadata": {},
   "source": [
    "## Step 1 : Generate the CSV from input videos"
   ]
  },
  {
   "cell_type": "code",
   "execution_count": 5,
   "metadata": {},
   "outputs": [],
   "source": [
    "import cv2\n",
    "import os\n",
    "import csv\n",
    "import pysrt\n",
    "\n",
    "\n",
    "csv_output = \"image_transcript_mapping.csv\"\n",
    "\n",
    "def video_to_images_with_transcript(video_path, output_folder, srt_path, csv_output, frame_interval=1):\n",
    "    \"\"\"\n",
    "    Extract video frames as images, and create csv in format of [index, image_path, transcript]\n",
    "\n",
    "    video_path: Path to the input video file\n",
    "    output_folder: Directory to save the image frames\n",
    "    srt_path: Path to the SRT subtitle file\n",
    "    csv_output: Path to the output CSV file mapping images to transcript text\n",
    "    frame_interval: Interval of frames to save\n",
    "    \"\"\"\n",
    "    video = cv2.VideoCapture(video_path)\n",
    "    \n",
    "    if not video.isOpened():\n",
    "        print(f\"Error: Could not open video {video_path}\")\n",
    "        return\n",
    "    \n",
    "    os.makedirs(output_folder, exist_ok=True)\n",
    "    \n",
    "    subs = pysrt.open(srt_path)\n",
    "    \n",
    "    fps = video.get(cv2.CAP_PROP_FPS)\n",
    "    \n",
    "    frame_count = 0\n",
    "    saved_count = 0\n",
    "    csv_data = []\n",
    "\n",
    "    while True:\n",
    "        success, frame = video.read()\n",
    "        #mkdir f\"{output_folder}/frames\" with os\n",
    "        os.makedirs(f\"{output_folder}/frames\", exist_ok=True)\n",
    "        \n",
    "        if not success:\n",
    "            break\n",
    "\n",
    "        if frame_count % frame_interval == 0:\n",
    "            # Save the frame as image\n",
    "            img_filename = f\"{output_folder}/frames/frame_{frame_count:06d}.jpg\"\n",
    "            print(f\"Saving frame {frame_count} to {img_filename}\")\n",
    "            cv2.imwrite(img_filename, frame)\n",
    "            saved_count += 1\n",
    "\n",
    "            # Map subtitle with timestamp\n",
    "\n",
    "            timestamp = frame_count / fps\n",
    "\n",
    "            transcript_text = \"\"\n",
    "            for sub in subs:\n",
    "                start_time = sub.start.ordinal / 1000\n",
    "                end_time = sub.end.ordinal / 1000\n",
    "                if abs(start_time - timestamp) < 11:\n",
    "                    transcript_text += sub.text+\" \"\n",
    "                    \n",
    "            #make the img_filename the full path\n",
    "            curr_path = os.path.join(os.getcwd(), img_filename)\n",
    "            print(curr_path)\n",
    "\n",
    "            if transcript_text == \"\":\n",
    "                transcript_text = \"No transcript available\"\n",
    "            csv_data.append([int(frame_count/frame_interval), curr_path, transcript_text,timestamp])\n",
    "\n",
    "        frame_count += 1\n",
    "\n",
    "    video.release()\n",
    "\n",
    "    with open(f'{output_folder}/{csv_output}', mode='w', newline='') as csv_file:\n",
    "        writer = csv.writer(csv_file)\n",
    "        writer.writerow(['index', 'image_path', 'transcript_text','timestamp'])\n",
    "        writer.writerows(csv_data)\n",
    "\n",
    "    print(f\"Saved {saved_count} frames from {video_path} to {output_folder}\")\n",
    "    print(f\"Transcript mapping saved to {csv_output}\")\n",
    "\n",
    "\n",
    "\n",
    "\n"
   ]
  },
  {
   "cell_type": "code",
   "execution_count": 6,
   "metadata": {},
   "outputs": [
    {
     "name": "stdout",
     "output_type": "stream",
     "text": [
      "Saving frame 0 to ./storage/zwbCD3CUFIs/frames/frame_000000.jpgSaving frame 0 to ./storage/XzgR14o6b80/frames/frame_000000.jpg\n",
      "\n",
      "/storage/ice1/0/4/bpopper3/aaaaaaaa/LLaVA_RAG/notebook_pipeline_custom_questions/./storage/zwbCD3CUFIs/frames/frame_000000.jpg\n",
      "/storage/ice1/0/4/bpopper3/aaaaaaaa/LLaVA_RAG/notebook_pipeline_custom_questions/./storage/XzgR14o6b80/frames/frame_000000.jpg\n",
      "Saving frame 90 to ./storage/zwbCD3CUFIs/frames/frame_000090.jpgSaving frame 90 to ./storage/XzgR14o6b80/frames/frame_000090.jpg\n",
      "\n",
      "/storage/ice1/0/4/bpopper3/aaaaaaaa/LLaVA_RAG/notebook_pipeline_custom_questions/./storage/XzgR14o6b80/frames/frame_000090.jpg/storage/ice1/0/4/bpopper3/aaaaaaaa/LLaVA_RAG/notebook_pipeline_custom_questions/./storage/zwbCD3CUFIs/frames/frame_000090.jpg\n",
      "\n",
      "Saving frame 180 to ./storage/zwbCD3CUFIs/frames/frame_000180.jpg\n",
      "/storage/ice1/0/4/bpopper3/aaaaaaaa/LLaVA_RAG/notebook_pipeline_custom_questions/./storage/zwbCD3CUFIs/frames/frame_000180.jpg\n",
      "Saving frame 180 to ./storage/XzgR14o6b80/frames/frame_000180.jpg\n",
      "/storage/ice1/0/4/bpopper3/aaaaaaaa/LLaVA_RAG/notebook_pipeline_custom_questions/./storage/XzgR14o6b80/frames/frame_000180.jpg\n",
      "Saving frame 270 to ./storage/zwbCD3CUFIs/frames/frame_000270.jpg\n",
      "/storage/ice1/0/4/bpopper3/aaaaaaaa/LLaVA_RAG/notebook_pipeline_custom_questions/./storage/zwbCD3CUFIs/frames/frame_000270.jpg\n",
      "Saving frame 270 to ./storage/XzgR14o6b80/frames/frame_000270.jpg\n",
      "/storage/ice1/0/4/bpopper3/aaaaaaaa/LLaVA_RAG/notebook_pipeline_custom_questions/./storage/XzgR14o6b80/frames/frame_000270.jpgSaving frame 360 to ./storage/zwbCD3CUFIs/frames/frame_000360.jpg\n",
      "\n",
      "/storage/ice1/0/4/bpopper3/aaaaaaaa/LLaVA_RAG/notebook_pipeline_custom_questions/./storage/zwbCD3CUFIs/frames/frame_000360.jpg\n",
      "Saving frame 450 to ./storage/zwbCD3CUFIs/frames/frame_000450.jpg\n",
      "/storage/ice1/0/4/bpopper3/aaaaaaaa/LLaVA_RAG/notebook_pipeline_custom_questions/./storage/zwbCD3CUFIs/frames/frame_000450.jpg\n",
      "Saving frame 360 to ./storage/XzgR14o6b80/frames/frame_000360.jpg\n",
      "/storage/ice1/0/4/bpopper3/aaaaaaaa/LLaVA_RAG/notebook_pipeline_custom_questions/./storage/XzgR14o6b80/frames/frame_000360.jpg\n",
      "Saving frame 540 to ./storage/zwbCD3CUFIs/frames/frame_000540.jpg\n",
      "/storage/ice1/0/4/bpopper3/aaaaaaaa/LLaVA_RAG/notebook_pipeline_custom_questions/./storage/zwbCD3CUFIs/frames/frame_000540.jpg\n",
      "Saving frame 450 to ./storage/XzgR14o6b80/frames/frame_000450.jpg\n",
      "/storage/ice1/0/4/bpopper3/aaaaaaaa/LLaVA_RAG/notebook_pipeline_custom_questions/./storage/XzgR14o6b80/frames/frame_000450.jpgSaving frame 630 to ./storage/zwbCD3CUFIs/frames/frame_000630.jpg\n",
      "\n",
      "/storage/ice1/0/4/bpopper3/aaaaaaaa/LLaVA_RAG/notebook_pipeline_custom_questions/./storage/zwbCD3CUFIs/frames/frame_000630.jpg\n",
      "Saving frame 720 to ./storage/zwbCD3CUFIs/frames/frame_000720.jpg\n",
      "/storage/ice1/0/4/bpopper3/aaaaaaaa/LLaVA_RAG/notebook_pipeline_custom_questions/./storage/zwbCD3CUFIs/frames/frame_000720.jpg\n",
      "Saving frame 540 to ./storage/XzgR14o6b80/frames/frame_000540.jpg\n",
      "/storage/ice1/0/4/bpopper3/aaaaaaaa/LLaVA_RAG/notebook_pipeline_custom_questions/./storage/XzgR14o6b80/frames/frame_000540.jpg\n",
      "Saving frame 810 to ./storage/zwbCD3CUFIs/frames/frame_000810.jpg\n",
      "/storage/ice1/0/4/bpopper3/aaaaaaaa/LLaVA_RAG/notebook_pipeline_custom_questions/./storage/zwbCD3CUFIs/frames/frame_000810.jpg\n",
      "Saving frame 630 to ./storage/XzgR14o6b80/frames/frame_000630.jpg\n",
      "/storage/ice1/0/4/bpopper3/aaaaaaaa/LLaVA_RAG/notebook_pipeline_custom_questions/./storage/XzgR14o6b80/frames/frame_000630.jpg\n",
      "Saving frame 900 to ./storage/zwbCD3CUFIs/frames/frame_000900.jpg\n",
      "/storage/ice1/0/4/bpopper3/aaaaaaaa/LLaVA_RAG/notebook_pipeline_custom_questions/./storage/zwbCD3CUFIs/frames/frame_000900.jpg\n",
      "Saving frame 990 to ./storage/zwbCD3CUFIs/frames/frame_000990.jpg\n",
      "/storage/ice1/0/4/bpopper3/aaaaaaaa/LLaVA_RAG/notebook_pipeline_custom_questions/./storage/zwbCD3CUFIs/frames/frame_000990.jpg\n",
      "Saving frame 720 to ./storage/XzgR14o6b80/frames/frame_000720.jpg\n",
      "/storage/ice1/0/4/bpopper3/aaaaaaaa/LLaVA_RAG/notebook_pipeline_custom_questions/./storage/XzgR14o6b80/frames/frame_000720.jpg\n",
      "Saving frame 1080 to ./storage/zwbCD3CUFIs/frames/frame_001080.jpg\n",
      "/storage/ice1/0/4/bpopper3/aaaaaaaa/LLaVA_RAG/notebook_pipeline_custom_questions/./storage/zwbCD3CUFIs/frames/frame_001080.jpg\n",
      "Saving frame 810 to ./storage/XzgR14o6b80/frames/frame_000810.jpg\n",
      "/storage/ice1/0/4/bpopper3/aaaaaaaa/LLaVA_RAG/notebook_pipeline_custom_questions/./storage/XzgR14o6b80/frames/frame_000810.jpg\n",
      "Saving frame 1170 to ./storage/zwbCD3CUFIs/frames/frame_001170.jpg\n",
      "/storage/ice1/0/4/bpopper3/aaaaaaaa/LLaVA_RAG/notebook_pipeline_custom_questions/./storage/zwbCD3CUFIs/frames/frame_001170.jpg\n",
      "Saving frame 900 to ./storage/XzgR14o6b80/frames/frame_000900.jpg\n",
      "/storage/ice1/0/4/bpopper3/aaaaaaaa/LLaVA_RAG/notebook_pipeline_custom_questions/./storage/XzgR14o6b80/frames/frame_000900.jpg\n",
      "Saving frame 1260 to ./storage/zwbCD3CUFIs/frames/frame_001260.jpg\n",
      "/storage/ice1/0/4/bpopper3/aaaaaaaa/LLaVA_RAG/notebook_pipeline_custom_questions/./storage/zwbCD3CUFIs/frames/frame_001260.jpg\n",
      "Saving frame 990 to ./storage/XzgR14o6b80/frames/frame_000990.jpg\n",
      "/storage/ice1/0/4/bpopper3/aaaaaaaa/LLaVA_RAG/notebook_pipeline_custom_questions/./storage/XzgR14o6b80/frames/frame_000990.jpgSaving frame 1350 to ./storage/zwbCD3CUFIs/frames/frame_001350.jpg\n",
      "\n",
      "/storage/ice1/0/4/bpopper3/aaaaaaaa/LLaVA_RAG/notebook_pipeline_custom_questions/./storage/zwbCD3CUFIs/frames/frame_001350.jpg\n",
      "Saving frame 1080 to ./storage/XzgR14o6b80/frames/frame_001080.jpg\n",
      "Saving frame 1440 to ./storage/zwbCD3CUFIs/frames/frame_001440.jpg\n",
      "/storage/ice1/0/4/bpopper3/aaaaaaaa/LLaVA_RAG/notebook_pipeline_custom_questions/./storage/zwbCD3CUFIs/frames/frame_001440.jpg/storage/ice1/0/4/bpopper3/aaaaaaaa/LLaVA_RAG/notebook_pipeline_custom_questions/./storage/XzgR14o6b80/frames/frame_001080.jpg\n",
      "\n",
      "Saving frame 1530 to ./storage/zwbCD3CUFIs/frames/frame_001530.jpg\n",
      "Saving frame 1170 to ./storage/XzgR14o6b80/frames/frame_001170.jpg\n",
      "/storage/ice1/0/4/bpopper3/aaaaaaaa/LLaVA_RAG/notebook_pipeline_custom_questions/./storage/zwbCD3CUFIs/frames/frame_001530.jpg\n",
      "/storage/ice1/0/4/bpopper3/aaaaaaaa/LLaVA_RAG/notebook_pipeline_custom_questions/./storage/XzgR14o6b80/frames/frame_001170.jpg\n",
      "Saving frame 1620 to ./storage/zwbCD3CUFIs/frames/frame_001620.jpg\n",
      "/storage/ice1/0/4/bpopper3/aaaaaaaa/LLaVA_RAG/notebook_pipeline_custom_questions/./storage/zwbCD3CUFIs/frames/frame_001620.jpg\n",
      "Saving frame 1260 to ./storage/XzgR14o6b80/frames/frame_001260.jpg\n",
      "/storage/ice1/0/4/bpopper3/aaaaaaaa/LLaVA_RAG/notebook_pipeline_custom_questions/./storage/XzgR14o6b80/frames/frame_001260.jpg\n",
      "Saving frame 1710 to ./storage/zwbCD3CUFIs/frames/frame_001710.jpg\n",
      "/storage/ice1/0/4/bpopper3/aaaaaaaa/LLaVA_RAG/notebook_pipeline_custom_questions/./storage/zwbCD3CUFIs/frames/frame_001710.jpg\n",
      "Saving frame 1350 to ./storage/XzgR14o6b80/frames/frame_001350.jpg\n",
      "/storage/ice1/0/4/bpopper3/aaaaaaaa/LLaVA_RAG/notebook_pipeline_custom_questions/./storage/XzgR14o6b80/frames/frame_001350.jpg\n",
      "Saving frame 1800 to ./storage/zwbCD3CUFIs/frames/frame_001800.jpg\n",
      "/storage/ice1/0/4/bpopper3/aaaaaaaa/LLaVA_RAG/notebook_pipeline_custom_questions/./storage/zwbCD3CUFIs/frames/frame_001800.jpg\n",
      "Saving frame 1440 to ./storage/XzgR14o6b80/frames/frame_001440.jpg\n",
      "/storage/ice1/0/4/bpopper3/aaaaaaaa/LLaVA_RAG/notebook_pipeline_custom_questions/./storage/XzgR14o6b80/frames/frame_001440.jpg\n",
      "Saving frame 1890 to ./storage/zwbCD3CUFIs/frames/frame_001890.jpg\n",
      "/storage/ice1/0/4/bpopper3/aaaaaaaa/LLaVA_RAG/notebook_pipeline_custom_questions/./storage/zwbCD3CUFIs/frames/frame_001890.jpg\n",
      "Saving frame 1530 to ./storage/XzgR14o6b80/frames/frame_001530.jpg\n",
      "/storage/ice1/0/4/bpopper3/aaaaaaaa/LLaVA_RAG/notebook_pipeline_custom_questions/./storage/XzgR14o6b80/frames/frame_001530.jpg\n",
      "Saving frame 1980 to ./storage/zwbCD3CUFIs/frames/frame_001980.jpg\n",
      "/storage/ice1/0/4/bpopper3/aaaaaaaa/LLaVA_RAG/notebook_pipeline_custom_questions/./storage/zwbCD3CUFIs/frames/frame_001980.jpg\n",
      "Saving frame 1620 to ./storage/XzgR14o6b80/frames/frame_001620.jpg\n",
      "Saving frame 2070 to ./storage/zwbCD3CUFIs/frames/frame_002070.jpg/storage/ice1/0/4/bpopper3/aaaaaaaa/LLaVA_RAG/notebook_pipeline_custom_questions/./storage/XzgR14o6b80/frames/frame_001620.jpg\n",
      "\n"
     ]
    },
    {
     "name": "stdout",
     "output_type": "stream",
     "text": [
      "/storage/ice1/0/4/bpopper3/aaaaaaaa/LLaVA_RAG/notebook_pipeline_custom_questions/./storage/zwbCD3CUFIs/frames/frame_002070.jpg\n",
      "Saving frame 1710 to ./storage/XzgR14o6b80/frames/frame_001710.jpg\n",
      "/storage/ice1/0/4/bpopper3/aaaaaaaa/LLaVA_RAG/notebook_pipeline_custom_questions/./storage/XzgR14o6b80/frames/frame_001710.jpg\n",
      "Saving frame 2160 to ./storage/zwbCD3CUFIs/frames/frame_002160.jpg\n",
      "/storage/ice1/0/4/bpopper3/aaaaaaaa/LLaVA_RAG/notebook_pipeline_custom_questions/./storage/zwbCD3CUFIs/frames/frame_002160.jpg\n",
      "Saving frame 2250 to ./storage/zwbCD3CUFIs/frames/frame_002250.jpg\n",
      "Saving frame 1800 to ./storage/XzgR14o6b80/frames/frame_001800.jpg/storage/ice1/0/4/bpopper3/aaaaaaaa/LLaVA_RAG/notebook_pipeline_custom_questions/./storage/zwbCD3CUFIs/frames/frame_002250.jpg\n",
      "\n",
      "/storage/ice1/0/4/bpopper3/aaaaaaaa/LLaVA_RAG/notebook_pipeline_custom_questions/./storage/XzgR14o6b80/frames/frame_001800.jpg\n",
      "Saving frame 2340 to ./storage/zwbCD3CUFIs/frames/frame_002340.jpg\n",
      "/storage/ice1/0/4/bpopper3/aaaaaaaa/LLaVA_RAG/notebook_pipeline_custom_questions/./storage/zwbCD3CUFIs/frames/frame_002340.jpg\n",
      "Saving frame 1890 to ./storage/XzgR14o6b80/frames/frame_001890.jpg\n",
      "/storage/ice1/0/4/bpopper3/aaaaaaaa/LLaVA_RAG/notebook_pipeline_custom_questions/./storage/XzgR14o6b80/frames/frame_001890.jpg\n",
      "Saving frame 2430 to ./storage/zwbCD3CUFIs/frames/frame_002430.jpg\n",
      "/storage/ice1/0/4/bpopper3/aaaaaaaa/LLaVA_RAG/notebook_pipeline_custom_questions/./storage/zwbCD3CUFIs/frames/frame_002430.jpg\n",
      "Saving frame 1980 to ./storage/XzgR14o6b80/frames/frame_001980.jpg\n",
      "/storage/ice1/0/4/bpopper3/aaaaaaaa/LLaVA_RAG/notebook_pipeline_custom_questions/./storage/XzgR14o6b80/frames/frame_001980.jpgSaving frame 2520 to ./storage/zwbCD3CUFIs/frames/frame_002520.jpg\n",
      "\n",
      "/storage/ice1/0/4/bpopper3/aaaaaaaa/LLaVA_RAG/notebook_pipeline_custom_questions/./storage/zwbCD3CUFIs/frames/frame_002520.jpg\n",
      "Saving frame 2610 to ./storage/zwbCD3CUFIs/frames/frame_002610.jpg\n",
      "/storage/ice1/0/4/bpopper3/aaaaaaaa/LLaVA_RAG/notebook_pipeline_custom_questions/./storage/zwbCD3CUFIs/frames/frame_002610.jpg\n",
      "Saving frame 2070 to ./storage/XzgR14o6b80/frames/frame_002070.jpg\n",
      "/storage/ice1/0/4/bpopper3/aaaaaaaa/LLaVA_RAG/notebook_pipeline_custom_questions/./storage/XzgR14o6b80/frames/frame_002070.jpg\n",
      "Saving frame 2700 to ./storage/zwbCD3CUFIs/frames/frame_002700.jpg\n",
      "/storage/ice1/0/4/bpopper3/aaaaaaaa/LLaVA_RAG/notebook_pipeline_custom_questions/./storage/zwbCD3CUFIs/frames/frame_002700.jpg\n",
      "Saving frame 2160 to ./storage/XzgR14o6b80/frames/frame_002160.jpg\n",
      "/storage/ice1/0/4/bpopper3/aaaaaaaa/LLaVA_RAG/notebook_pipeline_custom_questions/./storage/XzgR14o6b80/frames/frame_002160.jpg\n",
      "Saving frame 2790 to ./storage/zwbCD3CUFIs/frames/frame_002790.jpg\n",
      "/storage/ice1/0/4/bpopper3/aaaaaaaa/LLaVA_RAG/notebook_pipeline_custom_questions/./storage/zwbCD3CUFIs/frames/frame_002790.jpg\n",
      "Saving frame 2250 to ./storage/XzgR14o6b80/frames/frame_002250.jpg\n",
      "/storage/ice1/0/4/bpopper3/aaaaaaaa/LLaVA_RAG/notebook_pipeline_custom_questions/./storage/XzgR14o6b80/frames/frame_002250.jpg\n",
      "Saving frame 2880 to ./storage/zwbCD3CUFIs/frames/frame_002880.jpg\n",
      "/storage/ice1/0/4/bpopper3/aaaaaaaa/LLaVA_RAG/notebook_pipeline_custom_questions/./storage/zwbCD3CUFIs/frames/frame_002880.jpg\n",
      "Saving frame 2970 to ./storage/zwbCD3CUFIs/frames/frame_002970.jpgSaving frame 2340 to ./storage/XzgR14o6b80/frames/frame_002340.jpg\n",
      "\n",
      "/storage/ice1/0/4/bpopper3/aaaaaaaa/LLaVA_RAG/notebook_pipeline_custom_questions/./storage/XzgR14o6b80/frames/frame_002340.jpg/storage/ice1/0/4/bpopper3/aaaaaaaa/LLaVA_RAG/notebook_pipeline_custom_questions/./storage/zwbCD3CUFIs/frames/frame_002970.jpg\n",
      "\n",
      "Saving frame 3060 to ./storage/zwbCD3CUFIs/frames/frame_003060.jpg\n",
      "/storage/ice1/0/4/bpopper3/aaaaaaaa/LLaVA_RAG/notebook_pipeline_custom_questions/./storage/zwbCD3CUFIs/frames/frame_003060.jpg\n",
      "Saving frame 2430 to ./storage/XzgR14o6b80/frames/frame_002430.jpg\n",
      "/storage/ice1/0/4/bpopper3/aaaaaaaa/LLaVA_RAG/notebook_pipeline_custom_questions/./storage/XzgR14o6b80/frames/frame_002430.jpg\n",
      "Saving frame 3150 to ./storage/zwbCD3CUFIs/frames/frame_003150.jpg\n",
      "/storage/ice1/0/4/bpopper3/aaaaaaaa/LLaVA_RAG/notebook_pipeline_custom_questions/./storage/zwbCD3CUFIs/frames/frame_003150.jpg\n",
      "Saving frame 2520 to ./storage/XzgR14o6b80/frames/frame_002520.jpg\n",
      "/storage/ice1/0/4/bpopper3/aaaaaaaa/LLaVA_RAG/notebook_pipeline_custom_questions/./storage/XzgR14o6b80/frames/frame_002520.jpg\n",
      "Saving frame 3240 to ./storage/zwbCD3CUFIs/frames/frame_003240.jpg\n",
      "/storage/ice1/0/4/bpopper3/aaaaaaaa/LLaVA_RAG/notebook_pipeline_custom_questions/./storage/zwbCD3CUFIs/frames/frame_003240.jpg\n",
      "Saving frame 2610 to ./storage/XzgR14o6b80/frames/frame_002610.jpgSaving frame 3330 to ./storage/zwbCD3CUFIs/frames/frame_003330.jpg\n",
      "\n",
      "/storage/ice1/0/4/bpopper3/aaaaaaaa/LLaVA_RAG/notebook_pipeline_custom_questions/./storage/zwbCD3CUFIs/frames/frame_003330.jpg/storage/ice1/0/4/bpopper3/aaaaaaaa/LLaVA_RAG/notebook_pipeline_custom_questions/./storage/XzgR14o6b80/frames/frame_002610.jpg\n",
      "\n",
      "Saving frame 3420 to ./storage/zwbCD3CUFIs/frames/frame_003420.jpg\n",
      "/storage/ice1/0/4/bpopper3/aaaaaaaa/LLaVA_RAG/notebook_pipeline_custom_questions/./storage/zwbCD3CUFIs/frames/frame_003420.jpg\n",
      "Saving frame 2700 to ./storage/XzgR14o6b80/frames/frame_002700.jpg\n",
      "/storage/ice1/0/4/bpopper3/aaaaaaaa/LLaVA_RAG/notebook_pipeline_custom_questions/./storage/XzgR14o6b80/frames/frame_002700.jpg\n",
      "Saving frame 3510 to ./storage/zwbCD3CUFIs/frames/frame_003510.jpg\n",
      "/storage/ice1/0/4/bpopper3/aaaaaaaa/LLaVA_RAG/notebook_pipeline_custom_questions/./storage/zwbCD3CUFIs/frames/frame_003510.jpg\n",
      "Saving frame 2790 to ./storage/XzgR14o6b80/frames/frame_002790.jpg\n",
      "/storage/ice1/0/4/bpopper3/aaaaaaaa/LLaVA_RAG/notebook_pipeline_custom_questions/./storage/XzgR14o6b80/frames/frame_002790.jpg\n",
      "Saving frame 3600 to ./storage/zwbCD3CUFIs/frames/frame_003600.jpg\n",
      "/storage/ice1/0/4/bpopper3/aaaaaaaa/LLaVA_RAG/notebook_pipeline_custom_questions/./storage/zwbCD3CUFIs/frames/frame_003600.jpg\n",
      "Saving frame 2880 to ./storage/XzgR14o6b80/frames/frame_002880.jpg\n",
      "/storage/ice1/0/4/bpopper3/aaaaaaaa/LLaVA_RAG/notebook_pipeline_custom_questions/./storage/XzgR14o6b80/frames/frame_002880.jpg\n",
      "Saving frame 3690 to ./storage/zwbCD3CUFIs/frames/frame_003690.jpg\n",
      "/storage/ice1/0/4/bpopper3/aaaaaaaa/LLaVA_RAG/notebook_pipeline_custom_questions/./storage/zwbCD3CUFIs/frames/frame_003690.jpg\n",
      "Saving frame 2970 to ./storage/XzgR14o6b80/frames/frame_002970.jpg\n",
      "Saving frame 3780 to ./storage/zwbCD3CUFIs/frames/frame_003780.jpg\n",
      "/storage/ice1/0/4/bpopper3/aaaaaaaa/LLaVA_RAG/notebook_pipeline_custom_questions/./storage/XzgR14o6b80/frames/frame_002970.jpg\n",
      "/storage/ice1/0/4/bpopper3/aaaaaaaa/LLaVA_RAG/notebook_pipeline_custom_questions/./storage/zwbCD3CUFIs/frames/frame_003780.jpg\n",
      "Saving frame 3060 to ./storage/XzgR14o6b80/frames/frame_003060.jpg\n",
      "/storage/ice1/0/4/bpopper3/aaaaaaaa/LLaVA_RAG/notebook_pipeline_custom_questions/./storage/XzgR14o6b80/frames/frame_003060.jpg\n",
      "Saving frame 3870 to ./storage/zwbCD3CUFIs/frames/frame_003870.jpg\n",
      "/storage/ice1/0/4/bpopper3/aaaaaaaa/LLaVA_RAG/notebook_pipeline_custom_questions/./storage/zwbCD3CUFIs/frames/frame_003870.jpg\n",
      "Saving frame 3960 to ./storage/zwbCD3CUFIs/frames/frame_003960.jpgSaving frame 3150 to ./storage/XzgR14o6b80/frames/frame_003150.jpg\n",
      "\n",
      "/storage/ice1/0/4/bpopper3/aaaaaaaa/LLaVA_RAG/notebook_pipeline_custom_questions/./storage/zwbCD3CUFIs/frames/frame_003960.jpg/storage/ice1/0/4/bpopper3/aaaaaaaa/LLaVA_RAG/notebook_pipeline_custom_questions/./storage/XzgR14o6b80/frames/frame_003150.jpg\n",
      "\n",
      "Saving frame 4050 to ./storage/zwbCD3CUFIs/frames/frame_004050.jpg\n",
      "/storage/ice1/0/4/bpopper3/aaaaaaaa/LLaVA_RAG/notebook_pipeline_custom_questions/./storage/zwbCD3CUFIs/frames/frame_004050.jpg\n",
      "Saving frame 3240 to ./storage/XzgR14o6b80/frames/frame_003240.jpg\n",
      "/storage/ice1/0/4/bpopper3/aaaaaaaa/LLaVA_RAG/notebook_pipeline_custom_questions/./storage/XzgR14o6b80/frames/frame_003240.jpg\n",
      "Saving frame 4140 to ./storage/zwbCD3CUFIs/frames/frame_004140.jpg\n",
      "/storage/ice1/0/4/bpopper3/aaaaaaaa/LLaVA_RAG/notebook_pipeline_custom_questions/./storage/zwbCD3CUFIs/frames/frame_004140.jpg\n",
      "Saving frame 3330 to ./storage/XzgR14o6b80/frames/frame_003330.jpg\n"
     ]
    },
    {
     "name": "stdout",
     "output_type": "stream",
     "text": [
      "/storage/ice1/0/4/bpopper3/aaaaaaaa/LLaVA_RAG/notebook_pipeline_custom_questions/./storage/XzgR14o6b80/frames/frame_003330.jpg\n",
      "Saving frame 4230 to ./storage/zwbCD3CUFIs/frames/frame_004230.jpg\n",
      "/storage/ice1/0/4/bpopper3/aaaaaaaa/LLaVA_RAG/notebook_pipeline_custom_questions/./storage/zwbCD3CUFIs/frames/frame_004230.jpg\n",
      "Saving frame 3420 to ./storage/XzgR14o6b80/frames/frame_003420.jpg\n",
      "/storage/ice1/0/4/bpopper3/aaaaaaaa/LLaVA_RAG/notebook_pipeline_custom_questions/./storage/XzgR14o6b80/frames/frame_003420.jpg\n",
      "Saving frame 4320 to ./storage/zwbCD3CUFIs/frames/frame_004320.jpg\n",
      "/storage/ice1/0/4/bpopper3/aaaaaaaa/LLaVA_RAG/notebook_pipeline_custom_questions/./storage/zwbCD3CUFIs/frames/frame_004320.jpg\n",
      "Saving frame 4410 to ./storage/zwbCD3CUFIs/frames/frame_004410.jpg\n",
      "/storage/ice1/0/4/bpopper3/aaaaaaaa/LLaVA_RAG/notebook_pipeline_custom_questions/./storage/zwbCD3CUFIs/frames/frame_004410.jpg\n",
      "Saving frame 3510 to ./storage/XzgR14o6b80/frames/frame_003510.jpg\n",
      "/storage/ice1/0/4/bpopper3/aaaaaaaa/LLaVA_RAG/notebook_pipeline_custom_questions/./storage/XzgR14o6b80/frames/frame_003510.jpg\n",
      "Saving frame 4500 to ./storage/zwbCD3CUFIs/frames/frame_004500.jpg\n",
      "/storage/ice1/0/4/bpopper3/aaaaaaaa/LLaVA_RAG/notebook_pipeline_custom_questions/./storage/zwbCD3CUFIs/frames/frame_004500.jpg\n",
      "Saving frame 3600 to ./storage/XzgR14o6b80/frames/frame_003600.jpg\n",
      "/storage/ice1/0/4/bpopper3/aaaaaaaa/LLaVA_RAG/notebook_pipeline_custom_questions/./storage/XzgR14o6b80/frames/frame_003600.jpg\n",
      "Saving frame 4590 to ./storage/zwbCD3CUFIs/frames/frame_004590.jpg\n",
      "/storage/ice1/0/4/bpopper3/aaaaaaaa/LLaVA_RAG/notebook_pipeline_custom_questions/./storage/zwbCD3CUFIs/frames/frame_004590.jpg\n",
      "Saving frame 3690 to ./storage/XzgR14o6b80/frames/frame_003690.jpgSaving frame 4680 to ./storage/zwbCD3CUFIs/frames/frame_004680.jpg\n",
      "\n",
      "/storage/ice1/0/4/bpopper3/aaaaaaaa/LLaVA_RAG/notebook_pipeline_custom_questions/./storage/XzgR14o6b80/frames/frame_003690.jpg\n",
      "/storage/ice1/0/4/bpopper3/aaaaaaaa/LLaVA_RAG/notebook_pipeline_custom_questions/./storage/zwbCD3CUFIs/frames/frame_004680.jpg\n",
      "Saving frame 3780 to ./storage/XzgR14o6b80/frames/frame_003780.jpg\n",
      "/storage/ice1/0/4/bpopper3/aaaaaaaa/LLaVA_RAG/notebook_pipeline_custom_questions/./storage/XzgR14o6b80/frames/frame_003780.jpg\n",
      "Saving frame 4770 to ./storage/zwbCD3CUFIs/frames/frame_004770.jpg\n",
      "/storage/ice1/0/4/bpopper3/aaaaaaaa/LLaVA_RAG/notebook_pipeline_custom_questions/./storage/zwbCD3CUFIs/frames/frame_004770.jpg\n",
      "Saving frame 3870 to ./storage/XzgR14o6b80/frames/frame_003870.jpg\n",
      "/storage/ice1/0/4/bpopper3/aaaaaaaa/LLaVA_RAG/notebook_pipeline_custom_questions/./storage/XzgR14o6b80/frames/frame_003870.jpg\n",
      "Saving frame 4860 to ./storage/zwbCD3CUFIs/frames/frame_004860.jpg\n",
      "/storage/ice1/0/4/bpopper3/aaaaaaaa/LLaVA_RAG/notebook_pipeline_custom_questions/./storage/zwbCD3CUFIs/frames/frame_004860.jpg\n",
      "Saving frame 3960 to ./storage/XzgR14o6b80/frames/frame_003960.jpg\n",
      "/storage/ice1/0/4/bpopper3/aaaaaaaa/LLaVA_RAG/notebook_pipeline_custom_questions/./storage/XzgR14o6b80/frames/frame_003960.jpg\n",
      "Saving frame 4950 to ./storage/zwbCD3CUFIs/frames/frame_004950.jpg\n",
      "/storage/ice1/0/4/bpopper3/aaaaaaaa/LLaVA_RAG/notebook_pipeline_custom_questions/./storage/zwbCD3CUFIs/frames/frame_004950.jpg\n",
      "Saving frame 4050 to ./storage/XzgR14o6b80/frames/frame_004050.jpgSaving frame 5040 to ./storage/zwbCD3CUFIs/frames/frame_005040.jpg\n",
      "\n",
      "/storage/ice1/0/4/bpopper3/aaaaaaaa/LLaVA_RAG/notebook_pipeline_custom_questions/./storage/zwbCD3CUFIs/frames/frame_005040.jpg/storage/ice1/0/4/bpopper3/aaaaaaaa/LLaVA_RAG/notebook_pipeline_custom_questions/./storage/XzgR14o6b80/frames/frame_004050.jpg\n",
      "\n",
      "Saving frame 5130 to ./storage/zwbCD3CUFIs/frames/frame_005130.jpg\n",
      "/storage/ice1/0/4/bpopper3/aaaaaaaa/LLaVA_RAG/notebook_pipeline_custom_questions/./storage/zwbCD3CUFIs/frames/frame_005130.jpg\n",
      "Saving frame 4140 to ./storage/XzgR14o6b80/frames/frame_004140.jpg\n",
      "/storage/ice1/0/4/bpopper3/aaaaaaaa/LLaVA_RAG/notebook_pipeline_custom_questions/./storage/XzgR14o6b80/frames/frame_004140.jpg\n",
      "Saving frame 5220 to ./storage/zwbCD3CUFIs/frames/frame_005220.jpg\n",
      "/storage/ice1/0/4/bpopper3/aaaaaaaa/LLaVA_RAG/notebook_pipeline_custom_questions/./storage/zwbCD3CUFIs/frames/frame_005220.jpg\n",
      "Saving frame 4230 to ./storage/XzgR14o6b80/frames/frame_004230.jpg\n",
      "/storage/ice1/0/4/bpopper3/aaaaaaaa/LLaVA_RAG/notebook_pipeline_custom_questions/./storage/XzgR14o6b80/frames/frame_004230.jpg\n",
      "Saving frame 5310 to ./storage/zwbCD3CUFIs/frames/frame_005310.jpg\n",
      "/storage/ice1/0/4/bpopper3/aaaaaaaa/LLaVA_RAG/notebook_pipeline_custom_questions/./storage/zwbCD3CUFIs/frames/frame_005310.jpg\n",
      "Saving frame 4320 to ./storage/XzgR14o6b80/frames/frame_004320.jpg\n",
      "/storage/ice1/0/4/bpopper3/aaaaaaaa/LLaVA_RAG/notebook_pipeline_custom_questions/./storage/XzgR14o6b80/frames/frame_004320.jpgSaving frame 5400 to ./storage/zwbCD3CUFIs/frames/frame_005400.jpg\n",
      "\n",
      "/storage/ice1/0/4/bpopper3/aaaaaaaa/LLaVA_RAG/notebook_pipeline_custom_questions/./storage/zwbCD3CUFIs/frames/frame_005400.jpg\n",
      "Saving frame 4410 to ./storage/XzgR14o6b80/frames/frame_004410.jpgSaving frame 5490 to ./storage/zwbCD3CUFIs/frames/frame_005490.jpg\n",
      "\n",
      "/storage/ice1/0/4/bpopper3/aaaaaaaa/LLaVA_RAG/notebook_pipeline_custom_questions/./storage/XzgR14o6b80/frames/frame_004410.jpg\n",
      "/storage/ice1/0/4/bpopper3/aaaaaaaa/LLaVA_RAG/notebook_pipeline_custom_questions/./storage/zwbCD3CUFIs/frames/frame_005490.jpg\n",
      "Saving frame 5580 to ./storage/zwbCD3CUFIs/frames/frame_005580.jpg\n",
      "/storage/ice1/0/4/bpopper3/aaaaaaaa/LLaVA_RAG/notebook_pipeline_custom_questions/./storage/zwbCD3CUFIs/frames/frame_005580.jpg\n",
      "Saving frame 4500 to ./storage/XzgR14o6b80/frames/frame_004500.jpg\n",
      "/storage/ice1/0/4/bpopper3/aaaaaaaa/LLaVA_RAG/notebook_pipeline_custom_questions/./storage/XzgR14o6b80/frames/frame_004500.jpg\n",
      "Saving frame 5670 to ./storage/zwbCD3CUFIs/frames/frame_005670.jpg\n",
      "/storage/ice1/0/4/bpopper3/aaaaaaaa/LLaVA_RAG/notebook_pipeline_custom_questions/./storage/zwbCD3CUFIs/frames/frame_005670.jpg\n",
      "Saving frame 4590 to ./storage/XzgR14o6b80/frames/frame_004590.jpg\n",
      "/storage/ice1/0/4/bpopper3/aaaaaaaa/LLaVA_RAG/notebook_pipeline_custom_questions/./storage/XzgR14o6b80/frames/frame_004590.jpg\n",
      "Saving frame 5760 to ./storage/zwbCD3CUFIs/frames/frame_005760.jpg\n",
      "/storage/ice1/0/4/bpopper3/aaaaaaaa/LLaVA_RAG/notebook_pipeline_custom_questions/./storage/zwbCD3CUFIs/frames/frame_005760.jpg\n",
      "Saving frame 4680 to ./storage/XzgR14o6b80/frames/frame_004680.jpg\n",
      "Saving frame 5850 to ./storage/zwbCD3CUFIs/frames/frame_005850.jpg/storage/ice1/0/4/bpopper3/aaaaaaaa/LLaVA_RAG/notebook_pipeline_custom_questions/./storage/XzgR14o6b80/frames/frame_004680.jpg\n",
      "\n",
      "/storage/ice1/0/4/bpopper3/aaaaaaaa/LLaVA_RAG/notebook_pipeline_custom_questions/./storage/zwbCD3CUFIs/frames/frame_005850.jpg\n",
      "Saving frame 4770 to ./storage/XzgR14o6b80/frames/frame_004770.jpg\n",
      "Saving frame 5940 to ./storage/zwbCD3CUFIs/frames/frame_005940.jpg\n",
      "/storage/ice1/0/4/bpopper3/aaaaaaaa/LLaVA_RAG/notebook_pipeline_custom_questions/./storage/XzgR14o6b80/frames/frame_004770.jpg\n",
      "/storage/ice1/0/4/bpopper3/aaaaaaaa/LLaVA_RAG/notebook_pipeline_custom_questions/./storage/zwbCD3CUFIs/frames/frame_005940.jpg\n",
      "Saving frame 6030 to ./storage/zwbCD3CUFIs/frames/frame_006030.jpg\n",
      "/storage/ice1/0/4/bpopper3/aaaaaaaa/LLaVA_RAG/notebook_pipeline_custom_questions/./storage/zwbCD3CUFIs/frames/frame_006030.jpgSaving frame 4860 to ./storage/XzgR14o6b80/frames/frame_004860.jpg\n",
      "\n",
      "/storage/ice1/0/4/bpopper3/aaaaaaaa/LLaVA_RAG/notebook_pipeline_custom_questions/./storage/XzgR14o6b80/frames/frame_004860.jpg\n",
      "Saving frame 6120 to ./storage/zwbCD3CUFIs/frames/frame_006120.jpg\n",
      "/storage/ice1/0/4/bpopper3/aaaaaaaa/LLaVA_RAG/notebook_pipeline_custom_questions/./storage/zwbCD3CUFIs/frames/frame_006120.jpg\n",
      "Saving frame 4950 to ./storage/XzgR14o6b80/frames/frame_004950.jpg\n",
      "/storage/ice1/0/4/bpopper3/aaaaaaaa/LLaVA_RAG/notebook_pipeline_custom_questions/./storage/XzgR14o6b80/frames/frame_004950.jpg\n",
      "Saving frame 6210 to ./storage/zwbCD3CUFIs/frames/frame_006210.jpg\n",
      "/storage/ice1/0/4/bpopper3/aaaaaaaa/LLaVA_RAG/notebook_pipeline_custom_questions/./storage/zwbCD3CUFIs/frames/frame_006210.jpg\n",
      "Saving frame 5040 to ./storage/XzgR14o6b80/frames/frame_005040.jpg\n"
     ]
    },
    {
     "name": "stdout",
     "output_type": "stream",
     "text": [
      "/storage/ice1/0/4/bpopper3/aaaaaaaa/LLaVA_RAG/notebook_pipeline_custom_questions/./storage/XzgR14o6b80/frames/frame_005040.jpg\n",
      "Saving frame 6300 to ./storage/zwbCD3CUFIs/frames/frame_006300.jpg\n",
      "/storage/ice1/0/4/bpopper3/aaaaaaaa/LLaVA_RAG/notebook_pipeline_custom_questions/./storage/zwbCD3CUFIs/frames/frame_006300.jpg\n",
      "Saving frame 5130 to ./storage/XzgR14o6b80/frames/frame_005130.jpg\n",
      "/storage/ice1/0/4/bpopper3/aaaaaaaa/LLaVA_RAG/notebook_pipeline_custom_questions/./storage/XzgR14o6b80/frames/frame_005130.jpg\n",
      "Saving frame 6390 to ./storage/zwbCD3CUFIs/frames/frame_006390.jpg\n",
      "/storage/ice1/0/4/bpopper3/aaaaaaaa/LLaVA_RAG/notebook_pipeline_custom_questions/./storage/zwbCD3CUFIs/frames/frame_006390.jpg\n",
      "Saving frame 5220 to ./storage/XzgR14o6b80/frames/frame_005220.jpg\n",
      "/storage/ice1/0/4/bpopper3/aaaaaaaa/LLaVA_RAG/notebook_pipeline_custom_questions/./storage/XzgR14o6b80/frames/frame_005220.jpg\n",
      "Saving frame 6480 to ./storage/zwbCD3CUFIs/frames/frame_006480.jpg\n",
      "/storage/ice1/0/4/bpopper3/aaaaaaaa/LLaVA_RAG/notebook_pipeline_custom_questions/./storage/zwbCD3CUFIs/frames/frame_006480.jpg\n",
      "Saving frame 5310 to ./storage/XzgR14o6b80/frames/frame_005310.jpg\n",
      "/storage/ice1/0/4/bpopper3/aaaaaaaa/LLaVA_RAG/notebook_pipeline_custom_questions/./storage/XzgR14o6b80/frames/frame_005310.jpg\n",
      "Saving frame 6570 to ./storage/zwbCD3CUFIs/frames/frame_006570.jpg\n",
      "/storage/ice1/0/4/bpopper3/aaaaaaaa/LLaVA_RAG/notebook_pipeline_custom_questions/./storage/zwbCD3CUFIs/frames/frame_006570.jpgSaving frame 5400 to ./storage/XzgR14o6b80/frames/frame_005400.jpg\n",
      "\n",
      "/storage/ice1/0/4/bpopper3/aaaaaaaa/LLaVA_RAG/notebook_pipeline_custom_questions/./storage/XzgR14o6b80/frames/frame_005400.jpg\n",
      "Saving frame 6660 to ./storage/zwbCD3CUFIs/frames/frame_006660.jpg\n",
      "/storage/ice1/0/4/bpopper3/aaaaaaaa/LLaVA_RAG/notebook_pipeline_custom_questions/./storage/zwbCD3CUFIs/frames/frame_006660.jpg\n",
      "Saving frame 5490 to ./storage/XzgR14o6b80/frames/frame_005490.jpg\n",
      "/storage/ice1/0/4/bpopper3/aaaaaaaa/LLaVA_RAG/notebook_pipeline_custom_questions/./storage/XzgR14o6b80/frames/frame_005490.jpg\n",
      "Saving frame 6750 to ./storage/zwbCD3CUFIs/frames/frame_006750.jpg\n",
      "/storage/ice1/0/4/bpopper3/aaaaaaaa/LLaVA_RAG/notebook_pipeline_custom_questions/./storage/zwbCD3CUFIs/frames/frame_006750.jpg\n",
      "Saving frame 5580 to ./storage/XzgR14o6b80/frames/frame_005580.jpg\n",
      "/storage/ice1/0/4/bpopper3/aaaaaaaa/LLaVA_RAG/notebook_pipeline_custom_questions/./storage/XzgR14o6b80/frames/frame_005580.jpg\n",
      "Saving frame 6840 to ./storage/zwbCD3CUFIs/frames/frame_006840.jpg\n",
      "/storage/ice1/0/4/bpopper3/aaaaaaaa/LLaVA_RAG/notebook_pipeline_custom_questions/./storage/zwbCD3CUFIs/frames/frame_006840.jpg\n",
      "Saving frame 6930 to ./storage/zwbCD3CUFIs/frames/frame_006930.jpg\n",
      "Saving frame 5670 to ./storage/XzgR14o6b80/frames/frame_005670.jpg\n",
      "/storage/ice1/0/4/bpopper3/aaaaaaaa/LLaVA_RAG/notebook_pipeline_custom_questions/./storage/zwbCD3CUFIs/frames/frame_006930.jpg\n",
      "/storage/ice1/0/4/bpopper3/aaaaaaaa/LLaVA_RAG/notebook_pipeline_custom_questions/./storage/XzgR14o6b80/frames/frame_005670.jpg\n",
      "Saving frame 7020 to ./storage/zwbCD3CUFIs/frames/frame_007020.jpg\n",
      "/storage/ice1/0/4/bpopper3/aaaaaaaa/LLaVA_RAG/notebook_pipeline_custom_questions/./storage/zwbCD3CUFIs/frames/frame_007020.jpg\n",
      "Saving frame 5760 to ./storage/XzgR14o6b80/frames/frame_005760.jpg\n",
      "/storage/ice1/0/4/bpopper3/aaaaaaaa/LLaVA_RAG/notebook_pipeline_custom_questions/./storage/XzgR14o6b80/frames/frame_005760.jpg\n",
      "Saving frame 7110 to ./storage/zwbCD3CUFIs/frames/frame_007110.jpg\n",
      "/storage/ice1/0/4/bpopper3/aaaaaaaa/LLaVA_RAG/notebook_pipeline_custom_questions/./storage/zwbCD3CUFIs/frames/frame_007110.jpg\n",
      "Saving frame 5850 to ./storage/XzgR14o6b80/frames/frame_005850.jpg\n",
      "/storage/ice1/0/4/bpopper3/aaaaaaaa/LLaVA_RAG/notebook_pipeline_custom_questions/./storage/XzgR14o6b80/frames/frame_005850.jpg\n",
      "Saving frame 7200 to ./storage/zwbCD3CUFIs/frames/frame_007200.jpg\n",
      "/storage/ice1/0/4/bpopper3/aaaaaaaa/LLaVA_RAG/notebook_pipeline_custom_questions/./storage/zwbCD3CUFIs/frames/frame_007200.jpg\n",
      "Saving frame 5940 to ./storage/XzgR14o6b80/frames/frame_005940.jpg\n",
      "/storage/ice1/0/4/bpopper3/aaaaaaaa/LLaVA_RAG/notebook_pipeline_custom_questions/./storage/XzgR14o6b80/frames/frame_005940.jpg\n",
      "Saving frame 7290 to ./storage/zwbCD3CUFIs/frames/frame_007290.jpg\n",
      "/storage/ice1/0/4/bpopper3/aaaaaaaa/LLaVA_RAG/notebook_pipeline_custom_questions/./storage/zwbCD3CUFIs/frames/frame_007290.jpg\n",
      "Saving frame 6030 to ./storage/XzgR14o6b80/frames/frame_006030.jpg\n",
      "/storage/ice1/0/4/bpopper3/aaaaaaaa/LLaVA_RAG/notebook_pipeline_custom_questions/./storage/XzgR14o6b80/frames/frame_006030.jpg\n",
      "Saving frame 7380 to ./storage/zwbCD3CUFIs/frames/frame_007380.jpg\n",
      "/storage/ice1/0/4/bpopper3/aaaaaaaa/LLaVA_RAG/notebook_pipeline_custom_questions/./storage/zwbCD3CUFIs/frames/frame_007380.jpg\n",
      "Saving frame 6120 to ./storage/XzgR14o6b80/frames/frame_006120.jpg\n",
      "/storage/ice1/0/4/bpopper3/aaaaaaaa/LLaVA_RAG/notebook_pipeline_custom_questions/./storage/XzgR14o6b80/frames/frame_006120.jpg\n",
      "Saving frame 7470 to ./storage/zwbCD3CUFIs/frames/frame_007470.jpg\n",
      "/storage/ice1/0/4/bpopper3/aaaaaaaa/LLaVA_RAG/notebook_pipeline_custom_questions/./storage/zwbCD3CUFIs/frames/frame_007470.jpg\n",
      "Saving frame 6210 to ./storage/XzgR14o6b80/frames/frame_006210.jpg\n",
      "/storage/ice1/0/4/bpopper3/aaaaaaaa/LLaVA_RAG/notebook_pipeline_custom_questions/./storage/XzgR14o6b80/frames/frame_006210.jpg\n",
      "Saving frame 7560 to ./storage/zwbCD3CUFIs/frames/frame_007560.jpg\n",
      "/storage/ice1/0/4/bpopper3/aaaaaaaa/LLaVA_RAG/notebook_pipeline_custom_questions/./storage/zwbCD3CUFIs/frames/frame_007560.jpg\n",
      "Saving frame 6300 to ./storage/XzgR14o6b80/frames/frame_006300.jpg\n",
      "/storage/ice1/0/4/bpopper3/aaaaaaaa/LLaVA_RAG/notebook_pipeline_custom_questions/./storage/XzgR14o6b80/frames/frame_006300.jpg\n",
      "Saving frame 7650 to ./storage/zwbCD3CUFIs/frames/frame_007650.jpg\n",
      "/storage/ice1/0/4/bpopper3/aaaaaaaa/LLaVA_RAG/notebook_pipeline_custom_questions/./storage/zwbCD3CUFIs/frames/frame_007650.jpg\n",
      "Saving frame 6390 to ./storage/XzgR14o6b80/frames/frame_006390.jpg\n",
      "/storage/ice1/0/4/bpopper3/aaaaaaaa/LLaVA_RAG/notebook_pipeline_custom_questions/./storage/XzgR14o6b80/frames/frame_006390.jpg\n",
      "Saving frame 7740 to ./storage/zwbCD3CUFIs/frames/frame_007740.jpg\n",
      "/storage/ice1/0/4/bpopper3/aaaaaaaa/LLaVA_RAG/notebook_pipeline_custom_questions/./storage/zwbCD3CUFIs/frames/frame_007740.jpg\n",
      "Saving frame 6480 to ./storage/XzgR14o6b80/frames/frame_006480.jpg\n",
      "/storage/ice1/0/4/bpopper3/aaaaaaaa/LLaVA_RAG/notebook_pipeline_custom_questions/./storage/XzgR14o6b80/frames/frame_006480.jpg\n",
      "Saving frame 7830 to ./storage/zwbCD3CUFIs/frames/frame_007830.jpg\n",
      "/storage/ice1/0/4/bpopper3/aaaaaaaa/LLaVA_RAG/notebook_pipeline_custom_questions/./storage/zwbCD3CUFIs/frames/frame_007830.jpg\n",
      "Saving frame 6570 to ./storage/XzgR14o6b80/frames/frame_006570.jpg\n",
      "/storage/ice1/0/4/bpopper3/aaaaaaaa/LLaVA_RAG/notebook_pipeline_custom_questions/./storage/XzgR14o6b80/frames/frame_006570.jpg\n",
      "Saving frame 7920 to ./storage/zwbCD3CUFIs/frames/frame_007920.jpg\n",
      "/storage/ice1/0/4/bpopper3/aaaaaaaa/LLaVA_RAG/notebook_pipeline_custom_questions/./storage/zwbCD3CUFIs/frames/frame_007920.jpg\n",
      "Saving frame 6660 to ./storage/XzgR14o6b80/frames/frame_006660.jpg\n",
      "/storage/ice1/0/4/bpopper3/aaaaaaaa/LLaVA_RAG/notebook_pipeline_custom_questions/./storage/XzgR14o6b80/frames/frame_006660.jpg\n",
      "Saving frame 8010 to ./storage/zwbCD3CUFIs/frames/frame_008010.jpg\n",
      "/storage/ice1/0/4/bpopper3/aaaaaaaa/LLaVA_RAG/notebook_pipeline_custom_questions/./storage/zwbCD3CUFIs/frames/frame_008010.jpg\n",
      "Saving frame 6750 to ./storage/XzgR14o6b80/frames/frame_006750.jpg\n",
      "Saving frame 8100 to ./storage/zwbCD3CUFIs/frames/frame_008100.jpg\n",
      "/storage/ice1/0/4/bpopper3/aaaaaaaa/LLaVA_RAG/notebook_pipeline_custom_questions/./storage/XzgR14o6b80/frames/frame_006750.jpg\n",
      "/storage/ice1/0/4/bpopper3/aaaaaaaa/LLaVA_RAG/notebook_pipeline_custom_questions/./storage/zwbCD3CUFIs/frames/frame_008100.jpg\n",
      "Saving frame 8190 to ./storage/zwbCD3CUFIs/frames/frame_008190.jpg\n",
      "/storage/ice1/0/4/bpopper3/aaaaaaaa/LLaVA_RAG/notebook_pipeline_custom_questions/./storage/zwbCD3CUFIs/frames/frame_008190.jpg\n",
      "Saving frame 6840 to ./storage/XzgR14o6b80/frames/frame_006840.jpg\n"
     ]
    },
    {
     "name": "stdout",
     "output_type": "stream",
     "text": [
      "/storage/ice1/0/4/bpopper3/aaaaaaaa/LLaVA_RAG/notebook_pipeline_custom_questions/./storage/XzgR14o6b80/frames/frame_006840.jpg\n",
      "Saving frame 8280 to ./storage/zwbCD3CUFIs/frames/frame_008280.jpg\n",
      "/storage/ice1/0/4/bpopper3/aaaaaaaa/LLaVA_RAG/notebook_pipeline_custom_questions/./storage/zwbCD3CUFIs/frames/frame_008280.jpg\n",
      "Saving frame 6930 to ./storage/XzgR14o6b80/frames/frame_006930.jpg\n",
      "/storage/ice1/0/4/bpopper3/aaaaaaaa/LLaVA_RAG/notebook_pipeline_custom_questions/./storage/XzgR14o6b80/frames/frame_006930.jpg\n",
      "Saving frame 8370 to ./storage/zwbCD3CUFIs/frames/frame_008370.jpg\n",
      "/storage/ice1/0/4/bpopper3/aaaaaaaa/LLaVA_RAG/notebook_pipeline_custom_questions/./storage/zwbCD3CUFIs/frames/frame_008370.jpg\n",
      "Saving frame 7020 to ./storage/XzgR14o6b80/frames/frame_007020.jpg\n",
      "/storage/ice1/0/4/bpopper3/aaaaaaaa/LLaVA_RAG/notebook_pipeline_custom_questions/./storage/XzgR14o6b80/frames/frame_007020.jpg\n",
      "Saving frame 8460 to ./storage/zwbCD3CUFIs/frames/frame_008460.jpg\n",
      "/storage/ice1/0/4/bpopper3/aaaaaaaa/LLaVA_RAG/notebook_pipeline_custom_questions/./storage/zwbCD3CUFIs/frames/frame_008460.jpg\n",
      "Saving frame 7110 to ./storage/XzgR14o6b80/frames/frame_007110.jpg\n",
      "/storage/ice1/0/4/bpopper3/aaaaaaaa/LLaVA_RAG/notebook_pipeline_custom_questions/./storage/XzgR14o6b80/frames/frame_007110.jpg\n",
      "Saving frame 8550 to ./storage/zwbCD3CUFIs/frames/frame_008550.jpg\n",
      "/storage/ice1/0/4/bpopper3/aaaaaaaa/LLaVA_RAG/notebook_pipeline_custom_questions/./storage/zwbCD3CUFIs/frames/frame_008550.jpg\n",
      "Saving frame 7200 to ./storage/XzgR14o6b80/frames/frame_007200.jpg\n",
      "/storage/ice1/0/4/bpopper3/aaaaaaaa/LLaVA_RAG/notebook_pipeline_custom_questions/./storage/XzgR14o6b80/frames/frame_007200.jpg\n",
      "Saving frame 8640 to ./storage/zwbCD3CUFIs/frames/frame_008640.jpg\n",
      "/storage/ice1/0/4/bpopper3/aaaaaaaa/LLaVA_RAG/notebook_pipeline_custom_questions/./storage/zwbCD3CUFIs/frames/frame_008640.jpg\n",
      "Saving frame 7290 to ./storage/XzgR14o6b80/frames/frame_007290.jpg\n",
      "/storage/ice1/0/4/bpopper3/aaaaaaaa/LLaVA_RAG/notebook_pipeline_custom_questions/./storage/XzgR14o6b80/frames/frame_007290.jpg\n",
      "Saving frame 8730 to ./storage/zwbCD3CUFIs/frames/frame_008730.jpg\n",
      "/storage/ice1/0/4/bpopper3/aaaaaaaa/LLaVA_RAG/notebook_pipeline_custom_questions/./storage/zwbCD3CUFIs/frames/frame_008730.jpg\n",
      "Saving frame 7380 to ./storage/XzgR14o6b80/frames/frame_007380.jpg\n",
      "/storage/ice1/0/4/bpopper3/aaaaaaaa/LLaVA_RAG/notebook_pipeline_custom_questions/./storage/XzgR14o6b80/frames/frame_007380.jpg\n",
      "Saving frame 8820 to ./storage/zwbCD3CUFIs/frames/frame_008820.jpg\n",
      "/storage/ice1/0/4/bpopper3/aaaaaaaa/LLaVA_RAG/notebook_pipeline_custom_questions/./storage/zwbCD3CUFIs/frames/frame_008820.jpg\n",
      "Saving frame 7470 to ./storage/XzgR14o6b80/frames/frame_007470.jpg\n",
      "/storage/ice1/0/4/bpopper3/aaaaaaaa/LLaVA_RAG/notebook_pipeline_custom_questions/./storage/XzgR14o6b80/frames/frame_007470.jpg\n",
      "Saving frame 8910 to ./storage/zwbCD3CUFIs/frames/frame_008910.jpg\n",
      "/storage/ice1/0/4/bpopper3/aaaaaaaa/LLaVA_RAG/notebook_pipeline_custom_questions/./storage/zwbCD3CUFIs/frames/frame_008910.jpg\n",
      "Saving frame 7560 to ./storage/XzgR14o6b80/frames/frame_007560.jpg\n",
      "/storage/ice1/0/4/bpopper3/aaaaaaaa/LLaVA_RAG/notebook_pipeline_custom_questions/./storage/XzgR14o6b80/frames/frame_007560.jpg\n",
      "Saving frame 9000 to ./storage/zwbCD3CUFIs/frames/frame_009000.jpg\n",
      "/storage/ice1/0/4/bpopper3/aaaaaaaa/LLaVA_RAG/notebook_pipeline_custom_questions/./storage/zwbCD3CUFIs/frames/frame_009000.jpg\n",
      "Saving frame 7650 to ./storage/XzgR14o6b80/frames/frame_007650.jpg\n",
      "/storage/ice1/0/4/bpopper3/aaaaaaaa/LLaVA_RAG/notebook_pipeline_custom_questions/./storage/XzgR14o6b80/frames/frame_007650.jpg\n",
      "Saving frame 9090 to ./storage/zwbCD3CUFIs/frames/frame_009090.jpg\n",
      "/storage/ice1/0/4/bpopper3/aaaaaaaa/LLaVA_RAG/notebook_pipeline_custom_questions/./storage/zwbCD3CUFIs/frames/frame_009090.jpg\n",
      "Saving frame 9180 to ./storage/zwbCD3CUFIs/frames/frame_009180.jpg\n",
      "/storage/ice1/0/4/bpopper3/aaaaaaaa/LLaVA_RAG/notebook_pipeline_custom_questions/./storage/zwbCD3CUFIs/frames/frame_009180.jpg\n",
      "Saving frame 7740 to ./storage/XzgR14o6b80/frames/frame_007740.jpg\n",
      "/storage/ice1/0/4/bpopper3/aaaaaaaa/LLaVA_RAG/notebook_pipeline_custom_questions/./storage/XzgR14o6b80/frames/frame_007740.jpg\n",
      "Saving frame 9270 to ./storage/zwbCD3CUFIs/frames/frame_009270.jpgSaved 87 frames from ./storage/XzgR14o6b80/video.mp4 to ./storage/XzgR14o6b80\n",
      "\n",
      "Transcript mapping saved to image_transcript_mapping.csv\n",
      "/storage/ice1/0/4/bpopper3/aaaaaaaa/LLaVA_RAG/notebook_pipeline_custom_questions/./storage/zwbCD3CUFIs/frames/frame_009270.jpg\n",
      "Saving frame 9360 to ./storage/zwbCD3CUFIs/frames/frame_009360.jpg\n",
      "/storage/ice1/0/4/bpopper3/aaaaaaaa/LLaVA_RAG/notebook_pipeline_custom_questions/./storage/zwbCD3CUFIs/frames/frame_009360.jpg\n",
      "Saving frame 9450 to ./storage/zwbCD3CUFIs/frames/frame_009450.jpg\n",
      "/storage/ice1/0/4/bpopper3/aaaaaaaa/LLaVA_RAG/notebook_pipeline_custom_questions/./storage/zwbCD3CUFIs/frames/frame_009450.jpg\n",
      "Saving frame 9540 to ./storage/zwbCD3CUFIs/frames/frame_009540.jpg\n",
      "/storage/ice1/0/4/bpopper3/aaaaaaaa/LLaVA_RAG/notebook_pipeline_custom_questions/./storage/zwbCD3CUFIs/frames/frame_009540.jpg\n",
      "Saving frame 9630 to ./storage/zwbCD3CUFIs/frames/frame_009630.jpg\n",
      "/storage/ice1/0/4/bpopper3/aaaaaaaa/LLaVA_RAG/notebook_pipeline_custom_questions/./storage/zwbCD3CUFIs/frames/frame_009630.jpg\n",
      "Saving frame 9720 to ./storage/zwbCD3CUFIs/frames/frame_009720.jpg\n",
      "/storage/ice1/0/4/bpopper3/aaaaaaaa/LLaVA_RAG/notebook_pipeline_custom_questions/./storage/zwbCD3CUFIs/frames/frame_009720.jpg\n",
      "Saving frame 9810 to ./storage/zwbCD3CUFIs/frames/frame_009810.jpg\n",
      "/storage/ice1/0/4/bpopper3/aaaaaaaa/LLaVA_RAG/notebook_pipeline_custom_questions/./storage/zwbCD3CUFIs/frames/frame_009810.jpg\n",
      "Saving frame 9900 to ./storage/zwbCD3CUFIs/frames/frame_009900.jpg\n",
      "/storage/ice1/0/4/bpopper3/aaaaaaaa/LLaVA_RAG/notebook_pipeline_custom_questions/./storage/zwbCD3CUFIs/frames/frame_009900.jpg\n",
      "Saving frame 9990 to ./storage/zwbCD3CUFIs/frames/frame_009990.jpg\n",
      "/storage/ice1/0/4/bpopper3/aaaaaaaa/LLaVA_RAG/notebook_pipeline_custom_questions/./storage/zwbCD3CUFIs/frames/frame_009990.jpg\n",
      "Saving frame 10080 to ./storage/zwbCD3CUFIs/frames/frame_010080.jpg\n",
      "/storage/ice1/0/4/bpopper3/aaaaaaaa/LLaVA_RAG/notebook_pipeline_custom_questions/./storage/zwbCD3CUFIs/frames/frame_010080.jpg\n",
      "Saved 113 frames from ./storage/zwbCD3CUFIs/video.mp4 to ./storage/zwbCD3CUFIs\n",
      "Transcript mapping saved to image_transcript_mapping.csv\n"
     ]
    }
   ],
   "source": [
    "\n",
    "#################################################################################################################\n",
    "WANT_TO_RUN_CSV_CREATION = True\n",
    "INTERVAL_TIME = 90\n",
    "#################################################################################################################\n",
    "\n",
    "import os\n",
    "import multiprocessing\n",
    "\n",
    "def process_url(URL):\n",
    "    \"\"\"\n",
    "    Process a single URL by extracting frames and generating CSV\n",
    "    \n",
    "    :param URL: The URL/path to process\n",
    "    \"\"\"\n",
    "    video_path = f\"{base_path}/{URL}/video.mp4\"\n",
    "    srt_path = f\"{base_path}/{URL}/caption.srt\"\n",
    "    \n",
    "    # Launch the script to extract frames and generate CSV\n",
    "    video_to_images_with_transcript(video_path, f\"{base_path}/{URL}\", srt_path, csv_output, INTERVAL_TIME)\n",
    "\n",
    "def main():\n",
    "    # Determine the number of processes (4 as you specified, or use number of CPU cores)\n",
    "    num_processes = 4\n",
    "    \n",
    "    # Use multiprocessing Pool to process URLs in parallel\n",
    "    with multiprocessing.Pool(processes=num_processes) as pool:\n",
    "        # Map the process_url function to ALL_URLS\n",
    "        pool.map(process_url, ALL_URLS)\n",
    "\n",
    "if __name__ == '__main__':\n",
    "    if WANT_TO_RUN_CSV_CREATION:\n",
    "        main()"
   ]
  },
  {
   "cell_type": "markdown",
   "metadata": {},
   "source": [
    "## Step 2 : Generate FAISS embeddings from the CSVs"
   ]
  },
  {
   "cell_type": "code",
   "execution_count": 7,
   "metadata": {},
   "outputs": [
    {
     "name": "stderr",
     "output_type": "stream",
     "text": [
      "/home/hice1/bpopper3/.conda/envs/vlm/lib/python3.11/site-packages/tqdm/auto.py:21: TqdmWarning: IProgress not found. Please update jupyter and ipywidgets. See https://ipywidgets.readthedocs.io/en/stable/user_install.html\n",
      "  from .autonotebook import tqdm as notebook_tqdm\n",
      "/home/hice1/bpopper3/.conda/envs/vlm/lib/python3.11/site-packages/transformers/tokenization_utils_base.py:1617: FutureWarning: `clean_up_tokenization_spaces` was not set. It will be set to `True` by default. This behavior will be deprecated in transformers v4.45, and will be then set to `False` by default. For more details check this issue: https://github.com/huggingface/transformers/issues/31884\n",
      "  warnings.warn(\n",
      "Some weights of BridgeTowerForContrastiveLearning were not initialized from the model checkpoint at BridgeTower/bridgetower-large-itm-mlm-itc and are newly initialized: ['logit_scale']\n",
      "You should probably TRAIN this model on a down-stream task to be able to use it for predictions and inference.\n",
      "0it [00:00, ?it/s]"
     ]
    },
    {
     "name": "stdout",
     "output_type": "stream",
     "text": [
      "/storage/ice1/0/4/bpopper3/aaaaaaaa/LLaVA_RAG/notebook_pipeline_custom_questions/./storage/zwbCD3CUFIs/frames/frame_000000.jpg\n",
      "hey guys I'm Amy and I'm Julie we are the Duncan sisters welcome to the scoffs kitchen today in our Asian bite series we are doing a Singapore fried rice noodle with curry is you can see it's this bright yellow sort of concoction \n"
     ]
    },
    {
     "name": "stderr",
     "output_type": "stream",
     "text": [
      "3it [00:08,  2.17s/it]"
     ]
    },
    {
     "name": "stdout",
     "output_type": "stream",
     "text": [
      "(512,)\n",
      "/storage/ice1/0/4/bpopper3/aaaaaaaa/LLaVA_RAG/notebook_pipeline_custom_questions/./storage/zwbCD3CUFIs/frames/frame_000090.jpg\n",
      "hey guys I'm Amy and I'm Julie we are the Duncan sisters welcome to the scoffs kitchen today in our Asian bite series we are doing a Singapore fried rice noodle with curry is you can see it's this bright yellow sort of concoction and it's super yummy so let's get started so the notice that we're going \n",
      "(512,)\n",
      "/storage/ice1/0/4/bpopper3/aaaaaaaa/LLaVA_RAG/notebook_pipeline_custom_questions/./storage/zwbCD3CUFIs/frames/frame_000180.jpg\n",
      "hey guys I'm Amy and I'm Julie we are the Duncan sisters welcome to the scoffs kitchen today in our Asian bite series we are doing a Singapore fried rice noodle with curry is you can see it's this bright yellow sort of concoction and it's super yummy so let's get started so the notice that we're going \n",
      "(512,)\n",
      "/storage/ice1/0/4/bpopper3/aaaaaaaa/LLaVA_RAG/notebook_pipeline_custom_questions/./storage/zwbCD3CUFIs/frames/frame_000270.jpg\n",
      "hey guys I'm Amy and I'm Julie we are the Duncan sisters welcome to the scoffs kitchen today in our Asian bite series we are doing a Singapore fried rice noodle with curry is you can see it's this bright yellow sort of concoction and it's super yummy so let's get started so the notice that we're going \n"
     ]
    },
    {
     "name": "stderr",
     "output_type": "stream",
     "text": [
      "\r",
      "5it [00:08,  1.10s/it]"
     ]
    },
    {
     "name": "stdout",
     "output_type": "stream",
     "text": [
      "(512,)\n",
      "/storage/ice1/0/4/bpopper3/aaaaaaaa/LLaVA_RAG/notebook_pipeline_custom_questions/./storage/zwbCD3CUFIs/frames/frame_000360.jpg\n",
      "kitchen today in our Asian bite series we are doing a Singapore fried rice noodle with curry is you can see it's this bright yellow sort of concoction and it's super yummy so let's get started so the notice that we're going to be using today are rice noodles which are ones like this all we've done here \n",
      "(512,)\n",
      "/storage/ice1/0/4/bpopper3/aaaaaaaa/LLaVA_RAG/notebook_pipeline_custom_questions/./storage/zwbCD3CUFIs/frames/frame_000450.jpg\n",
      "noodle with curry is you can see it's this bright yellow sort of concoction and it's super yummy so let's get started so the notice that we're going to be using today are rice noodles which are ones like this all we've done here is just soak them in cold water for about half an hour we're going to leave \n",
      "(512,)\n",
      "/storage/ice1/0/4/bpopper3/aaaaaaaa/LLaVA_RAG/notebook_pipeline_custom_questions/./storage/zwbCD3CUFIs/frames/frame_000540.jpg\n",
      "and it's super yummy so let's get started so the notice that we're going to be using today are rice noodles which are ones like this all we've done here is just soak them in cold water for about half an hour we're going to leave them in there until they're ready to cook so next up we're going to do our \n"
     ]
    },
    {
     "name": "stderr",
     "output_type": "stream",
     "text": [
      "9it [00:08,  2.21it/s]"
     ]
    },
    {
     "name": "stdout",
     "output_type": "stream",
     "text": [
      "(512,)\n",
      "/storage/ice1/0/4/bpopper3/aaaaaaaa/LLaVA_RAG/notebook_pipeline_custom_questions/./storage/zwbCD3CUFIs/frames/frame_000630.jpg\n",
      "to be using today are rice noodles which are ones like this all we've done here is just soak them in cold water for about half an hour we're going to leave them in there until they're ready to cook so next up we're going to do our prawns which is the meat in this dish all we want to do is pop in a wee bit of \n",
      "(512,)\n",
      "/storage/ice1/0/4/bpopper3/aaaaaaaa/LLaVA_RAG/notebook_pipeline_custom_questions/./storage/zwbCD3CUFIs/frames/frame_000720.jpg\n",
      "to be using today are rice noodles which are ones like this all we've done here is just soak them in cold water for about half an hour we're going to leave them in there until they're ready to cook so next up we're going to do our prawns which is the meat in this dish all we want to do is pop in a wee bit of corn flour about a teaspoon for 150 \n",
      "(512,)\n",
      "/storage/ice1/0/4/bpopper3/aaaaaaaa/LLaVA_RAG/notebook_pipeline_custom_questions/./storage/zwbCD3CUFIs/frames/frame_000810.jpg\n",
      "to be using today are rice noodles which are ones like this all we've done here is just soak them in cold water for about half an hour we're going to leave them in there until they're ready to cook so next up we're going to do our prawns which is the meat in this dish all we want to do is pop in a wee bit of corn flour about a teaspoon for 150 grams as good this coats all the prawns and gives it like a really kind of well \n"
     ]
    },
    {
     "name": "stderr",
     "output_type": "stream",
     "text": [
      "\r",
      "11it [00:08,  3.10it/s]"
     ]
    },
    {
     "name": "stdout",
     "output_type": "stream",
     "text": [
      "(512,)\n",
      "/storage/ice1/0/4/bpopper3/aaaaaaaa/LLaVA_RAG/notebook_pipeline_custom_questions/./storage/zwbCD3CUFIs/frames/frame_000900.jpg\n",
      "is just soak them in cold water for about half an hour we're going to leave them in there until they're ready to cook so next up we're going to do our prawns which is the meat in this dish all we want to do is pop in a wee bit of corn flour about a teaspoon for 150 grams as good this coats all the prawns and gives it like a really kind of well alloxan or the moisture of the poison also gives it a really kind of like a \n",
      "(512,)\n",
      "/storage/ice1/0/4/bpopper3/aaaaaaaa/LLaVA_RAG/notebook_pipeline_custom_questions/./storage/zwbCD3CUFIs/frames/frame_000990.jpg\n",
      "about half an hour we're going to leave them in there until they're ready to cook so next up we're going to do our prawns which is the meat in this dish all we want to do is pop in a wee bit of corn flour about a teaspoon for 150 grams as good this coats all the prawns and gives it like a really kind of well alloxan or the moisture of the poison also gives it a really kind of like a silky coating around the no one likes a \n",
      "(512,)\n",
      "/storage/ice1/0/4/bpopper3/aaaaaaaa/LLaVA_RAG/notebook_pipeline_custom_questions/./storage/zwbCD3CUFIs/frames/frame_001080.jpg\n",
      "prawns which is the meat in this dish all we want to do is pop in a wee bit of corn flour about a teaspoon for 150 grams as good this coats all the prawns and gives it like a really kind of well alloxan or the moisture of the poison also gives it a really kind of like a silky coating around the no one likes a rubbery fraud so we just put about a \n"
     ]
    },
    {
     "name": "stderr",
     "output_type": "stream",
     "text": [
      "15it [00:09,  5.26it/s]"
     ]
    },
    {
     "name": "stdout",
     "output_type": "stream",
     "text": [
      "(512,)\n",
      "/storage/ice1/0/4/bpopper3/aaaaaaaa/LLaVA_RAG/notebook_pipeline_custom_questions/./storage/zwbCD3CUFIs/frames/frame_001170.jpg\n",
      "corn flour about a teaspoon for 150 grams as good this coats all the prawns and gives it like a really kind of well alloxan or the moisture of the poison also gives it a really kind of like a silky coating around the no one likes a rubbery fraud so we just put about a tablespoon of oil in the wok now you want this quite hot don't you do them you do you have to basically see those \n",
      "(512,)\n",
      "/storage/ice1/0/4/bpopper3/aaaaaaaa/LLaVA_RAG/notebook_pipeline_custom_questions/./storage/zwbCD3CUFIs/frames/frame_001260.jpg\n",
      "grams as good this coats all the prawns and gives it like a really kind of well alloxan or the moisture of the poison also gives it a really kind of like a silky coating around the no one likes a rubbery fraud so we just put about a tablespoon of oil in the wok now you want this quite hot don't you do them you do you have to basically see those prawns immediately so in it goes so \n",
      "(512,)\n",
      "/storage/ice1/0/4/bpopper3/aaaaaaaa/LLaVA_RAG/notebook_pipeline_custom_questions/./storage/zwbCD3CUFIs/frames/frame_001350.jpg\n",
      "alloxan or the moisture of the poison also gives it a really kind of like a silky coating around the no one likes a rubbery fraud so we just put about a tablespoon of oil in the wok now you want this quite hot don't you do them you do you have to basically see those prawns immediately so in it goes so \n"
     ]
    },
    {
     "name": "stderr",
     "output_type": "stream",
     "text": [
      "\r",
      "17it [00:09,  6.44it/s]"
     ]
    },
    {
     "name": "stdout",
     "output_type": "stream",
     "text": [
      "(512,)\n",
      "/storage/ice1/0/4/bpopper3/aaaaaaaa/LLaVA_RAG/notebook_pipeline_custom_questions/./storage/zwbCD3CUFIs/frames/frame_001440.jpg\n",
      "silky coating around the no one likes a rubbery fraud so we just put about a tablespoon of oil in the wok now you want this quite hot don't you do them you do you have to basically see those prawns immediately so in it goes so we're just going to stir fry these for about two to three minutes until they're \n",
      "(512,)\n",
      "/storage/ice1/0/4/bpopper3/aaaaaaaa/LLaVA_RAG/notebook_pipeline_custom_questions/./storage/zwbCD3CUFIs/frames/frame_001530.jpg\n",
      "rubbery fraud so we just put about a tablespoon of oil in the wok now you want this quite hot don't you do them you do you have to basically see those prawns immediately so in it goes so we're just going to stir fry these for about two to three minutes until they're flesh of the prawns is pink and firm so \n",
      "(512,)\n",
      "/storage/ice1/0/4/bpopper3/aaaaaaaa/LLaVA_RAG/notebook_pipeline_custom_questions/./storage/zwbCD3CUFIs/frames/frame_001620.jpg\n",
      "tablespoon of oil in the wok now you want this quite hot don't you do them you do you have to basically see those prawns immediately so in it goes so we're just going to stir fry these for about two to three minutes until they're flesh of the prawns is pink and firm so as you can see the paws are now a lovely \n"
     ]
    },
    {
     "name": "stderr",
     "output_type": "stream",
     "text": [
      "21it [00:09,  8.61it/s]"
     ]
    },
    {
     "name": "stdout",
     "output_type": "stream",
     "text": [
      "(512,)\n",
      "/storage/ice1/0/4/bpopper3/aaaaaaaa/LLaVA_RAG/notebook_pipeline_custom_questions/./storage/zwbCD3CUFIs/frames/frame_001710.jpg\n",
      "you do you have to basically see those prawns immediately so in it goes so we're just going to stir fry these for about two to three minutes until they're flesh of the prawns is pink and firm so as you can see the paws are now a lovely opaque kind of peach color and I've got a lovely little crust on them as well so \n",
      "(512,)\n",
      "/storage/ice1/0/4/bpopper3/aaaaaaaa/LLaVA_RAG/notebook_pipeline_custom_questions/./storage/zwbCD3CUFIs/frames/frame_001800.jpg\n",
      "we're just going to stir fry these for about two to three minutes until they're flesh of the prawns is pink and firm so as you can see the paws are now a lovely opaque kind of peach color and I've got a lovely little crust on them as well so they're ready to come out lovely person \n",
      "(512,)\n",
      "/storage/ice1/0/4/bpopper3/aaaaaaaa/LLaVA_RAG/notebook_pipeline_custom_questions/./storage/zwbCD3CUFIs/frames/frame_001890.jpg\n",
      "we're just going to stir fry these for about two to three minutes until they're flesh of the prawns is pink and firm so as you can see the paws are now a lovely opaque kind of peach color and I've got a lovely little crust on them as well so they're ready to come out lovely person \n"
     ]
    },
    {
     "name": "stderr",
     "output_type": "stream",
     "text": [
      "\r",
      "23it [00:09,  9.52it/s]"
     ]
    },
    {
     "name": "stdout",
     "output_type": "stream",
     "text": [
      "(512,)\n",
      "/storage/ice1/0/4/bpopper3/aaaaaaaa/LLaVA_RAG/notebook_pipeline_custom_questions/./storage/zwbCD3CUFIs/frames/frame_001980.jpg\n",
      "flesh of the prawns is pink and firm so as you can see the paws are now a lovely opaque kind of peach color and I've got a lovely little crust on them as well so they're ready to come out lovely person job last week obviously brilliant so for \n",
      "(512,)\n",
      "/storage/ice1/0/4/bpopper3/aaaaaaaa/LLaVA_RAG/notebook_pipeline_custom_questions/./storage/zwbCD3CUFIs/frames/frame_002070.jpg\n",
      "as you can see the paws are now a lovely opaque kind of peach color and I've got a lovely little crust on them as well so they're ready to come out lovely person job last week obviously brilliant so for the omelette I have a couple of beaten eggs with some salt and pepper and some \n",
      "(512,)\n",
      "/storage/ice1/0/4/bpopper3/aaaaaaaa/LLaVA_RAG/notebook_pipeline_custom_questions/./storage/zwbCD3CUFIs/frames/frame_002160.jpg\n",
      "opaque kind of peach color and I've got a lovely little crust on them as well so they're ready to come out lovely person job last week obviously brilliant so for the omelette I have a couple of beaten eggs with some salt and pepper and some oil and we just want to put that right into a hot frying pan now you could just \n"
     ]
    },
    {
     "name": "stderr",
     "output_type": "stream",
     "text": [
      "27it [00:10, 10.86it/s]"
     ]
    },
    {
     "name": "stdout",
     "output_type": "stream",
     "text": [
      "(512,)\n",
      "/storage/ice1/0/4/bpopper3/aaaaaaaa/LLaVA_RAG/notebook_pipeline_custom_questions/./storage/zwbCD3CUFIs/frames/frame_002250.jpg\n",
      "they're ready to come out lovely person job last week obviously brilliant so for the omelette I have a couple of beaten eggs with some salt and pepper and some oil and we just want to put that right into a hot frying pan now you could just do the eggs as a scramble in the wok as \n",
      "(512,)\n",
      "/storage/ice1/0/4/bpopper3/aaaaaaaa/LLaVA_RAG/notebook_pipeline_custom_questions/./storage/zwbCD3CUFIs/frames/frame_002340.jpg\n",
      "job last week obviously brilliant so for the omelette I have a couple of beaten eggs with some salt and pepper and some oil and we just want to put that right into a hot frying pan now you could just do the eggs as a scramble in the wok as well but I think there's something really like is quite joyful about \n",
      "(512,)\n",
      "/storage/ice1/0/4/bpopper3/aaaaaaaa/LLaVA_RAG/notebook_pipeline_custom_questions/./storage/zwbCD3CUFIs/frames/frame_002430.jpg\n",
      "job last week obviously brilliant so for the omelette I have a couple of beaten eggs with some salt and pepper and some oil and we just want to put that right into a hot frying pan now you could just do the eggs as a scramble in the wok as well but I think there's something really like is quite joyful about picking up ribbons of eggs we're going to cut that on into ribbons so picking \n"
     ]
    },
    {
     "name": "stderr",
     "output_type": "stream",
     "text": [
      "\r",
      "29it [00:10, 11.27it/s]"
     ]
    },
    {
     "name": "stdout",
     "output_type": "stream",
     "text": [
      "(512,)\n",
      "/storage/ice1/0/4/bpopper3/aaaaaaaa/LLaVA_RAG/notebook_pipeline_custom_questions/./storage/zwbCD3CUFIs/frames/frame_002520.jpg\n",
      "the omelette I have a couple of beaten eggs with some salt and pepper and some oil and we just want to put that right into a hot frying pan now you could just do the eggs as a scramble in the wok as well but I think there's something really like is quite joyful about picking up ribbons of eggs we're going to cut that on into ribbons so picking them up with your chopsticks along with the with the rice noodles so the egg is \n",
      "(512,)\n",
      "/storage/ice1/0/4/bpopper3/aaaaaaaa/LLaVA_RAG/notebook_pipeline_custom_questions/./storage/zwbCD3CUFIs/frames/frame_002610.jpg\n",
      "eggs with some salt and pepper and some oil and we just want to put that right into a hot frying pan now you could just do the eggs as a scramble in the wok as well but I think there's something really like is quite joyful about picking up ribbons of eggs we're going to cut that on into ribbons so picking them up with your chopsticks along with the with the rice noodles so the egg is just cooking now we haven't moved it at all and we're just going to keep it on here until it's almost although pay \n",
      "(512,)\n",
      "/storage/ice1/0/4/bpopper3/aaaaaaaa/LLaVA_RAG/notebook_pipeline_custom_questions/./storage/zwbCD3CUFIs/frames/frame_002700.jpg\n",
      "into a hot frying pan now you could just do the eggs as a scramble in the wok as well but I think there's something really like is quite joyful about picking up ribbons of eggs we're going to cut that on into ribbons so picking them up with your chopsticks along with the with the rice noodles so the egg is just cooking now we haven't moved it at all and we're just going to keep it on here until it's almost although pay before you transfer it to the chopping ball cause it's going to keep on cooking \n"
     ]
    },
    {
     "name": "stderr",
     "output_type": "stream",
     "text": [
      "33it [00:10, 11.76it/s]"
     ]
    },
    {
     "name": "stdout",
     "output_type": "stream",
     "text": [
      "(512,)\n",
      "/storage/ice1/0/4/bpopper3/aaaaaaaa/LLaVA_RAG/notebook_pipeline_custom_questions/./storage/zwbCD3CUFIs/frames/frame_002790.jpg\n",
      "well but I think there's something really like is quite joyful about picking up ribbons of eggs we're going to cut that on into ribbons so picking them up with your chopsticks along with the with the rice noodles so the egg is just cooking now we haven't moved it at all and we're just going to keep it on here until it's almost although pay before you transfer it to the chopping ball cause it's going to keep on cooking from the residual heat so almost there so the omelet is ready to come out of \n",
      "(512,)\n",
      "/storage/ice1/0/4/bpopper3/aaaaaaaa/LLaVA_RAG/notebook_pipeline_custom_questions/./storage/zwbCD3CUFIs/frames/frame_002880.jpg\n",
      "picking up ribbons of eggs we're going to cut that on into ribbons so picking them up with your chopsticks along with the with the rice noodles so the egg is just cooking now we haven't moved it at all and we're just going to keep it on here until it's almost although pay before you transfer it to the chopping ball cause it's going to keep on cooking from the residual heat so almost there so the omelet is ready to come out of the pan so just slide it straight onto \n",
      "(512,)\n",
      "/storage/ice1/0/4/bpopper3/aaaaaaaa/LLaVA_RAG/notebook_pipeline_custom_questions/./storage/zwbCD3CUFIs/frames/frame_002970.jpg\n",
      "them up with your chopsticks along with the with the rice noodles so the egg is just cooking now we haven't moved it at all and we're just going to keep it on here until it's almost although pay before you transfer it to the chopping ball cause it's going to keep on cooking from the residual heat so almost there so the omelet is ready to come out of the pan so just slide it straight onto your chopping board and then we're gonna roll this baby up a \n"
     ]
    },
    {
     "name": "stderr",
     "output_type": "stream",
     "text": [
      "\r",
      "35it [00:10, 11.91it/s]"
     ]
    },
    {
     "name": "stdout",
     "output_type": "stream",
     "text": [
      "(512,)\n",
      "/storage/ice1/0/4/bpopper3/aaaaaaaa/LLaVA_RAG/notebook_pipeline_custom_questions/./storage/zwbCD3CUFIs/frames/frame_003060.jpg\n",
      "just cooking now we haven't moved it at all and we're just going to keep it on here until it's almost although pay before you transfer it to the chopping ball cause it's going to keep on cooking from the residual heat so almost there so the omelet is ready to come out of the pan so just slide it straight onto your chopping board and then we're gonna roll this baby up a bit hot it is and you can see how the undersides lovely and golden like those \n",
      "(512,)\n",
      "/storage/ice1/0/4/bpopper3/aaaaaaaa/LLaVA_RAG/notebook_pipeline_custom_questions/./storage/zwbCD3CUFIs/frames/frame_003150.jpg\n",
      "before you transfer it to the chopping ball cause it's going to keep on cooking from the residual heat so almost there so the omelet is ready to come out of the pan so just slide it straight onto your chopping board and then we're gonna roll this baby up a bit hot it is and you can see how the undersides lovely and golden like those blistered bits yeah it looks like Tiger \n",
      "(512,)\n",
      "/storage/ice1/0/4/bpopper3/aaaaaaaa/LLaVA_RAG/notebook_pipeline_custom_questions/./storage/zwbCD3CUFIs/frames/frame_003240.jpg\n",
      "ball cause it's going to keep on cooking from the residual heat so almost there so the omelet is ready to come out of the pan so just slide it straight onto your chopping board and then we're gonna roll this baby up a bit hot it is and you can see how the undersides lovely and golden like those blistered bits yeah it looks like Tiger KK she doesn't it does look like Tiger Kate which is one of the recipes that we \n"
     ]
    },
    {
     "name": "stderr",
     "output_type": "stream",
     "text": [
      "39it [00:11, 12.12it/s]"
     ]
    },
    {
     "name": "stdout",
     "output_type": "stream",
     "text": [
      "(512,)\n",
      "/storage/ice1/0/4/bpopper3/aaaaaaaa/LLaVA_RAG/notebook_pipeline_custom_questions/./storage/zwbCD3CUFIs/frames/frame_003330.jpg\n",
      "so the omelet is ready to come out of the pan so just slide it straight onto your chopping board and then we're gonna roll this baby up a bit hot it is and you can see how the undersides lovely and golden like those blistered bits yeah it looks like Tiger KK she doesn't it does look like Tiger Kate which is one of the recipes that we have in our upcoming cookbook so plug a \n",
      "(512,)\n",
      "/storage/ice1/0/4/bpopper3/aaaaaaaa/LLaVA_RAG/notebook_pipeline_custom_questions/./storage/zwbCD3CUFIs/frames/frame_003420.jpg\n",
      "your chopping board and then we're gonna roll this baby up a bit hot it is and you can see how the undersides lovely and golden like those blistered bits yeah it looks like Tiger KK she doesn't it does look like Tiger Kate which is one of the recipes that we have in our upcoming cookbook so plug a little pride yeah I'll let me just like flip that over like so just cut this \n",
      "(512,)\n",
      "/storage/ice1/0/4/bpopper3/aaaaaaaa/LLaVA_RAG/notebook_pipeline_custom_questions/./storage/zwbCD3CUFIs/frames/frame_003510.jpg\n",
      "bit hot it is and you can see how the undersides lovely and golden like those blistered bits yeah it looks like Tiger KK she doesn't it does look like Tiger Kate which is one of the recipes that we have in our upcoming cookbook so plug a little pride yeah I'll let me just like flip that over like so just cut this into strips you can see that these ribbons are going to be almost like it's \n"
     ]
    },
    {
     "name": "stderr",
     "output_type": "stream",
     "text": [
      "\r",
      "41it [00:11, 12.19it/s]"
     ]
    },
    {
     "name": "stdout",
     "output_type": "stream",
     "text": [
      "(512,)\n",
      "/storage/ice1/0/4/bpopper3/aaaaaaaa/LLaVA_RAG/notebook_pipeline_custom_questions/./storage/zwbCD3CUFIs/frames/frame_003600.jpg\n",
      "undersides lovely and golden like those blistered bits yeah it looks like Tiger KK she doesn't it does look like Tiger Kate which is one of the recipes that we have in our upcoming cookbook so plug a little pride yeah I'll let me just like flip that over like so just cut this into strips you can see that these ribbons are going to be almost like it's all it's like egg noodles yeah yeah \n",
      "(512,)\n",
      "/storage/ice1/0/4/bpopper3/aaaaaaaa/LLaVA_RAG/notebook_pipeline_custom_questions/./storage/zwbCD3CUFIs/frames/frame_003690.jpg\n",
      "KK she doesn't it does look like Tiger Kate which is one of the recipes that we have in our upcoming cookbook so plug a little pride yeah I'll let me just like flip that over like so just cut this into strips you can see that these ribbons are going to be almost like it's all it's like egg noodles yeah yeah lovely all right so we'll fire up the wok get \n",
      "(512,)\n",
      "/storage/ice1/0/4/bpopper3/aaaaaaaa/LLaVA_RAG/notebook_pipeline_custom_questions/./storage/zwbCD3CUFIs/frames/frame_003780.jpg\n",
      "have in our upcoming cookbook so plug a little pride yeah I'll let me just like flip that over like so just cut this into strips you can see that these ribbons are going to be almost like it's all it's like egg noodles yeah yeah lovely all right so we'll fire up the wok get it on a kind of medium heat and then we'll pop some oil in so and with the \n"
     ]
    },
    {
     "name": "stderr",
     "output_type": "stream",
     "text": [
      "45it [00:11, 12.30it/s]"
     ]
    },
    {
     "name": "stdout",
     "output_type": "stream",
     "text": [
      "(512,)\n",
      "/storage/ice1/0/4/bpopper3/aaaaaaaa/LLaVA_RAG/notebook_pipeline_custom_questions/./storage/zwbCD3CUFIs/frames/frame_003870.jpg\n",
      "little pride yeah I'll let me just like flip that over like so just cut this into strips you can see that these ribbons are going to be almost like it's all it's like egg noodles yeah yeah lovely all right so we'll fire up the wok get it on a kind of medium heat and then we'll pop some oil in so and with the garlic look this sizzle a wee bit thanks Amy \n",
      "(512,)\n",
      "/storage/ice1/0/4/bpopper3/aaaaaaaa/LLaVA_RAG/notebook_pipeline_custom_questions/./storage/zwbCD3CUFIs/frames/frame_003960.jpg\n",
      "into strips you can see that these ribbons are going to be almost like it's all it's like egg noodles yeah yeah lovely all right so we'll fire up the wok get it on a kind of medium heat and then we'll pop some oil in so and with the garlic look this sizzle a wee bit thanks Amy Oh lovely so we'll just let that kind of \n",
      "(512,)\n",
      "/storage/ice1/0/4/bpopper3/aaaaaaaa/LLaVA_RAG/notebook_pipeline_custom_questions/./storage/zwbCD3CUFIs/frames/frame_004050.jpg\n",
      "ribbons are going to be almost like it's all it's like egg noodles yeah yeah lovely all right so we'll fire up the wok get it on a kind of medium heat and then we'll pop some oil in so and with the garlic look this sizzle a wee bit thanks Amy Oh lovely so we'll just let that kind of \n"
     ]
    },
    {
     "name": "stderr",
     "output_type": "stream",
     "text": [
      "\r",
      "47it [00:11, 12.36it/s]"
     ]
    },
    {
     "name": "stdout",
     "output_type": "stream",
     "text": [
      "(512,)\n",
      "/storage/ice1/0/4/bpopper3/aaaaaaaa/LLaVA_RAG/notebook_pipeline_custom_questions/./storage/zwbCD3CUFIs/frames/frame_004140.jpg\n",
      "lovely all right so we'll fire up the wok get it on a kind of medium heat and then we'll pop some oil in so and with the garlic look this sizzle a wee bit thanks Amy Oh lovely so we'll just let that kind of do its thing releasing its flavours for a bit and we like to do the onions and \n",
      "(512,)\n",
      "/storage/ice1/0/4/bpopper3/aaaaaaaa/LLaVA_RAG/notebook_pipeline_custom_questions/./storage/zwbCD3CUFIs/frames/frame_004230.jpg\n",
      "it on a kind of medium heat and then we'll pop some oil in so and with the garlic look this sizzle a wee bit thanks Amy Oh lovely so we'll just let that kind of do its thing releasing its flavours for a bit and we like to do the onions and the garlic first because they flavor the oil which is going to be really \n",
      "(512,)\n",
      "/storage/ice1/0/4/bpopper3/aaaaaaaa/LLaVA_RAG/notebook_pipeline_custom_questions/./storage/zwbCD3CUFIs/frames/frame_004320.jpg\n",
      "garlic look this sizzle a wee bit thanks Amy Oh lovely so we'll just let that kind of do its thing releasing its flavours for a bit and we like to do the onions and the garlic first because they flavor the oil which is going to be really delicious for the real movies as well so we're really now to put an our red \n"
     ]
    },
    {
     "name": "stderr",
     "output_type": "stream",
     "text": [
      "51it [00:12, 12.42it/s]"
     ]
    },
    {
     "name": "stdout",
     "output_type": "stream",
     "text": [
      "(512,)\n",
      "/storage/ice1/0/4/bpopper3/aaaaaaaa/LLaVA_RAG/notebook_pipeline_custom_questions/./storage/zwbCD3CUFIs/frames/frame_004410.jpg\n",
      "Oh lovely so we'll just let that kind of do its thing releasing its flavours for a bit and we like to do the onions and the garlic first because they flavor the oil which is going to be really delicious for the real movies as well so we're really now to put an our red pepper now this stays you don't really \n",
      "(512,)\n",
      "/storage/ice1/0/4/bpopper3/aaaaaaaa/LLaVA_RAG/notebook_pipeline_custom_questions/./storage/zwbCD3CUFIs/frames/frame_004500.jpg\n",
      "do its thing releasing its flavours for a bit and we like to do the onions and the garlic first because they flavor the oil which is going to be really delicious for the real movies as well so we're really now to put an our red pepper now this stays you don't really need to cook up for too long we're just \n",
      "(512,)\n",
      "/storage/ice1/0/4/bpopper3/aaaaaaaa/LLaVA_RAG/notebook_pipeline_custom_questions/./storage/zwbCD3CUFIs/frames/frame_004590.jpg\n",
      "do its thing releasing its flavours for a bit and we like to do the onions and the garlic first because they flavor the oil which is going to be really delicious for the real movies as well so we're really now to put an our red pepper now this stays you don't really need to cook up for too long we're just going to stir fry this for about a minute because it's all gonna go back and to the noodles later \n"
     ]
    },
    {
     "name": "stderr",
     "output_type": "stream",
     "text": [
      "\r",
      "53it [00:12, 12.40it/s]"
     ]
    },
    {
     "name": "stdout",
     "output_type": "stream",
     "text": [
      "(512,)\n",
      "/storage/ice1/0/4/bpopper3/aaaaaaaa/LLaVA_RAG/notebook_pipeline_custom_questions/./storage/zwbCD3CUFIs/frames/frame_004680.jpg\n",
      "the garlic first because they flavor the oil which is going to be really delicious for the real movies as well so we're really now to put an our red pepper now this stays you don't really need to cook up for too long we're just going to stir fry this for about a minute because it's all gonna go back and to the noodles later so here and about the stage when you can see that the onion kind of has a little \n",
      "(512,)\n",
      "/storage/ice1/0/4/bpopper3/aaaaaaaa/LLaVA_RAG/notebook_pipeline_custom_questions/./storage/zwbCD3CUFIs/frames/frame_004770.jpg\n",
      "oil which is going to be really delicious for the real movies as well so we're really now to put an our red pepper now this stays you don't really need to cook up for too long we're just going to stir fry this for about a minute because it's all gonna go back and to the noodles later so here and about the stage when you can see that the onion kind of has a little blisters on it yeah everything is pretty \n",
      "(512,)\n",
      "/storage/ice1/0/4/bpopper3/aaaaaaaa/LLaVA_RAG/notebook_pipeline_custom_questions/./storage/zwbCD3CUFIs/frames/frame_004860.jpg\n",
      "we're really now to put an our red pepper now this stays you don't really need to cook up for too long we're just going to stir fry this for about a minute because it's all gonna go back and to the noodles later so here and about the stage when you can see that the onion kind of has a little blisters on it yeah everything is pretty much ready to come out sorry just pop it straight back into \n"
     ]
    },
    {
     "name": "stderr",
     "output_type": "stream",
     "text": [
      "57it [00:12, 12.22it/s]"
     ]
    },
    {
     "name": "stdout",
     "output_type": "stream",
     "text": [
      "(512,)\n",
      "/storage/ice1/0/4/bpopper3/aaaaaaaa/LLaVA_RAG/notebook_pipeline_custom_questions/./storage/zwbCD3CUFIs/frames/frame_004950.jpg\n",
      "need to cook up for too long we're just going to stir fry this for about a minute because it's all gonna go back and to the noodles later so here and about the stage when you can see that the onion kind of has a little blisters on it yeah everything is pretty much ready to come out sorry just pop it straight back into your vessel you guys so that is it for \n",
      "(512,)\n",
      "/storage/ice1/0/4/bpopper3/aaaaaaaa/LLaVA_RAG/notebook_pipeline_custom_questions/./storage/zwbCD3CUFIs/frames/frame_005040.jpg\n",
      "going to stir fry this for about a minute because it's all gonna go back and to the noodles later so here and about the stage when you can see that the onion kind of has a little blisters on it yeah everything is pretty much ready to come out sorry just pop it straight back into your vessel you guys so that is it for the beach we're ready to get onto the noodles so for this we only want the wok \n",
      "(512,)\n",
      "/storage/ice1/0/4/bpopper3/aaaaaaaa/LLaVA_RAG/notebook_pipeline_custom_questions/./storage/zwbCD3CUFIs/frames/frame_005130.jpg\n",
      "so here and about the stage when you can see that the onion kind of has a little blisters on it yeah everything is pretty much ready to come out sorry just pop it straight back into your vessel you guys so that is it for the beach we're ready to get onto the noodles so for this we only want the wok on kind of like a low to medium heat and \n"
     ]
    },
    {
     "name": "stderr",
     "output_type": "stream",
     "text": [
      "\r",
      "59it [00:12, 12.22it/s]"
     ]
    },
    {
     "name": "stdout",
     "output_type": "stream",
     "text": [
      "(512,)\n",
      "/storage/ice1/0/4/bpopper3/aaaaaaaa/LLaVA_RAG/notebook_pipeline_custom_questions/./storage/zwbCD3CUFIs/frames/frame_005220.jpg\n",
      "blisters on it yeah everything is pretty much ready to come out sorry just pop it straight back into your vessel you guys so that is it for the beach we're ready to get onto the noodles so for this we only want the wok on kind of like a low to medium heat and and we'll pop some oil in there about a tablespoon and this is the part we will \n",
      "(512,)\n",
      "/storage/ice1/0/4/bpopper3/aaaaaaaa/LLaVA_RAG/notebook_pipeline_custom_questions/./storage/zwbCD3CUFIs/frames/frame_005310.jpg\n",
      "much ready to come out sorry just pop it straight back into your vessel you guys so that is it for the beach we're ready to get onto the noodles so for this we only want the wok on kind of like a low to medium heat and and we'll pop some oil in there about a tablespoon and this is the part we will just fish these noodles straight out of here so they stay moist because I though \n",
      "(512,)\n",
      "/storage/ice1/0/4/bpopper3/aaaaaaaa/LLaVA_RAG/notebook_pipeline_custom_questions/./storage/zwbCD3CUFIs/frames/frame_005400.jpg\n",
      "your vessel you guys so that is it for the beach we're ready to get onto the noodles so for this we only want the wok on kind of like a low to medium heat and and we'll pop some oil in there about a tablespoon and this is the part we will just fish these noodles straight out of here so they stay moist because I though the rice flour which is what these are \n"
     ]
    },
    {
     "name": "stderr",
     "output_type": "stream",
     "text": [
      "63it [00:13, 12.27it/s]"
     ]
    },
    {
     "name": "stdout",
     "output_type": "stream",
     "text": [
      "(512,)\n",
      "/storage/ice1/0/4/bpopper3/aaaaaaaa/LLaVA_RAG/notebook_pipeline_custom_questions/./storage/zwbCD3CUFIs/frames/frame_005490.jpg\n",
      "the beach we're ready to get onto the noodles so for this we only want the wok on kind of like a low to medium heat and and we'll pop some oil in there about a tablespoon and this is the part we will just fish these noodles straight out of here so they stay moist because I though the rice flour which is what these are made of and alum sucks up moisture a lot so just give it like a little shake and \n",
      "(512,)\n",
      "/storage/ice1/0/4/bpopper3/aaaaaaaa/LLaVA_RAG/notebook_pipeline_custom_questions/./storage/zwbCD3CUFIs/frames/frame_005580.jpg\n",
      "noodles so for this we only want the wok on kind of like a low to medium heat and and we'll pop some oil in there about a tablespoon and this is the part we will just fish these noodles straight out of here so they stay moist because I though the rice flour which is what these are made of and alum sucks up moisture a lot so just give it like a little shake and then straighten and so that we are going \n",
      "(512,)\n",
      "/storage/ice1/0/4/bpopper3/aaaaaaaa/LLaVA_RAG/notebook_pipeline_custom_questions/./storage/zwbCD3CUFIs/frames/frame_005670.jpg\n",
      "and we'll pop some oil in there about a tablespoon and this is the part we will just fish these noodles straight out of here so they stay moist because I though the rice flour which is what these are made of and alum sucks up moisture a lot so just give it like a little shake and then straighten and so that we are going to add some curry powder which has been \n"
     ]
    },
    {
     "name": "stderr",
     "output_type": "stream",
     "text": [
      "\r",
      "65it [00:13, 12.31it/s]"
     ]
    },
    {
     "name": "stdout",
     "output_type": "stream",
     "text": [
      "(512,)\n",
      "/storage/ice1/0/4/bpopper3/aaaaaaaa/LLaVA_RAG/notebook_pipeline_custom_questions/./storage/zwbCD3CUFIs/frames/frame_005760.jpg\n",
      "just fish these noodles straight out of here so they stay moist because I though the rice flour which is what these are made of and alum sucks up moisture a lot so just give it like a little shake and then straighten and so that we are going to add some curry powder which has been mixed up with a wee bit of water so when \n",
      "(512,)\n",
      "/storage/ice1/0/4/bpopper3/aaaaaaaa/LLaVA_RAG/notebook_pipeline_custom_questions/./storage/zwbCD3CUFIs/frames/frame_005850.jpg\n",
      "here so they stay moist because I though the rice flour which is what these are made of and alum sucks up moisture a lot so just give it like a little shake and then straighten and so that we are going to add some curry powder which has been mixed up with a wee bit of water so when you do the sudden pace it just makes a bit easier to incorporate into the noodles yeah I always get clumps of \n",
      "(512,)\n",
      "/storage/ice1/0/4/bpopper3/aaaaaaaa/LLaVA_RAG/notebook_pipeline_custom_questions/./storage/zwbCD3CUFIs/frames/frame_005940.jpg\n",
      "made of and alum sucks up moisture a lot so just give it like a little shake and then straighten and so that we are going to add some curry powder which has been mixed up with a wee bit of water so when you do the sudden pace it just makes a bit easier to incorporate into the noodles yeah I always get clumps of curry and it's like it's not fair someone gets more care \n"
     ]
    },
    {
     "name": "stderr",
     "output_type": "stream",
     "text": [
      "69it [00:13, 12.39it/s]"
     ]
    },
    {
     "name": "stdout",
     "output_type": "stream",
     "text": [
      "(512,)\n",
      "/storage/ice1/0/4/bpopper3/aaaaaaaa/LLaVA_RAG/notebook_pipeline_custom_questions/./storage/zwbCD3CUFIs/frames/frame_006030.jpg\n",
      "then straighten and so that we are going to add some curry powder which has been mixed up with a wee bit of water so when you do the sudden pace it just makes a bit easier to incorporate into the noodles yeah I always get clumps of curry and it's like it's not fair someone gets more care how you feel about that I knew that okay \n",
      "(512,)\n",
      "/storage/ice1/0/4/bpopper3/aaaaaaaa/LLaVA_RAG/notebook_pipeline_custom_questions/./storage/zwbCD3CUFIs/frames/frame_006120.jpg\n",
      "to add some curry powder which has been mixed up with a wee bit of water so when you do the sudden pace it just makes a bit easier to incorporate into the noodles yeah I always get clumps of curry and it's like it's not fair someone gets more care how you feel about that I knew that okay right so did we get two spatulas and \n",
      "(512,)\n",
      "/storage/ice1/0/4/bpopper3/aaaaaaaa/LLaVA_RAG/notebook_pipeline_custom_questions/./storage/zwbCD3CUFIs/frames/frame_006210.jpg\n",
      "to add some curry powder which has been mixed up with a wee bit of water so when you do the sudden pace it just makes a bit easier to incorporate into the noodles yeah I always get clumps of curry and it's like it's not fair someone gets more care how you feel about that I knew that okay right so did we get two spatulas and we'll just incorporate that courier all \n"
     ]
    },
    {
     "name": "stderr",
     "output_type": "stream",
     "text": [
      "\r",
      "71it [00:13, 12.38it/s]"
     ]
    },
    {
     "name": "stdout",
     "output_type": "stream",
     "text": [
      "(512,)\n",
      "/storage/ice1/0/4/bpopper3/aaaaaaaa/LLaVA_RAG/notebook_pipeline_custom_questions/./storage/zwbCD3CUFIs/frames/frame_006300.jpg\n",
      "you do the sudden pace it just makes a bit easier to incorporate into the noodles yeah I always get clumps of curry and it's like it's not fair someone gets more care how you feel about that I knew that okay right so did we get two spatulas and we'll just incorporate that courier all the way it's gonna take a little bit of tossing action you can just leave the \n",
      "(512,)\n",
      "/storage/ice1/0/4/bpopper3/aaaaaaaa/LLaVA_RAG/notebook_pipeline_custom_questions/./storage/zwbCD3CUFIs/frames/frame_006390.jpg\n",
      "curry and it's like it's not fair someone gets more care how you feel about that I knew that okay right so did we get two spatulas and we'll just incorporate that courier all the way it's gonna take a little bit of tossing action you can just leave the water here just get your hands in the sprinkle it in the way that mom used to \n",
      "(512,)\n",
      "/storage/ice1/0/4/bpopper3/aaaaaaaa/LLaVA_RAG/notebook_pipeline_custom_questions/./storage/zwbCD3CUFIs/frames/frame_006480.jpg\n",
      "how you feel about that I knew that okay right so did we get two spatulas and we'll just incorporate that courier all the way it's gonna take a little bit of tossing action you can just leave the water here just get your hands in the sprinkle it in the way that mom used to do it right you can bring that heat up a \n"
     ]
    },
    {
     "name": "stderr",
     "output_type": "stream",
     "text": [
      "75it [00:14, 12.47it/s]"
     ]
    },
    {
     "name": "stdout",
     "output_type": "stream",
     "text": [
      "(512,)\n",
      "/storage/ice1/0/4/bpopper3/aaaaaaaa/LLaVA_RAG/notebook_pipeline_custom_questions/./storage/zwbCD3CUFIs/frames/frame_006570.jpg\n",
      "right so did we get two spatulas and we'll just incorporate that courier all the way it's gonna take a little bit of tossing action you can just leave the water here just get your hands in the sprinkle it in the way that mom used to do it right you can bring that heat up a little bit so we're using the heat now \n",
      "(512,)\n",
      "/storage/ice1/0/4/bpopper3/aaaaaaaa/LLaVA_RAG/notebook_pipeline_custom_questions/./storage/zwbCD3CUFIs/frames/frame_006660.jpg\n",
      "we'll just incorporate that courier all the way it's gonna take a little bit of tossing action you can just leave the water here just get your hands in the sprinkle it in the way that mom used to do it right you can bring that heat up a little bit so we're using the heat now \n",
      "(512,)\n",
      "/storage/ice1/0/4/bpopper3/aaaaaaaa/LLaVA_RAG/notebook_pipeline_custom_questions/./storage/zwbCD3CUFIs/frames/frame_006750.jpg\n",
      "the way it's gonna take a little bit of tossing action you can just leave the water here just get your hands in the sprinkle it in the way that mom used to do it right you can bring that heat up a little bit so we're using the heat now \n"
     ]
    },
    {
     "name": "stderr",
     "output_type": "stream",
     "text": [
      "\r",
      "77it [00:14, 12.52it/s]"
     ]
    },
    {
     "name": "stdout",
     "output_type": "stream",
     "text": [
      "(512,)\n",
      "/storage/ice1/0/4/bpopper3/aaaaaaaa/LLaVA_RAG/notebook_pipeline_custom_questions/./storage/zwbCD3CUFIs/frames/frame_006840.jpg\n",
      "water here just get your hands in the sprinkle it in the way that mom used to do it right you can bring that heat up a little bit so we're using the heat now to really soften them and use the residual photos like moisture that was \n",
      "(512,)\n",
      "/storage/ice1/0/4/bpopper3/aaaaaaaa/LLaVA_RAG/notebook_pipeline_custom_questions/./storage/zwbCD3CUFIs/frames/frame_006930.jpg\n",
      "sprinkle it in the way that mom used to do it right you can bring that heat up a little bit so we're using the heat now to really soften them and use the residual photos like moisture that was still hanging on to each noodle and kind of cook through okay now we're going to \n",
      "(512,)\n",
      "/storage/ice1/0/4/bpopper3/aaaaaaaa/LLaVA_RAG/notebook_pipeline_custom_questions/./storage/zwbCD3CUFIs/frames/frame_007020.jpg\n",
      "little bit so we're using the heat now to really soften them and use the residual photos like moisture that was still hanging on to each noodle and kind of cook through okay now we're going to put on some bean sprouts so I mean if you want to take over the section and \n"
     ]
    },
    {
     "name": "stderr",
     "output_type": "stream",
     "text": [
      "81it [00:14, 12.53it/s]"
     ]
    },
    {
     "name": "stdout",
     "output_type": "stream",
     "text": [
      "(512,)\n",
      "/storage/ice1/0/4/bpopper3/aaaaaaaa/LLaVA_RAG/notebook_pipeline_custom_questions/./storage/zwbCD3CUFIs/frames/frame_007110.jpg\n",
      "to really soften them and use the residual photos like moisture that was still hanging on to each noodle and kind of cook through okay now we're going to put on some bean sprouts so I mean if you want to take over the section and now see all the other foots we couldn't fill it all back in and then if you \n",
      "(512,)\n",
      "/storage/ice1/0/4/bpopper3/aaaaaaaa/LLaVA_RAG/notebook_pipeline_custom_questions/./storage/zwbCD3CUFIs/frames/frame_007200.jpg\n",
      "to really soften them and use the residual photos like moisture that was still hanging on to each noodle and kind of cook through okay now we're going to put on some bean sprouts so I mean if you want to take over the section and now see all the other foots we couldn't fill it all back in and then if you follow the noodles are trained to clump together away but just a wee bit more \n",
      "(512,)\n",
      "/storage/ice1/0/4/bpopper3/aaaaaaaa/LLaVA_RAG/notebook_pipeline_custom_questions/./storage/zwbCD3CUFIs/frames/frame_007290.jpg\n",
      "to really soften them and use the residual photos like moisture that was still hanging on to each noodle and kind of cook through okay now we're going to put on some bean sprouts so I mean if you want to take over the section and now see all the other foots we couldn't fill it all back in and then if you follow the noodles are trained to clump together away but just a wee bit more water let's just gently doesn't really because \n"
     ]
    },
    {
     "name": "stderr",
     "output_type": "stream",
     "text": [
      "\r",
      "83it [00:14, 12.51it/s]"
     ]
    },
    {
     "name": "stdout",
     "output_type": "stream",
     "text": [
      "(512,)\n",
      "/storage/ice1/0/4/bpopper3/aaaaaaaa/LLaVA_RAG/notebook_pipeline_custom_questions/./storage/zwbCD3CUFIs/frames/frame_007380.jpg\n",
      "still hanging on to each noodle and kind of cook through okay now we're going to put on some bean sprouts so I mean if you want to take over the section and now see all the other foots we couldn't fill it all back in and then if you follow the noodles are trained to clump together away but just a wee bit more water let's just gently doesn't really because if you put it all in one so you've worn \n",
      "(512,)\n",
      "/storage/ice1/0/4/bpopper3/aaaaaaaa/LLaVA_RAG/notebook_pipeline_custom_questions/./storage/zwbCD3CUFIs/frames/frame_007470.jpg\n",
      "put on some bean sprouts so I mean if you want to take over the section and now see all the other foots we couldn't fill it all back in and then if you follow the noodles are trained to clump together away but just a wee bit more water let's just gently doesn't really because if you put it all in one so you've worn it with Drew cilia we're gonna go back in with the broad and then your \n",
      "(512,)\n",
      "/storage/ice1/0/4/bpopper3/aaaaaaaa/LLaVA_RAG/notebook_pipeline_custom_questions/./storage/zwbCD3CUFIs/frames/frame_007560.jpg\n",
      "you want to take over the section and now see all the other foots we couldn't fill it all back in and then if you follow the noodles are trained to clump together away but just a wee bit more water let's just gently doesn't really because if you put it all in one so you've worn it with Drew cilia we're gonna go back in with the broad and then your \n"
     ]
    },
    {
     "name": "stderr",
     "output_type": "stream",
     "text": [
      "87it [00:15, 12.55it/s]"
     ]
    },
    {
     "name": "stdout",
     "output_type": "stream",
     "text": [
      "(512,)\n",
      "/storage/ice1/0/4/bpopper3/aaaaaaaa/LLaVA_RAG/notebook_pipeline_custom_questions/./storage/zwbCD3CUFIs/frames/frame_007650.jpg\n",
      "follow the noodles are trained to clump together away but just a wee bit more water let's just gently doesn't really because if you put it all in one so you've worn it with Drew cilia we're gonna go back in with the broad and then your gonna eat ribbons about a tablespoon of \n",
      "(512,)\n",
      "/storage/ice1/0/4/bpopper3/aaaaaaaa/LLaVA_RAG/notebook_pipeline_custom_questions/./storage/zwbCD3CUFIs/frames/frame_007740.jpg\n",
      "water let's just gently doesn't really because if you put it all in one so you've worn it with Drew cilia we're gonna go back in with the broad and then your gonna eat ribbons about a tablespoon of soy sauce for seasoning so you just need \n",
      "(512,)\n",
      "/storage/ice1/0/4/bpopper3/aaaaaaaa/LLaVA_RAG/notebook_pipeline_custom_questions/./storage/zwbCD3CUFIs/frames/frame_007830.jpg\n",
      "let's just gently doesn't really because if you put it all in one so you've worn it with Drew cilia we're gonna go back in with the broad and then your gonna eat ribbons about a tablespoon of soy sauce for seasoning so you just need to finish up some spring onions that's right for a bit of freshness and \n"
     ]
    },
    {
     "name": "stderr",
     "output_type": "stream",
     "text": [
      "\r",
      "89it [00:15, 12.57it/s]"
     ]
    },
    {
     "name": "stdout",
     "output_type": "stream",
     "text": [
      "(512,)\n",
      "/storage/ice1/0/4/bpopper3/aaaaaaaa/LLaVA_RAG/notebook_pipeline_custom_questions/./storage/zwbCD3CUFIs/frames/frame_007920.jpg\n",
      "it with Drew cilia we're gonna go back in with the broad and then your gonna eat ribbons about a tablespoon of soy sauce for seasoning so you just need to finish up some spring onions that's right for a bit of freshness and vitality oh and a wee bit of salt so \n",
      "(512,)\n",
      "/storage/ice1/0/4/bpopper3/aaaaaaaa/LLaVA_RAG/notebook_pipeline_custom_questions/./storage/zwbCD3CUFIs/frames/frame_008010.jpg\n",
      "in with the broad and then your gonna eat ribbons about a tablespoon of soy sauce for seasoning so you just need to finish up some spring onions that's right for a bit of freshness and vitality oh and a wee bit of salt so popping a wee bit of salt there and \n",
      "(512,)\n",
      "/storage/ice1/0/4/bpopper3/aaaaaaaa/LLaVA_RAG/notebook_pipeline_custom_questions/./storage/zwbCD3CUFIs/frames/frame_008100.jpg\n",
      "gonna eat ribbons about a tablespoon of soy sauce for seasoning so you just need to finish up some spring onions that's right for a bit of freshness and vitality oh and a wee bit of salt so popping a wee bit of salt there and spring onions \n"
     ]
    },
    {
     "name": "stderr",
     "output_type": "stream",
     "text": [
      "93it [00:15, 12.58it/s]"
     ]
    },
    {
     "name": "stdout",
     "output_type": "stream",
     "text": [
      "(512,)\n",
      "/storage/ice1/0/4/bpopper3/aaaaaaaa/LLaVA_RAG/notebook_pipeline_custom_questions/./storage/zwbCD3CUFIs/frames/frame_008190.jpg\n",
      "soy sauce for seasoning so you just need to finish up some spring onions that's right for a bit of freshness and vitality oh and a wee bit of salt so popping a wee bit of salt there and spring onions okay final toss and then we're ready to \n",
      "(512,)\n",
      "/storage/ice1/0/4/bpopper3/aaaaaaaa/LLaVA_RAG/notebook_pipeline_custom_questions/./storage/zwbCD3CUFIs/frames/frame_008280.jpg\n",
      "to finish up some spring onions that's right for a bit of freshness and vitality oh and a wee bit of salt so popping a wee bit of salt there and spring onions okay final toss and then we're ready to plate up so how good is this looking \n",
      "(512,)\n",
      "/storage/ice1/0/4/bpopper3/aaaaaaaa/LLaVA_RAG/notebook_pipeline_custom_questions/./storage/zwbCD3CUFIs/frames/frame_008370.jpg\n",
      "vitality oh and a wee bit of salt so popping a wee bit of salt there and spring onions okay final toss and then we're ready to plate up so how good is this looking bright yellow I can smell that curry I \n"
     ]
    },
    {
     "name": "stderr",
     "output_type": "stream",
     "text": [
      "\r",
      "95it [00:15, 12.54it/s]"
     ]
    },
    {
     "name": "stdout",
     "output_type": "stream",
     "text": [
      "(512,)\n",
      "/storage/ice1/0/4/bpopper3/aaaaaaaa/LLaVA_RAG/notebook_pipeline_custom_questions/./storage/zwbCD3CUFIs/frames/frame_008460.jpg\n",
      "popping a wee bit of salt there and spring onions okay final toss and then we're ready to plate up so how good is this looking bright yellow I can smell that curry I can't wait to eat this I'm gonna play guys if you do try this recipe you would \n",
      "(512,)\n",
      "/storage/ice1/0/4/bpopper3/aaaaaaaa/LLaVA_RAG/notebook_pipeline_custom_questions/./storage/zwbCD3CUFIs/frames/frame_008550.jpg\n",
      "spring onions okay final toss and then we're ready to plate up so how good is this looking bright yellow I can smell that curry I can't wait to eat this I'm gonna play guys if you do try this recipe you would love to see your photos just get in touch with us on Twitter or Instagram \n",
      "(512,)\n",
      "/storage/ice1/0/4/bpopper3/aaaaaaaa/LLaVA_RAG/notebook_pipeline_custom_questions/./storage/zwbCD3CUFIs/frames/frame_008640.jpg\n",
      "okay final toss and then we're ready to plate up so how good is this looking bright yellow I can smell that curry I can't wait to eat this I'm gonna play guys if you do try this recipe you would love to see your photos just get in touch with us on Twitter or Instagram using each dumpling sisters or it's goth food we'd love to see your photos so for \n"
     ]
    },
    {
     "name": "stderr",
     "output_type": "stream",
     "text": [
      "99it [00:16, 12.51it/s]"
     ]
    },
    {
     "name": "stdout",
     "output_type": "stream",
     "text": [
      "(512,)\n",
      "/storage/ice1/0/4/bpopper3/aaaaaaaa/LLaVA_RAG/notebook_pipeline_custom_questions/./storage/zwbCD3CUFIs/frames/frame_008730.jpg\n",
      "plate up so how good is this looking bright yellow I can smell that curry I can't wait to eat this I'm gonna play guys if you do try this recipe you would love to see your photos just get in touch with us on Twitter or Instagram using each dumpling sisters or it's goth food we'd love to see your photos so for \n",
      "(512,)\n",
      "/storage/ice1/0/4/bpopper3/aaaaaaaa/LLaVA_RAG/notebook_pipeline_custom_questions/./storage/zwbCD3CUFIs/frames/frame_008820.jpg\n",
      "bright yellow I can smell that curry I can't wait to eat this I'm gonna play guys if you do try this recipe you would love to see your photos just get in touch with us on Twitter or Instagram using each dumpling sisters or it's goth food we'd love to see your photos so for more cool recipes just like this one make sure you subscribe you can \n",
      "(512,)\n",
      "/storage/ice1/0/4/bpopper3/aaaaaaaa/LLaVA_RAG/notebook_pipeline_custom_questions/./storage/zwbCD3CUFIs/frames/frame_008910.jpg\n",
      "can't wait to eat this I'm gonna play guys if you do try this recipe you would love to see your photos just get in touch with us on Twitter or Instagram using each dumpling sisters or it's goth food we'd love to see your photos so for more cool recipes just like this one make sure you subscribe you can subscribe to scoff or to doublethink sisters get a bit of egg ribbon in there \n"
     ]
    },
    {
     "name": "stderr",
     "output_type": "stream",
     "text": [
      "\r",
      "101it [00:16, 12.45it/s]"
     ]
    },
    {
     "name": "stdout",
     "output_type": "stream",
     "text": [
      "(512,)\n",
      "/storage/ice1/0/4/bpopper3/aaaaaaaa/LLaVA_RAG/notebook_pipeline_custom_questions/./storage/zwbCD3CUFIs/frames/frame_009000.jpg\n",
      "love to see your photos just get in touch with us on Twitter or Instagram using each dumpling sisters or it's goth food we'd love to see your photos so for more cool recipes just like this one make sure you subscribe you can subscribe to scoff or to doublethink sisters get a bit of egg ribbon in there \n",
      "(512,)\n",
      "/storage/ice1/0/4/bpopper3/aaaaaaaa/LLaVA_RAG/notebook_pipeline_custom_questions/./storage/zwbCD3CUFIs/frames/frame_009090.jpg\n",
      "using each dumpling sisters or it's goth food we'd love to see your photos so for more cool recipes just like this one make sure you subscribe you can subscribe to scoff or to doublethink sisters get a bit of egg ribbon in there mmm mmm delightful so that's it guys \n",
      "(512,)\n",
      "/storage/ice1/0/4/bpopper3/aaaaaaaa/LLaVA_RAG/notebook_pipeline_custom_questions/./storage/zwbCD3CUFIs/frames/frame_009180.jpg\n",
      "food we'd love to see your photos so for more cool recipes just like this one make sure you subscribe you can subscribe to scoff or to doublethink sisters get a bit of egg ribbon in there mmm mmm delightful so that's it guys \n"
     ]
    },
    {
     "name": "stderr",
     "output_type": "stream",
     "text": [
      "105it [00:16, 12.55it/s]"
     ]
    },
    {
     "name": "stdout",
     "output_type": "stream",
     "text": [
      "(512,)\n",
      "/storage/ice1/0/4/bpopper3/aaaaaaaa/LLaVA_RAG/notebook_pipeline_custom_questions/./storage/zwbCD3CUFIs/frames/frame_009270.jpg\n",
      "more cool recipes just like this one make sure you subscribe you can subscribe to scoff or to doublethink sisters get a bit of egg ribbon in there mmm mmm delightful so that's it guys this is the dumpling sisters Singapore fried rice noodles with curry yeah I \n",
      "(512,)\n",
      "/storage/ice1/0/4/bpopper3/aaaaaaaa/LLaVA_RAG/notebook_pipeline_custom_questions/./storage/zwbCD3CUFIs/frames/frame_009360.jpg\n",
      "subscribe to scoff or to doublethink sisters get a bit of egg ribbon in there mmm mmm delightful so that's it guys this is the dumpling sisters Singapore fried rice noodles with curry yeah I know it was bit long wasn't it so thank \n",
      "(512,)\n",
      "/storage/ice1/0/4/bpopper3/aaaaaaaa/LLaVA_RAG/notebook_pipeline_custom_questions/./storage/zwbCD3CUFIs/frames/frame_009450.jpg\n",
      "mmm mmm delightful so that's it guys this is the dumpling sisters Singapore fried rice noodles with curry yeah I know it was bit long wasn't it so thank you so much for watching keep your eye out for other cool videos just like this on our asian bite series \n"
     ]
    },
    {
     "name": "stderr",
     "output_type": "stream",
     "text": [
      "\r",
      "107it [00:16, 12.53it/s]"
     ]
    },
    {
     "name": "stdout",
     "output_type": "stream",
     "text": [
      "(512,)\n",
      "/storage/ice1/0/4/bpopper3/aaaaaaaa/LLaVA_RAG/notebook_pipeline_custom_questions/./storage/zwbCD3CUFIs/frames/frame_009540.jpg\n",
      "mmm mmm delightful so that's it guys this is the dumpling sisters Singapore fried rice noodles with curry yeah I know it was bit long wasn't it so thank you so much for watching keep your eye out for other cool videos just like this on our asian bite series we will see you next time bye \n",
      "(512,)\n",
      "/storage/ice1/0/4/bpopper3/aaaaaaaa/LLaVA_RAG/notebook_pipeline_custom_questions/./storage/zwbCD3CUFIs/frames/frame_009630.jpg\n",
      "this is the dumpling sisters Singapore fried rice noodles with curry yeah I know it was bit long wasn't it so thank you so much for watching keep your eye out for other cool videos just like this on our asian bite series we will see you next time bye \n",
      "(512,)\n",
      "/storage/ice1/0/4/bpopper3/aaaaaaaa/LLaVA_RAG/notebook_pipeline_custom_questions/./storage/zwbCD3CUFIs/frames/frame_009720.jpg\n",
      "this is the dumpling sisters Singapore fried rice noodles with curry yeah I know it was bit long wasn't it so thank you so much for watching keep your eye out for other cool videos just like this on our asian bite series we will see you next time bye \n"
     ]
    },
    {
     "name": "stderr",
     "output_type": "stream",
     "text": [
      "111it [00:17, 12.63it/s]"
     ]
    },
    {
     "name": "stdout",
     "output_type": "stream",
     "text": [
      "(512,)\n",
      "/storage/ice1/0/4/bpopper3/aaaaaaaa/LLaVA_RAG/notebook_pipeline_custom_questions/./storage/zwbCD3CUFIs/frames/frame_009810.jpg\n",
      "know it was bit long wasn't it so thank you so much for watching keep your eye out for other cool videos just like this on our asian bite series we will see you next time bye you \n",
      "(512,)\n",
      "/storage/ice1/0/4/bpopper3/aaaaaaaa/LLaVA_RAG/notebook_pipeline_custom_questions/./storage/zwbCD3CUFIs/frames/frame_009900.jpg\n",
      "you so much for watching keep your eye out for other cool videos just like this on our asian bite series we will see you next time bye you \n",
      "(512,)\n",
      "/storage/ice1/0/4/bpopper3/aaaaaaaa/LLaVA_RAG/notebook_pipeline_custom_questions/./storage/zwbCD3CUFIs/frames/frame_009990.jpg\n",
      "we will see you next time bye you \n"
     ]
    },
    {
     "name": "stderr",
     "output_type": "stream",
     "text": [
      "113it [00:17,  6.57it/s]\n"
     ]
    },
    {
     "name": "stdout",
     "output_type": "stream",
     "text": [
      "(512,)\n",
      "/storage/ice1/0/4/bpopper3/aaaaaaaa/LLaVA_RAG/notebook_pipeline_custom_questions/./storage/zwbCD3CUFIs/frames/frame_010080.jpg\n",
      "you \n",
      "(512,)\n",
      "saved faiss index\n"
     ]
    },
    {
     "name": "stderr",
     "output_type": "stream",
     "text": [
      "2it [00:00, 12.72it/s]"
     ]
    },
    {
     "name": "stdout",
     "output_type": "stream",
     "text": [
      "/storage/ice1/0/4/bpopper3/aaaaaaaa/LLaVA_RAG/notebook_pipeline_custom_questions/./storage/XzgR14o6b80/frames/frame_000000.jpg\n",
      "beef tacos with Wasabi Mayo the great thing about street food is anything goes the Only Rule is they're got to be really fast and really tasty now these \n",
      "(512,)\n",
      "/storage/ice1/0/4/bpopper3/aaaaaaaa/LLaVA_RAG/notebook_pipeline_custom_questions/./storage/XzgR14o6b80/frames/frame_000090.jpg\n",
      "beef tacos with Wasabi Mayo the great thing about street food is anything goes the Only Rule is they're got to be really fast and really tasty now these tacos mix in Mexican and Japanese flavors into a delicious meaty \n",
      "(512,)\n",
      "/storage/ice1/0/4/bpopper3/aaaaaaaa/LLaVA_RAG/notebook_pipeline_custom_questions/./storage/XzgR14o6b80/frames/frame_000180.jpg\n",
      "beef tacos with Wasabi Mayo the great thing about street food is anything goes the Only Rule is they're got to be really fast and really tasty now these tacos mix in Mexican and Japanese flavors into a delicious meaty \n"
     ]
    },
    {
     "name": "stderr",
     "output_type": "stream",
     "text": [
      "\r",
      "4it [00:00, 12.73it/s]"
     ]
    },
    {
     "name": "stdout",
     "output_type": "stream",
     "text": [
      "(512,)\n",
      "/storage/ice1/0/4/bpopper3/aaaaaaaa/LLaVA_RAG/notebook_pipeline_custom_questions/./storage/XzgR14o6b80/frames/frame_000270.jpg\n",
      "beef tacos with Wasabi Mayo the great thing about street food is anything goes the Only Rule is they're got to be really fast and really tasty now these tacos mix in Mexican and Japanese flavors into a delicious meaty mouthful first off get that pan really \n",
      "(512,)\n",
      "/storage/ice1/0/4/bpopper3/aaaaaaaa/LLaVA_RAG/notebook_pipeline_custom_questions/./storage/XzgR14o6b80/frames/frame_000360.jpg\n",
      "thing about street food is anything goes the Only Rule is they're got to be really fast and really tasty now these tacos mix in Mexican and Japanese flavors into a delicious meaty mouthful first off get that pan really nice and hot these are so long steaks \n",
      "(512,)\n",
      "/storage/ice1/0/4/bpopper3/aaaaaaaa/LLaVA_RAG/notebook_pipeline_custom_questions/./storage/XzgR14o6b80/frames/frame_000450.jpg\n",
      "really fast and really tasty now these tacos mix in Mexican and Japanese flavors into a delicious meaty mouthful first off get that pan really nice and hot these are so long steaks syrups in the pan with all that fat on \n"
     ]
    },
    {
     "name": "stderr",
     "output_type": "stream",
     "text": [
      "8it [00:00, 12.74it/s]"
     ]
    },
    {
     "name": "stdout",
     "output_type": "stream",
     "text": [
      "(512,)\n",
      "/storage/ice1/0/4/bpopper3/aaaaaaaa/LLaVA_RAG/notebook_pipeline_custom_questions/./storage/XzgR14o6b80/frames/frame_000540.jpg\n",
      "tacos mix in Mexican and Japanese flavors into a delicious meaty mouthful first off get that pan really nice and hot these are so long steaks syrups in the pan with all that fat on it have flavor salt and \n",
      "(512,)\n",
      "/storage/ice1/0/4/bpopper3/aaaaaaaa/LLaVA_RAG/notebook_pipeline_custom_questions/./storage/XzgR14o6b80/frames/frame_000630.jpg\n",
      "mouthful first off get that pan really nice and hot these are so long steaks syrups in the pan with all that fat on it have flavor salt and pepper got tablespoons of olive oil \n",
      "(512,)\n",
      "/storage/ice1/0/4/bpopper3/aaaaaaaa/LLaVA_RAG/notebook_pipeline_custom_questions/./storage/XzgR14o6b80/frames/frame_000720.jpg\n",
      "mouthful first off get that pan really nice and hot these are so long steaks syrups in the pan with all that fat on it have flavor salt and pepper got tablespoons of olive oil in pan nice and hot hold up the \n"
     ]
    },
    {
     "name": "stderr",
     "output_type": "stream",
     "text": [
      "\r",
      "10it [00:00, 12.73it/s]"
     ]
    },
    {
     "name": "stdout",
     "output_type": "stream",
     "text": [
      "(512,)\n",
      "/storage/ice1/0/4/bpopper3/aaaaaaaa/LLaVA_RAG/notebook_pipeline_custom_questions/./storage/XzgR14o6b80/frames/frame_000810.jpg\n",
      "nice and hot these are so long steaks syrups in the pan with all that fat on it have flavor salt and pepper got tablespoons of olive oil in pan nice and hot hold up the \n",
      "(512,)\n",
      "/storage/ice1/0/4/bpopper3/aaaaaaaa/LLaVA_RAG/notebook_pipeline_custom_questions/./storage/XzgR14o6b80/frames/frame_000900.jpg\n",
      "syrups in the pan with all that fat on it have flavor salt and pepper got tablespoons of olive oil in pan nice and hot hold up the steak and lay it in always lay away give \n",
      "(512,)\n",
      "/storage/ice1/0/4/bpopper3/aaaaaaaa/LLaVA_RAG/notebook_pipeline_custom_questions/./storage/XzgR14o6b80/frames/frame_000990.jpg\n",
      "it have flavor salt and pepper got tablespoons of olive oil in pan nice and hot hold up the steak and lay it in always lay away give a pan little shake and it stops the \n"
     ]
    },
    {
     "name": "stderr",
     "output_type": "stream",
     "text": [
      "14it [00:01, 12.71it/s]"
     ]
    },
    {
     "name": "stdout",
     "output_type": "stream",
     "text": [
      "(512,)\n",
      "/storage/ice1/0/4/bpopper3/aaaaaaaa/LLaVA_RAG/notebook_pipeline_custom_questions/./storage/XzgR14o6b80/frames/frame_001080.jpg\n",
      "pepper got tablespoons of olive oil in pan nice and hot hold up the steak and lay it in always lay away give a pan little shake and it stops the steak from sticking a little for color \n",
      "(512,)\n",
      "/storage/ice1/0/4/bpopper3/aaaaaaaa/LLaVA_RAG/notebook_pipeline_custom_questions/./storage/XzgR14o6b80/frames/frame_001170.jpg\n",
      "in pan nice and hot hold up the steak and lay it in always lay away give a pan little shake and it stops the steak from sticking a little for color the steaks going to burn while the steaks are cooking I can \n",
      "(512,)\n",
      "/storage/ice1/0/4/bpopper3/aaaaaaaa/LLaVA_RAG/notebook_pipeline_custom_questions/./storage/XzgR14o6b80/frames/frame_001260.jpg\n",
      "steak and lay it in always lay away give a pan little shake and it stops the steak from sticking a little for color the steaks going to burn while the steaks are cooking I can go with my super quick marinade \n"
     ]
    },
    {
     "name": "stderr",
     "output_type": "stream",
     "text": [
      "\r",
      "16it [00:01, 12.71it/s]"
     ]
    },
    {
     "name": "stdout",
     "output_type": "stream",
     "text": [
      "(512,)\n",
      "/storage/ice1/0/4/bpopper3/aaaaaaaa/LLaVA_RAG/notebook_pipeline_custom_questions/./storage/XzgR14o6b80/frames/frame_001350.jpg\n",
      "steak and lay it in always lay away give a pan little shake and it stops the steak from sticking a little for color the steaks going to burn while the steaks are cooking I can go with my super quick marinade now 2 tbsp of misu paste that's a \n",
      "(512,)\n",
      "/storage/ice1/0/4/bpopper3/aaaaaaaa/LLaVA_RAG/notebook_pipeline_custom_questions/./storage/XzgR14o6b80/frames/frame_001440.jpg\n",
      "a pan little shake and it stops the steak from sticking a little for color the steaks going to burn while the steaks are cooking I can go with my super quick marinade now 2 tbsp of misu paste that's a fermented soy bean that gives a really \n",
      "(512,)\n",
      "/storage/ice1/0/4/bpopper3/aaaaaaaa/LLaVA_RAG/notebook_pipeline_custom_questions/./storage/XzgR14o6b80/frames/frame_001530.jpg\n",
      "steak from sticking a little for color the steaks going to burn while the steaks are cooking I can go with my super quick marinade now 2 tbsp of misu paste that's a fermented soy bean that gives a really nice sort of Rich sweetness tablespoon of sugar couple \n"
     ]
    },
    {
     "name": "stderr",
     "output_type": "stream",
     "text": [
      "20it [00:01, 12.72it/s]"
     ]
    },
    {
     "name": "stdout",
     "output_type": "stream",
     "text": [
      "(512,)\n",
      "/storage/ice1/0/4/bpopper3/aaaaaaaa/LLaVA_RAG/notebook_pipeline_custom_questions/./storage/XzgR14o6b80/frames/frame_001620.jpg\n",
      "the steaks going to burn while the steaks are cooking I can go with my super quick marinade now 2 tbsp of misu paste that's a fermented soy bean that gives a really nice sort of Rich sweetness tablespoon of sugar couple tablespoons rice wine that gives it a \n",
      "(512,)\n",
      "/storage/ice1/0/4/bpopper3/aaaaaaaa/LLaVA_RAG/notebook_pipeline_custom_questions/./storage/XzgR14o6b80/frames/frame_001710.jpg\n",
      "go with my super quick marinade now 2 tbsp of misu paste that's a fermented soy bean that gives a really nice sort of Rich sweetness tablespoon of sugar couple tablespoons rice wine that gives it a really nice vinegary kick couple tablespoons of olive oil salt and \n",
      "(512,)\n",
      "/storage/ice1/0/4/bpopper3/aaaaaaaa/LLaVA_RAG/notebook_pipeline_custom_questions/./storage/XzgR14o6b80/frames/frame_001800.jpg\n",
      "now 2 tbsp of misu paste that's a fermented soy bean that gives a really nice sort of Rich sweetness tablespoon of sugar couple tablespoons rice wine that gives it a really nice vinegary kick couple tablespoons of olive oil salt and \n"
     ]
    },
    {
     "name": "stderr",
     "output_type": "stream",
     "text": [
      "\r",
      "22it [00:01, 12.75it/s]"
     ]
    },
    {
     "name": "stdout",
     "output_type": "stream",
     "text": [
      "(512,)\n",
      "/storage/ice1/0/4/bpopper3/aaaaaaaa/LLaVA_RAG/notebook_pipeline_custom_questions/./storage/XzgR14o6b80/frames/frame_001890.jpg\n",
      "fermented soy bean that gives a really nice sort of Rich sweetness tablespoon of sugar couple tablespoons rice wine that gives it a really nice vinegary kick couple tablespoons of olive oil salt and pepper I'm looking for a nice sort of thick Rich marinade \n",
      "(512,)\n",
      "/storage/ice1/0/4/bpopper3/aaaaaaaa/LLaVA_RAG/notebook_pipeline_custom_questions/./storage/XzgR14o6b80/frames/frame_001980.jpg\n",
      "nice sort of Rich sweetness tablespoon of sugar couple tablespoons rice wine that gives it a really nice vinegary kick couple tablespoons of olive oil salt and pepper I'm looking for a nice sort of thick Rich marinade \n",
      "(512,)\n",
      "/storage/ice1/0/4/bpopper3/aaaaaaaa/LLaVA_RAG/notebook_pipeline_custom_questions/./storage/XzgR14o6b80/frames/frame_002070.jpg\n",
      "tablespoons rice wine that gives it a really nice vinegary kick couple tablespoons of olive oil salt and pepper I'm looking for a nice sort of thick Rich marinade marinade done it's time to turn the \n"
     ]
    },
    {
     "name": "stderr",
     "output_type": "stream",
     "text": [
      "26it [00:02, 12.78it/s]"
     ]
    },
    {
     "name": "stdout",
     "output_type": "stream",
     "text": [
      "(512,)\n",
      "/storage/ice1/0/4/bpopper3/aaaaaaaa/LLaVA_RAG/notebook_pipeline_custom_questions/./storage/XzgR14o6b80/frames/frame_002160.jpg\n",
      "really nice vinegary kick couple tablespoons of olive oil salt and pepper I'm looking for a nice sort of thick Rich marinade marinade done it's time to turn the steaks so the \n",
      "(512,)\n",
      "/storage/ice1/0/4/bpopper3/aaaaaaaa/LLaVA_RAG/notebook_pipeline_custom_questions/./storage/XzgR14o6b80/frames/frame_002250.jpg\n",
      "tablespoons of olive oil salt and pepper I'm looking for a nice sort of thick Rich marinade marinade done it's time to turn the steaks so the pan you give a spak little base all \n",
      "(512,)\n",
      "/storage/ice1/0/4/bpopper3/aaaaaaaa/LLaVA_RAG/notebook_pipeline_custom_questions/./storage/XzgR14o6b80/frames/frame_002340.jpg\n",
      "pepper I'm looking for a nice sort of thick Rich marinade marinade done it's time to turn the steaks so the pan you give a spak little base all we're doing every time is just adding more and more \n"
     ]
    },
    {
     "name": "stderr",
     "output_type": "stream",
     "text": [
      "\r",
      "28it [00:02, 12.74it/s]"
     ]
    },
    {
     "name": "stdout",
     "output_type": "stream",
     "text": [
      "(512,)\n",
      "/storage/ice1/0/4/bpopper3/aaaaaaaa/LLaVA_RAG/notebook_pipeline_custom_questions/./storage/XzgR14o6b80/frames/frame_002430.jpg\n",
      "thick Rich marinade marinade done it's time to turn the steaks so the pan you give a spak little base all we're doing every time is just adding more and more flavor take your tongs and sort of lift the steak on its back and really melt \n",
      "(512,)\n",
      "/storage/ice1/0/4/bpopper3/aaaaaaaa/LLaVA_RAG/notebook_pipeline_custom_questions/./storage/XzgR14o6b80/frames/frame_002520.jpg\n",
      "marinade done it's time to turn the steaks so the pan you give a spak little base all we're doing every time is just adding more and more flavor take your tongs and sort of lift the steak on its back and really melt for that fat \n",
      "(512,)\n",
      "/storage/ice1/0/4/bpopper3/aaaaaaaa/LLaVA_RAG/notebook_pipeline_custom_questions/./storage/XzgR14o6b80/frames/frame_002610.jpg\n",
      "steaks so the pan you give a spak little base all we're doing every time is just adding more and more flavor take your tongs and sort of lift the steak on its back and really melt for that fat down offer the gas tear them out just \n"
     ]
    },
    {
     "name": "stderr",
     "output_type": "stream",
     "text": [
      "32it [00:02, 12.75it/s]"
     ]
    },
    {
     "name": "stdout",
     "output_type": "stream",
     "text": [
      "(512,)\n",
      "/storage/ice1/0/4/bpopper3/aaaaaaaa/LLaVA_RAG/notebook_pipeline_custom_questions/./storage/XzgR14o6b80/frames/frame_002700.jpg\n",
      "pan you give a spak little base all we're doing every time is just adding more and more flavor take your tongs and sort of lift the steak on its back and really melt for that fat down offer the gas tear them out just \n",
      "(512,)\n",
      "/storage/ice1/0/4/bpopper3/aaaaaaaa/LLaVA_RAG/notebook_pipeline_custom_questions/./storage/XzgR14o6b80/frames/frame_002790.jpg\n",
      "we're doing every time is just adding more and more flavor take your tongs and sort of lift the steak on its back and really melt for that fat down offer the gas tear them out just take your knife it's all that fat there just slice that \n",
      "(512,)\n",
      "/storage/ice1/0/4/bpopper3/aaaaaaaa/LLaVA_RAG/notebook_pipeline_custom_questions/./storage/XzgR14o6b80/frames/frame_002880.jpg\n",
      "flavor take your tongs and sort of lift the steak on its back and really melt for that fat down offer the gas tear them out just take your knife it's all that fat there just slice that off I don't want any of \n"
     ]
    },
    {
     "name": "stderr",
     "output_type": "stream",
     "text": [
      "\r",
      "34it [00:02, 12.73it/s]"
     ]
    },
    {
     "name": "stdout",
     "output_type": "stream",
     "text": [
      "(512,)\n",
      "/storage/ice1/0/4/bpopper3/aaaaaaaa/LLaVA_RAG/notebook_pipeline_custom_questions/./storage/XzgR14o6b80/frames/frame_002970.jpg\n",
      "for that fat down offer the gas tear them out just take your knife it's all that fat there just slice that off I don't want any of that now in it's the \n",
      "(512,)\n",
      "/storage/ice1/0/4/bpopper3/aaaaaaaa/LLaVA_RAG/notebook_pipeline_custom_questions/./storage/XzgR14o6b80/frames/frame_003060.jpg\n",
      "down offer the gas tear them out just take your knife it's all that fat there just slice that off I don't want any of that now in it's the [Music] marinade \n",
      "(512,)\n",
      "/storage/ice1/0/4/bpopper3/aaaaaaaa/LLaVA_RAG/notebook_pipeline_custom_questions/./storage/XzgR14o6b80/frames/frame_003150.jpg\n",
      "take your knife it's all that fat there just slice that off I don't want any of that now in it's the [Music] marinade beautiful tacos are one of Mexico's most popular street foods that can be made \n"
     ]
    },
    {
     "name": "stderr",
     "output_type": "stream",
     "text": [
      "38it [00:02, 12.74it/s]"
     ]
    },
    {
     "name": "stdout",
     "output_type": "stream",
     "text": [
      "(512,)\n",
      "/storage/ice1/0/4/bpopper3/aaaaaaaa/LLaVA_RAG/notebook_pipeline_custom_questions/./storage/XzgR14o6b80/frames/frame_003240.jpg\n",
      "take your knife it's all that fat there just slice that off I don't want any of that now in it's the [Music] marinade beautiful tacos are one of Mexico's most popular street foods that can be made from beef pore chicken or fish and are loaded up with amazing sauces and \n",
      "(512,)\n",
      "/storage/ice1/0/4/bpopper3/aaaaaaaa/LLaVA_RAG/notebook_pipeline_custom_questions/./storage/XzgR14o6b80/frames/frame_003330.jpg\n",
      "off I don't want any of that now in it's the [Music] marinade beautiful tacos are one of Mexico's most popular street foods that can be made from beef pore chicken or fish and are loaded up with amazing sauces and spices now I want something sort of \n",
      "(512,)\n",
      "/storage/ice1/0/4/bpopper3/aaaaaaaa/LLaVA_RAG/notebook_pipeline_custom_questions/./storage/XzgR14o6b80/frames/frame_003420.jpg\n",
      "that now in it's the [Music] marinade beautiful tacos are one of Mexico's most popular street foods that can be made from beef pore chicken or fish and are loaded up with amazing sauces and spices now I want something sort of pickly cabbage these are um Chinese \n"
     ]
    },
    {
     "name": "stderr",
     "output_type": "stream",
     "text": [
      "\r",
      "40it [00:03, 12.72it/s]"
     ]
    },
    {
     "name": "stdout",
     "output_type": "stream",
     "text": [
      "(512,)\n",
      "/storage/ice1/0/4/bpopper3/aaaaaaaa/LLaVA_RAG/notebook_pipeline_custom_questions/./storage/XzgR14o6b80/frames/frame_003510.jpg\n",
      "[Music] marinade beautiful tacos are one of Mexico's most popular street foods that can be made from beef pore chicken or fish and are loaded up with amazing sauces and spices now I want something sort of pickly cabbage these are um Chinese cabbages slice it in \n",
      "(512,)\n",
      "/storage/ice1/0/4/bpopper3/aaaaaaaa/LLaVA_RAG/notebook_pipeline_custom_questions/./storage/XzgR14o6b80/frames/frame_003600.jpg\n",
      "beautiful tacos are one of Mexico's most popular street foods that can be made from beef pore chicken or fish and are loaded up with amazing sauces and spices now I want something sort of pickly cabbage these are um Chinese cabbages slice it in half look at it really crisp and really \n",
      "(512,)\n",
      "/storage/ice1/0/4/bpopper3/aaaaaaaa/LLaVA_RAG/notebook_pipeline_custom_questions/./storage/XzgR14o6b80/frames/frame_003690.jpg\n",
      "from beef pore chicken or fish and are loaded up with amazing sauces and spices now I want something sort of pickly cabbage these are um Chinese cabbages slice it in half look at it really crisp and really tasty we're going to slice that into \n"
     ]
    },
    {
     "name": "stderr",
     "output_type": "stream",
     "text": [
      "44it [00:03, 12.72it/s]"
     ]
    },
    {
     "name": "stdout",
     "output_type": "stream",
     "text": [
      "(512,)\n",
      "/storage/ice1/0/4/bpopper3/aaaaaaaa/LLaVA_RAG/notebook_pipeline_custom_questions/./storage/XzgR14o6b80/frames/frame_003780.jpg\n",
      "loaded up with amazing sauces and spices now I want something sort of pickly cabbage these are um Chinese cabbages slice it in half look at it really crisp and really tasty we're going to slice that into quarters and then just shred it and take \n",
      "(512,)\n",
      "/storage/ice1/0/4/bpopper3/aaaaaaaa/LLaVA_RAG/notebook_pipeline_custom_questions/./storage/XzgR14o6b80/frames/frame_003870.jpg\n",
      "pickly cabbage these are um Chinese cabbages slice it in half look at it really crisp and really tasty we're going to slice that into quarters and then just shred it and take your \n",
      "(512,)\n",
      "/storage/ice1/0/4/bpopper3/aaaaaaaa/LLaVA_RAG/notebook_pipeline_custom_questions/./storage/XzgR14o6b80/frames/frame_003960.jpg\n",
      "cabbages slice it in half look at it really crisp and really tasty we're going to slice that into quarters and then just shred it and take your time you think of cabbage here and you think of sort of brazed overcooked \n"
     ]
    },
    {
     "name": "stderr",
     "output_type": "stream",
     "text": [
      "\r",
      "46it [00:03, 12.70it/s]"
     ]
    },
    {
     "name": "stdout",
     "output_type": "stream",
     "text": [
      "(512,)\n",
      "/storage/ice1/0/4/bpopper3/aaaaaaaa/LLaVA_RAG/notebook_pipeline_custom_questions/./storage/XzgR14o6b80/frames/frame_004050.jpg\n",
      "half look at it really crisp and really tasty we're going to slice that into quarters and then just shred it and take your time you think of cabbage here and you think of sort of brazed overcooked cabbage nothing worse but I Tech you \n",
      "(512,)\n",
      "/storage/ice1/0/4/bpopper3/aaaaaaaa/LLaVA_RAG/notebook_pipeline_custom_questions/./storage/XzgR14o6b80/frames/frame_004140.jpg\n",
      "tasty we're going to slice that into quarters and then just shred it and take your time you think of cabbage here and you think of sort of brazed overcooked cabbage nothing worse but I Tech you want freshness a little season of chili \n",
      "(512,)\n",
      "/storage/ice1/0/4/bpopper3/aaaaaaaa/LLaVA_RAG/notebook_pipeline_custom_questions/./storage/XzgR14o6b80/frames/frame_004230.jpg\n",
      "quarters and then just shred it and take your time you think of cabbage here and you think of sort of brazed overcooked cabbage nothing worse but I Tech you want freshness a little season of chili flakes they sort of discret \n"
     ]
    },
    {
     "name": "stderr",
     "output_type": "stream",
     "text": [
      "50it [00:03, 12.70it/s]"
     ]
    },
    {
     "name": "stdout",
     "output_type": "stream",
     "text": [
      "(512,)\n",
      "/storage/ice1/0/4/bpopper3/aaaaaaaa/LLaVA_RAG/notebook_pipeline_custom_questions/./storage/XzgR14o6b80/frames/frame_004320.jpg\n",
      "your time you think of cabbage here and you think of sort of brazed overcooked cabbage nothing worse but I Tech you want freshness a little season of chili flakes they sort of discret give it a little bit of heat little touch of rice wine vinegar you haven't \n",
      "(512,)\n",
      "/storage/ice1/0/4/bpopper3/aaaaaaaa/LLaVA_RAG/notebook_pipeline_custom_questions/./storage/XzgR14o6b80/frames/frame_004410.jpg\n",
      "time you think of cabbage here and you think of sort of brazed overcooked cabbage nothing worse but I Tech you want freshness a little season of chili flakes they sort of discret give it a little bit of heat little touch of rice wine vinegar you haven't got that fresh lemon \n",
      "(512,)\n",
      "/storage/ice1/0/4/bpopper3/aaaaaaaa/LLaVA_RAG/notebook_pipeline_custom_questions/./storage/XzgR14o6b80/frames/frame_004500.jpg\n",
      "cabbage nothing worse but I Tech you want freshness a little season of chili flakes they sort of discret give it a little bit of heat little touch of rice wine vinegar you haven't got that fresh lemon juice small drop of toasted sesame seed \n"
     ]
    },
    {
     "name": "stderr",
     "output_type": "stream",
     "text": [
      "\r",
      "52it [00:04, 12.68it/s]"
     ]
    },
    {
     "name": "stdout",
     "output_type": "stream",
     "text": [
      "(512,)\n",
      "/storage/ice1/0/4/bpopper3/aaaaaaaa/LLaVA_RAG/notebook_pipeline_custom_questions/./storage/XzgR14o6b80/frames/frame_004590.jpg\n",
      "want freshness a little season of chili flakes they sort of discret give it a little bit of heat little touch of rice wine vinegar you haven't got that fresh lemon juice small drop of toasted sesame seed oil give that a really good mix now I \n",
      "(512,)\n",
      "/storage/ice1/0/4/bpopper3/aaaaaaaa/LLaVA_RAG/notebook_pipeline_custom_questions/./storage/XzgR14o6b80/frames/frame_004680.jpg\n",
      "flakes they sort of discret give it a little bit of heat little touch of rice wine vinegar you haven't got that fresh lemon juice small drop of toasted sesame seed oil give that a really good mix now I need something to sort of Bring It Together take some wabby paste very hot \n",
      "(512,)\n",
      "/storage/ice1/0/4/bpopper3/aaaaaaaa/LLaVA_RAG/notebook_pipeline_custom_questions/./storage/XzgR14o6b80/frames/frame_004770.jpg\n",
      "give it a little bit of heat little touch of rice wine vinegar you haven't got that fresh lemon juice small drop of toasted sesame seed oil give that a really good mix now I need something to sort of Bring It Together take some wabby paste very hot very spicy a sort of thumbnail size I'm \n"
     ]
    },
    {
     "name": "stderr",
     "output_type": "stream",
     "text": [
      "56it [00:04, 12.63it/s]"
     ]
    },
    {
     "name": "stdout",
     "output_type": "stream",
     "text": [
      "(512,)\n",
      "/storage/ice1/0/4/bpopper3/aaaaaaaa/LLaVA_RAG/notebook_pipeline_custom_questions/./storage/XzgR14o6b80/frames/frame_004860.jpg\n",
      "got that fresh lemon juice small drop of toasted sesame seed oil give that a really good mix now I need something to sort of Bring It Together take some wabby paste very hot very spicy a sort of thumbnail size I'm going to mix that with a couple of \n",
      "(512,)\n",
      "/storage/ice1/0/4/bpopper3/aaaaaaaa/LLaVA_RAG/notebook_pipeline_custom_questions/./storage/XzgR14o6b80/frames/frame_004950.jpg\n",
      "juice small drop of toasted sesame seed oil give that a really good mix now I need something to sort of Bring It Together take some wabby paste very hot very spicy a sort of thumbnail size I'm going to mix that with a couple of tablespoons of mayonnaise and give that a really good mix \n",
      "(512,)\n",
      "/storage/ice1/0/4/bpopper3/aaaaaaaa/LLaVA_RAG/notebook_pipeline_custom_questions/./storage/XzgR14o6b80/frames/frame_005040.jpg\n",
      "oil give that a really good mix now I need something to sort of Bring It Together take some wabby paste very hot very spicy a sort of thumbnail size I'm going to mix that with a couple of tablespoons of mayonnaise and give that a really good mix \n"
     ]
    },
    {
     "name": "stderr",
     "output_type": "stream",
     "text": [
      "\r",
      "58it [00:04, 12.67it/s]"
     ]
    },
    {
     "name": "stdout",
     "output_type": "stream",
     "text": [
      "(512,)\n",
      "/storage/ice1/0/4/bpopper3/aaaaaaaa/LLaVA_RAG/notebook_pipeline_custom_questions/./storage/XzgR14o6b80/frames/frame_005130.jpg\n",
      "need something to sort of Bring It Together take some wabby paste very hot very spicy a sort of thumbnail size I'm going to mix that with a couple of tablespoons of mayonnaise and give that a really good mix these are basic corn tortilla the trick \n",
      "(512,)\n",
      "/storage/ice1/0/4/bpopper3/aaaaaaaa/LLaVA_RAG/notebook_pipeline_custom_questions/./storage/XzgR14o6b80/frames/frame_005220.jpg\n",
      "very spicy a sort of thumbnail size I'm going to mix that with a couple of tablespoons of mayonnaise and give that a really good mix these are basic corn tortilla the trick is to sort of color them and then shape \n",
      "(512,)\n",
      "/storage/ice1/0/4/bpopper3/aaaaaaaa/LLaVA_RAG/notebook_pipeline_custom_questions/./storage/XzgR14o6b80/frames/frame_005310.jpg\n",
      "going to mix that with a couple of tablespoons of mayonnaise and give that a really good mix these are basic corn tortilla the trick is to sort of color them and then shape them actually place it on the gas ring \n"
     ]
    },
    {
     "name": "stderr",
     "output_type": "stream",
     "text": [
      "62it [00:04, 12.67it/s]"
     ]
    },
    {
     "name": "stdout",
     "output_type": "stream",
     "text": [
      "(512,)\n",
      "/storage/ice1/0/4/bpopper3/aaaaaaaa/LLaVA_RAG/notebook_pipeline_custom_questions/./storage/XzgR14o6b80/frames/frame_005400.jpg\n",
      "tablespoons of mayonnaise and give that a really good mix these are basic corn tortilla the trick is to sort of color them and then shape them actually place it on the gas ring use some tongs so it's not to burn \n",
      "(512,)\n",
      "/storage/ice1/0/4/bpopper3/aaaaaaaa/LLaVA_RAG/notebook_pipeline_custom_questions/./storage/XzgR14o6b80/frames/frame_005490.jpg\n",
      "a really good mix these are basic corn tortilla the trick is to sort of color them and then shape them actually place it on the gas ring use some tongs so it's not to burn yourself you can also toast your tacos \n",
      "(512,)\n",
      "/storage/ice1/0/4/bpopper3/aaaaaaaa/LLaVA_RAG/notebook_pipeline_custom_questions/./storage/XzgR14o6b80/frames/frame_005580.jpg\n",
      "these are basic corn tortilla the trick is to sort of color them and then shape them actually place it on the gas ring use some tongs so it's not to burn yourself you can also toast your tacos in a frying pan from there just going to \n"
     ]
    },
    {
     "name": "stderr",
     "output_type": "stream",
     "text": [
      "\r",
      "64it [00:05, 12.65it/s]"
     ]
    },
    {
     "name": "stdout",
     "output_type": "stream",
     "text": [
      "(512,)\n",
      "/storage/ice1/0/4/bpopper3/aaaaaaaa/LLaVA_RAG/notebook_pipeline_custom_questions/./storage/XzgR14o6b80/frames/frame_005670.jpg\n",
      "is to sort of color them and then shape them actually place it on the gas ring use some tongs so it's not to burn yourself you can also toast your tacos in a frying pan from there just going to place it on the rolling pin literally 30 \n",
      "(512,)\n",
      "/storage/ice1/0/4/bpopper3/aaaaaaaa/LLaVA_RAG/notebook_pipeline_custom_questions/./storage/XzgR14o6b80/frames/frame_005760.jpg\n",
      "them actually place it on the gas ring use some tongs so it's not to burn yourself you can also toast your tacos in a frying pan from there just going to place it on the rolling pin literally 30 seconds as it cools down the great thing \n",
      "(512,)\n",
      "/storage/ice1/0/4/bpopper3/aaaaaaaa/LLaVA_RAG/notebook_pipeline_custom_questions/./storage/XzgR14o6b80/frames/frame_005850.jpg\n",
      "use some tongs so it's not to burn yourself you can also toast your tacos in a frying pan from there just going to place it on the rolling pin literally 30 seconds as it cools down the great thing about serving tacos is people can fill \n"
     ]
    },
    {
     "name": "stderr",
     "output_type": "stream",
     "text": [
      "68it [00:05, 12.64it/s]"
     ]
    },
    {
     "name": "stdout",
     "output_type": "stream",
     "text": [
      "(512,)\n",
      "/storage/ice1/0/4/bpopper3/aaaaaaaa/LLaVA_RAG/notebook_pipeline_custom_questions/./storage/XzgR14o6b80/frames/frame_005940.jpg\n",
      "yourself you can also toast your tacos in a frying pan from there just going to place it on the rolling pin literally 30 seconds as it cools down the great thing about serving tacos is people can fill them themselves just the way they want them cabbage just squeeze out wet \n",
      "(512,)\n",
      "/storage/ice1/0/4/bpopper3/aaaaaaaa/LLaVA_RAG/notebook_pipeline_custom_questions/./storage/XzgR14o6b80/frames/frame_006030.jpg\n",
      "in a frying pan from there just going to place it on the rolling pin literally 30 seconds as it cools down the great thing about serving tacos is people can fill them themselves just the way they want them cabbage just squeeze out wet marinade a nice rustic Little \n",
      "(512,)\n",
      "/storage/ice1/0/4/bpopper3/aaaaaaaa/LLaVA_RAG/notebook_pipeline_custom_questions/./storage/XzgR14o6b80/frames/frame_006120.jpg\n",
      "place it on the rolling pin literally 30 seconds as it cools down the great thing about serving tacos is people can fill them themselves just the way they want them cabbage just squeeze out wet marinade a nice rustic Little Mountain \n"
     ]
    },
    {
     "name": "stderr",
     "output_type": "stream",
     "text": [
      "\r",
      "70it [00:05, 12.65it/s]"
     ]
    },
    {
     "name": "stdout",
     "output_type": "stream",
     "text": [
      "(512,)\n",
      "/storage/ice1/0/4/bpopper3/aaaaaaaa/LLaVA_RAG/notebook_pipeline_custom_questions/./storage/XzgR14o6b80/frames/frame_006210.jpg\n",
      "it on the rolling pin literally 30 seconds as it cools down the great thing about serving tacos is people can fill them themselves just the way they want them cabbage just squeeze out wet marinade a nice rustic Little Mountain mayonnaise on oh you just see how soft \n",
      "(512,)\n",
      "/storage/ice1/0/4/bpopper3/aaaaaaaa/LLaVA_RAG/notebook_pipeline_custom_questions/./storage/XzgR14o6b80/frames/frame_006300.jpg\n",
      "seconds as it cools down the great thing about serving tacos is people can fill them themselves just the way they want them cabbage just squeeze out wet marinade a nice rustic Little Mountain mayonnaise on oh you just see how soft and delicious and almost sort of melting \n",
      "(512,)\n",
      "/storage/ice1/0/4/bpopper3/aaaaaaaa/LLaVA_RAG/notebook_pipeline_custom_questions/./storage/XzgR14o6b80/frames/frame_006390.jpg\n",
      "them themselves just the way they want them cabbage just squeeze out wet marinade a nice rustic Little Mountain mayonnaise on oh you just see how soft and delicious and almost sort of melting in the mouth texture we've got and this \n"
     ]
    },
    {
     "name": "stderr",
     "output_type": "stream",
     "text": [
      "74it [00:05, 12.68it/s]"
     ]
    },
    {
     "name": "stdout",
     "output_type": "stream",
     "text": [
      "(512,)\n",
      "/storage/ice1/0/4/bpopper3/aaaaaaaa/LLaVA_RAG/notebook_pipeline_custom_questions/./storage/XzgR14o6b80/frames/frame_006480.jpg\n",
      "marinade a nice rustic Little Mountain mayonnaise on oh you just see how soft and delicious and almost sort of melting in the mouth texture we've got and this amazing sirloin so got that really nice nice sear around the outside it's just \n",
      "(512,)\n",
      "/storage/ice1/0/4/bpopper3/aaaaaaaa/LLaVA_RAG/notebook_pipeline_custom_questions/./storage/XzgR14o6b80/frames/frame_006570.jpg\n",
      "Mountain mayonnaise on oh you just see how soft and delicious and almost sort of melting in the mouth texture we've got and this amazing sirloin so got that really nice nice sear around the outside it's just nice and pink in the \n",
      "(512,)\n",
      "/storage/ice1/0/4/bpopper3/aaaaaaaa/LLaVA_RAG/notebook_pipeline_custom_questions/./storage/XzgR14o6b80/frames/frame_006660.jpg\n",
      "mayonnaise on oh you just see how soft and delicious and almost sort of melting in the mouth texture we've got and this amazing sirloin so got that really nice nice sear around the outside it's just nice and pink in the middle start off with my crispy shell \n"
     ]
    },
    {
     "name": "stderr",
     "output_type": "stream",
     "text": [
      "\r",
      "76it [00:05, 12.69it/s]"
     ]
    },
    {
     "name": "stdout",
     "output_type": "stream",
     "text": [
      "(512,)\n",
      "/storage/ice1/0/4/bpopper3/aaaaaaaa/LLaVA_RAG/notebook_pipeline_custom_questions/./storage/XzgR14o6b80/frames/frame_006750.jpg\n",
      "and delicious and almost sort of melting in the mouth texture we've got and this amazing sirloin so got that really nice nice sear around the outside it's just nice and pink in the middle start off with my crispy shell back of the spoon with the Wasabi \n",
      "(512,)\n",
      "/storage/ice1/0/4/bpopper3/aaaaaaaa/LLaVA_RAG/notebook_pipeline_custom_questions/./storage/XzgR14o6b80/frames/frame_006840.jpg\n",
      "in the mouth texture we've got and this amazing sirloin so got that really nice nice sear around the outside it's just nice and pink in the middle start off with my crispy shell back of the spoon with the Wasabi mayonnaise inside Taco just spinkle that \n",
      "(512,)\n",
      "/storage/ice1/0/4/bpopper3/aaaaaaaa/LLaVA_RAG/notebook_pipeline_custom_questions/./storage/XzgR14o6b80/frames/frame_006930.jpg\n",
      "amazing sirloin so got that really nice nice sear around the outside it's just nice and pink in the middle start off with my crispy shell back of the spoon with the Wasabi mayonnaise inside Taco just spinkle that delicious pickled cabbage and then just \n"
     ]
    },
    {
     "name": "stderr",
     "output_type": "stream",
     "text": [
      "80it [00:06, 12.68it/s]"
     ]
    },
    {
     "name": "stdout",
     "output_type": "stream",
     "text": [
      "(512,)\n",
      "/storage/ice1/0/4/bpopper3/aaaaaaaa/LLaVA_RAG/notebook_pipeline_custom_questions/./storage/XzgR14o6b80/frames/frame_007020.jpg\n",
      "nice and pink in the middle start off with my crispy shell back of the spoon with the Wasabi mayonnaise inside Taco just spinkle that delicious pickled cabbage and then just start lining my taco with three or four \n",
      "(512,)\n",
      "/storage/ice1/0/4/bpopper3/aaaaaaaa/LLaVA_RAG/notebook_pipeline_custom_questions/./storage/XzgR14o6b80/frames/frame_007110.jpg\n",
      "nice and pink in the middle start off with my crispy shell back of the spoon with the Wasabi mayonnaise inside Taco just spinkle that delicious pickled cabbage and then just start lining my taco with three or four slices touch \n",
      "(512,)\n",
      "/storage/ice1/0/4/bpopper3/aaaaaaaa/LLaVA_RAG/notebook_pipeline_custom_questions/./storage/XzgR14o6b80/frames/frame_007200.jpg\n",
      "back of the spoon with the Wasabi mayonnaise inside Taco just spinkle that delicious pickled cabbage and then just start lining my taco with three or four slices touch more on my spicy \n"
     ]
    },
    {
     "name": "stderr",
     "output_type": "stream",
     "text": [
      "\r",
      "82it [00:06, 12.70it/s]"
     ]
    },
    {
     "name": "stdout",
     "output_type": "stream",
     "text": [
      "(512,)\n",
      "/storage/ice1/0/4/bpopper3/aaaaaaaa/LLaVA_RAG/notebook_pipeline_custom_questions/./storage/XzgR14o6b80/frames/frame_007290.jpg\n",
      "mayonnaise inside Taco just spinkle that delicious pickled cabbage and then just start lining my taco with three or four slices touch more on my spicy Mayo that is how I'd make the perfect \n",
      "(512,)\n",
      "/storage/ice1/0/4/bpopper3/aaaaaaaa/LLaVA_RAG/notebook_pipeline_custom_questions/./storage/XzgR14o6b80/frames/frame_007380.jpg\n",
      "delicious pickled cabbage and then just start lining my taco with three or four slices touch more on my spicy Mayo that is how I'd make the perfect Tacko \n",
      "(512,)\n",
      "/storage/ice1/0/4/bpopper3/aaaaaaaa/LLaVA_RAG/notebook_pipeline_custom_questions/./storage/XzgR14o6b80/frames/frame_007470.jpg\n",
      "start lining my taco with three or four slices touch more on my spicy Mayo that is how I'd make the perfect Tacko \n"
     ]
    },
    {
     "name": "stderr",
     "output_type": "stream",
     "text": [
      "86it [00:06, 12.79it/s]"
     ]
    },
    {
     "name": "stdout",
     "output_type": "stream",
     "text": [
      "(512,)\n",
      "/storage/ice1/0/4/bpopper3/aaaaaaaa/LLaVA_RAG/notebook_pipeline_custom_questions/./storage/XzgR14o6b80/frames/frame_007560.jpg\n",
      "start lining my taco with three or four slices touch more on my spicy Mayo that is how I'd make the perfect Tacko \n",
      "(512,)\n",
      "/storage/ice1/0/4/bpopper3/aaaaaaaa/LLaVA_RAG/notebook_pipeline_custom_questions/./storage/XzgR14o6b80/frames/frame_007650.jpg\n",
      "more on my spicy Mayo that is how I'd make the perfect Tacko \n",
      "(512,)\n",
      "/storage/ice1/0/4/bpopper3/aaaaaaaa/LLaVA_RAG/notebook_pipeline_custom_questions/./storage/XzgR14o6b80/frames/frame_007740.jpg\n",
      "Mayo that is how I'd make the perfect Tacko \n"
     ]
    },
    {
     "name": "stderr",
     "output_type": "stream",
     "text": [
      "\r",
      "87it [00:06, 12.71it/s]"
     ]
    },
    {
     "name": "stdout",
     "output_type": "stream",
     "text": [
      "(512,)\n",
      "saved faiss index\n"
     ]
    },
    {
     "name": "stderr",
     "output_type": "stream",
     "text": [
      "\n"
     ]
    }
   ],
   "source": [
    "\n",
    "#################################################################################################################\n",
    "WANT_TO_CREATE_FAISS = True\n",
    "#Takes about 15 sec per video on a good GPU (depends also how many frames per vid, this is for interval 60)\n",
    "DEVICE = \"cuda:0\" #only runs fast on GPU\n",
    "\n",
    "HF_CACHE = \"/home/hice1/bpopper3/scratch/hug_face_files/hub_cache\"\n",
    "#################################################################################################################\n",
    "\n",
    "\n",
    "import json\n",
    "import os\n",
    "import numpy as np\n",
    "from numpy.linalg import norm\n",
    "import cv2\n",
    "import pandas as pd\n",
    "from tqdm import tqdm\n",
    "from transformers import BridgeTowerProcessor, BridgeTowerForContrastiveLearning\n",
    "from PIL import Image\n",
    "from transformers import LlavaNextProcessor, LlavaNextForConditionalGeneration\n",
    "import torch\n",
    "from PIL import Image\n",
    "import requests\n",
    "from termcolor import cprint\n",
    "import faiss\n",
    "import pandas as pd\n",
    "\n",
    "BT_processor = BridgeTowerProcessor.from_pretrained(\"BridgeTower/bridgetower-large-itm-mlm-itc\",cache_dir=HF_CACHE) #.to(DEVICE)\n",
    "BT_model = BridgeTowerForContrastiveLearning.from_pretrained(\"BridgeTower/bridgetower-large-itm-mlm-itc\",cache_dir=HF_CACHE).to(DEVICE)\n",
    "\n",
    "\n",
    "def encode_single_image_text(image_path, text):\n",
    "    print(image_path)\n",
    "    print(text)\n",
    "    image = Image.open(image_path)\n",
    "    encoding = BT_processor(image, text, return_tensors=\"pt\").to(DEVICE)\n",
    "    outputs = BT_model(**encoding)\n",
    "    return outputs['cross_embeds'].cpu().detach().numpy()\n",
    "\n",
    "\n",
    "\n",
    "\n",
    "if WANT_TO_CREATE_FAISS:\n",
    "    for URL in ALL_URLS:\n",
    "        input_folder = f\"{base_path}/{URL}\"\n",
    "        \n",
    "        \n",
    "            #load ./paired_image_data.csv\n",
    "        df_mapping = pd.read_csv(f'{input_folder}/image_transcript_mapping.csv')\n",
    "        #rows :             index,image_path,transcript_text,timestamp\n",
    "\n",
    "        #create empty FAISS index\n",
    "        \n",
    "\n",
    "        # Create embeddings for each row\n",
    "        embeddings = np.zeros((len(df_mapping), 512))\n",
    "        for _, row in tqdm(df_mapping.iterrows()):\n",
    "\n",
    "\n",
    "            embedding = encode_single_image_text(row['image_path'], row['transcript_text'])\n",
    "            #reshape to (512,)\n",
    "            embedding = embedding.reshape(512)\n",
    "            embeddings[row['index'],:] = embedding\n",
    "\n",
    "            print(embedding.shape)\n",
    "\n",
    "        # Initialize FAISS index\n",
    "        dimension = 512  # dimension of your embeddings\n",
    "        index = faiss.IndexFlatL2(dimension)\n",
    "\n",
    "        # Add embeddings to the FAISS index\n",
    "        index.add(embeddings)\n",
    "\n",
    "        # Create a mapping between FAISS ids and dataframe indices\n",
    "        id_to_index = {i: idx for i, idx in enumerate(df_mapping.index)}\n",
    "\n",
    "        # Save the FAISS index\n",
    "        faiss.write_index(index, f\"{input_folder}/faiss_database.bin\")\n",
    "        print('saved faiss index')"
   ]
  },
  {
   "cell_type": "markdown",
   "metadata": {},
   "source": [
    "## Step 3 : Chat with FAISS Db as RAG"
   ]
  },
  {
   "cell_type": "code",
   "execution_count": 8,
   "metadata": {},
   "outputs": [],
   "source": [
    "import faiss\n",
    "import numpy as np\n",
    "import pandas as pd\n",
    "import matplotlib.pyplot as plt\n",
    "import numpy as np\n",
    "from numpy.linalg import norm\n",
    "import pandas as pd\n",
    "from tqdm import tqdm\n",
    "from transformers import BridgeTowerProcessor, BridgeTowerForContrastiveLearning\n",
    "from PIL import Image\n",
    "from transformers import LlavaNextProcessor, LlavaNextForConditionalGeneration\n",
    "from PIL import Image\n",
    "from termcolor import cprint\n",
    "import pandas as pd\n",
    "\n",
    "\n",
    "def encode_text_query(text):\n",
    "    global index\n",
    "    global df\n",
    "    #we suppose BT_processor and BT_model are loaded from cell above\n",
    "    #create random Image 32x32\n",
    "    image = Image.fromarray(np.random.randint(0,255,(32,32,3),dtype=np.uint8))\n",
    "    encoding = BT_processor(image, text, return_tensors=\"pt\").to(DEVICE)\n",
    "    outputs = BT_model(**encoding)\n",
    "    #reshape to (512,)\n",
    "\n",
    "    return outputs['text_embeds'].cpu().detach().numpy().reshape(-1)\n",
    "\n",
    "\n",
    "def get_n_closest_index(embedding,n):\n",
    "    global index\n",
    "    global df\n",
    "    D, I = index.search(np.array([embedding]), n)\n",
    "    #I[0] has the indexes of the n closest images\n",
    "    return I[0]\n",
    "\n",
    "def set_index(folder_path):\n",
    "    global index\n",
    "    global df\n",
    "    index = faiss.read_index(folder_path+'/faiss_database.bin')\n",
    "    df = pd.read_csv(folder_path+'/image_transcript_mapping.csv')\n",
    "\n"
   ]
  },
  {
   "cell_type": "code",
   "execution_count": 9,
   "metadata": {},
   "outputs": [],
   "source": [
    "def return_image_and_enhanced_query(question,answer_a,answer_b,answer_c,answer_d,folder_path):\n",
    "    global index\n",
    "    global df\n",
    "    set_index(folder_path)\n",
    "    text_embedding = encode_text_query(question)\n",
    "    \n",
    "    #return query with 1 closest image/text pair to enhance the query\n",
    "\n",
    "    closest_index = get_n_closest_index(text_embedding,1)\n",
    "    print(f\"Closest index is {closest_index[0]} for query '{question}'\")\n",
    "    return create_enhanced_conversation(df.iloc[closest_index[0]]['transcript_text'],question,Image.open(df.iloc[closest_index[0]]['image_path']),answer_a,answer_b,answer_c,answer_d)\n",
    "\n",
    "\n",
    "def debug_top3_frames(question,answer_a,answer_b,answer_c,answer_d,folder_path):\n",
    "    global index\n",
    "    global df\n",
    "    set_index(folder_path)\n",
    "    text_embedding = encode_text_query(question)\n",
    "    \n",
    "    \n",
    "    \n",
    "\n",
    "\n",
    "    closest_index = get_n_closest_index(text_embedding,3)\n",
    "    top1_text = df.iloc[closest_index[0]]['transcript_text']\n",
    "    return closest_index[0],closest_index[1],closest_index[2],top1_text\n",
    "    \n",
    "\n",
    "def create_enhanced_conversation(textt,question,image,answer_a,answer_b,answer_c,answer_d):\n",
    "    global index\n",
    "    global df\n",
    "    \n",
    "    return [{\n",
    "        \"role\": \"user\",\n",
    "        \"content\": [\n",
    "            {\"type\": \"text\", \"text\" : f\"\"\"Please answer this question : 'What is 2+2'\n",
    "            This transcript can also help you answer : 'Addition is a mathematical commutative operation that' .\n",
    "            It is possible that the image helps you answer the question, but it is possible that it does not\n",
    "            Answer A: 4\n",
    "            Answer B: 6\n",
    "            Answer C: 9\n",
    "            Answer D: 12\"\"\"}\n",
    "        ],\n",
    "    },\n",
    "    {\n",
    "        \"role\": \"assistant\",\n",
    "        \"content\": [\n",
    "   \n",
    "            {\"type\": \"text\", \"text\" : \"A\"}\n",
    "        ],\n",
    "    },\n",
    "    {\n",
    "        \"role\": \"user\",\n",
    "        \"content\": [\n",
    "            {\"type\": \"image\"},\n",
    "            {\"type\": \"text\", \"text\" : f\"\"\"Please answer this question : '{question}'\n",
    "            This transcript can also help you answer : '{textt}' .\n",
    "            It is possible that the image helps you answer the question, but it is possible that it does not\n",
    "            Answer A: {answer_a}\n",
    "            Answer B: {answer_b}\n",
    "            Answer C: {answer_c}\n",
    "            Answer D: {answer_d}\"\"\"}\n",
    "        ],\n",
    "    }],image"
   ]
  },
  {
   "cell_type": "code",
   "execution_count": 10,
   "metadata": {},
   "outputs": [
    {
     "name": "stdout",
     "output_type": "stream",
     "text": [
      "beginning to load LLaVA\n"
     ]
    },
    {
     "name": "stderr",
     "output_type": "stream",
     "text": [
      "Some kwargs in processor config are unused and will not have any effect: num_additional_image_tokens. \n",
      "Unused kwargs: ['llm_int8_has_fp16_weights']. These kwargs are not used in <class 'transformers.utils.quantization_config.BitsAndBytesConfig'>.\n",
      "Loading checkpoint shards: 100%|██████████| 4/4 [00:26<00:00,  6.51s/it]\n"
     ]
    }
   ],
   "source": [
    "#This script loads LLaVA so it's on a big GPU\n",
    "import json\n",
    "import os\n",
    "import numpy as np\n",
    "from numpy.linalg import norm\n",
    "import cv2\n",
    "import pandas as pd\n",
    "from tqdm import tqdm\n",
    "from transformers import BridgeTowerProcessor, BridgeTowerForContrastiveLearning\n",
    "from PIL import Image\n",
    "from transformers import LlavaNextProcessor, LlavaNextForConditionalGeneration\n",
    "import torch\n",
    "from PIL import Image\n",
    "import requests\n",
    "from termcolor import cprint\n",
    "\n",
    "\n",
    "########################## LOADING LLAVA ##########################\n",
    "\n",
    "\n",
    "print(\"beginning to load LLaVA\")\n",
    "\n",
    "llava_processor = LlavaNextProcessor.from_pretrained(\"llava-hf/llava-v1.6-mistral-7b-hf\", device=DEVICE,cache_dir=HF_CACHE)\n",
    "\n",
    "\n",
    "from transformers import LlavaNextForConditionalGeneration, BitsAndBytesConfig\n",
    "\n",
    "quantization_config = BitsAndBytesConfig(\n",
    "    load_in_8bit=True,\n",
    "    llm_int8_threshold=6.0,  # Threshold for weight offloading\n",
    "    llm_int8_skip_modules=[\"lm_head\"],  # Prevent quantization of specific layers\n",
    "    llm_int8_has_fp16_weights=True  # Mixed precision with fp16 weights\n",
    ")\n",
    "\n",
    "llava_model = LlavaNextForConditionalGeneration.from_pretrained(\"llava-hf/llava-v1.6-mistral-7b-hf\", quantization_config=quantization_config, device_map=DEVICE,cache_dir=HF_CACHE)\n"
   ]
  },
  {
   "cell_type": "code",
   "execution_count": 11,
   "metadata": {},
   "outputs": [
    {
     "name": "stdout",
     "output_type": "stream",
     "text": [
      "Closest index is 43 for query 'What color is the spatula on the cutting board?'\n"
     ]
    },
    {
     "name": "stderr",
     "output_type": "stream",
     "text": [
      "/home/hice1/bpopper3/.conda/envs/vlm/lib/python3.11/site-packages/jinja2/lexer.py:652: DeprecationWarning: invalid escape sequence '\\s'\n",
      "  .decode(\"unicode-escape\")\n",
      "Starting from v4.46, the `logits` model output will have the same type as the model (except at train time, where it will always be FP32)\n"
     ]
    },
    {
     "name": "stdout",
     "output_type": "stream",
     "text": [
      "Question: What color is the spatula on the cutting board?\n",
      "Selected Answer: Black\n",
      "Correct: False\n",
      "----------------------------------------------------------------------\n",
      "Closest index is 14 for query 'What green ingredient is added to the pan ?'\n",
      "Question: What green ingredient is added to the pan ?\n",
      "Selected Answer: Spring onions\n",
      "Correct: True\n",
      "----------------------------------------------------------------------\n",
      "Closest index is 58 for query 'What is the purpose of the large blue object on the table ?'\n",
      "Question: What is the purpose of the large blue object on the table ?\n",
      "Selected Answer: To provide heat to cook\n",
      "Correct: True\n",
      "----------------------------------------------------------------------\n",
      "Closest index is 20 for query 'How many prawns are cooking in the pan?'\n",
      "Question: How many prawns are cooking in the pan?\n",
      "Selected Answer: About 4 big prawns\n",
      "Correct: False\n",
      "----------------------------------------------------------------------\n",
      "Closest index is 28 for query 'What is the color if the liquid the two steaks are in?'\n",
      "Question: What is the color if the liquid the two steaks are in?\n",
      "Selected Answer: Yellow-brown\n",
      "Correct: True\n",
      "----------------------------------------------------------------------\n",
      "Closest index is 17 for query 'What color is the hair of the man cooking?'\n",
      "Question: What color is the hair of the man cooking?\n",
      "Selected Answer: Blond\n",
      "Correct: True\n",
      "----------------------------------------------------------------------\n",
      "Closest index is 44 for query 'Which country are the cabbages from?'\n",
      "Question: Which country are the cabbages from?\n",
      "Selected Answer: They are british\n",
      "Correct: False\n",
      "----------------------------------------------------------------------\n",
      "Closest index is 52 for query 'How much wasabi is on the spoon ?'\n",
      "Question: How much wasabi is on the spoon ?\n",
      "Selected Answer: About a thumbnail size\n",
      "Correct: True\n",
      "----------------------------------------------------------------------\n"
     ]
    },
    {
     "ename": "RuntimeError",
     "evalue": "Error in faiss::FileIOReader::FileIOReader(const char*) at /home/circleci/miniconda/conda-bld/faiss-pkg_1709244517602/work/faiss/impl/io.cpp:67: Error: 'f' failed: could not open ./storage/vow-kxTPatc/faiss_database.bin for reading: No such file or directory",
     "output_type": "error",
     "traceback": [
      "\u001b[0;31m---------------------------------------------------------------------------\u001b[0m",
      "\u001b[0;31mRuntimeError\u001b[0m                              Traceback (most recent call last)",
      "\u001b[0;32m/scratch/1034370/ipykernel_1433680/90027444.py\u001b[0m in \u001b[0;36m?\u001b[0;34m()\u001b[0m\n\u001b[1;32m     24\u001b[0m     \u001b[0manswer_d\u001b[0m \u001b[0;34m=\u001b[0m \u001b[0manswers\u001b[0m\u001b[0;34m[\u001b[0m\u001b[0;36m3\u001b[0m\u001b[0;34m]\u001b[0m\u001b[0;34m\u001b[0m\u001b[0;34m\u001b[0m\u001b[0m\n\u001b[1;32m     25\u001b[0m \u001b[0;34m\u001b[0m\u001b[0m\n\u001b[1;32m     26\u001b[0m     \u001b[0mfolder_path\u001b[0m \u001b[0;34m=\u001b[0m \u001b[0;34mf\"{base_path}/{URL}\"\u001b[0m\u001b[0;34m\u001b[0m\u001b[0;34m\u001b[0m\u001b[0m\n\u001b[1;32m     27\u001b[0m \u001b[0;34m\u001b[0m\u001b[0m\n\u001b[0;32m---> 28\u001b[0;31m     \u001b[0mconv\u001b[0m\u001b[0;34m,\u001b[0m \u001b[0mimage\u001b[0m \u001b[0;34m=\u001b[0m \u001b[0mreturn_image_and_enhanced_query\u001b[0m\u001b[0;34m(\u001b[0m\u001b[0mquestion\u001b[0m\u001b[0;34m,\u001b[0m \u001b[0manswer_a\u001b[0m\u001b[0;34m,\u001b[0m \u001b[0manswer_b\u001b[0m\u001b[0;34m,\u001b[0m \u001b[0manswer_c\u001b[0m\u001b[0;34m,\u001b[0m \u001b[0manswer_d\u001b[0m\u001b[0;34m,\u001b[0m \u001b[0mfolder_path\u001b[0m\u001b[0;34m)\u001b[0m\u001b[0;34m\u001b[0m\u001b[0;34m\u001b[0m\u001b[0m\n\u001b[0m\u001b[1;32m     29\u001b[0m     \u001b[0mtop1\u001b[0m\u001b[0;34m,\u001b[0m \u001b[0mtop2\u001b[0m\u001b[0;34m,\u001b[0m \u001b[0mtop3\u001b[0m\u001b[0;34m,\u001b[0m\u001b[0mtop1text\u001b[0m \u001b[0;34m=\u001b[0m \u001b[0mdebug_top3_frames\u001b[0m\u001b[0;34m(\u001b[0m\u001b[0mquestion\u001b[0m\u001b[0;34m,\u001b[0m \u001b[0manswer_a\u001b[0m\u001b[0;34m,\u001b[0m \u001b[0manswer_b\u001b[0m\u001b[0;34m,\u001b[0m \u001b[0manswer_c\u001b[0m\u001b[0;34m,\u001b[0m \u001b[0manswer_d\u001b[0m\u001b[0;34m,\u001b[0m \u001b[0mfolder_path\u001b[0m\u001b[0;34m)\u001b[0m\u001b[0;34m\u001b[0m\u001b[0;34m\u001b[0m\u001b[0m\n\u001b[1;32m     30\u001b[0m \u001b[0;34m\u001b[0m\u001b[0m\n\u001b[1;32m     31\u001b[0m     \u001b[0;31m# Paths for top frames\u001b[0m\u001b[0;34m\u001b[0m\u001b[0;34m\u001b[0m\u001b[0m\n",
      "\u001b[0;32m/scratch/1034370/ipykernel_1433680/2200387738.py\u001b[0m in \u001b[0;36m?\u001b[0;34m(question, answer_a, answer_b, answer_c, answer_d, folder_path)\u001b[0m\n\u001b[1;32m      1\u001b[0m \u001b[0;32mdef\u001b[0m \u001b[0mreturn_image_and_enhanced_query\u001b[0m\u001b[0;34m(\u001b[0m\u001b[0mquestion\u001b[0m\u001b[0;34m,\u001b[0m\u001b[0manswer_a\u001b[0m\u001b[0;34m,\u001b[0m\u001b[0manswer_b\u001b[0m\u001b[0;34m,\u001b[0m\u001b[0manswer_c\u001b[0m\u001b[0;34m,\u001b[0m\u001b[0manswer_d\u001b[0m\u001b[0;34m,\u001b[0m\u001b[0mfolder_path\u001b[0m\u001b[0;34m)\u001b[0m\u001b[0;34m:\u001b[0m\u001b[0;34m\u001b[0m\u001b[0;34m\u001b[0m\u001b[0m\n\u001b[1;32m      2\u001b[0m     \u001b[0;32mglobal\u001b[0m \u001b[0mindex\u001b[0m\u001b[0;34m\u001b[0m\u001b[0;34m\u001b[0m\u001b[0m\n\u001b[1;32m      3\u001b[0m     \u001b[0;32mglobal\u001b[0m \u001b[0mdf\u001b[0m\u001b[0;34m\u001b[0m\u001b[0;34m\u001b[0m\u001b[0m\n\u001b[0;32m----> 4\u001b[0;31m     \u001b[0mset_index\u001b[0m\u001b[0;34m(\u001b[0m\u001b[0mfolder_path\u001b[0m\u001b[0;34m)\u001b[0m\u001b[0;34m\u001b[0m\u001b[0;34m\u001b[0m\u001b[0m\n\u001b[0m\u001b[1;32m      5\u001b[0m     \u001b[0mtext_embedding\u001b[0m \u001b[0;34m=\u001b[0m \u001b[0mencode_text_query\u001b[0m\u001b[0;34m(\u001b[0m\u001b[0mquestion\u001b[0m\u001b[0;34m)\u001b[0m\u001b[0;34m\u001b[0m\u001b[0;34m\u001b[0m\u001b[0m\n\u001b[1;32m      6\u001b[0m \u001b[0;34m\u001b[0m\u001b[0m\n\u001b[1;32m      7\u001b[0m     \u001b[0;31m#return query with 1 closest image/text pair to enhance the query\u001b[0m\u001b[0;34m\u001b[0m\u001b[0;34m\u001b[0m\u001b[0m\n",
      "\u001b[0;32m/scratch/1034370/ipykernel_1433680/3241942059.py\u001b[0m in \u001b[0;36m?\u001b[0;34m(folder_path)\u001b[0m\n\u001b[1;32m     37\u001b[0m \u001b[0;32mdef\u001b[0m \u001b[0mset_index\u001b[0m\u001b[0;34m(\u001b[0m\u001b[0mfolder_path\u001b[0m\u001b[0;34m)\u001b[0m\u001b[0;34m:\u001b[0m\u001b[0;34m\u001b[0m\u001b[0;34m\u001b[0m\u001b[0m\n\u001b[1;32m     38\u001b[0m     \u001b[0;32mglobal\u001b[0m \u001b[0mindex\u001b[0m\u001b[0;34m\u001b[0m\u001b[0;34m\u001b[0m\u001b[0m\n\u001b[1;32m     39\u001b[0m     \u001b[0;32mglobal\u001b[0m \u001b[0mdf\u001b[0m\u001b[0;34m\u001b[0m\u001b[0;34m\u001b[0m\u001b[0m\n\u001b[0;32m---> 40\u001b[0;31m     \u001b[0mindex\u001b[0m \u001b[0;34m=\u001b[0m \u001b[0mfaiss\u001b[0m\u001b[0;34m.\u001b[0m\u001b[0mread_index\u001b[0m\u001b[0;34m(\u001b[0m\u001b[0mfolder_path\u001b[0m\u001b[0;34m+\u001b[0m\u001b[0;34m'/faiss_database.bin'\u001b[0m\u001b[0;34m)\u001b[0m\u001b[0;34m\u001b[0m\u001b[0;34m\u001b[0m\u001b[0m\n\u001b[0m\u001b[1;32m     41\u001b[0m     \u001b[0mdf\u001b[0m \u001b[0;34m=\u001b[0m \u001b[0mpd\u001b[0m\u001b[0;34m.\u001b[0m\u001b[0mread_csv\u001b[0m\u001b[0;34m(\u001b[0m\u001b[0mfolder_path\u001b[0m\u001b[0;34m+\u001b[0m\u001b[0;34m'/image_transcript_mapping.csv'\u001b[0m\u001b[0;34m)\u001b[0m\u001b[0;34m\u001b[0m\u001b[0;34m\u001b[0m\u001b[0m\n",
      "\u001b[0;32m~/.conda/envs/vlm/lib/python3.11/site-packages/faiss/swigfaiss_avx512.py\u001b[0m in \u001b[0;36m?\u001b[0;34m(*args)\u001b[0m\n\u001b[1;32m  12364\u001b[0m \u001b[0;32mdef\u001b[0m \u001b[0mread_index\u001b[0m\u001b[0;34m(\u001b[0m\u001b[0;34m*\u001b[0m\u001b[0margs\u001b[0m\u001b[0;34m)\u001b[0m\u001b[0;34m:\u001b[0m\u001b[0;34m\u001b[0m\u001b[0;34m\u001b[0m\u001b[0m\n\u001b[0;32m> 12365\u001b[0;31m     \u001b[0;32mreturn\u001b[0m \u001b[0m_swigfaiss_avx512\u001b[0m\u001b[0;34m.\u001b[0m\u001b[0mread_index\u001b[0m\u001b[0;34m(\u001b[0m\u001b[0;34m*\u001b[0m\u001b[0margs\u001b[0m\u001b[0;34m)\u001b[0m\u001b[0;34m\u001b[0m\u001b[0;34m\u001b[0m\u001b[0m\n\u001b[0m",
      "\u001b[0;31mRuntimeError\u001b[0m: Error in faiss::FileIOReader::FileIOReader(const char*) at /home/circleci/miniconda/conda-bld/faiss-pkg_1709244517602/work/faiss/impl/io.cpp:67: Error: 'f' failed: could not open ./storage/vow-kxTPatc/faiss_database.bin for reading: No such file or directory"
     ]
    }
   ],
   "source": [
    "import torch\n",
    "import torch.nn.functional as F\n",
    "import numpy as np\n",
    "import pandas as pd\n",
    "\n",
    "# Initialize an empty list to store results\n",
    "results = []\n",
    "\n",
    "total_correct = 0\n",
    "for index, row in df_questions.iterrows():\n",
    "    URL = row['VideoID']\n",
    "    question = row['Question']\n",
    "    correct_answer = row['Answer1 (corr)']\n",
    "    wrong_answer1 = row['Answer2']\n",
    "    wrong_answer2 = row['Answer3']\n",
    "    wrong_answer3 = row['Answer4']\n",
    "    \n",
    "    # Shuffle and assign answer_a, b, c, d\n",
    "    answers = [correct_answer, wrong_answer1, wrong_answer2, wrong_answer3]\n",
    "    np.random.shuffle(answers)\n",
    "    answer_a = answers[0]\n",
    "    answer_b = answers[1]\n",
    "    answer_c = answers[2]\n",
    "    answer_d = answers[3]\n",
    "    \n",
    "    folder_path = f\"{base_path}/{URL}\"\n",
    "    \n",
    "    conv, image = return_image_and_enhanced_query(question, answer_a, answer_b, answer_c, answer_d, folder_path)\n",
    "    top1, top2, top3,top1text = debug_top3_frames(question, answer_a, answer_b, answer_c, answer_d, folder_path)\n",
    "    \n",
    "    # Paths for top frames\n",
    "    path_top1 = f\"{folder_path}/frames/frame_{(INTERVAL_TIME*top1):06d}.jpg\"\n",
    "    path_top2 = f\"{folder_path}/frames/frame_{(INTERVAL_TIME*top2):06d}.jpg\"\n",
    "    path_top3 = f\"{folder_path}/frames/frame_{(INTERVAL_TIME*top3):06d}.jpg\"\n",
    "    \n",
    "    prompt = llava_processor.apply_chat_template(conv, add_generation_prompt=True)\n",
    "    inputs = llava_processor(image, prompt, return_tensors=\"pt\").to(DEVICE)\n",
    "    \n",
    "    with torch.no_grad():\n",
    "        # Get the model's output logits directly\n",
    "        model_outputs = llava_model(**inputs)\n",
    "        logits = model_outputs.logits[0, -1, :]\n",
    "        \n",
    "        # Apply softmax to get probabilities\n",
    "        probabilities = F.softmax(logits, dim=0)\n",
    "        \n",
    "        answer_tokens = {\n",
    "            'C': 334,\n",
    "            'A': 330,\n",
    "            'B': 365,\n",
    "            'D': 384\n",
    "        }\n",
    "        \n",
    "        # Check probabilities of known answer tokens\n",
    "        answer_probs = {label: probabilities[token_id].item() \n",
    "                        for label, token_id in answer_tokens.items()}\n",
    "        \n",
    "        # Find the top answer among the known tokens\n",
    "        top_answer = max(answer_probs, key=answer_probs.get)\n",
    "        \n",
    "        def top_answer_to_idx(character):\n",
    "            if character == \"A\":\n",
    "                return 0\n",
    "            if character == \"B\":\n",
    "                return 1\n",
    "            if character == \"C\":\n",
    "                return 2\n",
    "            if character == \"D\":\n",
    "                return 3\n",
    "        \n",
    "        top_answer_text = answers[top_answer_to_idx(top_answer)]\n",
    "        \n",
    "        # Determine if the selected answer is correct\n",
    "        is_correct = (top_answer_text == correct_answer)\n",
    "        if is_correct:\n",
    "            total_correct += 1\n",
    "        \n",
    "        # Check if top token is not in known answers\n",
    "        top_token_id = torch.argmax(probabilities).item()\n",
    "        not_top_token = top_token_id not in answer_tokens.values()\n",
    "        if not_top_token:\n",
    "            top_token = llava_processor.tokenizer.convert_ids_to_tokens([top_token_id])[0]\n",
    "        else:\n",
    "            top_token = None\n",
    "        \n",
    "        # Prepare result dictionary\n",
    "        result = {\n",
    "            'VideoURL': URL,\n",
    "            'Question': question,\n",
    "            'Selected Answer': top_answer_text,\n",
    "            'isSelectedAnswerCorrect': is_correct,\n",
    "            'Choice A': answer_a,\n",
    "            'Choice A Probability': answer_probs.get('A', None),\n",
    "            'Choice B': answer_b,\n",
    "            'Choice B Probability': answer_probs.get('B', None),\n",
    "            'Choice C': answer_c,\n",
    "            'Choice C Probability': answer_probs.get('C', None),\n",
    "            'Choice D': answer_d,\n",
    "            'Choice D Probability': answer_probs.get('D', None),\n",
    "            'Correct Answer': correct_answer,\n",
    "            'Not Top Token': not_top_token,\n",
    "            'Top Token': top_token,\n",
    "            'Chosen index for top frame': top1,\n",
    "            'Second best index': top2,\n",
    "            'Third best index': top3,\n",
    "            'Path Top1': path_top1,\n",
    "            'Path Top2': path_top2,\n",
    "            'Path Top3': path_top3,\n",
    "            'top 1 text' : top1text\n",
    "        }\n",
    "        \n",
    "        results.append(result)\n",
    "        \n",
    "        print(f\"Question: {question}\")\n",
    "        print(f\"Selected Answer: {top_answer_text}\")\n",
    "        print(f\"Correct: {is_correct}\")\n",
    "        print('----------------------------------------------------------------------')\n",
    "\n",
    "# Create DataFrame from results\n",
    "results_df = pd.DataFrame(results)\n",
    "\n",
    "import time\n",
    "t = time.time()\n",
    "# Save to CSV\n",
    "results_df.to_csv(f'{t}_model_answer_results.csv', index=False)\n",
    "\n",
    "# Optional: Print total correct answers\n",
    "print(f\"Total Correct Answers: {total_correct}/{len(df_questions)}\")\n",
    "print(f\"Accuracy: {total_correct/len(df_questions)*100:.2f}%\")\n"
   ]
  },
  {
   "cell_type": "code",
   "execution_count": null,
   "metadata": {},
   "outputs": [],
   "source": []
  },
  {
   "cell_type": "code",
   "execution_count": null,
   "metadata": {},
   "outputs": [],
   "source": []
  }
 ],
 "metadata": {
  "kernelspec": {
   "display_name": "Python [conda env:.conda-vlm]",
   "language": "python",
   "name": "conda-env-.conda-vlm-py"
  },
  "language_info": {
   "codemirror_mode": {
    "name": "ipython",
    "version": 3
   },
   "file_extension": ".py",
   "mimetype": "text/x-python",
   "name": "python",
   "nbconvert_exporter": "python",
   "pygments_lexer": "ipython3",
   "version": "3.11.10"
  }
 },
 "nbformat": 4,
 "nbformat_minor": 2
}
